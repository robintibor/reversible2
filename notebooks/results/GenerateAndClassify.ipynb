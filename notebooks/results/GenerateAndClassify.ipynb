{
 "cells": [
  {
   "cell_type": "code",
   "execution_count": null,
   "metadata": {
    "collapsed": true
   },
   "outputs": [],
   "source": [
    "import logging\n",
    "import importlib\n",
    "importlib.reload(logging) # see https://stackoverflow.com/a/21475297/1469195\n",
    "log = logging.getLogger()\n",
    "log.setLevel('INFO')\n",
    "import sys\n",
    "\n",
    "logging.basicConfig(format='%(asctime)s %(levelname)s : %(message)s',\n",
    "                     level=logging.INFO, stream=sys.stdout)"
   ]
  },
  {
   "cell_type": "code",
   "execution_count": null,
   "metadata": {
    "collapsed": true
   },
   "outputs": [],
   "source": [
    "%%capture\n",
    "import os\n",
    "import site\n",
    "\n",
    "os.sys.path.insert(0, '/home/schirrmr/code/hyperoptim//')\n",
    "os.sys.path.insert(0, '/home/schirrmr/code/reversible/')\n",
    "os.sys.path.insert(0, '/home/schirrmr/braindecode/code/braindecode/')\n",
    "\n",
    "\n",
    "%load_ext autoreload\n",
    "%autoreload 2\n",
    "import numpy as np\n",
    "import logging\n",
    "log = logging.getLogger()\n",
    "log.setLevel('INFO')\n",
    "import sys\n",
    "logging.basicConfig(format='%(asctime)s %(levelname)s : %(message)s',\n",
    "                     level=logging.INFO, stream=sys.stdout)\n",
    "import matplotlib\n",
    "from matplotlib import pyplot as plt\n",
    "from matplotlib import cm\n",
    "%matplotlib inline\n",
    "%config InlineBackend.figure_format = 'png'\n",
    "matplotlib.rcParams['figure.figsize'] = (12.0, 1.0)\n",
    "matplotlib.rcParams['font.size'] = 14\n",
    "import seaborn\n",
    "seaborn.set_style('darkgrid')"
   ]
  },
  {
   "cell_type": "code",
   "execution_count": null,
   "metadata": {
    "collapsed": true
   },
   "outputs": [],
   "source": [
    "from hyperoptim.results import (load_data_frame,\n",
    "                                remove_columns_with_same_value, mean_identical_exps, pairwise_compare_frame,\n",
    "                                round_numeric_columns)\n",
    "import pandas as pd\n",
    "\n",
    "def load_df(folder):\n",
    "    df = load_data_frame(folder)\n",
    "    df = df.drop(['save_folder', 'seed', 'only_return_exp'], axis=1)\n",
    "    df = df[df.finished == 1]\n",
    "    df = df[df.debug == 0]\n",
    "    if len(df) > 0:\n",
    "        for key in ['train_acc', 'train_data_acc','test_acc', 'test_data_acc', 'test_clf_acc', 'train_clf_acc']:\n",
    "            if key in df.columns:\n",
    "                df.loc[:,key] = np.round(df.loc[:,key] * 100,1)\n",
    "        df = remove_columns_with_same_value(df) \n",
    "        df.runtime = pd.to_timedelta(np.round(df.runtime), unit='s')\n",
    "        if 'clf_loss' in df.columns:\n",
    "            df.clf_loss = df.clf_loss.replace([None], 'none')\n",
    "\n",
    "    print(len(df))\n",
    "    return df"
   ]
  },
  {
   "cell_type": "code",
   "execution_count": null,
   "metadata": {
    "collapsed": true
   },
   "outputs": [],
   "source": [
    "result_cols = ['g_loss', 'ot_in_loss_other_1',\n",
    "               'runtime', 'test_data_acc', 'test_acc', 'train_data_acc', 'ot_out_loss',\n",
    "       'ot_in_loss_1', 'train_acc', 'g_grad', 'ot_in_loss_other_0',\n",
    "       'ot_loss_in_1', 'g_grad_norm', 'ot_in_loss_0', 'ot_loss_in_0',\n",
    "       'ot_out_loss_other', 'clf_loss_0',  'clf_loss_1','subspace_loss_0',\n",
    "               'subspace_loss_1', 'test_clf_acc',\n",
    "              'train_clf_acc']\n",
    "\n",
    "interesting_result_cols = [\n",
    "               'runtime', 'test_data_acc', 'test_acc', 'test_clf_acc',  'ot_out_loss',\n",
    "        'ot_loss_in_0', 'ot_loss_in_1',\n",
    "       'subspace_loss_0',\n",
    "               'subspace_loss_1', \n",
    "              'train_data_acc', 'train_acc','train_clf_acc', ]"
   ]
  },
  {
   "cell_type": "code",
   "execution_count": null,
   "metadata": {},
   "outputs": [],
   "source": [
    "df = load_df('/data/schirrmr/schirrmr/reversible/experiments/new-deep-invertible//')\n",
    "df = mean_identical_exps(df, result_cols=result_cols).drop('n_exp', axis=1)\n",
    "\n",
    "meaned_df = mean_identical_exps(df.drop('subject_id', axis=1), result_cols=result_cols)\n",
    "for c in result_cols:\n",
    "    if c in meaned_df.columns and c not in interesting_result_cols:\n",
    "        meaned_df = meaned_df.drop(c, axis=1)\n",
    "meaned_df = round_numeric_columns(meaned_df, 1)\n",
    "meaned_df"
   ]
  },
  {
   "cell_type": "code",
   "execution_count": null,
   "metadata": {
    "collapsed": true
   },
   "outputs": [],
   "source": []
  },
  {
   "cell_type": "code",
   "execution_count": null,
   "metadata": {},
   "outputs": [],
   "source": [
    "df = load_df('/data/schirrmr/schirrmr/reversible/experiments/for-poster-2///')\n",
    "meaned_df = mean_identical_exps(df.drop('subject_id', axis=1), result_cols=result_cols).loc[\n",
    "    :, ['n_exp', 'max_epochs',] + \n",
    "                                              interesting_result_cols]\n",
    "meaned_df"
   ]
  },
  {
   "cell_type": "code",
   "execution_count": null,
   "metadata": {},
   "outputs": [],
   "source": [
    "df = load_df('/data/schirrmr/schirrmr/reversible/experiments/classifier/')\n",
    "df.clf_loss = df.clf_loss.replace([None], 'none')\n",
    "df = df[df.ot_on_class_dims == df.ot_on_class_dims] # remove nan rows\n",
    "df = remove_columns_with_same_value(df)\n",
    "df = mean_identical_exps(df, result_cols=result_cols).drop('n_exp', axis=1)\n",
    "\n",
    "df.drop(['g_grad','g_grad_norm'], axis=1).loc[:,['subject_id', 'ot_on_class_dims', 'clf_loss', 'final_hz', 'n_sensors'] + \n",
    "                                              interesting_result_cols]\n",
    "meaned_df = mean_identical_exps(df.drop('subject_id', axis=1), result_cols=result_cols).loc[\n",
    "    :, ['n_exp', 'ot_on_class_dims', 'clf_loss', 'final_hz', 'n_sensors'] + \n",
    "                                              interesting_result_cols]\n",
    "#meaned_df.sort_values(by=['final_hz', 'n_sensors', 'clf_loss', 'ot_on_class_dims'])\n",
    "meaned_df[(meaned_df.final_hz == 256) &\n",
    "         (meaned_df.n_sensors == 22)]"
   ]
  },
  {
   "cell_type": "code",
   "execution_count": null,
   "metadata": {},
   "outputs": [],
   "source": [
    "df.subject_idct_id"
   ]
  }
 ],
 "metadata": {
  "kernelspec": {
   "display_name": "Python 3",
   "language": "python",
   "name": "python3"
  },
  "language_info": {
   "codemirror_mode": {
    "name": "ipython",
    "version": 3
   },
   "file_extension": ".py",
   "mimetype": "text/x-python",
   "name": "python",
   "nbconvert_exporter": "python",
   "pygments_lexer": "ipython3",
   "version": "3.6.8"
  }
 },
 "nbformat": 4,
 "nbformat_minor": 2
}
