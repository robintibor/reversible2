{
 "cells": [
  {
   "cell_type": "code",
   "execution_count": null,
   "metadata": {
    "collapsed": true
   },
   "outputs": [],
   "source": [
    "import logging\n",
    "import importlib\n",
    "importlib.reload(logging) # see https://stackoverflow.com/a/21475297/1469195\n",
    "log = logging.getLogger()\n",
    "log.setLevel('INFO')\n",
    "import sys\n",
    "\n",
    "logging.basicConfig(format='%(asctime)s %(levelname)s : %(message)s',\n",
    "                     level=logging.INFO, stream=sys.stdout)"
   ]
  },
  {
   "cell_type": "code",
   "execution_count": null,
   "metadata": {
    "collapsed": true
   },
   "outputs": [],
   "source": [
    "%%capture\n",
    "import os\n",
    "import site\n",
    "\n",
    "os.sys.path.insert(0, '/home/schirrmr/code/hyperoptim//')\n",
    "os.sys.path.insert(0, '/home/schirrmr/code/reversible/')\n",
    "os.sys.path.insert(0, '/home/schirrmr/braindecode/code/braindecode/')\n",
    "\n",
    "\n",
    "%load_ext autoreload\n",
    "%autoreload 2\n",
    "import numpy as np\n",
    "import logging\n",
    "log = logging.getLogger()\n",
    "log.setLevel('INFO')\n",
    "import sys\n",
    "logging.basicConfig(format='%(asctime)s %(levelname)s : %(message)s',\n",
    "                     level=logging.INFO, stream=sys.stdout)\n",
    "import matplotlib\n",
    "from matplotlib import pyplot as plt\n",
    "from matplotlib import cm\n",
    "%matplotlib inline\n",
    "%config InlineBackend.figure_format = 'png'\n",
    "matplotlib.rcParams['figure.figsize'] = (12.0, 1.0)\n",
    "matplotlib.rcParams['font.size'] = 14\n",
    "import seaborn\n",
    "seaborn.set_style('darkgrid')"
   ]
  },
  {
   "cell_type": "code",
   "execution_count": null,
   "metadata": {
    "collapsed": true
   },
   "outputs": [],
   "source": [
    "from hyperoptim.results import load_data_frame, remove_columns_with_same_value, mean_identical_exps, pairwise_compare_frame\n",
    "import pandas as pd"
   ]
  },
  {
   "cell_type": "code",
   "execution_count": null,
   "metadata": {
    "collapsed": true
   },
   "outputs": [],
   "source": [
    "def load_df(folder):\n",
    "    df = load_data_frame(folder)\n",
    "    df = df.drop(['save_folder', 'seed', 'only_return_exp'], axis=1)\n",
    "    df = df[df.finished == 1]\n",
    "    df = df[df.debug == 0]\n",
    "    if len(df) > 0:\n",
    "        for key in ['train_acc', 'train_data_acc','test_acc', 'test_data_acc']:\n",
    "            df.loc[:,key] = np.round(df.loc[:,key] * 100,1)\n",
    "        df = remove_columns_with_same_value(df) \n",
    "        df.runtime = pd.to_timedelta(np.round(df.runtime), unit='s')\n",
    "    print(len(df))\n",
    "    return df"
   ]
  },
  {
   "cell_type": "code",
   "execution_count": null,
   "metadata": {},
   "outputs": [],
   "source": [
    "result_cols = ['g_loss', 'ot_in_loss_other_1',\n",
    "               'runtime', 'test_data_acc', 'test_acc', 'train_data_acc', 'ot_out_loss',\n",
    "       'ot_in_loss_1', 'train_acc', 'g_grad', 'ot_in_loss_other_0',\n",
    "       'ot_loss_in_1', 'g_grad_norm', 'ot_in_loss_0', 'ot_loss_in_0',\n",
    "       'ot_out_loss_other', 'clf_loss_0',  'clf_loss_1','subspace_loss_0',\n",
    "               'subspace_loss_1', 'test_clf_acc',\n",
    "              'train_clf_acc']"
   ]
  },
  {
   "cell_type": "code",
   "execution_count": null,
   "metadata": {},
   "outputs": [],
   "source": [
    "df = load_df('/data/schirrmr/schirrmr/reversible/experiments/classifier/')\n",
    "df"
   ]
  },
  {
   "cell_type": "code",
   "execution_count": null,
   "metadata": {},
   "outputs": [],
   "source": [
    "np.mean(df.test_acc)"
   ]
  },
  {
   "cell_type": "code",
   "execution_count": null,
   "metadata": {},
   "outputs": [],
   "source": [
    "np.nanmean(df[df.clf_loss == 'sliced'].test_clf_acc)"
   ]
  },
  {
   "cell_type": "code",
   "execution_count": null,
   "metadata": {
    "collapsed": true
   },
   "outputs": [],
   "source": [
    "df.clf_loss = df.clf_loss.replace([None], 'none')"
   ]
  },
  {
   "cell_type": "code",
   "execution_count": null,
   "metadata": {
    "collapsed": true
   },
   "outputs": [],
   "source": []
  },
  {
   "cell_type": "code",
   "execution_count": null,
   "metadata": {
    "collapsed": true
   },
   "outputs": [],
   "source": [
    "result_cols = ['g_loss', 'ot_in_loss_other_1',\n",
    "               'runtime', 'test_data_acc', 'test_acc', 'train_data_acc', 'ot_out_loss',\n",
    "       'ot_in_loss_1', 'train_acc', 'g_grad', 'ot_in_loss_other_0',\n",
    "       'ot_loss_in_1', 'g_grad_norm', 'ot_in_loss_0', 'ot_loss_in_0',\n",
    "       'ot_out_loss_other']"
   ]
  },
  {
   "cell_type": "code",
   "execution_count": null,
   "metadata": {},
   "outputs": [],
   "source": [
    "df = load_df('/data/schirrmr/schirrmr/reversible/experiments/larger-data-2//')\n",
    "df"
   ]
  },
  {
   "cell_type": "code",
   "execution_count": null,
   "metadata": {},
   "outputs": [],
   "source": [
    "mean_identical_exps(df.drop('subject_id', axis=1), result_cols=result_cols)"
   ]
  },
  {
   "cell_type": "code",
   "execution_count": null,
   "metadata": {},
   "outputs": [],
   "source": [
    "df[(df.final_fft == 0) &\n",
    "  (df.final_hz == 256) & (df.n_sensors == 22)]"
   ]
  },
  {
   "cell_type": "code",
   "execution_count": null,
   "metadata": {},
   "outputs": [],
   "source": [
    "pairwise_compare_frame(df, result_cols=result_cols,\n",
    "                       hide_cols_from_result=('subject_id'),\n",
    "                      compare_col='test_acc')"
   ]
  },
  {
   "cell_type": "code",
   "execution_count": null,
   "metadata": {},
   "outputs": [],
   "source": [
    "pairwise_compare_frame(df, result_cols=result_cols,\n",
    "                       hide_cols_from_result=('subject_id'),\n",
    "                      compare_col='ot_in_loss_1')"
   ]
  },
  {
   "cell_type": "code",
   "execution_count": null,
   "metadata": {},
   "outputs": [],
   "source": [
    "pairwise_compare_frame(df, result_cols=result_cols,\n",
    "                       hide_cols_from_result=('subject_id'),\n",
    "                      compare_col='ot_in_loss_other_1')"
   ]
  },
  {
   "cell_type": "code",
   "execution_count": null,
   "metadata": {},
   "outputs": [],
   "source": [
    "df = load_df('/data/schirrmr/schirrmr/reversible/experiments/second-test/')\n",
    "df"
   ]
  },
  {
   "cell_type": "code",
   "execution_count": null,
   "metadata": {},
   "outputs": [],
   "source": [
    "df = remove_columns_with_same_value(df[df.final_fft == df.final_fft])\n",
    "\n",
    "mean_identical_exps(df.drop('subject_id', axis=1), result_cols=result_cols)"
   ]
  },
  {
   "cell_type": "code",
   "execution_count": null,
   "metadata": {
    "collapsed": true
   },
   "outputs": [],
   "source": []
  },
  {
   "cell_type": "code",
   "execution_count": null,
   "metadata": {
    "scrolled": true
   },
   "outputs": [],
   "source": [
    "df = load_df('/data/schirrmr/schirrmr/reversible/experiments/second-test/')\n",
    "df"
   ]
  },
  {
   "cell_type": "code",
   "execution_count": null,
   "metadata": {},
   "outputs": [],
   "source": [
    "df = remove_columns_with_same_value(df[df.half_before == df.half_before])\n",
    "mean_identical_exps(df.drop('subject_id', axis=1), result_cols=result_cols)"
   ]
  },
  {
   "cell_type": "code",
   "execution_count": null,
   "metadata": {
    "collapsed": true
   },
   "outputs": [],
   "source": [
    "from torch import nn\n",
    "a = nn.Sequential()\n",
    "a.add_module()"
   ]
  },
  {
   "cell_type": "code",
   "execution_count": null,
   "metadata": {},
   "outputs": [],
   "source": [
    "pairwise_compare_frame(df, result_cols=result_cols,\n",
    "                       hide_cols_from_result=('subject_id'),\n",
    "                      compare_col='test_acc')"
   ]
  },
  {
   "cell_type": "code",
   "execution_count": null,
   "metadata": {},
   "outputs": [],
   "source": [
    "pairwise_compare_frame(df, result_cols=result_cols,\n",
    "                       hide_cols_from_result=('subject_id'),\n",
    "                      compare_col='ot_in_loss_0')"
   ]
  },
  {
   "cell_type": "code",
   "execution_count": null,
   "metadata": {},
   "outputs": [],
   "source": [
    "for part_df in (df[df.constant_memory != df.constant_memory],\n",
    "               df[df.constant_memory == False],\n",
    "               df[df.constant_memory == True],):\n",
    "    print(len(part_df))\n",
    "    print(\"{:.1f}\".format(np.mean(part_df.test_acc) * 100))\n"
   ]
  },
  {
   "cell_type": "code",
   "execution_count": null,
   "metadata": {},
   "outputs": [],
   "source": [
    "for part_df in (df[df.constant_memory != df.constant_memory],\n",
    "               df[df.constant_memory == False],\n",
    "               df[df.constant_memory == True],):\n",
    "    part_df = part_df[part_df.subject_id.isin(list(range(5,10)))]\n",
    "    print(len(part_df))\n",
    "    print(\"{:.1f}\".format(np.mean(part_df.test_acc) * 100))\n"
   ]
  },
  {
   "cell_type": "code",
   "execution_count": null,
   "metadata": {},
   "outputs": [],
   "source": [
    "df[(df.debug == False) & (\n",
    "    np.isnan(df.test_data_acc))]"
   ]
  },
  {
   "cell_type": "code",
   "execution_count": null,
   "metadata": {
    "collapsed": true
   },
   "outputs": [],
   "source": []
  }
 ],
 "metadata": {
  "kernelspec": {
   "display_name": "Python 3",
   "language": "python",
   "name": "python3"
  },
  "language_info": {
   "codemirror_mode": {
    "name": "ipython",
    "version": 3
   },
   "file_extension": ".py",
   "mimetype": "text/x-python",
   "name": "python",
   "nbconvert_exporter": "python",
   "pygments_lexer": "ipython3",
   "version": "3.6.8"
  }
 },
 "nbformat": 4,
 "nbformat_minor": 2
}
