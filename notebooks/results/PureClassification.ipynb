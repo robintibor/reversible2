{
 "cells": [
  {
   "cell_type": "code",
   "execution_count": null,
   "metadata": {
    "collapsed": true
   },
   "outputs": [],
   "source": [
    "import logging\n",
    "import importlib\n",
    "importlib.reload(logging) # see https://stackoverflow.com/a/21475297/1469195\n",
    "log = logging.getLogger()\n",
    "log.setLevel('INFO')\n",
    "import sys\n",
    "\n",
    "logging.basicConfig(format='%(asctime)s %(levelname)s : %(message)s',\n",
    "                     level=logging.INFO, stream=sys.stdout)"
   ]
  },
  {
   "cell_type": "code",
   "execution_count": null,
   "metadata": {
    "collapsed": true
   },
   "outputs": [],
   "source": [
    "%%capture\n",
    "import os\n",
    "import site\n",
    "\n",
    "os.sys.path.insert(0, '/home/schirrmr/code/hyperoptim//')\n",
    "os.sys.path.insert(0, '/home/schirrmr/code/reversible/')\n",
    "os.sys.path.insert(0, '/home/schirrmr/braindecode/code/braindecode/')\n",
    "\n",
    "\n",
    "%load_ext autoreload\n",
    "%autoreload 2\n",
    "import numpy as np\n",
    "import logging\n",
    "log = logging.getLogger()\n",
    "log.setLevel('INFO')\n",
    "import sys\n",
    "logging.basicConfig(format='%(asctime)s %(levelname)s : %(message)s',\n",
    "                     level=logging.INFO, stream=sys.stdout)\n",
    "import matplotlib\n",
    "from matplotlib import pyplot as plt\n",
    "from matplotlib import cm\n",
    "%matplotlib inline\n",
    "%config InlineBackend.figure_format = 'png'\n",
    "matplotlib.rcParams['figure.figsize'] = (12.0, 1.0)\n",
    "matplotlib.rcParams['font.size'] = 14\n",
    "import seaborn\n",
    "seaborn.set_style('darkgrid')"
   ]
  },
  {
   "cell_type": "code",
   "execution_count": null,
   "metadata": {
    "collapsed": true
   },
   "outputs": [],
   "source": [
    "from hyperoptim.results import (load_data_frame,\n",
    "                                remove_columns_with_same_value, mean_identical_exps, pairwise_compare_frame,\n",
    "                                round_numeric_columns)\n",
    "import pandas as pd"
   ]
  },
  {
   "cell_type": "code",
   "execution_count": null,
   "metadata": {},
   "outputs": [],
   "source": [
    "df =load_df('/data/schirrmr/schirrmr/reversible/experiments/new-deep-invertible')"
   ]
  },
  {
   "cell_type": "code",
   "execution_count": null,
   "metadata": {},
   "outputs": [],
   "source": [
    "df"
   ]
  },
  {
   "cell_type": "code",
   "execution_count": null,
   "metadata": {
    "collapsed": true
   },
   "outputs": [],
   "source": [
    "df = load_data_frame('/data/schirrmr/schirrmr/reversible/experiments/deepshallow//')\n",
    "df = df[df.debug == 0]\n",
    "df = df[df.finished == 1]\n",
    "df = remove_columns_with_same_value(df)\n",
    "df = df.fillna('-')\n",
    "df = df.drop('seed', axis=1)\n",
    "\n",
    "df.runtime = pd.to_timedelta(np.round(df.runtime), unit='s')\n",
    "\n",
    "df.loc[:, 'valid_misclass'] = df.loc[:,'valid_misclass'] * 100\n"
   ]
  },
  {
   "cell_type": "code",
   "execution_count": null,
   "metadata": {},
   "outputs": [],
   "source": [
    "result_cols = ['valid_misclass', 'runtime', 'train_loss', 'valid_loss', ]\n",
    "meaned_df = mean_identical_exps(df[df.subject_id > 3].drop('subject_id', axis=1), result_cols=result_cols).sort_values(\n",
    "    by='valid_misclass')\n",
    "meaned_df = round_numeric_columns(meaned_df, 2)\n",
    "meaned_df[(meaned_df.max_epochs == 1000) |\n",
    "         (meaned_df.max_epochs == 100)]"
   ]
  },
  {
   "cell_type": "code",
   "execution_count": null,
   "metadata": {
    "collapsed": true
   },
   "outputs": [],
   "source": [
    "df = load_data_frame('/data/schirrmr/schirrmr/reversible/experiments/deepshallow//')\n",
    "df = remove_columns_with_same_value(df)\n",
    "df = df.drop('seed', axis=1)\n",
    "df.runtime = pd.to_timedelta(np.round(df.runtime), unit='s')"
   ]
  },
  {
   "cell_type": "code",
   "execution_count": null,
   "metadata": {},
   "outputs": [],
   "source": [
    "result_cols = ['valid_misclass', 'runtime', 'train_loss', 'valid_loss', ]\n",
    "mean_identical_exps(df[df.subject_id > 4].drop('subject_id', axis=1), result_cols=result_cols).sort_values(\n",
    "    by='valid_misclass')"
   ]
  }
 ],
 "metadata": {
  "kernelspec": {
   "display_name": "Python 3",
   "language": "python",
   "name": "python3"
  },
  "language_info": {
   "codemirror_mode": {
    "name": "ipython",
    "version": 3
   },
   "file_extension": ".py",
   "mimetype": "text/x-python",
   "name": "python",
   "nbconvert_exporter": "python",
   "pygments_lexer": "ipython3",
   "version": "3.6.8"
  }
 },
 "nbformat": 4,
 "nbformat_minor": 2
}
