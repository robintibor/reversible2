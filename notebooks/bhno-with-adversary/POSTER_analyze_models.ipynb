{
 "cells": [
  {
   "cell_type": "code",
   "execution_count": null,
   "metadata": {
    "collapsed": true
   },
   "outputs": [],
   "source": [
    "import logging\n",
    "import importlib\n",
    "importlib.reload(logging) # see https://stackoverflow.com/a/21475297/1469195\n",
    "log = logging.getLogger()\n",
    "log.setLevel('INFO')\n",
    "import sys\n",
    "\n",
    "logging.basicConfig(format='%(asctime)s %(levelname)s : %(message)s',\n",
    "                     level=logging.INFO, stream=sys.stdout)"
   ]
  },
  {
   "cell_type": "code",
   "execution_count": null,
   "metadata": {
    "collapsed": true
   },
   "outputs": [],
   "source": [
    "%%capture\n",
    "import os\n",
    "import site\n",
    "os.sys.path.insert(0, '/home/schirrmr/code/reversible/')\n",
    "os.sys.path.insert(0, '/home/schirrmr/braindecode/code/braindecode/')\n",
    "os.sys.path.insert(0, '/home/schirrmr/code/explaining/reversible//')\n",
    "\n",
    "\n",
    "%load_ext autoreload\n",
    "%autoreload 2\n",
    "import numpy as np\n",
    "import logging\n",
    "log = logging.getLogger()\n",
    "log.setLevel('INFO')\n",
    "import sys\n",
    "logging.basicConfig(format='%(asctime)s %(levelname)s : %(message)s',\n",
    "                     level=logging.INFO, stream=sys.stdout)\n",
    "import matplotlib\n",
    "from matplotlib import pyplot as plt\n",
    "from matplotlib import cm\n",
    "%matplotlib inline\n",
    "%config InlineBackend.figure_format = 'png'\n",
    "matplotlib.rcParams['figure.figsize'] = (12.0, 1.0)\n",
    "matplotlib.rcParams['font.size'] = 14\n",
    "import seaborn\n",
    "seaborn.set_style('darkgrid')\n",
    "\n",
    "from reversible2.sliced import sliced_from_samples\n",
    "from numpy.random import RandomState\n",
    "\n",
    "import torch\n",
    "import torch.nn as nn\n",
    "import torch.nn.functional as F\n",
    "from torch.autograd import Variable\n",
    "import numpy as np\n",
    "import copy\n",
    "import math\n",
    "\n",
    "import itertools\n",
    "import torch as th\n",
    "from braindecode.torch_ext.util import np_to_var, var_to_np\n",
    "from reversible2.splitter import SubsampleSplitter\n",
    "\n",
    "from reversible2.view_as import ViewAs\n",
    "\n",
    "from reversible2.affine import AdditiveBlock\n",
    "from reversible2.plot import display_text, display_close\n",
    "from reversible2.bhno import load_file, create_inputs\n",
    "th.backends.cudnn.benchmark = True"
   ]
  },
  {
   "cell_type": "code",
   "execution_count": null,
   "metadata": {
    "collapsed": true
   },
   "outputs": [],
   "source": [
    "from hyperoptim.results import load_data_frame, remove_columns_with_same_value, mean_identical_exps, pairwise_compare_frame\n",
    "import pandas as pd"
   ]
  },
  {
   "cell_type": "code",
   "execution_count": null,
   "metadata": {
    "collapsed": true
   },
   "outputs": [],
   "source": [
    "def load_df(folder):\n",
    "    df = load_data_frame(folder)\n",
    "    df = df.drop(['save_folder', 'seed', 'only_return_exp'], axis=1)\n",
    "    df = df[df.finished == 1]\n",
    "    df = df[df.debug == 0]\n",
    "    if len(df) > 0:\n",
    "        for key in ['train_acc', 'train_data_acc','test_acc', 'test_data_acc']:\n",
    "            df.loc[:,key] = np.round(df.loc[:,key] * 100,1)\n",
    "        df = remove_columns_with_same_value(df) \n",
    "        df.runtime = pd.to_timedelta(np.round(df.runtime), unit='s')\n",
    "    print(len(df))\n",
    "    return df"
   ]
  },
  {
   "cell_type": "code",
   "execution_count": null,
   "metadata": {
    "collapsed": true
   },
   "outputs": [],
   "source": [
    "result_cols = ['g_loss', 'ot_in_loss_other_1',\n",
    "               'runtime', 'test_data_acc', 'test_acc', 'train_data_acc', 'ot_out_loss',\n",
    "       'ot_in_loss_1', 'train_acc', 'g_grad', 'ot_in_loss_other_0',\n",
    "       'ot_loss_in_1', 'g_grad_norm', 'ot_in_loss_0', 'ot_loss_in_0',\n",
    "       'ot_out_loss_other', 'clf_loss_0',  'clf_loss_1','subspace_loss_0',\n",
    "               'subspace_loss_1', 'test_clf_acc',\n",
    "              'train_clf_acc']\n",
    "\n",
    "interesting_result_cols = [\n",
    "               'runtime', 'test_data_acc', 'test_acc', 'test_clf_acc',  'ot_out_loss',\n",
    "        'ot_loss_in_0', 'ot_loss_in_1',\n",
    "       'subspace_loss_0',\n",
    "               'subspace_loss_1', \n",
    "              'train_data_acc', 'train_acc','train_clf_acc', ]"
   ]
  },
  {
   "cell_type": "code",
   "execution_count": null,
   "metadata": {},
   "outputs": [],
   "source": [
    "df = load_df('/data/schirrmr/schirrmr/reversible/experiments/for-poster-2///')\n",
    "df.loc[:,['subject_id', 'max_epochs',] + \n",
    "                                              interesting_result_cols].sort_values(\n",
    "    by='subject_id')"
   ]
  },
  {
   "cell_type": "code",
   "execution_count": null,
   "metadata": {},
   "outputs": [],
   "source": [
    "sensor_names = [\n",
    "            'Fz',\n",
    "            'FC3','FC1','FCz','FC2','FC4',\n",
    "            'C5','C3','C1','Cz','C2','C4','C6',\n",
    "            'CP3','CP1','CPz','CP2','CP4',\n",
    "            'P1','Pz','P2',\n",
    "            'POz']\n",
    "orig_train_cnt = load_file('/data/schirrmr/schirrmr/HGD-public/reduced/train/9.mat')\n",
    "train_cnt = orig_train_cnt.reorder_channels(sensor_names)\n",
    "\n",
    "train_inputs = create_inputs(train_cnt, final_hz=64, half_before=True,\n",
    "                            start_ms=500,stop_ms=1500)"
   ]
  },
  {
   "cell_type": "code",
   "execution_count": null,
   "metadata": {
    "collapsed": true
   },
   "outputs": [],
   "source": [
    "feature_model = th.load('/data/schirrmr/schirrmr/reversible/experiments/for-poster-2/4/feature_model.pkl')\n",
    "class_dist = th.load('/data/schirrmr/schirrmr/reversible/experiments/for-poster-2/4/class_dist.pkl')"
   ]
  },
  {
   "cell_type": "code",
   "execution_count": null,
   "metadata": {},
   "outputs": [],
   "source": [
    "handles, labels"
   ]
  },
  {
   "cell_type": "code",
   "execution_count": null,
   "metadata": {},
   "outputs": [],
   "source": [
    "ax.get_legend_handles_labels()"
   ]
  },
  {
   "cell_type": "code",
   "execution_count": null,
   "metadata": {
    "collapsed": true
   },
   "outputs": [],
   "source": []
  },
  {
   "cell_type": "code",
   "execution_count": null,
   "metadata": {},
   "outputs": [],
   "source": []
  },
  {
   "cell_type": "code",
   "execution_count": null,
   "metadata": {},
   "outputs": [],
   "source": [
    "ax.get_legend_handles_labels"
   ]
  },
  {
   "cell_type": "code",
   "execution_count": null,
   "metadata": {},
   "outputs": [],
   "source": [
    "l.get_label()"
   ]
  },
  {
   "cell_type": "code",
   "execution_count": null,
   "metadata": {},
   "outputs": [],
   "source": [
    "from reversible2.plot import plot_head_signals_tight\n",
    "inverted_per_class = []\n",
    "for i_class in range(2):\n",
    "    samples = class_dist.get_mean_std(i_class)[0].unsqueeze(0)\n",
    "    inverted = feature_model.invert(samples)\n",
    "    inverted_per_class.append(var_to_np(inverted)[0].squeeze())\n",
    "fig = plot_head_signals_tight(np.stack(inverted_per_class, axis=-1), sensor_names=sensor_names,\n",
    "                         figsize=(20,12));\n",
    "ax = plt.gca()\n",
    "\n",
    "fig.legend(ax.get_lines()[:2], [\"Right Hand\", \"Resting State\"], fontsize=24)"
   ]
  },
  {
   "cell_type": "code",
   "execution_count": null,
   "metadata": {},
   "outputs": [],
   "source": [
    "from reversible2.plot import plot_head_signals_tight\n",
    "inverted_per_class = []\n",
    "for i_class in range(2):\n",
    "    inverted = train_inputs[i_class]\n",
    "    inverted_per_class.append(var_to_np(inverted)[0].squeeze())\n",
    "plot_head_signals_tight(np.stack(inverted_per_class, axis=-1), sensor_names=sensor_names,\n",
    "                         figsize=(20,12));"
   ]
  },
  {
   "cell_type": "code",
   "execution_count": null,
   "metadata": {
    "collapsed": true
   },
   "outputs": [],
   "source": []
  }
 ],
 "metadata": {
  "kernelspec": {
   "display_name": "Python 3",
   "language": "python",
   "name": "python3"
  },
  "language_info": {
   "codemirror_mode": {
    "name": "ipython",
    "version": 3
   },
   "file_extension": ".py",
   "mimetype": "text/x-python",
   "name": "python",
   "nbconvert_exporter": "python",
   "pygments_lexer": "ipython3",
   "version": "3.6.8"
  }
 },
 "nbformat": 4,
 "nbformat_minor": 2
}
