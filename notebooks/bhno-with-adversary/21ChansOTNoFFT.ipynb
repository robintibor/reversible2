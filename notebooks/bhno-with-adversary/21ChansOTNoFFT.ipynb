{
 "cells": [
  {
   "cell_type": "code",
   "execution_count": null,
   "metadata": {
    "collapsed": true
   },
   "outputs": [],
   "source": [
    "import logging\n",
    "import importlib\n",
    "importlib.reload(logging) # see https://stackoverflow.com/a/21475297/1469195\n",
    "log = logging.getLogger()\n",
    "log.setLevel('INFO')\n",
    "import sys\n",
    "\n",
    "logging.basicConfig(format='%(asctime)s %(levelname)s : %(message)s',\n",
    "                     level=logging.INFO, stream=sys.stdout)"
   ]
  },
  {
   "cell_type": "code",
   "execution_count": null,
   "metadata": {
    "collapsed": true
   },
   "outputs": [],
   "source": [
    "%%capture\n",
    "import os\n",
    "import site\n",
    "os.sys.path.insert(0, '/home/schirrmr/code/reversible/')\n",
    "os.sys.path.insert(0, '/home/schirrmr/braindecode/code/braindecode/')\n",
    "os.sys.path.insert(0, '/home/schirrmr/code/explaining/reversible//')\n",
    "\n",
    "\n",
    "%load_ext autoreload\n",
    "%autoreload 2\n",
    "import numpy as np\n",
    "import logging\n",
    "log = logging.getLogger()\n",
    "log.setLevel('INFO')\n",
    "import sys\n",
    "logging.basicConfig(format='%(asctime)s %(levelname)s : %(message)s',\n",
    "                     level=logging.INFO, stream=sys.stdout)\n",
    "import matplotlib\n",
    "from matplotlib import pyplot as plt\n",
    "from matplotlib import cm\n",
    "%matplotlib inline\n",
    "%config InlineBackend.figure_format = 'png'\n",
    "matplotlib.rcParams['figure.figsize'] = (12.0, 1.0)\n",
    "matplotlib.rcParams['font.size'] = 14\n",
    "import seaborn\n",
    "seaborn.set_style('darkgrid')\n",
    "\n",
    "from reversible2.sliced import sliced_from_samples\n",
    "from numpy.random import RandomState\n",
    "\n",
    "import torch\n",
    "import torch.nn as nn\n",
    "import torch.nn.functional as F\n",
    "from torch.autograd import Variable\n",
    "import numpy as np\n",
    "import copy\n",
    "import math\n",
    "\n",
    "import itertools\n",
    "import torch as th\n",
    "from braindecode.torch_ext.util import np_to_var, var_to_np\n",
    "from reversible2.splitter import SubsampleSplitter\n",
    "\n",
    "from reversible2.view_as import ViewAs\n",
    "\n",
    "from reversible2.affine import AdditiveBlock\n",
    "from reversible2.plot import display_text, display_close\n",
    "from reversible2.bhno import load_file, create_inputs\n",
    "th.backends.cudnn.benchmark = True"
   ]
  },
  {
   "cell_type": "code",
   "execution_count": null,
   "metadata": {},
   "outputs": [],
   "source": [
    "sensor_names = ['Fz', \n",
    "                'FC3','FC1','FCz','FC2','FC4',\n",
    "                'C5','C3','C1','Cz','C2','C4','C6',\n",
    "                'CP3','CP1','CPz','CP2','CP4',\n",
    "                'P1','Pz','P2',\n",
    "                'POz']\n",
    "orig_train_cnt = load_file('/data/schirrmr/schirrmr/HGD-public/reduced/train/4.mat')\n",
    "train_cnt = orig_train_cnt.reorder_channels(sensor_names)\n",
    "\n",
    "train_inputs = create_inputs(train_cnt, final_hz=256, half_before=True)\n",
    "n_split = len(train_inputs[0]) - 40\n",
    "test_inputs = [t[-40:] for t in train_inputs]\n",
    "train_inputs = [t[:-40] for t in train_inputs]"
   ]
  },
  {
   "cell_type": "code",
   "execution_count": null,
   "metadata": {
    "collapsed": true
   },
   "outputs": [],
   "source": [
    "cuda = True\n",
    "if cuda:\n",
    "    train_inputs = [i.cuda() for i in train_inputs]\n",
    "    test_inputs = [i.cuda() for i in test_inputs]"
   ]
  },
  {
   "cell_type": "code",
   "execution_count": null,
   "metadata": {
    "collapsed": true
   },
   "outputs": [],
   "source": [
    "from reversible2.graph import Node\n",
    "from reversible2.branching import CatChans, ChunkChans, Select\n",
    "from reversible2.constantmemory import sequential_to_constant_memory\n",
    "from reversible2.constantmemory import graph_to_constant_memory\n",
    "def invert(feature_model, out):\n",
    "    return feature_model.invert(out)\n",
    "\n",
    "from copy import deepcopy\n",
    "from reversible2.graph import Node\n",
    "from reversible2.distribution import TwoClassDist\n",
    "from reversible2.wrap_invertible import WrapInvertible\n",
    "from reversible2.blocks import dense_add_no_switch, conv_add_3x3_no_switch\n",
    "from reversible2.rfft import RFFT, Interleave\n",
    "from reversible2.util import set_random_seeds\n",
    "from torch.nn import ConstantPad2d\n",
    "import torch as th\n",
    "from reversible2.splitter import SubsampleSplitter\n",
    "\n",
    "set_random_seeds(2019011641, cuda)\n",
    "n_chans = train_inputs[0].shape[1]\n",
    "n_time = train_inputs[0].shape[2]\n",
    "base_model = nn.Sequential(\n",
    "    SubsampleSplitter(stride=[2,1],chunk_chans_first=False),\n",
    "    conv_add_3x3_no_switch(2*n_chans,32),\n",
    "    conv_add_3x3_no_switch(2*n_chans,32),\n",
    "    SubsampleSplitter(stride=[2,1],chunk_chans_first=True), # 4 x 128\n",
    "    conv_add_3x3_no_switch(4*n_chans,32),\n",
    "    conv_add_3x3_no_switch(4*n_chans,32),\n",
    "    SubsampleSplitter(stride=[2,1],chunk_chans_first=True), # 8 x 64\n",
    "    conv_add_3x3_no_switch(8*n_chans,32),\n",
    "    conv_add_3x3_no_switch(8*n_chans,32))\n",
    "base_model.cuda();\n",
    "\n",
    "branch_1_a =  nn.Sequential(\n",
    "    SubsampleSplitter(stride=[2,1],chunk_chans_first=False), # 8 x 32\n",
    "    conv_add_3x3_no_switch(8*n_chans,32),\n",
    "    conv_add_3x3_no_switch(8*n_chans,32),\n",
    "    SubsampleSplitter(stride=[2,1],chunk_chans_first=True),# 16 x 16\n",
    "    conv_add_3x3_no_switch(16*n_chans,32),\n",
    "    conv_add_3x3_no_switch(16*n_chans,32),\n",
    "    SubsampleSplitter(stride=[2,1],chunk_chans_first=True), # 32 x 8\n",
    "    conv_add_3x3_no_switch(32*n_chans,32),\n",
    "    conv_add_3x3_no_switch(32*n_chans,32),\n",
    ")\n",
    "branch_1_b = nn.Sequential(\n",
    "    *(list(deepcopy(branch_1_a).children()) + [\n",
    "    ViewAs((-1, 32*n_chans,n_time//64,1), (-1,(n_time // 2)*n_chans)),\n",
    "    dense_add_no_switch((n_time // 2)*n_chans,32),\n",
    "    dense_add_no_switch((n_time // 2)*n_chans,32),\n",
    "    dense_add_no_switch((n_time // 2)*n_chans,32),\n",
    "    dense_add_no_switch((n_time // 2)*n_chans,32),\n",
    "]))\n",
    "branch_1_a.cuda();\n",
    "branch_1_b.cuda();\n",
    "\n",
    "branch_2_a = nn.Sequential(\n",
    "    SubsampleSplitter(stride=[2,1], chunk_chans_first=False),# 32 x 4\n",
    "    conv_add_3x3_no_switch(32*n_chans,32),\n",
    "    conv_add_3x3_no_switch(32*n_chans,32),\n",
    "    SubsampleSplitter(stride=[2,1],chunk_chans_first=True),# 64 x 2\n",
    "    conv_add_3x3_no_switch(64*n_chans,32),\n",
    "    conv_add_3x3_no_switch(64*n_chans,32),\n",
    "    ViewAs((-1, (n_time // 4)*n_chans,1,1), (-1,(n_time // 4)*n_chans)),\n",
    "    dense_add_no_switch((n_time // 4)*n_chans,64),\n",
    "    dense_add_no_switch((n_time // 4)*n_chans,64),\n",
    "    dense_add_no_switch((n_time // 4)*n_chans,64),\n",
    "    dense_add_no_switch((n_time // 4)*n_chans,64),\n",
    ")\n",
    "\n",
    "\n",
    "branch_2_b = deepcopy(branch_2_a).cuda()\n",
    "branch_2_a.cuda();\n",
    "branch_2_b.cuda();\n",
    "\n",
    "final_model = nn.Sequential(\n",
    "    dense_add_no_switch(n_time*n_chans,256),\n",
    "    dense_add_no_switch(n_time*n_chans,256),\n",
    "    dense_add_no_switch(n_time*n_chans,256),\n",
    "    dense_add_no_switch(n_time*n_chans,256),\n",
    ")\n",
    "final_model.cuda();\n",
    "o = Node(None, base_model)\n",
    "o = Node(o, ChunkChans(2))\n",
    "o1a = Node(o, Select(0))\n",
    "o1b = Node(o, Select(1))\n",
    "o1a = Node(o1a, branch_1_a)\n",
    "o1b = Node(o1b, branch_1_b)\n",
    "o2 = Node(o1a, ChunkChans(2))\n",
    "o2a = Node(o2, Select(0))\n",
    "o2b = Node(o2, Select(1))\n",
    "o2a = Node(o2a, branch_2_a)\n",
    "o2b = Node(o2b, branch_2_b)\n",
    "o = Node([o1b,o2a,o2b], CatChans())\n",
    "o = Node(o, final_model)\n",
    "o = graph_to_constant_memory(o)\n",
    "feature_model = o\n",
    "if cuda:\n",
    "    feature_model.cuda()\n",
    "feature_model.eval();"
   ]
  },
  {
   "cell_type": "markdown",
   "metadata": {},
   "source": [
    "### set feature model weights and distribution to good start parameters"
   ]
  },
  {
   "cell_type": "code",
   "execution_count": null,
   "metadata": {},
   "outputs": [],
   "source": [
    "from reversible2.constantmemory import clear_ctx_dicts\n",
    "from reversible2.distribution import TwoClassDist\n",
    "\n",
    "feature_model.data_init(th.cat((train_inputs[0], train_inputs[1]), dim=0))\n",
    "\n",
    "# Check that forward + inverse is really identical\n",
    "t_out = feature_model(train_inputs[0][:2])\n",
    "inverted = invert(feature_model, t_out)\n",
    "clear_ctx_dicts(feature_model)\n",
    "assert th.allclose(train_inputs[0][:2], inverted, rtol=1e-3,atol=1e-4)\n",
    "device = list(feature_model.parameters())[0].device\n",
    "from reversible2.ot_exact import ot_euclidean_loss_for_samples\n",
    "class_dist = TwoClassDist(2, np.prod(train_inputs[0].size()[1:]) - 2)\n",
    "class_dist.cuda()\n",
    "\n",
    "for i_class in range(2):\n",
    "    with th.no_grad():\n",
    "        this_outs = feature_model(train_inputs[i_class])\n",
    "        mean = th.mean(this_outs, dim=0)\n",
    "        std = th.std(this_outs, dim=0)\n",
    "        class_dist.set_mean_std(i_class, mean, std)\n",
    "        # Just check\n",
    "        setted_mean, setted_std = class_dist.get_mean_std(i_class)\n",
    "        assert th.allclose(mean, setted_mean)\n",
    "        assert th.allclose(std, setted_std)\n",
    "clear_ctx_dicts(feature_model)\n",
    "\n",
    "optim_model = th.optim.Adam(feature_model.parameters(), lr=1e-3, betas=(0.9,0.999))\n",
    "optim_dist = th.optim.Adam(class_dist.parameters(), lr=1e-2, betas=(0.9,0.999))"
   ]
  },
  {
   "cell_type": "code",
   "execution_count": null,
   "metadata": {},
   "outputs": [],
   "source": [
    "%%writefile plot.py\n",
    "import torch as th\n",
    "import matplotlib.pyplot as plt\n",
    "import numpy as np\n",
    "from reversible2.util import var_to_np\n",
    "from reversible2.plot import display_close\n",
    "from matplotlib.patches import Ellipse\n",
    "import seaborn\n",
    "\n",
    "def plot_outs(feature_model, train_inputs, test_inputs, class_dist):\n",
    "    with th.no_grad():\n",
    "        # Compute dist for mean/std of encodings\n",
    "        data_cls_dists = []\n",
    "        for i_class in range(len(train_inputs)):\n",
    "            this_class_outs = feature_model(train_inputs[i_class])[:,:2]\n",
    "            data_cls_dists.append(\n",
    "                th.distributions.MultivariateNormal(th.mean(this_class_outs, dim=0),\n",
    "                covariance_matrix=th.diag(th.std(this_class_outs, dim=0) ** 2)))\n",
    "        for setname, set_inputs in ((\"Train\", train_inputs), (\"Test\", test_inputs)):\n",
    "\n",
    "            outs = [feature_model(ins) for ins in set_inputs]\n",
    "            c_outs = [o[:,:2] for o in outs]\n",
    "\n",
    "            c_outs_all = th.cat(c_outs)\n",
    "\n",
    "            cls_dists = []\n",
    "            for i_class in range(len(c_outs)):\n",
    "                mean, std = class_dist.get_mean_std(i_class)\n",
    "                cls_dists.append(\n",
    "                    th.distributions.MultivariateNormal(mean[:2],covariance_matrix=th.diag(std[:2] ** 2)))\n",
    "\n",
    "            preds_per_class = [th.stack([cls_dists[i_cls].log_prob(c_out)\n",
    "                             for i_cls in range(len(cls_dists))],\n",
    "                            dim=-1) for c_out in c_outs]\n",
    "\n",
    "            pred_labels_per_class = [np.argmax(var_to_np(preds), axis=1)\n",
    "                           for preds in preds_per_class]\n",
    "\n",
    "            labels = np.concatenate([np.ones(len(set_inputs[i_cls])) * i_cls \n",
    "             for i_cls in range(len(train_inputs))])\n",
    "\n",
    "            acc = np.mean(labels == np.concatenate(pred_labels_per_class))\n",
    "\n",
    "            data_preds_per_class = [th.stack([data_cls_dists[i_cls].log_prob(c_out)\n",
    "                             for i_cls in range(len(cls_dists))],\n",
    "                            dim=-1) for c_out in c_outs]\n",
    "            data_pred_labels_per_class = [np.argmax(var_to_np(data_preds), axis=1)\n",
    "                                for data_preds in data_preds_per_class]\n",
    "            data_acc = np.mean(labels == np.concatenate(data_pred_labels_per_class))\n",
    "\n",
    "            print(\"{:s} Accuracy: {:.1f}%\".format(setname, acc * 100))\n",
    "            fig = plt.figure(figsize=(5,5))\n",
    "            ax = plt.gca()\n",
    "            for i_class in range(len(c_outs)):\n",
    "                #if i_class == 0:\n",
    "                #    continue\n",
    "                o = var_to_np(c_outs[i_class]).squeeze()\n",
    "                incorrect_pred_mask = pred_labels_per_class[i_class] != i_class\n",
    "                plt.scatter(o[:,0], o[:,1], s=20, alpha=0.75, label=[\"Right\", \"Rest\"][i_class])\n",
    "                assert len(incorrect_pred_mask) == len(o)\n",
    "                plt.scatter(o[incorrect_pred_mask,0], o[incorrect_pred_mask,1], marker='x', color='black',\n",
    "                           alpha=1, s=5)\n",
    "                means, stds = class_dist.get_mean_std(i_class)\n",
    "                means = var_to_np(means)[:2]\n",
    "                stds = var_to_np(stds)[:2]\n",
    "                for sigma in [0.5,1,2,3]:\n",
    "                    ellipse = Ellipse(means, stds[0]*sigma, stds[1]*sigma)\n",
    "                    ax.add_artist(ellipse)\n",
    "                    ellipse.set_edgecolor(seaborn.color_palette()[i_class])\n",
    "                    ellipse.set_facecolor(\"None\")\n",
    "            for i_class in range(len(c_outs)):\n",
    "                o = var_to_np(c_outs[i_class]).squeeze()\n",
    "                plt.scatter(np.mean(o[:,0]), np.mean(o[:,1]),\n",
    "                           color=seaborn.color_palette()[i_class+2], s=80, marker=\"^\",\n",
    "                           label=[\"Right Mean\", \"Rest Mean\"][i_class])\n",
    "\n",
    "            plt.title(\"{:6s} Accuracy:        {:.1f}%\\n\"\n",
    "                      \"From data mean/std: {:.1f}%\".format(setname, acc * 100, data_acc * 100))\n",
    "            plt.legend(bbox_to_anchor=(1,1,0,0))\n",
    "            display_close(fig)\n",
    "    return"
   ]
  },
  {
   "cell_type": "code",
   "execution_count": null,
   "metadata": {
    "collapsed": true
   },
   "outputs": [],
   "source": [
    "import pandas as pd\n",
    "df = pd.DataFrame()\n",
    "\n",
    "from reversible2.training import OTTrainer\n",
    "trainer = OTTrainer(feature_model, class_dist,\n",
    "                optim_model, optim_dist)"
   ]
  },
  {
   "cell_type": "code",
   "execution_count": null,
   "metadata": {},
   "outputs": [],
   "source": [
    "from reversible2.constantmemory import clear_ctx_dicts\n",
    "from reversible2.timer import Timer\n",
    "from plot import plot_outs\n",
    "from reversible2.gradient_penalty import gradient_penalty\n",
    "\n",
    "\n",
    "i_start_epoch_out = 4001\n",
    "n_epochs = 10001\n",
    "gen_frequency = 10\n",
    "for i_epoch in range(n_epochs):\n",
    "    epoch_row = {}\n",
    "    with Timer(name='EpochLoop', verbose=False) as loop_time:\n",
    "        gen_update = (i_epoch % gen_frequency) == (gen_frequency-1)\n",
    "        loss_on_outs = i_epoch >= i_start_epoch_out\n",
    "        result = trainer.train(train_inputs, loss_on_outs=loss_on_outs)\n",
    "        \n",
    "    epoch_row.update(result)\n",
    "    epoch_row['runtime'] = loop_time.elapsed_secs * 1000\n",
    "    if i_epoch % (n_epochs // 20) != 0:\n",
    "        df = df.append(epoch_row, ignore_index=True)\n",
    "        # otherwise add ot loss in\n",
    "    else:\n",
    "        for i_class in range(len(train_inputs)):\n",
    "            with th.no_grad():\n",
    "                class_ins = train_inputs[i_class]\n",
    "                samples = class_dist.get_samples(i_class, len(train_inputs[i_class]) * 4)\n",
    "                inverted = feature_model.invert(samples)\n",
    "                clear_ctx_dicts(feature_model)\n",
    "                ot_loss_in = ot_euclidean_loss_for_samples(class_ins.view(class_ins.shape[0], -1),\n",
    "                                                           inverted.view(inverted.shape[0], -1)[:(len(class_ins))])\n",
    "                epoch_row['ot_loss_in_{:d}'.format(i_class)] = ot_loss_in.item()\n",
    "        df = df.append(epoch_row, ignore_index=True)\n",
    "        print(\"Epoch {:d} of {:d}\".format(i_epoch, n_epochs))\n",
    "        print(\"Loop Time: {:.0f} ms\".format(loop_time.elapsed_secs * 1000))\n",
    "        display(df.iloc[-3:])\n",
    "        plot_outs(feature_model, train_inputs, test_inputs,\n",
    "                 class_dist)\n",
    "        fig = plt.figure(figsize=(8,2))\n",
    "        plt.plot(var_to_np(th.cat((th.exp(class_dist.class_log_stds),\n",
    "                                 th.exp(class_dist.non_class_log_stds)))),\n",
    "                marker='o')\n",
    "        display_close(fig)\n",
    "    \n"
   ]
  },
  {
   "cell_type": "code",
   "execution_count": null,
   "metadata": {},
   "outputs": [],
   "source": [
    "from reversible2.plot import plot_head_signals_tight\n",
    "\n",
    "mean_bps_per_class = []\n",
    "for i_class in range(len(train_inputs)):\n",
    "    samples = class_dist.get_samples(i_class, 400)\n",
    "    inverted = feature_model.invert(samples)\n",
    "    mean_bps_per_class.append(\n",
    "        np.mean(np.abs(np.fft.rfft(var_to_np(inverted.squeeze()))), axis=0))\n",
    "\n",
    "fig = plt.figure(figsize=(8,3))\n",
    "plt.plot(np.mean(mean_bps_per_class, axis=1).T)\n",
    "display_close(fig)\n",
    "\n",
    "fig = plot_head_signals_tight(np.stack(mean_bps_per_class, axis=-1), sensor_names=sensor_names,\n",
    "                             figsize=(20,12));"
   ]
  },
  {
   "cell_type": "code",
   "execution_count": null,
   "metadata": {},
   "outputs": [],
   "source": [
    "fig = plot_head_signals_tight(np.log(mean_bps_per_class[0]/mean_bps_per_class[1]), sensor_names=sensor_names,\n",
    "                             figsize=(20,12));"
   ]
  },
  {
   "cell_type": "code",
   "execution_count": null,
   "metadata": {},
   "outputs": [],
   "source": [
    "for i_class in range(2):\n",
    "    samples = class_dist.get_samples(i_class, 20)\n",
    "    inverted = feature_model.invert(samples)\n",
    "    plot_head_signals_tight(var_to_np(inverted)[0].squeeze(), sensor_names=sensor_names,\n",
    "                             figsize=(20,12));"
   ]
  },
  {
   "cell_type": "code",
   "execution_count": null,
   "metadata": {},
   "outputs": [],
   "source": [
    "for i_class in range(2):\n",
    "    samples = class_dist.get_mean_std(i_class)[0].unsqueeze(0)\n",
    "    inverted = train_inputs[i_class]\n",
    "    plot_head_signals_tight(var_to_np(inverted)[0].squeeze(), sensor_names=sensor_names,\n",
    "                             figsize=(20,12));"
   ]
  },
  {
   "cell_type": "code",
   "execution_count": null,
   "metadata": {},
   "outputs": [],
   "source": [
    "for i_class in range(2):\n",
    "    samples = class_dist.get_mean_std(i_class)[0].unsqueeze(0)\n",
    "    inverted = feature_model.invert(samples)\n",
    "    plot_head_signals_tight(var_to_np(inverted)[0].squeeze(), sensor_names=sensor_names,\n",
    "                             figsize=(20,12));"
   ]
  },
  {
   "cell_type": "code",
   "execution_count": null,
   "metadata": {},
   "outputs": [],
   "source": [
    "inverted_per_class = []\n",
    "for i_class in range(2):\n",
    "    samples = class_dist.get_mean_std(i_class)[0].unsqueeze(0)\n",
    "    inverted = feature_model.invert(samples)\n",
    "    inverted_per_class.append(var_to_np(inverted)[0].squeeze())\n",
    "plot_head_signals_tight(np.stack(inverted_per_class, axis=-1), sensor_names=sensor_names,\n",
    "                         figsize=(20,12));"
   ]
  },
  {
   "cell_type": "code",
   "execution_count": null,
   "metadata": {
    "collapsed": true
   },
   "outputs": [],
   "source": []
  },
  {
   "cell_type": "code",
   "execution_count": null,
   "metadata": {},
   "outputs": [],
   "source": [
    "\n",
    "for i_class in range(len(train_inputs)):\n",
    "    with th.no_grad():\n",
    "        class_ins = train_inputs[i_class]\n",
    "        samples = class_dist.get_samples(i_class, len(train_inputs[i_class]) * 4)\n",
    "        inverted = feature_model.invert(samples)\n",
    "        clear_ctx_dicts(feature_model)\n",
    "        ot_loss_in = ot_euclidean_loss_for_samples(class_ins.view(class_ins.shape[0], -1),\n",
    "                                                   inverted.view(inverted.shape[0], -1)[:(len(class_ins))])\n",
    "        epoch_row['ot_loss_in_{:d}'.format(i_class)] = ot_loss_in.item()\n",
    "df = df.append(epoch_row, ignore_index=True)\n",
    "print(\"Epoch {:d} of {:d}\".format(i_epoch, n_epochs))\n",
    "print(\"Loop Time: {:.0f} ms\".format(loop_time.elapsed_secs * 1000))\n",
    "display(df.iloc[-3:])\n",
    "plot_outs(feature_model, train_inputs, test_inputs,\n",
    "         class_dist)\n",
    "fig = plt.figure(figsize=(8,2))\n",
    "plt.plot(var_to_np(th.cat((th.exp(class_dist.class_log_stds),\n",
    "                         th.exp(class_dist.non_class_log_stds)))),\n",
    "        marker='o')\n",
    "display_close(fig)"
   ]
  },
  {
   "cell_type": "code",
   "execution_count": null,
   "metadata": {},
   "outputs": [],
   "source": [
    "df.drop(['runtime'], axis=1).plot()\n",
    "plt.ylim(0,100)"
   ]
  },
  {
   "cell_type": "code",
   "execution_count": null,
   "metadata": {},
   "outputs": [],
   "source": [
    "%%javascript\n",
    "var kernel = IPython.notebook.kernel;\n",
    "var thename = window.document.getElementById(\"notebook_name\").innerHTML;\n",
    "var command = \"nbname = \" + \"'\"+thename+\"'\";\n",
    "kernel.execute(command);"
   ]
  },
  {
   "cell_type": "code",
   "execution_count": null,
   "metadata": {},
   "outputs": [],
   "source": [
    "nbname"
   ]
  },
  {
   "cell_type": "code",
   "execution_count": null,
   "metadata": {
    "collapsed": true
   },
   "outputs": [],
   "source": [
    "folder_path = '/data/schirrmr/schirrmr/reversible/models/notebooks/{:s}/'.format(nbname)\n",
    "os.makedirs(folder_path,exist_ok=True)"
   ]
  },
  {
   "cell_type": "code",
   "execution_count": null,
   "metadata": {
    "collapsed": true
   },
   "outputs": [],
   "source": [
    "name_and_variable = [('feature_model', feature_model),\n",
    " ('class_dist', class_dist),\n",
    " ('non_class_log_stds', class_dist.non_class_log_stds),\n",
    " ('class_log_stds', class_dist.class_log_stds,),\n",
    " ('class_means', class_dist.class_means),\n",
    " ('non_class_means', class_dist.non_class_means),\n",
    " ('feature_model_params', feature_model.state_dict()),\n",
    " ('optim_model', optim_model.state_dict()),\n",
    "  ('optim_dist', optim_dist.state_dict())]\n",
    "\n",
    "for name, variable in name_and_variable:\n",
    "    th.save(variable, os.path.join(folder_path, name + '.pkl'))"
   ]
  },
  {
   "cell_type": "code",
   "execution_count": null,
   "metadata": {},
   "outputs": [],
   "source": [
    "print(\"\\n\".join([\"{:30s}\\t{:.1f}\".format(f, os.path.getsize(os.path.join(folder_path, f)) / (1024.0 *1024.0))\n",
    " for f in os.listdir(folder_path)]))"
   ]
  },
  {
   "cell_type": "code",
   "execution_count": null,
   "metadata": {
    "collapsed": true
   },
   "outputs": [],
   "source": []
  },
  {
   "cell_type": "code",
   "execution_count": null,
   "metadata": {
    "collapsed": true
   },
   "outputs": [],
   "source": []
  },
  {
   "cell_type": "code",
   "execution_count": null,
   "metadata": {
    "collapsed": true
   },
   "outputs": [],
   "source": [
    "# compute metric log stuff fft\n",
    "# and maybe even inception distance"
   ]
  },
  {
   "cell_type": "code",
   "execution_count": null,
   "metadata": {
    "collapsed": true
   },
   "outputs": [],
   "source": [
    "# first start just starting from one class all at 0, then optimize coefficients in loss\n",
    "# then other class also\n",
    "# repeat again, but starting from mean of classes respectively\n",
    "# also add likelihood loss on them\n",
    "# then just do some perturbations and inverse loss still\n",
    "# then add class differentiation training, \n",
    "# just switch classes explicitly by changing other features\n",
    "# make it impossible to tell real class\n",
    "# -> discriminator in --äääcääääääääääääääääääääääääääääääääääääääääääääääääääääääääää--...-m-input <y\n"
   ]
  },
  {
   "cell_type": "code",
   "execution_count": null,
   "metadata": {
    "collapsed": true
   },
   "outputs": [],
   "source": []
  }
 ],
 "metadata": {
  "kernelspec": {
   "display_name": "Python 3",
   "language": "python",
   "name": "python3"
  },
  "language_info": {
   "codemirror_mode": {
    "name": "ipython",
    "version": 3
   },
   "file_extension": ".py",
   "mimetype": "text/x-python",
   "name": "python",
   "nbconvert_exporter": "python",
   "pygments_lexer": "ipython3",
   "version": "3.6.8"
  }
 },
 "nbformat": 4,
 "nbformat_minor": 2
}
