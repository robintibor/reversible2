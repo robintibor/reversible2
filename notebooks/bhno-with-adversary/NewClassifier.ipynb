{
 "cells": [
  {
   "cell_type": "code",
   "execution_count": null,
   "metadata": {
    "collapsed": true
   },
   "outputs": [],
   "source": [
    "import logging\n",
    "import importlib\n",
    "importlib.reload(logging) # see https://stackoverflow.com/a/21475297/1469195\n",
    "log = logging.getLogger()\n",
    "log.setLevel('INFO')\n",
    "import sys\n",
    "\n",
    "logging.basicConfig(format='%(asctime)s %(levelname)s : %(message)s',\n",
    "                     level=logging.INFO, stream=sys.stdout)"
   ]
  },
  {
   "cell_type": "code",
   "execution_count": null,
   "metadata": {
    "collapsed": true
   },
   "outputs": [],
   "source": [
    "%%capture\n",
    "import os\n",
    "import site\n",
    "os.sys.path.insert(0, '/home/schirrmr/code/reversible/')\n",
    "os.sys.path.insert(0, '/home/schirrmr/braindecode/code/braindecode/')\n",
    "\n",
    "\n",
    "%load_ext autoreload\n",
    "%autoreload 2\n",
    "import numpy as np\n",
    "import logging\n",
    "log = logging.getLogger()\n",
    "log.setLevel('INFO')\n",
    "import sys\n",
    "logging.basicConfig(format='%(asctime)s %(levelname)s : %(message)s',\n",
    "                     level=logging.INFO, stream=sys.stdout)\n",
    "import matplotlib\n",
    "from matplotlib import pyplot as plt\n",
    "from matplotlib import cm\n",
    "%matplotlib inline\n",
    "%config InlineBackend.figure_format = 'png'\n",
    "matplotlib.rcParams['figure.figsize'] = (12.0, 1.0)\n",
    "matplotlib.rcParams['font.size'] = 14\n",
    "import seaborn\n",
    "seaborn.set_style('darkgrid')\n",
    "\n",
    "from reversible2.sliced import sliced_from_samples\n",
    "from numpy.random import RandomState\n",
    "\n",
    "import torch\n",
    "import torch.nn as nn\n",
    "import torch.nn.functional as F\n",
    "from torch.autograd import Variable\n",
    "import numpy as np\n",
    "import copy\n",
    "import math\n",
    "\n",
    "import itertools\n",
    "import torch as th\n",
    "from braindecode.torch_ext.util import np_to_var, var_to_np\n",
    "from reversible2.splitter import SubsampleSplitter\n",
    "\n",
    "from reversible2.view_as import ViewAs\n",
    "\n",
    "from reversible2.affine import AdditiveBlock\n",
    "from reversible2.plot import display_text, display_close\n",
    "from reversible2.bhno import load_file, create_inputs\n",
    "th.backends.cudnn.benchmark = True"
   ]
  },
  {
   "cell_type": "code",
   "execution_count": null,
   "metadata": {
    "collapsed": true
   },
   "outputs": [],
   "source": [
    "\n",
    "train_inputs = [th.randn(80, 2, 64, 1, device='cpu') * 1e-4 for _ in range(2)]\n",
    "n_split = len(train_inputs[0]) - 40\n",
    "test_inputs = [t[-20:] for t in train_inputs]\n",
    "train_inputs = [t[:-20] for t in train_inputs]"
   ]
  },
  {
   "cell_type": "code",
   "execution_count": null,
   "metadata": {
    "collapsed": true
   },
   "outputs": [],
   "source": [
    "cuda = True\n",
    "if cuda:\n",
    "    train_inputs = [i.cuda() for i in train_inputs]\n",
    "    test_inputs = [i.cuda() for i in test_inputs]"
   ]
  },
  {
   "cell_type": "code",
   "execution_count": null,
   "metadata": {
    "collapsed": true
   },
   "outputs": [],
   "source": [
    "train_inputs[0].data[:] += 1\n",
    "test_inputs[0].data[:] += 1\n"
   ]
  },
  {
   "cell_type": "code",
   "execution_count": null,
   "metadata": {
    "collapsed": true
   },
   "outputs": [],
   "source": [
    "from reversible2.sliced import sample_directions"
   ]
  },
  {
   "cell_type": "code",
   "execution_count": null,
   "metadata": {
    "collapsed": true
   },
   "outputs": [],
   "source": [
    "from reversible2.graph import Node\n",
    "from reversible2.branching import CatChans, ChunkChans, Select\n",
    "from reversible2.constantmemory import sequential_to_constant_memory\n",
    "from reversible2.constantmemory import graph_to_constant_memory\n",
    "\n",
    "from copy import deepcopy\n",
    "from reversible2.graph import Node\n",
    "from reversible2.distribution import TwoClassDist\n",
    "from reversible2.wrap_invertible import WrapInvertible\n",
    "from reversible2.blocks import dense_add_no_switch, conv_add_3x3_no_switch\n",
    "from reversible2.rfft import RFFT, Interleave\n",
    "from reversible2.util import set_random_seeds\n",
    "from torch.nn import ConstantPad2d\n",
    "import torch as th\n",
    "from reversible2.splitter import SubsampleSplitter\n",
    "\n",
    "set_random_seeds(2019011641, cuda)\n",
    "n_chans = train_inputs[0].shape[1]\n",
    "n_time = train_inputs[0].shape[2]\n",
    "base_model = nn.Sequential(\n",
    "    SubsampleSplitter(stride=[2,1],chunk_chans_first=False), # 4 x 32\n",
    "    conv_add_3x3_no_switch(2*n_chans,32),\n",
    "    conv_add_3x3_no_switch(2*n_chans,32),\n",
    "    SubsampleSplitter(stride=[2,1],chunk_chans_first=True), # 8 x 16\n",
    "    conv_add_3x3_no_switch(4*n_chans,32),\n",
    "    conv_add_3x3_no_switch(4*n_chans,32),\n",
    "    SubsampleSplitter(stride=[2,1],chunk_chans_first=True), # 16 x 8\n",
    "    conv_add_3x3_no_switch(8*n_chans,32),\n",
    "    conv_add_3x3_no_switch(8*n_chans,32))\n",
    "base_model.cuda();\n",
    "\n",
    "branch_1_a =  nn.Sequential(\n",
    "    SubsampleSplitter(stride=[2,1],chunk_chans_first=False), # 16 x 4\n",
    "    conv_add_3x3_no_switch(8*n_chans,32),\n",
    "    conv_add_3x3_no_switch(8*n_chans,32),\n",
    "    SubsampleSplitter(stride=[2,1],chunk_chans_first=True),# 32 x 2\n",
    "    conv_add_3x3_no_switch(16*n_chans,32),\n",
    "    conv_add_3x3_no_switch(16*n_chans,32),\n",
    "    SubsampleSplitter(stride=[2,1],chunk_chans_first=True), # 64 x 1\n",
    "    ViewAs((-1,64,1,1), (-1,64))\n",
    ")\n",
    "branch_1_b = deepcopy(branch_1_a)\n",
    "branch_1_a.cuda();\n",
    "branch_1_b.cuda();\n",
    "\n",
    "\n",
    "\n",
    "final_model = nn.Sequential(\n",
    "    dense_add_no_switch(n_time*n_chans,256),\n",
    "    dense_add_no_switch(n_time*n_chans,256),\n",
    "    dense_add_no_switch(n_time*n_chans,256),\n",
    "    dense_add_no_switch(n_time*n_chans,256),\n",
    ")\n",
    "final_model.cuda();\n",
    "o = Node(None, base_model)\n",
    "o = Node(o, ChunkChans(2))\n",
    "o1a = Node(o, Select(0))\n",
    "o1b = Node(o, Select(1))\n",
    "o1a = Node(o1a, branch_1_a)\n",
    "o1b = Node(o1b, branch_1_b)\n",
    "o = Node([o1a,o1b,], CatChans())\n",
    "o = Node(o, final_model)\n",
    "#o = graph_to_constant_memory(o)\n",
    "feature_model = o\n",
    "if cuda:\n",
    "    feature_model.cuda()\n",
    "feature_model.eval();\n"
   ]
  },
  {
   "cell_type": "code",
   "execution_count": null,
   "metadata": {
    "collapsed": true
   },
   "outputs": [],
   "source": [
    "data_zero_init = False\n",
    "set_distribution_to_empirical = True"
   ]
  },
  {
   "cell_type": "code",
   "execution_count": null,
   "metadata": {},
   "outputs": [],
   "source": [
    "from reversible2.constantmemory import clear_ctx_dicts\n",
    "from reversible2.distribution import TwoClassDist\n",
    "from reversible2.distribution import TwoClassIndependentDist\n",
    "\n",
    "if data_zero_init:\n",
    "    feature_model.data_init(th.cat((train_inputs[0], train_inputs[1]), dim=0))\n",
    "\n",
    "# Check that forward + inverse is really identical\n",
    "t_out = feature_model(train_inputs[0][:2])\n",
    "inverted = feature_model.invert(t_out)\n",
    "clear_ctx_dicts(feature_model)\n",
    "assert th.allclose(train_inputs[0][:2], inverted, rtol=1e-3,atol=1e-4)\n",
    "device = list(feature_model.parameters())[0].device\n",
    "from reversible2.ot_exact import ot_euclidean_loss_for_samples\n",
    "class_dist = TwoClassDist(2, np.prod(train_inputs[0].size()[1:]) - 2, [0,1])\n",
    "class_dist = TwoClassIndependentDist(np.prod(train_inputs[0].size()[1:]),)\n",
    "class_dist.cuda()\n",
    "\n",
    "if set_distribution_to_empirical:\n",
    "    for i_class in range(2):\n",
    "        with th.no_grad():\n",
    "            this_outs = feature_model(train_inputs[i_class])\n",
    "            mean = th.mean(this_outs, dim=0)\n",
    "            std = th.std(this_outs, dim=0)\n",
    "            class_dist.set_mean_std(i_class, mean, std)\n",
    "            # Just check\n",
    "            setted_mean, setted_std = class_dist.get_mean_std(i_class)\n",
    "            assert th.allclose(mean, setted_mean)\n",
    "            assert th.allclose(std, setted_std)\n",
    "    clear_ctx_dicts(feature_model)\n",
    "\n",
    "optim_model = th.optim.Adam(feature_model.parameters(), lr=1e-3, betas=(0.9,0.999))\n",
    "optim_dist = th.optim.Adam(class_dist.parameters(), lr=1e-2, betas=(0.9,0.999))"
   ]
  },
  {
   "cell_type": "code",
   "execution_count": null,
   "metadata": {
    "collapsed": true
   },
   "outputs": [],
   "source": [
    "from reversible2.classifier import SubspaceClassifier\n",
    "\n",
    "clf = SubspaceClassifier(2, 10, np.prod(train_inputs[0].shape[1:]))\n",
    "clf.cuda()\n",
    "\n",
    "optim_clf = th.optim.Adam(clf.parameters(), lr=1e-3)"
   ]
  },
  {
   "cell_type": "code",
   "execution_count": null,
   "metadata": {
    "collapsed": true
   },
   "outputs": [],
   "source": [
    "from reversible2.monitor import compute_accs"
   ]
  },
  {
   "cell_type": "code",
   "execution_count": null,
   "metadata": {
    "collapsed": true
   },
   "outputs": [],
   "source": [
    "from reversible2.training import CLFTrainer"
   ]
  },
  {
   "cell_type": "code",
   "execution_count": null,
   "metadata": {
    "collapsed": true
   },
   "outputs": [],
   "source": [
    "outs_loss = 'sliced'\n",
    "clf_trainer = CLFTrainer(feature_model, clf, class_dist, optim_model, optim_clf, optim_dist,\n",
    "                outs_loss)"
   ]
  },
  {
   "cell_type": "code",
   "execution_count": null,
   "metadata": {
    "collapsed": true
   },
   "outputs": [],
   "source": [
    "\n",
    "import pandas as pd\n",
    "df = pd.DataFrame()\n",
    "\n",
    "from reversible2.training import OTTrainer\n",
    "trainer = OTTrainer(feature_model, class_dist,\n",
    "                optim_model, optim_dist)"
   ]
  },
  {
   "cell_type": "code",
   "execution_count": null,
   "metadata": {
    "collapsed": true
   },
   "outputs": [],
   "source": [
    "from reversible2.monitor import compute_clf_accs"
   ]
  },
  {
   "cell_type": "code",
   "execution_count": null,
   "metadata": {},
   "outputs": [],
   "source": [
    "from reversible2.constantmemory import clear_ctx_dicts\n",
    "from reversible2.timer import Timer\n",
    "from plot import plot_outs\n",
    "from reversible2.gradient_penalty import gradient_penalty\n",
    "from reversible2.gaussian import transform_gaussians_by_dirs, get_gaussian_log_probs\n",
    "\n",
    "\n",
    "i_start_epoch_out = 1\n",
    "n_epochs = 1001\n",
    "gen_frequency = 10\n",
    "for i_epoch in range(n_epochs):\n",
    "    epoch_row = {}\n",
    "    with Timer(name='EpochLoop', verbose=False) as loop_time:\n",
    "        gen_update = (i_epoch % gen_frequency) == (gen_frequency-1)\n",
    "        loss_on_outs = i_epoch >= i_start_epoch_out\n",
    "        result = trainer.train(train_inputs, loss_on_outs=loss_on_outs)\n",
    "        result_clf = clf_trainer.train(train_inputs, loss_on_outs=loss_on_outs)\n",
    "        \n",
    "        \n",
    "    epoch_row.update(result)\n",
    "    epoch_row.update(result_clf)\n",
    "    epoch_row['runtime'] = loop_time.elapsed_secs * 1000\n",
    "    acc_results = compute_accs(feature_model, train_inputs, test_inputs, class_dist)\n",
    "    epoch_row.update(acc_results)\n",
    "    clf_results = compute_clf_accs(clf, feature_model, train_inputs, test_inputs)\n",
    "    epoch_row.update(clf_results)\n",
    "    if i_epoch % (n_epochs // 20) != 0:\n",
    "        df = df.append(epoch_row, ignore_index=True)\n",
    "        # otherwise add ot loss in\n",
    "    else:\n",
    "        for i_class in range(len(train_inputs)):\n",
    "            with th.no_grad():\n",
    "                class_ins = train_inputs[i_class]\n",
    "                samples = class_dist.get_samples(i_class, len(train_inputs[i_class]) * 4)\n",
    "                inverted = feature_model.invert(samples)\n",
    "                clear_ctx_dicts(feature_model)\n",
    "                ot_loss_in = ot_euclidean_loss_for_samples(class_ins.view(class_ins.shape[0], -1),\n",
    "                                                           inverted.view(inverted.shape[0], -1)[:(len(class_ins))])\n",
    "                epoch_row['ot_loss_in_{:d}'.format(i_class)] = ot_loss_in.item()\n",
    "        df = df.append(epoch_row, ignore_index=True)\n",
    "        print(\"Epoch {:d} of {:d}\".format(i_epoch, n_epochs))\n",
    "        print(\"Loop Time: {:.0f} ms\".format(loop_time.elapsed_secs * 1000))\n",
    "        display(df.iloc[-3:])\n",
    "    \n"
   ]
  },
  {
   "cell_type": "code",
   "execution_count": null,
   "metadata": {
    "collapsed": true
   },
   "outputs": [],
   "source": []
  }
 ],
 "metadata": {
  "kernelspec": {
   "display_name": "Python 3",
   "language": "python",
   "name": "python3"
  },
  "language_info": {
   "codemirror_mode": {
    "name": "ipython",
    "version": 3
   },
   "file_extension": ".py",
   "mimetype": "text/x-python",
   "name": "python",
   "nbconvert_exporter": "python",
   "pygments_lexer": "ipython3",
   "version": "3.6.8"
  }
 },
 "nbformat": 4,
 "nbformat_minor": 2
}
