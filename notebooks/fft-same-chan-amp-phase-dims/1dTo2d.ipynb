{
 "cells": [
  {
   "cell_type": "code",
   "execution_count": null,
   "metadata": {
    "collapsed": true
   },
   "outputs": [],
   "source": [
    "%%capture\n",
    "import os\n",
    "import site\n",
    "os.sys.path.insert(0, '/home/schirrmr/code/reversible/reversible2/')\n",
    "os.sys.path.insert(0, '/home/schirrmr/braindecode/code/braindecode/')\n",
    "os.sys.path.insert(0, '/home/schirrmr/code/explaining/reversible//')\n",
    "%cd /home/schirrmr/\n",
    "\n",
    "\n",
    "%load_ext autoreload\n",
    "%autoreload 2\n",
    "import numpy as np\n",
    "import logging\n",
    "log = logging.getLogger()\n",
    "log.setLevel('INFO')\n",
    "import sys\n",
    "logging.basicConfig(format='%(asctime)s %(levelname)s : %(message)s',\n",
    "                     level=logging.INFO, stream=sys.stdout)\n",
    "import matplotlib\n",
    "from matplotlib import pyplot as plt\n",
    "from matplotlib import cm\n",
    "%matplotlib inline\n",
    "%config InlineBackend.figure_format = 'png'\n",
    "matplotlib.rcParams['figure.figsize'] = (12.0, 1.0)\n",
    "matplotlib.rcParams['font.size'] = 14\n",
    "from matplotlib import rcParams, cycler\n",
    "import seaborn\n",
    "seaborn.set_style('darkgrid')\n",
    "\n",
    "from reversible.sliced import sliced_from_samples\n",
    "\n",
    "from numpy.random import RandomState\n",
    "\n",
    "import torch\n",
    "import torch.nn as nn\n",
    "import torch.nn.functional as F\n",
    "from torch.autograd import Variable\n",
    "import numpy as np\n",
    "import copy\n",
    "import math\n",
    "\n",
    "import itertools\n",
    "from reversible.plot import create_bw_image\n",
    "import torch as th\n",
    "from braindecode.torch_ext.util import np_to_var, var_to_np\n",
    "from reversible.revnet import ResidualBlock, invert, SubsampleSplitter, ViewAs, ReversibleBlockOld\n",
    "from spectral_norm import spectral_norm\n",
    "from conv_spectral_norm import conv_spectral_norm\n",
    "\n",
    "def display_text(text, fontsize=18):\n",
    "    fig = plt.figure(figsize=(12,0.1))\n",
    "    plt.title(text, fontsize=fontsize)\n",
    "    plt.axis('off')\n",
    "    display(fig)\n",
    "    plt.close(fig)"
   ]
  },
  {
   "cell_type": "code",
   "execution_count": null,
   "metadata": {},
   "outputs": [],
   "source": [
    "two_d_samples = th.randn(200,2)\n",
    "\n",
    "plt.figure(figsize=(5,5))\n",
    "plt.plot(var_to_np(two_d_samples)[:,0],\n",
    "         var_to_np(two_d_samples)[:,1],\n",
    "         ls='', marker='o');\n",
    "\n",
    "one_d_samples = th.randn(200,1) * 1.5\n",
    "samples = th.cat((one_d_samples, th.zeros_like(one_d_samples)), dim=1)\n",
    "plt.plot(var_to_np(samples)[:,0],\n",
    "         var_to_np(samples)[:,1],\n",
    "         ls='', marker='o');"
   ]
  },
  {
   "cell_type": "code",
   "execution_count": null,
   "metadata": {},
   "outputs": [],
   "source": [
    "def rev_block(n_c, n_i_c):\n",
    "     return ReversibleBlockOld(\n",
    "        nn.Sequential(\n",
    "            nn.Linear(n_c // 2, n_i_c,),\n",
    "            nn.ReLU(),\n",
    "            nn.Linear(n_i_c, n_c // 2,)),\n",
    "        nn.Sequential(\n",
    "            nn.Linear(n_c // 2, n_i_c,),\n",
    "            nn.ReLU(),\n",
    "            nn.Linear(n_i_c, n_c // 2))\n",
    "    )"
   ]
  },
  {
   "cell_type": "code",
   "execution_count": null,
   "metadata": {},
   "outputs": [],
   "source": [
    "from reversible.util import set_random_seeds\n",
    "set_random_seeds(20190227, True)\n",
    "feature_model = nn.Sequential(\n",
    "    rev_block(2,200),\n",
    "    rev_block(2,200),\n",
    "    rev_block(2,200),\n",
    "    rev_block(2,200),\n",
    "    rev_block(2,200),\n",
    "    rev_block(2,200),\n",
    ")\n",
    "\n",
    "log_std = th.zeros(1, requires_grad=True)\n",
    "\n",
    "optim_model = th.optim.Adam(list(feature_model.parameters()) + [log_std],\n",
    "                          lr=1e-3)"
   ]
  },
  {
   "cell_type": "code",
   "execution_count": null,
   "metadata": {},
   "outputs": [],
   "source": [
    "n_epochs = 2000\n",
    "for i_epoch in range(n_epochs):\n",
    "    two_d_samples = th.randn(600,2) * 3\n",
    "\n",
    "    one_d_samples = th.randn(600,1) * th.exp(log_std)\n",
    "    samples = th.cat((one_d_samples, th.zeros_like(one_d_samples)), dim=1)\n",
    "    in_samples = invert(feature_model, samples)\n",
    "    sliced_loss = sliced_from_samples(two_d_samples, in_samples, 10, None)\n",
    "    optim_model.zero_grad()\n",
    "    sliced_loss.backward()\n",
    "    optim_model.step()\n",
    "    if i_epoch % (n_epochs // 20) == 0:\n",
    "        print(\"Sliced Loss {:.2f}\".format(sliced_loss.item()))\n",
    "        fig = plt.figure(figsize=(5,5))\n",
    "        plt.plot(var_to_np(two_d_samples)[:,0],\n",
    "                 var_to_np(two_d_samples)[:,1],\n",
    "                 ls='', marker='o');\n",
    "\n",
    "        plt.plot(var_to_np(in_samples)[:,0],\n",
    "                 var_to_np(in_samples)[:,1],\n",
    "                 ls='', marker='o');\n",
    "        display(fig)\n",
    "        plt.close(fig)"
   ]
  },
  {
   "cell_type": "code",
   "execution_count": null,
   "metadata": {},
   "outputs": [],
   "source": [
    "ot_euclidean_loss_for_samples(two_d_samples, one_d_samples)"
   ]
  },
  {
   "cell_type": "code",
   "execution_count": null,
   "metadata": {},
   "outputs": [],
   "source": [
    "ot_squared_l2_loss(two_d_samples, one_d_samples)"
   ]
  },
  {
   "cell_type": "code",
   "execution_count": null,
   "metadata": {},
   "outputs": [],
   "source": [
    "th.exp(log_std)"
   ]
  },
  {
   "cell_type": "code",
   "execution_count": null,
   "metadata": {
    "collapsed": true
   },
   "outputs": [],
   "source": [
    "import ot\n",
    "def ot_euclidean_loss_for_samples(samples_a, samples_b):\n",
    "    diffs = samples_a.unsqueeze(1) - samples_b.unsqueeze(0)\n",
    "    diffs = th.sqrt(th.clamp(th.sum(diffs * diffs, dim=2), min=1e-6))\n",
    "\n",
    "    transport_mat = ot.emd([], [], var_to_np(diffs))\n",
    "    # sometimes weird low values, try to prevent them\n",
    "    transport_mat = transport_mat * (transport_mat > (1.0/(diffs.numel())))\n",
    "\n",
    "    transport_mat = np_to_var(transport_mat, dtype=np.float32)\n",
    "    #diffs, transport_mat = ensure_on_same_device(diffs, transport_mat)\n",
    "    loss = th.sum(transport_mat * diffs)\n",
    "    return loss\n",
    "\n",
    "\n",
    "def ot_squared_l2_loss(samples_a, samples_b):\n",
    "    diffs = samples_a.unsqueeze(1) - samples_b.unsqueeze(0)\n",
    "    diffs = th.sum(diffs * diffs, dim=2)\n",
    "\n",
    "    transport_mat = ot.emd([], [], var_to_np(diffs))\n",
    "    # sometimes weird low values, try to prevent them\n",
    "    transport_mat = transport_mat * (transport_mat > (1.0/(diffs.numel())))\n",
    "\n",
    "    transport_mat = np_to_var(transport_mat, dtype=np.float32)\n",
    "    #diffs, transport_mat = ensure_on_same_device(diffs, transport_mat)\n",
    "    eps = 1e-8\n",
    "    loss = th.sqrt(th.sum(transport_mat * diffs) + eps)\n",
    "    return loss"
   ]
  },
  {
   "cell_type": "code",
   "execution_count": null,
   "metadata": {},
   "outputs": [],
   "source": [
    "from reversible.util import set_random_seeds\n",
    "set_random_seeds(20190227, True)\n",
    "feature_model = nn.Sequential(\n",
    "    rev_block(2,200),\n",
    "    rev_block(2,200),\n",
    "    rev_block(2,200),\n",
    "    rev_block(2,200),\n",
    "    rev_block(2,200),\n",
    "    rev_block(2,200),\n",
    ")\n",
    "\n",
    "log_std = th.zeros(1, requires_grad=True)\n",
    "\n",
    "optim_model = th.optim.Adam(list(feature_model.parameters()) + [log_std],\n",
    "                          lr=1e-3)"
   ]
  },
  {
   "cell_type": "code",
   "execution_count": null,
   "metadata": {},
   "outputs": [],
   "source": [
    "n_epochs = 2000\n",
    "for i_epoch in range(n_epochs):\n",
    "    two_d_samples = th.randn(200,2) * 3\n",
    "\n",
    "    one_d_samples = th.randn(600,1) * th.exp(log_std)\n",
    "    samples = th.cat((one_d_samples, th.zeros_like(one_d_samples)), dim=1)\n",
    "    in_samples = invert(feature_model, samples)\n",
    "    ot_loss = ot_squared_l2_loss(two_d_samples, one_d_samples)\n",
    "    optim_model.zero_grad()\n",
    "    ot_loss.backward()\n",
    "    optim_model.step()\n",
    "    if i_epoch % (n_epochs // 20) == 0:\n",
    "        print(\"OT Loss {:.2f}\".format(ot_loss.item()))\n",
    "        fig = plt.figure(figsize=(5,5))\n",
    "        plt.plot(var_to_np(two_d_samples)[:,0],\n",
    "                 var_to_np(two_d_samples)[:,1],\n",
    "                 ls='', marker='o');\n",
    "\n",
    "        plt.plot(var_to_np(in_samples)[:,0],\n",
    "                 var_to_np(in_samples)[:,1],\n",
    "                 ls='', marker='o');\n",
    "        display(fig)\n",
    "        plt.close(fig)"
   ]
  },
  {
   "cell_type": "code",
   "execution_count": null,
   "metadata": {},
   "outputs": [],
   "source": [
    "n_epochs = 2000\n",
    "for i_epoch in range(n_epochs):\n",
    "    two_d_samples = th.randn(200,2) * 3\n",
    "\n",
    "    one_d_samples = th.randn(600,1) * th.exp(log_std)\n",
    "    samples = th.cat((one_d_samples, th.zeros_like(one_d_samples)), dim=1)\n",
    "    in_samples = invert(feature_model, samples)\n",
    "    ot_loss = ot_euclidean_loss_for_samples(two_d_samples, one_d_samples)\n",
    "    optim_model.zero_grad()\n",
    "    ot_loss.backward()\n",
    "    optim_model.step()\n",
    "    if i_epoch % (n_epochs // 20) == 0:\n",
    "        print(\"OT Loss {:.2f}\".format(ot_loss.item()))\n",
    "        fig = plt.figure(figsize=(5,5))\n",
    "        plt.plot(var_to_np(two_d_samples)[:,0],\n",
    "                 var_to_np(two_d_samples)[:,1],\n",
    "                 ls='', marker='o');\n",
    "\n",
    "        plt.plot(var_to_np(in_samples)[:,0],\n",
    "                 var_to_np(in_samples)[:,1],\n",
    "                 ls='', marker='o');\n",
    "        display(fig)\n",
    "        plt.close(fig)"
   ]
  },
  {
   "cell_type": "code",
   "execution_count": null,
   "metadata": {},
   "outputs": [],
   "source": [
    "n_epochs = 2000\n",
    "for i_epoch in range(n_epochs):\n",
    "    two_d_samples = th.randn(600,2) * 3\n",
    "\n",
    "    one_d_samples = th.randn(600,1) * th.exp(log_std)\n",
    "    samples = th.cat((one_d_samples, th.zeros_like(one_d_samples)), dim=1)\n",
    "    in_samples = invert(feature_model, samples)\n",
    "    ot_loss = ot_euclidean_loss_for_samples(two_d_samples, one_d_samples)\n",
    "    optim_model.zero_grad()\n",
    "    ot_loss.backward()\n",
    "    optim_model.step()\n",
    "    if i_epoch % (n_epochs // 20) == 0:\n",
    "        print(\"OT Loss {:.2f}\".format(ot_loss.item()))\n",
    "        fig = plt.figure(figsize=(5,5))\n",
    "        plt.plot(var_to_np(two_d_samples)[:,0],\n",
    "                 var_to_np(two_d_samples)[:,1],\n",
    "                 ls='', marker='o');\n",
    "\n",
    "        plt.plot(var_to_np(in_samples)[:,0],\n",
    "                 var_to_np(in_samples)[:,1],\n",
    "                 ls='', marker='o');\n",
    "        display(fig)\n",
    "        plt.close(fig)"
   ]
  },
  {
   "cell_type": "code",
   "execution_count": null,
   "metadata": {
    "collapsed": true
   },
   "outputs": [],
   "source": []
  },
  {
   "cell_type": "code",
   "execution_count": null,
   "metadata": {
    "collapsed": true
   },
   "outputs": [],
   "source": []
  }
 ],
 "metadata": {
  "kernelspec": {
   "display_name": "Python 3",
   "language": "python",
   "name": "python3"
  },
  "language_info": {
   "codemirror_mode": {
    "name": "ipython",
    "version": 3
   },
   "file_extension": ".py",
   "mimetype": "text/x-python",
   "name": "python",
   "nbconvert_exporter": "python",
   "pygments_lexer": "ipython3",
   "version": "3.6.8"
  }
 },
 "nbformat": 4,
 "nbformat_minor": 2
}
