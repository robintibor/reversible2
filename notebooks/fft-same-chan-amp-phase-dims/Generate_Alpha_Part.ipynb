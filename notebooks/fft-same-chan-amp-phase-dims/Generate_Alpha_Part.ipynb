{
 "cells": [
  {
   "cell_type": "code",
   "execution_count": null,
   "metadata": {
    "collapsed": true
   },
   "outputs": [],
   "source": [
    "%%capture\n",
    "import os\n",
    "import site\n",
    "os.sys.path.insert(0, '/home/schirrmr/code/reversible/reversible2/')\n",
    "os.sys.path.insert(0, '/home/schirrmr/braindecode/code/braindecode/')\n",
    "os.sys.path.insert(0, '/home/schirrmr/code/explaining/reversible//')\n",
    "%cd /home/schirrmr/\n",
    "\n",
    "\n",
    "%load_ext autoreload\n",
    "%autoreload 2\n",
    "import numpy as np\n",
    "import logging\n",
    "log = logging.getLogger()\n",
    "log.setLevel('INFO')\n",
    "import sys\n",
    "logging.basicConfig(format='%(asctime)s %(levelname)s : %(message)s',\n",
    "                     level=logging.INFO, stream=sys.stdout)\n",
    "import matplotlib\n",
    "from matplotlib import pyplot as plt\n",
    "from matplotlib import cm\n",
    "%matplotlib inline\n",
    "%config InlineBackend.figure_format = 'png'\n",
    "matplotlib.rcParams['figure.figsize'] = (12.0, 1.0)\n",
    "matplotlib.rcParams['font.size'] = 14\n",
    "import seaborn\n",
    "seaborn.set_style('darkgrid')\n",
    "\n",
    "from reversible.sliced import sliced_from_samples\n",
    "\n",
    "from numpy.random import RandomState\n",
    "\n",
    "import torch\n",
    "import torch.nn as nn\n",
    "import torch.nn.functional as F\n",
    "from torch.autograd import Variable\n",
    "import numpy as np\n",
    "import copy\n",
    "import math\n",
    "\n",
    "import itertools\n",
    "from reversible.plot import create_bw_image\n",
    "import torch as th\n",
    "from braindecode.torch_ext.util import np_to_var, var_to_np\n",
    "from reversible.revnet import ResidualBlock, invert, SubsampleSplitter, ViewAs, ReversibleBlockOld\n",
    "from spectral_norm import spectral_norm\n",
    "from conv_spectral_norm import conv_spectral_norm\n",
    "\n",
    "def display_text(text, fontsize=18):\n",
    "    fig = plt.figure(figsize=(12,0.1))\n",
    "    plt.title(text, fontsize=fontsize)\n",
    "    plt.axis('off')\n",
    "    display(fig)\n",
    "    plt.close(fig)"
   ]
  },
  {
   "cell_type": "code",
   "execution_count": null,
   "metadata": {},
   "outputs": [],
   "source": [
    "from braindecode.datasets.bbci import BBCIDataset\n",
    "from braindecode.mne_ext.signalproc import mne_apply\n",
    "# we loaded all sensors to always get same cleaning results independent of sensor selection\n",
    "# There is an inbuilt heuristic that tries to use only EEG channels and that definitely\n",
    "# works for datasets in our paper\n",
    "#train_loader = BBCIDataset('/data/schirrmr/schirrmr/HGD-public/reduced/train/13.mat')\n",
    "#test_loader = BBCIDataset('/data/schirrmr/schirrmr/HGD-public/reduced/test/13.mat')\n",
    "start_cnt = BBCIDataset('/data/schirrmr/schirrmr/HGD-public/reduced/train/4.mat',).load()\n",
    "start_cnt = start_cnt.drop_channels(['STI 014'])\n",
    "def car(a):\n",
    "    return a - np.mean(a, keepdims=True, axis=0)\n",
    "\n",
    "start_cnt = mne_apply(\n",
    "    car, start_cnt)\n",
    "\n",
    "start_cnt = start_cnt.reorder_channels(['C3', 'C4'])"
   ]
  },
  {
   "cell_type": "code",
   "execution_count": null,
   "metadata": {
    "collapsed": true
   },
   "outputs": [],
   "source": [
    "from collections import OrderedDict\n",
    "from braindecode.datautil.trial_segment import create_signal_target_from_raw_mne\n",
    "\n",
    "marker_def = OrderedDict([('Right Hand', [1]), ('Left Hand', [2],),\n",
    "                         ('Rest', [3]), ('Feet', [4])])\n",
    "ival = [500,1500]\n",
    "from braindecode.mne_ext.signalproc import mne_apply, resample_cnt\n",
    "from braindecode.datautil.signalproc import exponential_running_standardize, bandpass_cnt\n",
    "\n",
    "log.info(\"Resampling train...\")\n",
    "cnt = resample_cnt(start_cnt, 250.0)\n",
    "log.info(\"Standardizing train...\")\n",
    "cnt = mne_apply(lambda a: exponential_running_standardize(a.T ,factor_new=1e-3, init_block_size=1000, eps=1e-4).T,\n",
    "                     cnt)\n",
    "cnt = resample_cnt(cnt, 32.0)\n",
    "cnt = resample_cnt(cnt, 64.0)\n",
    "#cnt = mne_apply(\n",
    "#    lambda a: bandpass_cnt(a, 0, 2, cnt.info['sfreq'],\n",
    "#                           filt_order=10,\n",
    "#                           axis=1), cnt)\n",
    "\n",
    "train_set = create_signal_target_from_raw_mne(cnt, marker_def, ival)"
   ]
  },
  {
   "cell_type": "code",
   "execution_count": null,
   "metadata": {
    "collapsed": true
   },
   "outputs": [],
   "source": [
    "x_right = train_set.X[train_set.y == 0]\n",
    "\n",
    "x_rest = train_set.X[train_set.y == 2]\n",
    "\n",
    "inputs_a = np_to_var(x_right[:160,0:1,:,None], dtype=np.float32)\n",
    "\n",
    "inputs_b = np_to_var(x_rest[:160,0:1,:,None], dtype=np.float32)\n",
    "inputs = [inputs_a, inputs_b]"
   ]
  },
  {
   "cell_type": "code",
   "execution_count": null,
   "metadata": {
    "collapsed": true
   },
   "outputs": [],
   "source": [
    "cnt_bandpassed =  mne_apply(\n",
    "    lambda a: bandpass_cnt(a, 8, 13, cnt.info['sfreq'],\n",
    "                           filt_order=10,\n",
    "                           axis=1), cnt)"
   ]
  },
  {
   "cell_type": "code",
   "execution_count": null,
   "metadata": {
    "collapsed": true
   },
   "outputs": [],
   "source": [
    "alpha_set = create_signal_target_from_raw_mne(cnt_bandpassed, marker_def, ival)\n",
    "x_alpha_right = alpha_set.X[alpha_set.y == 0]\n",
    "\n",
    "x_alpha_rest = alpha_set.X[alpha_set.y == 2]\n",
    "\n",
    "alpha_a = np_to_var(x_alpha_right[:160,0:1,:,None], dtype=np.float32)\n",
    "\n",
    "alpha_b = np_to_var(x_alpha_rest[:160,0:1,:,None], dtype=np.float32)\n",
    "inputs_alpha = [alpha_a, alpha_b]"
   ]
  },
  {
   "cell_type": "code",
   "execution_count": null,
   "metadata": {},
   "outputs": [],
   "source": [
    "fig, axes = plt.subplots(80,4, figsize=(14,80), sharex=True, sharey=True)\n",
    "for i_class in range(len(inputs)):\n",
    "    for i_example in range(len(inputs_alpha[i_class])):\n",
    "        i_row = i_example // 2\n",
    "        i_col = i_example % 2\n",
    "        i_col += i_class * 2\n",
    "        axes[i_row][i_col].plot(var_to_np(inputs_alpha[i_class][i_example]).squeeze(),\n",
    "                               color=seaborn.color_palette()[i_class])\n",
    "fig.suptitle('Input signals', y=0.9)\n",
    "\n",
    "from matplotlib.lines import Line2D\n",
    "lines = [Line2D([0], [0], color=seaborn.color_palette()[i_class],) for i_class in range(2)]\n",
    "labels = ['Right', 'Rest',]\n",
    "axes[0][-1].legend(lines, labels, bbox_to_anchor=(1,1,0,0))"
   ]
  },
  {
   "cell_type": "code",
   "execution_count": null,
   "metadata": {
    "collapsed": true
   },
   "outputs": [],
   "source": [
    "bps = np.abs(np.fft.rfft(cnt_bandpassed.get_data()[0,8000:]))"
   ]
  },
  {
   "cell_type": "code",
   "execution_count": null,
   "metadata": {},
   "outputs": [],
   "source": [
    "freqs = np.fft.rfftfreq(n=cnt_bandpassed.get_data()[0,8000:].shape[0], d=1/64.0)\n",
    "plt.plot(freqs, bps)\n",
    "print(freqs[np.argsort(bps)[-1]])"
   ]
  },
  {
   "cell_type": "code",
   "execution_count": null,
   "metadata": {},
   "outputs": [],
   "source": [
    "plt.plot(np.mean(var_to_np(inputs_alpha[0]), axis=0).squeeze())\n",
    "plt.plot(np.mean(var_to_np(inputs_alpha[1]), axis=0).squeeze())\n",
    "plt.plot(np.sin(np.linspace(0,11*2*np.pi,64)) * 0.1)"
   ]
  },
  {
   "cell_type": "code",
   "execution_count": null,
   "metadata": {
    "collapsed": true
   },
   "outputs": [],
   "source": [
    "freq = th.ones(1, requires_grad=True)\n",
    "freq.data[:] = 11\n",
    "\n",
    "#th.sin(th.linspace(0,2*np.pi*freq))"
   ]
  },
  {
   "cell_type": "code",
   "execution_count": null,
   "metadata": {},
   "outputs": [],
   "source": [
    "phase = th.rand(1) * 2*np.pi\n",
    "\n",
    "step = 64 / (2*np.pi * freq)\n",
    "\n",
    "template = th.sin(th.linspace(0,63,64) * step + phase)\n",
    "\n",
    "timecourse = nn.functional.avg_pool1d(th.rand(64).unsqueeze(0).unsqueeze(0) * 2,9,stride=1,padding=4\n",
    "                             ).squeeze()\n",
    "\n",
    "plt.plot(var_to_np(timecourse))\n",
    "plt.plot(var_to_np(timecourse * template))"
   ]
  },
  {
   "cell_type": "code",
   "execution_count": null,
   "metadata": {
    "collapsed": true
   },
   "outputs": [],
   "source": [
    "def rev_block(n_c, n_i_c):\n",
    "     return ReversibleBlockOld(\n",
    "        nn.Sequential(\n",
    "        nn.Conv2d(n_c // 2, n_i_c,(3,1), stride=1, padding=(1,0),bias=True),\n",
    "        nn.ReLU(),\n",
    "            nn.Conv2d(n_i_c, n_c // 2,(3,1), stride=1, padding=(1,0),bias=True)),\n",
    "         \n",
    "        nn.Sequential(\n",
    "        nn.Conv2d(n_c // 2, n_i_c,(3,1), stride=1, padding=(1,0),bias=True),\n",
    "        nn.ReLU(),\n",
    "            nn.Conv2d(n_i_c, n_c // 2,(3,1), stride=1, padding=(1,0),bias=True))\n",
    "    )\n",
    "    "
   ]
  },
  {
   "cell_type": "code",
   "execution_count": null,
   "metadata": {
    "collapsed": true
   },
   "outputs": [],
   "source": [
    "from reversible.util import set_random_seeds\n",
    "set_random_seeds(2019011641, True)\n",
    "feature_model = nn.Sequential(\n",
    "    rev_block(8,32),\n",
    "    rev_block(8,32),\n",
    "    SubsampleSplitter(stride=[2,1],chunk_chans_first=True), # 16 x 4\n",
    "    rev_block(16,32),\n",
    "    rev_block(16,32),\n",
    "    SubsampleSplitter(stride=[2,1],chunk_chans_first=True), # 32 x 2\n",
    "    rev_block(32,32),\n",
    "    rev_block(32,32),\n",
    "    SubsampleSplitter(stride=[2,1],chunk_chans_first=True), # 64 x 1\n",
    "    rev_block(64,64),\n",
    "    rev_block(64,64),\n",
    "    ViewAs((-1,64,1,1), (-1,64)),\n",
    ")\n",
    "\n",
    "n_clusters = len(inputs)\n",
    "n_dims = inputs[0].shape[2]\n",
    "means_per_cluster = [th.autograd.Variable(th.ones(n_dims), requires_grad=True)\n",
    "                     for _ in range(n_clusters)]\n",
    "\n",
    "amp_mean = th.autograd.Variable(th.ones(1), requires_grad=True)\n",
    "log_amp_std = th.autograd.Variable(th.zeros(1), requires_grad=True)\n",
    "\n",
    "# keep in mind this is in log domain so 0 is std 1\n",
    "stds_per_cluster = [th.autograd.Variable(th.zeros(n_dims), requires_grad=True)\n",
    "                    for _ in range(n_clusters)]\n",
    "freq = th.ones(1, requires_grad=True)\n",
    "freq.data[:] = 11\n",
    "\n",
    "\n",
    "\n",
    "from copy import deepcopy\n",
    "optimizer = th.optim.Adam(\n",
    "                          [\n",
    "    {'params': list(feature_model.parameters()),\n",
    "    'lr': 1e-3,\n",
    "    'weight_decay': 0},], betas=(0,0.9))\n",
    "\n",
    "optim_dist = th.optim.Adam(\n",
    "                          [\n",
    "    {'params': means_per_cluster + stds_per_cluster + [freq, amp_mean, log_amp_std],\n",
    "    'lr': 1e-2,\n",
    "    'weight_decay': 0},], betas=(0,0.9))\n",
    "\n",
    "\n",
    "def w_init(m):\n",
    "    if hasattr(m, 'weight'):\n",
    "        nn.init.zeros_(m.weight)\n",
    "\n",
    "feature_model.apply(w_init);"
   ]
  },
  {
   "cell_type": "code",
   "execution_count": null,
   "metadata": {
    "collapsed": true
   },
   "outputs": [],
   "source": [
    "def create_in_samples(n_samples):\n",
    "    samples = get_gauss_samples(n_samples, mean, std, truncate_to=3)\n",
    "\n",
    "    phase = th.rand(n_samples) * 2 * np.pi\n",
    "\n",
    "    step = 64 / (2*np.pi * freq)\n",
    "\n",
    "    amps = get_gauss_samples(n_samples, amp_mean, th.exp(log_amp_std))\n",
    "    \n",
    "    inverted = invert(feature_model, samples)\n",
    "    mean_inverted = th.mean(inverted, dim=1, keepdim=True)\n",
    "    interpolated = nn.functional.interpolate(mean_inverted, size=(64,1), mode='bilinear', align_corners=False)\n",
    "    timecourses = interpolated.squeeze()\n",
    "    timecourses = th.sigmoid(timecourses)\n",
    "    timecourses = timecourses / th.mean(timecourses, dim=1, keepdim=True)\n",
    "    template = th.sin((th.linspace(0,63,64) * step).unsqueeze(0) + phase.unsqueeze(1))\n",
    "    examples = amps * template  * timecourses \n",
    "    return examples"
   ]
  },
  {
   "cell_type": "code",
   "execution_count": null,
   "metadata": {},
   "outputs": [],
   "source": [
    "from reversible.gaussian import get_gauss_samples\n",
    "\n",
    "n_epochs = 2500\n",
    "for i_epoch in range(n_epochs):\n",
    "    mean = means_per_cluster[0]\n",
    "    std = th.exp(stds_per_cluster[0])\n",
    "    n_samples = 640\n",
    "    examples = create_in_samples(n_samples)\n",
    "    sliced_loss = sliced_from_samples(inputs_alpha[0].squeeze(), examples, 20, None)\n",
    "\n",
    "    optimizer.zero_grad()\n",
    "    optim_dist.zero_grad()\n",
    "\n",
    "    sliced_loss.backward()\n",
    "\n",
    "    optimizer.step()\n",
    "    optim_dist.step()\n",
    "    if i_epoch % (n_epochs // 20) == 0:\n",
    "        print(\"Sliced: {:.2f}\".format(sliced_loss.item()))\n",
    "        print(\"Freq {:.2f}\".format(freq.item()))\n",
    "        print(\"Mean\", means_per_cluster[0])\n",
    "        print(\"Std\", std)\n",
    "        print(\"AmpMean\", amp_mean)\n",
    "        print(\"AmpStd\", th.exp(log_amp_std))\n",
    "        fig = plt.figure(figsize=(8,3))\n",
    "        plt.plot(var_to_np(std).squeeze())\n",
    "        plt.title(\"Standard deviations latent space\")\n",
    "        display(fig)\n",
    "        plt.close(fig)\n",
    "        fig = plt.figure(figsize=(8,3))\n",
    "        plt.plot(var_to_np(examples[:5]).T)\n",
    "        display(fig)\n",
    "        plt.close(fig)\n",
    "        \n",
    "        n_samples = 3200\n",
    "        in_samples = var_to_np(create_in_samples(n_samples)).squeeze()\n",
    "\n",
    "        this_ins = var_to_np(inputs_alpha[0].squeeze())\n",
    "\n",
    "        diffs = this_ins[:,None] - in_samples[None]\n",
    "\n",
    "        diffs = np.sqrt(np.sum(np.square(diffs), axis=-1))\n",
    "\n",
    "        import ot\n",
    "        coupling = ot.emd([],[], diffs)\n",
    "        mask = coupling > (1/(2*len(samples)))\n",
    "        assert np.sum(mask)  == len(samples)\n",
    "        argmaxes = np.argmax(mask, axis=0)\n",
    "\n",
    "\n",
    "        fig, axes = plt.subplots(10,4, figsize=(16,20), sharex=True, sharey=True)\n",
    "        for i_in, ax in enumerate(axes.flatten()):\n",
    "            i_samples = np.nonzero(argmaxes == i_in)\n",
    "            ax.plot(in_samples[i_samples].T, color=seaborn.color_palette()[0], lw=0.5)\n",
    "            ax.plot(this_ins[i_in], color='black')\n",
    "        display(fig)\n",
    "        plt.close(fig)"
   ]
  },
  {
   "cell_type": "code",
   "execution_count": null,
   "metadata": {
    "collapsed": true
   },
   "outputs": [],
   "source": [
    "# multi scale\n",
    "# as latent distribution: mean over all\n",
    "# mean over split // 2 \n",
    "# mean over split // 4\n",
    "# mean over split // 8\n",
    "# ...\n",
    "# for phase and amplitude\n"
   ]
  },
  {
   "cell_type": "code",
   "execution_count": null,
   "metadata": {
    "collapsed": true
   },
   "outputs": [],
   "source": [
    "mean = means_per_cluster[0]\n",
    "std = th.exp(stds_per_cluster[0])\n",
    "i_dims = np.argsort(var_to_np(std))[::-1][:2]"
   ]
  },
  {
   "cell_type": "code",
   "execution_count": null,
   "metadata": {
    "collapsed": true
   },
   "outputs": [],
   "source": [
    "def invert_samples(samples):\n",
    "    phase = th.zeros(1)\n",
    "    step = 64 / (2*np.pi * freq)\n",
    "    amps = amp_mean#get_gauss_samples(n_samples, amp_mean, th.exp(log_amp_std))\n",
    "    timecourses = invert_to_timecourse(samples)\n",
    "    template = th.sin((th.linspace(0,63,64) * step).unsqueeze(0) + phase.unsqueeze(1))\n",
    "    examples = amps * template  * timecourses \n",
    "    return examples\n",
    "\n",
    "def invert_to_timecourse(samples):\n",
    "    inverted = invert(feature_model, samples)\n",
    "    mean_inverted = th.mean(inverted, dim=1, keepdim=True)\n",
    "    interpolated = nn.functional.interpolate(mean_inverted, size=(64,1), mode='bilinear', align_corners=False)\n",
    "    timecourses = interpolated.squeeze(-1).squeeze(1)\n",
    "    timecourses = th.sigmoid(timecourses)\n",
    "    timecourses = timecourses / th.mean(timecourses, dim=1, keepdim=True)\n",
    "    return timecourses"
   ]
  },
  {
   "cell_type": "code",
   "execution_count": null,
   "metadata": {},
   "outputs": [],
   "source": [
    "n_f_vals = 15\n",
    "f_vals_0 = th.linspace((mean[i_dims[0]] - 1 * std[i_dims[0]]).item(),\n",
    "                       (mean[i_dims[0]] + 1 * std[i_dims[0]]).item(),\n",
    "                       n_f_vals)\n",
    "\n",
    "f_vals_1 = th.linspace((mean[i_dims[1]] - 1 * std[i_dims[1]]).item(),\n",
    "                       (mean[i_dims[1]] + 1 * std[i_dims[1]]).item(),\n",
    "                       n_f_vals)\n",
    "curves = np.zeros((n_f_vals, n_f_vals, 64))\n",
    "with th.no_grad():\n",
    "    for i_f_val_0, f_val_0 in enumerate(f_vals_0):\n",
    "        for i_f_val_1, f_val_1 in enumerate(f_vals_1):\n",
    "            this = mean.clone().detach()\n",
    "            this.data[i_dims[0]] = f_val_0\n",
    "            this.data[i_dims[1]] = f_val_1\n",
    "            inverted = invert_to_timecourse(this.unsqueeze(0))\n",
    "            curves[i_f_val_0, i_f_val_1] = var_to_np(inverted).squeeze()\n",
    "fig, axes = plt.subplots(n_f_vals, n_f_vals,figsize=(18,18), sharex=True, sharey=True)\n",
    "for i_row, i_col in itertools.product(range(n_f_vals), range(n_f_vals)):\n",
    "    axes[i_row, i_col].plot(curves[i_row, i_col])\n",
    "display(fig)\n",
    "plt.close(fig)"
   ]
  },
  {
   "cell_type": "code",
   "execution_count": null,
   "metadata": {
    "collapsed": true
   },
   "outputs": [],
   "source": []
  },
  {
   "cell_type": "code",
   "execution_count": null,
   "metadata": {},
   "outputs": [],
   "source": [
    "curves = np.zeros((n_f_vals, n_f_vals, 64))\n",
    "with th.no_grad():\n",
    "    for i_f_val_0, f_val_0 in enumerate(f_vals_0):\n",
    "        for i_f_val_1, f_val_1 in enumerate(f_vals_1):\n",
    "            this = mean.clone().detach()\n",
    "            this.data[i_dims[0]] = f_val_0\n",
    "            this.data[i_dims[1]] = f_val_1\n",
    "            inverted = invert_samples(this.unsqueeze(0))\n",
    "            curves[i_f_val_0, i_f_val_1] = var_to_np(inverted).squeeze()\n",
    "fig, axes = plt.subplots(n_f_vals, n_f_vals,figsize=(14,14), sharex=True, sharey=True)\n",
    "for i_row, i_col in itertools.product(range(n_f_vals), range(n_f_vals)):\n",
    "    axes[i_row, i_col].plot(curves[i_row, i_col])\n",
    "display(fig)\n",
    "plt.close(fig)"
   ]
  },
  {
   "cell_type": "code",
   "execution_count": null,
   "metadata": {},
   "outputs": [],
   "source": [
    "import itertools\n",
    "list(itertools.product(range(3), range(3)))"
   ]
  },
  {
   "cell_type": "code",
   "execution_count": null,
   "metadata": {
    "collapsed": true
   },
   "outputs": [],
   "source": []
  },
  {
   "cell_type": "code",
   "execution_count": null,
   "metadata": {},
   "outputs": [],
   "source": []
  },
  {
   "cell_type": "code",
   "execution_count": null,
   "metadata": {
    "collapsed": true
   },
   "outputs": [],
   "source": []
  },
  {
   "cell_type": "code",
   "execution_count": null,
   "metadata": {
    "collapsed": true
   },
   "outputs": [],
   "source": []
  },
  {
   "cell_type": "code",
   "execution_count": null,
   "metadata": {
    "collapsed": true
   },
   "outputs": [],
   "source": [
    "f_vals_"
   ]
  },
  {
   "cell_type": "code",
   "execution_count": null,
   "metadata": {
    "collapsed": true
   },
   "outputs": [],
   "source": [
    "f_vals_0"
   ]
  },
  {
   "cell_type": "code",
   "execution_count": null,
   "metadata": {},
   "outputs": [],
   "source": [
    "in_samples.shape"
   ]
  },
  {
   "cell_type": "code",
   "execution_count": null,
   "metadata": {},
   "outputs": [],
   "source": [
    "plt.plot(np.mean(np.abs(np.fft.rfft(var_to_np(inputs_alpha[1]).squeeze())), axis=0))"
   ]
  },
  {
   "cell_type": "code",
   "execution_count": null,
   "metadata": {
    "collapsed": true
   },
   "outputs": [],
   "source": []
  }
 ],
 "metadata": {
  "kernelspec": {
   "display_name": "Python 3",
   "language": "python",
   "name": "python3"
  },
  "language_info": {
   "codemirror_mode": {
    "name": "ipython",
    "version": 3
   },
   "file_extension": ".py",
   "mimetype": "text/x-python",
   "name": "python",
   "nbconvert_exporter": "python",
   "pygments_lexer": "ipython3",
   "version": "3.6.8"
  }
 },
 "nbformat": 4,
 "nbformat_minor": 2
}
