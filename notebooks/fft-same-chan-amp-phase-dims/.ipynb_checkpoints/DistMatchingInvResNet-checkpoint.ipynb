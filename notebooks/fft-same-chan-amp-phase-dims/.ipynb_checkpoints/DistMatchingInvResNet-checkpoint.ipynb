{
 "cells": [
  {
   "cell_type": "code",
   "execution_count": null,
   "metadata": {
    "collapsed": true
   },
   "outputs": [],
   "source": [
    "%%capture\n",
    "import os\n",
    "import site\n",
    "os.sys.path.insert(0, '/home/schirrmr/code/reversible/reversible2/')\n",
    "os.sys.path.insert(0, '/home/schirrmr/braindecode/code/braindecode/')\n",
    "os.sys.path.insert(0, '/home/schirrmr/code/explaining/reversible//')\n",
    "%cd /home/schirrmr/\n",
    "\n",
    "\n",
    "%load_ext autoreload\n",
    "%autoreload 2\n",
    "import numpy as np\n",
    "import logging\n",
    "log = logging.getLogger()\n",
    "log.setLevel('INFO')\n",
    "import sys\n",
    "logging.basicConfig(format='%(asctime)s %(levelname)s : %(message)s',\n",
    "                     level=logging.INFO, stream=sys.stdout)\n",
    "import matplotlib\n",
    "from matplotlib import pyplot as plt\n",
    "from matplotlib import cm\n",
    "%matplotlib inline\n",
    "%config InlineBackend.figure_format = 'png'\n",
    "matplotlib.rcParams['figure.figsize'] = (12.0, 1.0)\n",
    "matplotlib.rcParams['font.size'] = 14\n",
    "import seaborn\n",
    "seaborn.set_style('darkgrid')\n",
    "\n",
    "from reversible.sliced import sliced_from_samples\n",
    "\n",
    "from numpy.random import RandomState\n",
    "\n",
    "import torch\n",
    "import torch.nn as nn\n",
    "import torch.nn.functional as F\n",
    "from torch.autograd import Variable\n",
    "import numpy as np\n",
    "import copy\n",
    "import math\n",
    "\n",
    "import itertools\n",
    "from reversible.plot import create_bw_image\n",
    "import torch as th\n",
    "from braindecode.torch_ext.util import np_to_var, var_to_np\n",
    "from reversible.revnet import ResidualBlock, invert, SubsampleSplitter, ViewAs, ReversibleBlockOld\n",
    "from spectral_norm import spectral_norm\n",
    "from conv_spectral_norm import conv_spectral_norm\n",
    "\n",
    "def display_text(text, fontsize=18):\n",
    "    fig = plt.figure(figsize=(12,0.1))\n",
    "    plt.title(text, fontsize=fontsize)\n",
    "    plt.axis('off')\n",
    "    display(fig)\n",
    "    plt.close(fig)"
   ]
  },
  {
   "cell_type": "code",
   "execution_count": null,
   "metadata": {},
   "outputs": [],
   "source": [
    "from braindecode.datasets.bbci import BBCIDataset\n",
    "from braindecode.mne_ext.signalproc import mne_apply\n",
    "# we loaded all sensors to always get same cleaning results independent of sensor selection\n",
    "# There is an inbuilt heuristic that tries to use only EEG channels and that definitely\n",
    "# works for datasets in our paper\n",
    "#train_loader = BBCIDataset('/data/schirrmr/schirrmr/HGD-public/reduced/train/13.mat')\n",
    "#test_loader = BBCIDataset('/data/schirrmr/schirrmr/HGD-public/reduced/test/13.mat')\n",
    "start_cnt = BBCIDataset('/data/schirrmr/schirrmr/HGD-public/reduced/train/4.mat',).load()\n",
    "start_cnt = start_cnt.drop_channels(['STI 014'])\n",
    "def car(a):\n",
    "    return a - np.mean(a, keepdims=True, axis=0)\n",
    "\n",
    "start_cnt = mne_apply(\n",
    "    car, start_cnt)\n",
    "\n",
    "start_cnt = start_cnt.reorder_channels(['C3', 'C4'])"
   ]
  },
  {
   "cell_type": "code",
   "execution_count": null,
   "metadata": {
    "collapsed": true
   },
   "outputs": [],
   "source": [
    "from collections import OrderedDict\n",
    "from braindecode.datautil.trial_segment import create_signal_target_from_raw_mne\n",
    "\n",
    "marker_def = OrderedDict([('Right Hand', [1]), ('Left Hand', [2],),\n",
    "                         ('Rest', [3]), ('Feet', [4])])\n",
    "ival = [500,1500]\n",
    "from braindecode.mne_ext.signalproc import mne_apply, resample_cnt\n",
    "from braindecode.datautil.signalproc import exponential_running_standardize, bandpass_cnt\n",
    "\n",
    "log.info(\"Resampling train...\")\n",
    "cnt = resample_cnt(start_cnt, 250.0)\n",
    "log.info(\"Standardizing train...\")\n",
    "cnt = mne_apply(lambda a: exponential_running_standardize(a.T ,factor_new=1e-3, init_block_size=1000, eps=1e-4).T,\n",
    "                     cnt)\n",
    "cnt = resample_cnt(cnt, 32.0)\n",
    "cnt = resample_cnt(cnt, 64.0)\n",
    "#cnt = mne_apply(\n",
    "#    lambda a: bandpass_cnt(a, 0, 2, cnt.info['sfreq'],\n",
    "#                           filt_order=10,\n",
    "#                           axis=1), cnt)\n",
    "\n",
    "train_set = create_signal_target_from_raw_mne(cnt, marker_def, ival)"
   ]
  },
  {
   "cell_type": "code",
   "execution_count": null,
   "metadata": {
    "collapsed": true
   },
   "outputs": [],
   "source": [
    "x_right = train_set.X[train_set.y == 0]\n",
    "\n",
    "x_rest = train_set.X[train_set.y == 2]\n",
    "\n",
    "inputs_a = np_to_var(x_right[:160,0:1,:,None], dtype=np.float32)\n",
    "\n",
    "inputs_b = np_to_var(x_rest[:160,0:1,:,None], dtype=np.float32)\n",
    "inputs = [inputs_a, inputs_b]"
   ]
  },
  {
   "cell_type": "code",
   "execution_count": null,
   "metadata": {},
   "outputs": [],
   "source": [
    "i_class = 1\n",
    "i_bp = 18\n",
    "ins = var_to_np(inputs[i_class].squeeze())\n",
    "bps = np.abs(np.fft.rfft(ins.squeeze()))\n",
    "angles = np.angle((np.fft.rfft(ins.squeeze())))\n",
    "fig = plt.figure(figsize=(8,4))\n",
    "seaborn.distplot(angles[:,i_bp] % (2*np.pi), color=seaborn.color_palette()[i_class], bins=80, rug=True)\n",
    "plt.title(\"Phase\")\n",
    "display(fig)\n",
    "plt.close(fig)"
   ]
  },
  {
   "cell_type": "markdown",
   "metadata": {},
   "source": [
    "## replicate old"
   ]
  },
  {
   "cell_type": "code",
   "execution_count": null,
   "metadata": {
    "collapsed": true
   },
   "outputs": [],
   "source": [
    "from spectral_norm import spectral_norm\n",
    "from reversible.util import set_random_seeds\n",
    "from reversible.uniform import get_uniform_samples"
   ]
  },
  {
   "cell_type": "code",
   "execution_count": null,
   "metadata": {},
   "outputs": [],
   "source": [
    "i_bp = 18\n",
    "points = np_to_var(angles[:,i_bp], dtype=np.float32)\n",
    "sorted_points = th.sort(points, dim=0)[0].detach()\n",
    "set_random_seeds(13123, False)\n",
    "dist_net = nn.Sequential(\n",
    "    spectral_norm(nn.Linear(1,200), to_norm=0.95),\n",
    "    nn.ReLU(),\n",
    "    spectral_norm(nn.Linear(200,1), to_norm=0.95))\n",
    "\n",
    "mean = th.zeros(1, requires_grad=True)\n",
    "log_std = th.zeros(1, requires_grad=True)\n",
    "optim = th.optim.Adam([mean,log_std] + list(dist_net.parameters()), lr=1e-1)\n",
    "\n",
    "n_epochs = 500\n",
    "for i_epoch in range(n_epochs):\n",
    "    std = th.exp(log_std)\n",
    "    samples = get_uniform_samples(len(angles) * 8, mean, std * 2 * np.pi)\n",
    "    transformed_samples = samples + dist_net(samples)\n",
    "    sorted_samples, _ = th.sort(transformed_samples, dim=0)\n",
    "\n",
    "    diffs = sorted_samples.reshape(len(points), -1) - sorted_points.unsqueeze(1)\n",
    "    loss = th.sqrt(th.mean(diffs * diffs))\n",
    "    optim.zero_grad()\n",
    "    loss.backward()\n",
    "    optim.step()\n",
    "    if i_epoch % (n_epochs // 20) == 0:\n",
    "        print(\"Loss: {:.2f}\".format(loss.item()))\n",
    "        fig = plt.figure(figsize=(8,4))\n",
    "\n",
    "        seaborn.distplot(var_to_np(sorted_points), color=seaborn.color_palette()[0], bins=80, rug=True)\n",
    "        seaborn.distplot(var_to_np(sorted_samples), color=seaborn.color_palette()[1], bins=80, rug=True)\n",
    "        display(fig)\n",
    "        plt.close(fig)\n",
    "        orig_sorted_samples = th.sort(samples, dim=0)[0]\n",
    "        transformed_samples = orig_sorted_samples + dist_net(orig_sorted_samples)\n",
    "        fig = plt.figure(figsize=(8,4))\n",
    "        plt.plot(var_to_np(orig_sorted_samples), var_to_np(transformed_samples))\n",
    "        display(fig)\n",
    "        plt.close(fig)"
   ]
  },
  {
   "cell_type": "markdown",
   "metadata": {},
   "source": [
    "## use two transformers after one another"
   ]
  },
  {
   "cell_type": "code",
   "execution_count": null,
   "metadata": {},
   "outputs": [],
   "source": [
    "i_bp = 18\n",
    "points = np_to_var(angles[:,i_bp], dtype=np.float32)\n",
    "sorted_points = th.sort(points, dim=0)[0].detach()\n",
    "set_random_seeds(13123, False)\n",
    "dist_net_a = nn.Sequential(\n",
    "    spectral_norm(nn.Linear(1,200), to_norm=0.95),\n",
    "    nn.ReLU(),\n",
    "    spectral_norm(nn.Linear(200,1), to_norm=0.95))\n",
    "\n",
    "dist_net_b = nn.Sequential(\n",
    "    spectral_norm(nn.Linear(1,200), to_norm=0.95),\n",
    "    nn.ReLU(),\n",
    "    spectral_norm(nn.Linear(200,1), to_norm=0.95))\n",
    "\n",
    "mean = th.zeros(1, requires_grad=True)\n",
    "log_std = th.zeros(1, requires_grad=True)\n",
    "optim = th.optim.Adam([mean,log_std] + list(dist_net_a.parameters()) + list(dist_net_b.parameters()), lr=1e-1)\n",
    "\n",
    "def transform(samples):\n",
    "    transformed_samples = samples + dist_net_a(samples)\n",
    "    transformed_samples = transformed_samples + dist_net_b(transformed_samples)\n",
    "    return transformed_samples\n",
    "\n",
    "n_epochs = 500\n",
    "for i_epoch in range(n_epochs):\n",
    "    std = th.exp(log_std)\n",
    "    samples = get_uniform_samples(len(angles) * 8, mean, std * 2 * np.pi)\n",
    "    transformed_samples = transform(samples)\n",
    "    sorted_samples, _ = th.sort(transformed_samples, dim=0)\n",
    "\n",
    "    diffs = sorted_samples.reshape(len(points), -1) - sorted_points.unsqueeze(1)\n",
    "    loss = th.sqrt(th.mean(diffs * diffs))\n",
    "    optim.zero_grad()\n",
    "    loss.backward()\n",
    "    optim.step()\n",
    "    if i_epoch % (n_epochs // 20) == 0:\n",
    "        print(\"Loss: {:.2f}\".format(loss.item()))\n",
    "        fig = plt.figure(figsize=(8,4))\n",
    "\n",
    "        seaborn.distplot(var_to_np(sorted_points), color=seaborn.color_palette()[0], bins=80, rug=True)\n",
    "        seaborn.distplot(var_to_np(sorted_samples), color=seaborn.color_palette()[1], bins=80, rug=True)\n",
    "        display(fig)\n",
    "        plt.close(fig)\n",
    "        orig_sorted_samples = th.sort(samples, dim=0)[0]\n",
    "        transformed_samples = transform(orig_sorted_samples)\n",
    "        fig = plt.figure(figsize=(8,4))\n",
    "        plt.plot(var_to_np(orig_sorted_samples), var_to_np(transformed_samples))\n",
    "        display(fig)\n",
    "        plt.close(fig)"
   ]
  },
  {
   "cell_type": "code",
   "execution_count": null,
   "metadata": {},
   "outputs": [],
   "source": [
    "n_epochs = 500\n",
    "for i_epoch in range(n_epochs):\n",
    "    std = th.exp(log_std)\n",
    "    samples = get_uniform_samples(len(angles) * 8, mean, std * 2 * np.pi)\n",
    "    transformed_samples = transform(samples)\n",
    "    sorted_samples, _ = th.sort(transformed_samples, dim=0)\n",
    "\n",
    "    diffs = sorted_samples.reshape(len(points), -1) - sorted_points.unsqueeze(1)\n",
    "    loss = th.sqrt(th.mean(diffs * diffs))\n",
    "    optim.zero_grad()\n",
    "    loss.backward()\n",
    "    optim.step()\n",
    "    if i_epoch % (n_epochs // 20) == 0:\n",
    "        print(\"Loss: {:.2f}\".format(loss.item()))\n",
    "        fig = plt.figure(figsize=(8,4))\n",
    "\n",
    "        seaborn.distplot(var_to_np(sorted_points), color=seaborn.color_palette()[0], bins=80, rug=True)\n",
    "        seaborn.distplot(var_to_np(sorted_samples), color=seaborn.color_palette()[1], bins=80, rug=True)\n",
    "        display(fig)\n",
    "        plt.close(fig)\n",
    "        orig_sorted_samples = th.sort(samples, dim=0)[0]\n",
    "        transformed_samples = transform(orig_sorted_samples)\n",
    "        fig = plt.figure(figsize=(8,4))\n",
    "        plt.plot(var_to_np(orig_sorted_samples), var_to_np(transformed_samples))\n",
    "        display(fig)\n",
    "        plt.close(fig)"
   ]
  },
  {
   "cell_type": "markdown",
   "metadata": {},
   "source": [
    "### for several dims later: with group conv"
   ]
  },
  {
   "cell_type": "code",
   "execution_count": null,
   "metadata": {
    "collapsed": true
   },
   "outputs": [],
   "source": [
    "# fuer mehrere dimensionen gleihczeitig:\n",
    "# maybe as a grouped convolution?"
   ]
  },
  {
   "cell_type": "code",
   "execution_count": null,
   "metadata": {
    "collapsed": true
   },
   "outputs": [],
   "source": [
    "# start with d dimensions\n",
    "# move up to dxf dimensions by using d * f (1x1) group convolutions\n",
    "# with d groups\n",
    "# "
   ]
  },
  {
   "cell_type": "code",
   "execution_count": null,
   "metadata": {
    "collapsed": true
   },
   "outputs": [],
   "source": [
    "from conv_spectral_norm import conv_spectral_norm\n",
    "a = th.randn(300,64)\n",
    "m1 = conv_spectral_norm(nn.Conv2d(64, 64*200, (1,1), groups=64), 1,1)\n",
    "m2 = conv_spectral_norm(nn.Conv2d(64*200,64,(1,1,), groups=64), 1,1)"
   ]
  },
  {
   "cell_type": "code",
   "execution_count": null,
   "metadata": {},
   "outputs": [],
   "source": [
    "print(m1.weight.shape)"
   ]
  },
  {
   "cell_type": "code",
   "execution_count": null,
   "metadata": {},
   "outputs": [],
   "source": [
    "out = m1(a.unsqueeze(-1).unsqueeze(-1))\n",
    "out = m2(out)"
   ]
  },
  {
   "cell_type": "code",
   "execution_count": null,
   "metadata": {},
   "outputs": [],
   "source": [
    "transform(samples).shape"
   ]
  },
  {
   "cell_type": "code",
   "execution_count": null,
   "metadata": {},
   "outputs": [],
   "source": [
    "i_bp = 18\n",
    "points = np_to_var(angles[:,i_bp], dtype=np.float32)\n",
    "sorted_points = th.sort(points, dim=0)[0].detach()\n",
    "set_random_seeds(13123, False)\n",
    "dist_net_a = nn.Sequential(\n",
    "    ViewAs((-1,1), (-1,1,1,1)),\n",
    "    conv_spectral_norm(nn.Conv2d(1, 1*200, (1,1), groups=1), 1,1, to_norm=0.95),\n",
    "    nn.ReLU(),\n",
    "    conv_spectral_norm(nn.Conv2d(1*200, 1, (1,1), groups=1), 1,1, to_norm=0.95),\n",
    "    ViewAs((-1,1,1,1), (-1,1)))\n",
    "\n",
    "dist_net_b = nn.Sequential(\n",
    "    ViewAs((-1,1), (-1,1,1,1)),\n",
    "    conv_spectral_norm(nn.Conv2d(1, 1*200, (1,1), groups=1), 1,1, to_norm=0.95),\n",
    "    nn.ReLU(),\n",
    "    conv_spectral_norm(nn.Conv2d(1*200, 1, (1,1), groups=1), 1,1, to_norm=0.95),\n",
    "    ViewAs((-1,1,1,1), (-1,1)))\n",
    "\n",
    "mean = th.zeros(1, requires_grad=True)\n",
    "log_std = th.zeros(1, requires_grad=True)\n",
    "optim = th.optim.Adam([mean,log_std] + list(dist_net_a.parameters()) + list(dist_net_b.parameters()), lr=1e-1)\n",
    "\n",
    "def transform(samples):\n",
    "    transformed_samples = samples + dist_net_a(samples)\n",
    "    transformed_samples = transformed_samples + dist_net_b(transformed_samples)\n",
    "    return transformed_samples\n",
    "\n",
    "n_epochs = 500\n",
    "for i_epoch in range(n_epochs):\n",
    "    std = th.exp(log_std)\n",
    "    samples = get_uniform_samples(len(angles) * 8, mean, std * 2 * np.pi)\n",
    "    transformed_samples = transform(samples)\n",
    "    sorted_samples, _ = th.sort(transformed_samples, dim=0)\n",
    "\n",
    "    diffs = sorted_samples.reshape(len(points), -1) - sorted_points.unsqueeze(1)\n",
    "    loss = th.sqrt(th.mean(diffs * diffs))\n",
    "    optim.zero_grad()\n",
    "    loss.backward()\n",
    "    optim.step()\n",
    "    if i_epoch % (n_epochs // 20) == 0:\n",
    "        print(\"Loss: {:.2f}\".format(loss.item()))\n",
    "        fig = plt.figure(figsize=(8,4))\n",
    "\n",
    "        seaborn.distplot(var_to_np(sorted_points), color=seaborn.color_palette()[0], bins=80, rug=True)\n",
    "        seaborn.distplot(var_to_np(sorted_samples), color=seaborn.color_palette()[1], bins=80, rug=True)\n",
    "        display(fig)\n",
    "        plt.close(fig)\n",
    "        orig_sorted_samples = th.sort(samples, dim=0)[0]\n",
    "        transformed_samples = transform(orig_sorted_samples)\n",
    "        fig = plt.figure(figsize=(8,4))\n",
    "        plt.plot(var_to_np(orig_sorted_samples), var_to_np(transformed_samples))\n",
    "        display(fig)\n",
    "        plt.close(fig)"
   ]
  },
  {
   "cell_type": "markdown",
   "metadata": {},
   "source": [
    "### multiple dims"
   ]
  },
  {
   "cell_type": "markdown",
   "metadata": {},
   "source": [
    "### BUG! forget to change groups to 2!"
   ]
  },
  {
   "cell_type": "code",
   "execution_count": null,
   "metadata": {},
   "outputs": [],
   "source": [
    "i_bp = 18\n",
    "points = np_to_var(angles[:,i_bp:i_bp+2], dtype=np.float32)\n",
    "sorted_points = th.sort(points, dim=0)[0].detach()\n",
    "set_random_seeds(13123, False)\n",
    "dist_net_a = nn.Sequential(\n",
    "    ViewAs((-1,2), (-1,2,1,1)),\n",
    "    conv_spectral_norm(nn.Conv2d(2, 2*200, (1,1), groups=1), 1,1, to_norm=0.95),\n",
    "    nn.ReLU(),\n",
    "    conv_spectral_norm(nn.Conv2d(2*200, 2, (1,1), groups=1), 1,1, to_norm=0.95),\n",
    "    ViewAs((-1,2,1,1), (-1,2)))\n",
    "\n",
    "dist_net_b = nn.Sequential(\n",
    "    ViewAs((-1,2), (-1,2,1,1)),\n",
    "    conv_spectral_norm(nn.Conv2d(2, 2*200, (1,1), groups=1), 1,1, to_norm=0.95),\n",
    "    nn.ReLU(),\n",
    "    conv_spectral_norm(nn.Conv2d(2*200, 2, (1,1), groups=1), 1,1, to_norm=0.95),\n",
    "    ViewAs((-1,2,1,1), (-1,2)))\n",
    "\n",
    "mean = th.zeros(2, requires_grad=True)\n",
    "log_std = th.zeros(2, requires_grad=True)\n",
    "optim = th.optim.Adam([mean,log_std] + list(dist_net_a.parameters()) + list(dist_net_b.parameters()), lr=1e-1)\n",
    "\n",
    "def transform(samples):\n",
    "    transformed_samples = samples + dist_net_a(samples)\n",
    "    transformed_samples = transformed_samples + dist_net_b(transformed_samples)\n",
    "    return transformed_samples\n",
    "\n",
    "n_epochs = 500\n",
    "for i_epoch in range(n_epochs):\n",
    "    std = th.exp(log_std)\n",
    "    samples = get_uniform_samples(len(angles) * 8, mean, std * 2 * np.pi)\n",
    "    transformed_samples = transform(samples)\n",
    "    sorted_samples, _ = th.sort(transformed_samples, dim=0)\n",
    "\n",
    "    diffs = sorted_samples.reshape(len(points),-1,2) - sorted_points.unsqueeze(1)\n",
    "    #sorted_samples.reshape(len(points), -1) - sorted_points.unsqueeze(1)\n",
    "    loss = th.sqrt(th.mean(diffs * diffs))\n",
    "    optim.zero_grad()\n",
    "    loss.backward()\n",
    "    optim.step()\n",
    "    if i_epoch % (n_epochs // 20) == 0:\n",
    "        print(\"Loss: {:.2f}\".format(loss.item()))\n",
    "        for i_dim in [0,1]:\n",
    "            fig = plt.figure(figsize=(8,4))\n",
    "            seaborn.distplot(var_to_np(sorted_points[:,i_dim]), color=seaborn.color_palette()[0], bins=80, rug=True)\n",
    "            seaborn.distplot(var_to_np(sorted_samples[:,i_dim]), color=seaborn.color_palette()[1], bins=80, rug=True)\n",
    "            display(fig)\n",
    "            plt.close(fig)\n",
    "            orig_sorted_samples = th.sort(samples, dim=0)[0]\n",
    "            transformed_samples = transform(orig_sorted_samples)\n",
    "            fig = plt.figure(figsize=(8,4))\n",
    "            plt.plot(var_to_np(orig_sorted_samples[:,i_dim]), var_to_np(transformed_samples[:,i_dim]))\n",
    "            display(fig)\n",
    "            plt.close(fig)"
   ]
  },
  {
   "cell_type": "code",
   "execution_count": null,
   "metadata": {
    "collapsed": true
   },
   "outputs": [],
   "source": [
    "samples = get_uniform_samples(len(angles) * 8, mean, std * 2 * np.pi)"
   ]
  },
  {
   "cell_type": "code",
   "execution_count": null,
   "metadata": {},
   "outputs": [],
   "source": [
    "sorted_samples.shape"
   ]
  },
  {
   "cell_type": "markdown",
   "metadata": {},
   "source": [
    "### now with class"
   ]
  },
  {
   "cell_type": "code",
   "execution_count": null,
   "metadata": {
    "collapsed": true
   },
   "outputs": [],
   "source": [
    "out = transform(samples)\n",
    "\n"
   ]
  },
  {
   "cell_type": "code",
   "execution_count": null,
   "metadata": {},
   "outputs": [],
   "source": [
    "inverted = dist_net.invert(out, fixed_point_steps=10)"
   ]
  },
  {
   "cell_type": "code",
   "execution_count": null,
   "metadata": {},
   "outputs": [],
   "source": [
    "samples - inverted"
   ]
  },
  {
   "cell_type": "code",
   "execution_count": null,
   "metadata": {},
   "outputs": [],
   "source": [
    "class DistTransformResNet(nn.Module):\n",
    "    def __init__(self, n_steps, n_features, n_units, ):\n",
    "        super(DistTransformResNet, self).__init__()\n",
    "        self.subnets = nn.Sequential()\n",
    "        for i_step in range(n_steps):\n",
    "            subnet = nn.Sequential(\n",
    "                ViewAs((-1,n_features), (-1,n_features,1,1)),\n",
    "                conv_spectral_norm(nn.Conv2d(n_features, n_features*n_units, (1,1), groups=n_features),\n",
    "                                   1,1, to_norm=0.9),\n",
    "                nn.ReLU(),\n",
    "                conv_spectral_norm(nn.Conv2d(n_features*n_units, n_features, (1,1), groups=n_features),\n",
    "                                   1,1, to_norm=0.9),\n",
    "                ViewAs((-1,n_features,1,1), (-1,n_features)))\n",
    "            self.subnets.add_module('sub_{:d}'.format(i_step), subnet)\n",
    "\n",
    "    def forward(self, x):\n",
    "        for subnet in self.subnets:\n",
    "            x = x + subnet(x)\n",
    "        return x\n",
    "    \n",
    "    def invert(self, out, fixed_point_steps=10):\n",
    "        x_guess = out\n",
    "        for subnet in self.subnets[::-1]:\n",
    "            # x = y - f(x)\n",
    "            with th.no_grad():\n",
    "                x_guess = out.detach()\n",
    "                for _ in range(fixed_point_steps):\n",
    "                    x_guess = out - subnet(x_guess)\n",
    "            # get some gradient\n",
    "            x_guess = out - subnet(x_guess)\n",
    "            out = x_guess\n",
    "        return out\n",
    "        "
   ]
  },
  {
   "cell_type": "code",
   "execution_count": null,
   "metadata": {
    "collapsed": true
   },
   "outputs": [],
   "source": [
    "from disttransform import DistTransformResNet"
   ]
  },
  {
   "cell_type": "code",
   "execution_count": null,
   "metadata": {},
   "outputs": [],
   "source": [
    "i_bp = 18\n",
    "points = np_to_var(angles[:,i_bp:i_bp+2], dtype=np.float32)\n",
    "sorted_points = th.sort(points, dim=0)[0].detach()\n",
    "set_random_seeds(13123, False)\n",
    "dist_net = DistTransformResNet(2,2,200)\n",
    "\n",
    "mean = th.zeros(2, requires_grad=True)\n",
    "log_std = th.zeros(2, requires_grad=True)\n",
    "optim = th.optim.Adam([mean,log_std] + list(dist_net.parameters()), lr=1e-1)\n",
    "\n",
    "def transform(samples):\n",
    "    return dist_net(samples)\n",
    "\n",
    "n_epochs = 500\n",
    "for i_epoch in range(n_epochs):\n",
    "    std = th.exp(log_std)\n",
    "    samples = get_uniform_samples(len(angles) * 8, mean, std * 2 * np.pi)\n",
    "    transformed_samples = transform(samples)\n",
    "    sorted_samples, _ = th.sort(transformed_samples, dim=0)\n",
    "\n",
    "    diffs = sorted_samples.reshape(len(points),-1,2) - sorted_points.unsqueeze(1)\n",
    "    loss = th.sqrt(th.mean(diffs * diffs))\n",
    "    optim.zero_grad()\n",
    "    loss.backward()\n",
    "    optim.step()\n",
    "    if i_epoch % (n_epochs // 20) == 0:\n",
    "        print(\"Loss: {:.2f}\".format(loss.item()))\n",
    "        for i_dim in [0,1]:\n",
    "            fig = plt.figure(figsize=(8,4))\n",
    "            seaborn.distplot(var_to_np(sorted_points[:,i_dim]), color=seaborn.color_palette()[0], bins=80, rug=True)\n",
    "            seaborn.distplot(var_to_np(sorted_samples[:,i_dim]), color=seaborn.color_palette()[1], bins=80, rug=True)\n",
    "            display(fig)\n",
    "            plt.close(fig)\n",
    "            orig_sorted_samples = th.sort(samples, dim=0)[0]\n",
    "            transformed_samples = transform(orig_sorted_samples)\n",
    "            fig = plt.figure(figsize=(8,4))\n",
    "            plt.plot(var_to_np(orig_sorted_samples[:,i_dim]), var_to_np(transformed_samples[:,i_dim]))\n",
    "            display(fig)\n",
    "            plt.close(fig)"
   ]
  },
  {
   "cell_type": "code",
   "execution_count": null,
   "metadata": {},
   "outputs": [],
   "source": [
    "n_epochs = 500\n",
    "for i_epoch in range(n_epochs):\n",
    "    std = th.exp(log_std)\n",
    "    samples = get_uniform_samples(len(angles) * 8, mean, std * 2 * np.pi)\n",
    "    transformed_samples = transform(samples)\n",
    "    sorted_samples, _ = th.sort(transformed_samples, dim=0)\n",
    "\n",
    "    diffs = sorted_samples.reshape(len(points),-1,2) - sorted_points.unsqueeze(1)\n",
    "    loss = th.sqrt(th.mean(diffs * diffs))\n",
    "    optim.zero_grad()\n",
    "    loss.backward()\n",
    "    optim.step()\n",
    "    if i_epoch % (n_epochs // 20) == 0:\n",
    "        print(\"Loss: {:.2f}\".format(loss.item()))\n",
    "        for i_dim in [0,1]:\n",
    "            fig = plt.figure(figsize=(8,4))\n",
    "            seaborn.distplot(var_to_np(sorted_points[:,i_dim]), color=seaborn.color_palette()[0], bins=80, rug=True)\n",
    "            seaborn.distplot(var_to_np(sorted_samples[:,i_dim]), color=seaborn.color_palette()[1], bins=80, rug=True)\n",
    "            display(fig)\n",
    "            plt.close(fig)\n",
    "            orig_sorted_samples = th.sort(samples, dim=0)[0]\n",
    "            transformed_samples = transform(orig_sorted_samples)\n",
    "            fig = plt.figure(figsize=(8,4))\n",
    "            plt.plot(var_to_np(orig_sorted_samples[:,i_dim]), var_to_np(transformed_samples[:,i_dim]))\n",
    "            display(fig)\n",
    "            plt.close(fig)"
   ]
  },
  {
   "cell_type": "code",
   "execution_count": null,
   "metadata": {},
   "outputs": [],
   "source": [
    "set_random_seeds(3434, False)\n",
    "log_delta_x = th.randn(10) * 0 - 1\n",
    "\n",
    "inducing_x = th.cumsum(th.exp(log_delta_x),dim=0)\n",
    "l_x = -th.mean(inducing_x)\n",
    "inducing_x = th.cat((th.ones_like(inducing_x[0:1]) * -300,\n",
    "                     inducing_x + l_x,\n",
    "                    th.ones_like(inducing_x[0:1])* 300) )\n",
    "\n",
    "logit_slopes = th.randn(11)\n",
    "slopes = th.tanh(logit_slopes)\n",
    "l_y = th.randn(1)\n",
    "diffs_x = inducing_x[1:] - inducing_x[:-1]\n",
    "inducing_y = th.cumsum(slopes * diffs_x, dim=0)\n",
    "inducing_y = th.cat((th.zeros_like(inducing_y[0:1]), inducing_y))\n",
    "inducing_y = inducing_y - inducing_y[1] + l_y\n"
   ]
  },
  {
   "cell_type": "code",
   "execution_count": null,
   "metadata": {},
   "outputs": [],
   "source": [
    "inducing_x"
   ]
  },
  {
   "cell_type": "code",
   "execution_count": null,
   "metadata": {},
   "outputs": [],
   "source": [
    "x = th.linspace(-10,10,100)"
   ]
  },
  {
   "cell_type": "code",
   "execution_count": null,
   "metadata": {},
   "outputs": [],
   "source": [
    "x_diffs = (x.unsqueeze(1) - inducing_x.unsqueeze(0))"
   ]
  },
  {
   "cell_type": "code",
   "execution_count": null,
   "metadata": {},
   "outputs": [],
   "source": [
    "mask = (x_diffs[:,:-1] > 0) & (x_diffs[:,1:] < 0)"
   ]
  },
  {
   "cell_type": "code",
   "execution_count": null,
   "metadata": {},
   "outputs": [],
   "source": []
  },
  {
   "cell_type": "code",
   "execution_count": null,
   "metadata": {},
   "outputs": [],
   "source": [
    "set_random_seeds(3434, False)\n",
    "samples = get_uniform_samples(len(angles) * 8, mean, std * 2 * np.pi)\n",
    "print(dist_net(samples))\n",
    "samples.data[:,1] += 0.1\n",
    "print(dist_net(samples))\n"
   ]
  },
  {
   "cell_type": "code",
   "execution_count": null,
   "metadata": {
    "collapsed": true
   },
   "outputs": [],
   "source": []
  }
 ],
 "metadata": {
  "kernelspec": {
   "display_name": "Python 3",
   "language": "python",
   "name": "python3"
  },
  "language_info": {
   "codemirror_mode": {
    "name": "ipython",
    "version": 3
   },
   "file_extension": ".py",
   "mimetype": "text/x-python",
   "name": "python",
   "nbconvert_exporter": "python",
   "pygments_lexer": "ipython3",
   "version": "3.6.8"
  }
 },
 "nbformat": 4,
 "nbformat_minor": 2
}
