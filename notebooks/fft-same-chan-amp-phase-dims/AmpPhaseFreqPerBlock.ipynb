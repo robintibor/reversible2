{
 "cells": [
  {
   "cell_type": "code",
   "execution_count": null,
   "metadata": {
    "collapsed": true
   },
   "outputs": [],
   "source": [
    "# creation: in each window, add a sine function of specified frequency and phase (fix frequency? or learn it?)\n",
    "\n",
    "# experiment: do uniform phase and steup sine as you expect it to be\n",
    "# for each example learn phase overall?\n",
    "# learn ConvRevNet to transform the stuff afterwards, see what it does (possibly demean and desquare data before per block or sth \n",
    "## or moving...)\n",
    "# also see if you learn phase per block\n",
    "\n"
   ]
  },
  {
   "cell_type": "code",
   "execution_count": null,
   "metadata": {
    "collapsed": true
   },
   "outputs": [],
   "source": [
    "%%capture\n",
    "import os\n",
    "import site\n",
    "os.sys.path.insert(0, '/home/schirrmr/code/reversible/reversible2/')\n",
    "os.sys.path.insert(0, '/home/schirrmr/braindecode/code/braindecode/')\n",
    "os.sys.path.insert(0, '/home/schirrmr/code/explaining/reversible//')\n",
    "%cd /home/schirrmr/\n",
    "\n",
    "\n",
    "%load_ext autoreload\n",
    "%autoreload 2\n",
    "import numpy as np\n",
    "import logging\n",
    "log = logging.getLogger()\n",
    "log.setLevel('INFO')\n",
    "import sys\n",
    "logging.basicConfig(format='%(asctime)s %(levelname)s : %(message)s',\n",
    "                     level=logging.INFO, stream=sys.stdout)\n",
    "import matplotlib\n",
    "from matplotlib import pyplot as plt\n",
    "from matplotlib import cm\n",
    "%matplotlib inline\n",
    "%config InlineBackend.figure_format = 'png'\n",
    "matplotlib.rcParams['figure.figsize'] = (12.0, 1.0)\n",
    "matplotlib.rcParams['font.size'] = 14\n",
    "from matplotlib import rcParams, cycler\n",
    "import seaborn\n",
    "seaborn.set_style('darkgrid')\n",
    "\n",
    "from reversible.sliced import sliced_from_samples\n",
    "\n",
    "from numpy.random import RandomState\n",
    "\n",
    "import torch\n",
    "import torch.nn as nn\n",
    "import torch.nn.functional as F\n",
    "from torch.autograd import Variable\n",
    "import numpy as np\n",
    "import copy\n",
    "import math\n",
    "\n",
    "import itertools\n",
    "from reversible.plot import create_bw_image\n",
    "import torch as th\n",
    "from braindecode.torch_ext.util import np_to_var, var_to_np\n",
    "from reversible.revnet import ResidualBlock, invert, SubsampleSplitter, ViewAs, ReversibleBlockOld\n",
    "from spectral_norm import spectral_norm\n",
    "from conv_spectral_norm import conv_spectral_norm\n",
    "\n",
    "def display_text(text, fontsize=18):\n",
    "    fig = plt.figure(figsize=(12,0.1))\n",
    "    plt.title(text, fontsize=fontsize)\n",
    "    plt.axis('off')\n",
    "    display(fig)\n",
    "    plt.close(fig)"
   ]
  },
  {
   "cell_type": "code",
   "execution_count": null,
   "metadata": {},
   "outputs": [],
   "source": [
    "from braindecode.datasets.bbci import BBCIDataset\n",
    "from braindecode.mne_ext.signalproc import mne_apply\n",
    "# we loaded all sensors to always get same cleaning results independent of sensor selection\n",
    "# There is an inbuilt heuristic that tries to use only EEG channels and that definitely\n",
    "# works for datasets in our paper\n",
    "#train_loader = BBCIDataset('/data/schirrmr/schirrmr/HGD-public/reduced/train/13.mat')\n",
    "#test_loader = BBCIDataset('/data/schirrmr/schirrmr/HGD-public/reduced/test/13.mat')\n",
    "start_cnt = BBCIDataset('/data/schirrmr/schirrmr/HGD-public/reduced/train/4.mat',).load()\n",
    "start_cnt = start_cnt.drop_channels(['STI 014'])\n",
    "def car(a):\n",
    "    return a - np.mean(a, keepdims=True, axis=0)\n",
    "\n",
    "start_cnt = mne_apply(\n",
    "    car, start_cnt)\n",
    "\n",
    "start_cnt = start_cnt.reorder_channels(['C3', 'C4'])"
   ]
  },
  {
   "cell_type": "code",
   "execution_count": null,
   "metadata": {
    "collapsed": true
   },
   "outputs": [],
   "source": [
    "from collections import OrderedDict\n",
    "from braindecode.datautil.trial_segment import create_signal_target_from_raw_mne\n",
    "\n",
    "marker_def = OrderedDict([('Right Hand', [1]), ('Left Hand', [2],),\n",
    "                         ('Rest', [3]), ('Feet', [4])])\n",
    "ival = [500,1500]\n",
    "from braindecode.mne_ext.signalproc import mne_apply, resample_cnt\n",
    "from braindecode.datautil.signalproc import exponential_running_standardize, bandpass_cnt\n",
    "\n",
    "log.info(\"Resampling train...\")\n",
    "cnt = resample_cnt(start_cnt, 250.0)\n",
    "log.info(\"Standardizing train...\")\n",
    "cnt = mne_apply(lambda a: exponential_running_standardize(a.T ,factor_new=1e-3, init_block_size=1000, eps=1e-4).T,\n",
    "                     cnt)\n",
    "cnt = resample_cnt(cnt, 32.0)\n",
    "cnt = resample_cnt(cnt, 64.0)\n",
    "#cnt = mne_apply(\n",
    "#    lambda a: bandpass_cnt(a, 0, 2, cnt.info['sfreq'],\n",
    "#                           filt_order=10,\n",
    "#                           axis=1), cnt)\n",
    "\n",
    "train_set = create_signal_target_from_raw_mne(cnt, marker_def, ival)\n",
    "cnt_bandpassed =  mne_apply(\n",
    "    lambda a: bandpass_cnt(a, 8, 13, cnt.info['sfreq'],\n",
    "                           filt_order=10,\n",
    "                           axis=1), cnt)\n",
    "alpha_set = create_signal_target_from_raw_mne(cnt_bandpassed, marker_def, ival)\n",
    "x_alpha_right = alpha_set.X[alpha_set.y == 0]\n",
    "\n",
    "x_alpha_rest = alpha_set.X[alpha_set.y == 2]\n",
    "\n",
    "alpha_a = np_to_var(x_alpha_right[:160,0:1,:,None], dtype=np.float32)\n",
    "\n",
    "alpha_b = np_to_var(x_alpha_rest[:160,0:1,:,None], dtype=np.float32)\n",
    "inputs_alpha = [alpha_a, alpha_b]\n"
   ]
  },
  {
   "cell_type": "code",
   "execution_count": null,
   "metadata": {},
   "outputs": [],
   "source": [
    "i_class = 0\n",
    "a_in = inputs_alpha[i_class][0]\n",
    "plt.plot(var_to_np(a_in).squeeze())"
   ]
  },
  {
   "cell_type": "code",
   "execution_count": null,
   "metadata": {},
   "outputs": [],
   "source": [
    "from reversible.util import set_random_seeds\n",
    "\n",
    "set_random_seeds(3, True)\n",
    "\n",
    "learned_phase = th.zeros(1,requires_grad=True)\n",
    "phases = th.ones(8) * learned_phase\n",
    "example = [th.sin(th.linspace(0,2*np.pi,9)[:8] + p) for p in phases]\n",
    "plt.plot(var_to_np(th.cat(example)))"
   ]
  },
  {
   "cell_type": "code",
   "execution_count": null,
   "metadata": {},
   "outputs": [],
   "source": [
    "optimizer = th.optim.Adam([learned_phase], lr=1e-2)#, coef_a, coef_b\n",
    "n_epochs = 1000\n",
    "for i_epoch in range(n_epochs):\n",
    "    phases = th.ones(8) * learned_phase\n",
    "    example = [th.sin(th.linspace(0,2*np.pi,9)[:8] + p) for p in phases]\n",
    "    loss = th.sqrt(th.sum((th.cat(example) - a_in.squeeze()) ** 2))\n",
    "    optimizer.zero_grad()\n",
    "    loss.backward()\n",
    "    optimizer.step()\n",
    "    if i_epoch % (n_epochs // 10) == 0:\n",
    "        print(\"Loss: {:.4f}\".format(loss.item()))\n",
    "        print(\"Phase: {:.2f}\".format(learned_phase.item()))\n",
    "        fig = plt.figure(figsize=(12,2))\n",
    "        plt.plot(var_to_np(a_in).squeeze())\n",
    "        plt.plot(var_to_np(th.cat(example)))\n",
    "        display(fig)\n",
    "        plt.close(fig)"
   ]
  },
  {
   "cell_type": "code",
   "execution_count": null,
   "metadata": {
    "collapsed": true
   },
   "outputs": [],
   "source": [
    "nn.functional.adaptive_avg_pool1d()"
   ]
  },
  {
   "cell_type": "code",
   "execution_count": null,
   "metadata": {},
   "outputs": [],
   "source": [
    "example = th.sin(th.linspace(0,2*np.pi,9)[:8]).repeat(8,1)\n",
    "plt.plot(var_to_np(example.view(-1)))"
   ]
  },
  {
   "cell_type": "markdown",
   "metadata": {},
   "source": [
    "### now with normed inputs"
   ]
  },
  {
   "cell_type": "code",
   "execution_count": null,
   "metadata": {
    "collapsed": true
   },
   "outputs": [],
   "source": [
    "in_squared = th.sqrt(nn.functional.avg_pool2d(inputs_alpha[i_class] ** 2,(7,1),stride=(1,1),padding=(3,0)) * 7)\n",
    "\n",
    "in_normed = inputs_alpha[i_class] / in_squared\n",
    "\n",
    "b_in = in_normed[0]"
   ]
  },
  {
   "cell_type": "code",
   "execution_count": null,
   "metadata": {},
   "outputs": [],
   "source": [
    "\n",
    "set_random_seeds(3, True)\n",
    "learned_phase = th.zeros(1,requires_grad=True)\n",
    "phases = th.ones(8) * learned_phase\n",
    "example = [th.sin(th.linspace(0,2*np.pi,9)[:8] + p) for p in phases]\n",
    "plt.plot(var_to_np(th.cat(example)))"
   ]
  },
  {
   "cell_type": "code",
   "execution_count": null,
   "metadata": {},
   "outputs": [],
   "source": [
    "optimizer = th.optim.Adam([learned_phase], lr=1e-2)#, coef_a, coef_b\n",
    "n_epochs = 1000\n",
    "for i_epoch in range(n_epochs):\n",
    "    phases = th.ones(8) * learned_phase\n",
    "    example = [th.sin(th.linspace(0,2*np.pi,9)[:8] + p) for p in phases]\n",
    "    loss = th.sqrt(th.sum((th.cat(example) - b_in.squeeze()) ** 2))\n",
    "    optimizer.zero_grad()\n",
    "    loss.backward()\n",
    "    optimizer.step()\n",
    "    if i_epoch % (n_epochs // 10) == 0:\n",
    "        print(\"Loss: {:.4f}\".format(loss.item()))\n",
    "        print(\"Phase: {:.2f}\".format(learned_phase.item()))\n",
    "        fig = plt.figure(figsize=(12,2))\n",
    "        plt.plot(var_to_np(b_in).squeeze())\n",
    "        plt.plot(var_to_np(th.cat(example)))\n",
    "        display(fig)\n",
    "        plt.close(fig)"
   ]
  },
  {
   "cell_type": "markdown",
   "metadata": {},
   "source": [
    "### learned phase per block"
   ]
  },
  {
   "cell_type": "code",
   "execution_count": null,
   "metadata": {},
   "outputs": [],
   "source": [
    "set_random_seeds(3, True)\n",
    "learned_phase = th.zeros(8,requires_grad=True)\n",
    "phases = learned_phase\n",
    "example = [th.sin(th.linspace(0,2*np.pi,9)[:8] + p) for p in phases]\n",
    "plt.plot(var_to_np(th.cat(example)))"
   ]
  },
  {
   "cell_type": "code",
   "execution_count": null,
   "metadata": {},
   "outputs": [],
   "source": [
    "optimizer = th.optim.Adam([learned_phase], lr=1e-2)#, coef_a, coef_b\n",
    "n_epochs = 1000\n",
    "for i_epoch in range(n_epochs):\n",
    "    phases = learned_phase\n",
    "    example = [th.sin(th.linspace(0,2*np.pi,9)[:8] + p) for p in phases]\n",
    "    loss = th.sqrt(th.sum((th.cat(example) - b_in.squeeze()) ** 2))\n",
    "    optimizer.zero_grad()\n",
    "    loss.backward()\n",
    "    optimizer.step()\n",
    "    if i_epoch % (n_epochs // 10) == 0:\n",
    "        print(\"Loss: {:.4f}\".format(loss.item()))\n",
    "        print(\"Phase: {:s}\".format(str(learned_phase)))\n",
    "        fig = plt.figure(figsize=(12,2))\n",
    "        plt.plot(var_to_np(b_in).squeeze())\n",
    "        plt.plot(var_to_np(th.cat(example)))\n",
    "        display(fig)\n",
    "        plt.close(fig)"
   ]
  },
  {
   "cell_type": "code",
   "execution_count": null,
   "metadata": {
    "collapsed": true
   },
   "outputs": [],
   "source": [
    "import scipy"
   ]
  },
  {
   "cell_type": "code",
   "execution_count": null,
   "metadata": {
    "collapsed": true
   },
   "outputs": [],
   "source": [
    "signal = var_to_np(a_in).squeeze()\n",
    "hilb = scipy.signal.hilbert(signal)"
   ]
  },
  {
   "cell_type": "code",
   "execution_count": null,
   "metadata": {},
   "outputs": [],
   "source": [
    "plt.plot(signal)\n",
    "plt.plot(np.real(hilb))\n",
    "plt.plot(np.imag(hilb))"
   ]
  },
  {
   "cell_type": "code",
   "execution_count": null,
   "metadata": {},
   "outputs": [],
   "source": [
    "signal = np.sin(np.linspace(0,64*np.pi,64))\n",
    "hilb = scipy.signal.hilbert(signal)\n",
    "plt.plot(signal)\n",
    "plt.plot(np.real(hilb))\n",
    "plt.plot(np.imag(hilb))"
   ]
  },
  {
   "cell_type": "markdown",
   "metadata": {},
   "source": [
    "## learned phase frequency and amplitude per block"
   ]
  },
  {
   "cell_type": "code",
   "execution_count": null,
   "metadata": {},
   "outputs": [],
   "source": [
    "set_random_seeds(3, True)\n",
    "learned_phases = th.zeros(8,requires_grad=True)\n",
    "learned_freqs =  th.ones(8,requires_grad=True)\n",
    "learned_freqs.data[:] = 2\n",
    "learned_amps =  th.ones(8,requires_grad=True)\n",
    "example = [th.sin(th.linspace(0,np.pi,9)[:8] * f + p) * a\n",
    "           for f,a,p in zip(learned_freqs, learned_amps, learned_phases)]\n",
    "plt.plot(var_to_np(th.cat(example)))"
   ]
  },
  {
   "cell_type": "code",
   "execution_count": null,
   "metadata": {},
   "outputs": [],
   "source": [
    "optimizer = th.optim.Adam([learned_freqs, learned_amps, learned_phases,], lr=1e-2)#, coef_a, coef_b\n",
    "n_epochs = 10000\n",
    "for i_epoch in range(n_epochs):\n",
    "    phases = learned_phase\n",
    "    example = [th.sin(th.linspace(0, np.pi,9)[:8] * f + p) * a\n",
    "               for f,a,p in zip(learned_freqs, learned_amps, learned_phases)]\n",
    "    loss = th.sqrt(th.sum((th.cat(example) - b_in.squeeze()) ** 2))\n",
    "    optimizer.zero_grad()\n",
    "    loss.backward()\n",
    "    optimizer.step()\n",
    "    if i_epoch % (n_epochs // 10) == 0:\n",
    "        print(\"Loss: {:.4f}\".format(loss.item()))\n",
    "        print(\"Phase: {:s}\".format(str(learned_phase)))\n",
    "        fig = plt.figure(figsize=(12,2))\n",
    "        plt.plot(var_to_np(b_in).squeeze())\n",
    "        plt.plot(var_to_np(th.cat(example)))\n",
    "        display(fig)\n",
    "        plt.close(fig)"
   ]
  },
  {
   "cell_type": "code",
   "execution_count": null,
   "metadata": {},
   "outputs": [],
   "source": [
    "th.mean(learned_freqs) * 4"
   ]
  },
  {
   "cell_type": "code",
   "execution_count": null,
   "metadata": {},
   "outputs": [],
   "source": [
    "np.mean([2.5973,  2.4428, 2.7306,  2.6816, 2.9168],)"
   ]
  },
  {
   "cell_type": "code",
   "execution_count": null,
   "metadata": {},
   "outputs": [],
   "source": [
    "(2.67 * 8) / 2"
   ]
  },
  {
   "cell_type": "code",
   "execution_count": null,
   "metadata": {},
   "outputs": [],
   "source": [
    "learned_freqs"
   ]
  },
  {
   "cell_type": "code",
   "execution_count": null,
   "metadata": {
    "collapsed": true
   },
   "outputs": [],
   "source": []
  },
  {
   "cell_type": "code",
   "execution_count": null,
   "metadata": {
    "collapsed": true
   },
   "outputs": [],
   "source": [
    "# What we want: model that can create repetitive patterns easily\n",
    "# We see that often it seems to not model it \"nicely\" onto a single dimension\n",
    "# Also not easy to interpret parts\n",
    "# \n",
    "\n",
    "# a) in each window, transform the pattern\n"
   ]
  },
  {
   "cell_type": "code",
   "execution_count": null,
   "metadata": {
    "collapsed": true
   },
   "outputs": [],
   "source": [
    "# creation: in each window, add a sine function of specified frequency and phase (fix frequency? or learn it?)\n",
    "\n",
    "# experiment: do uniform phase and steup sine as you expect it to be\n",
    "# for each example learn phase overall?\n",
    "# learn ConvRevNet to transform the stuff afterwards, see what it does (possibly demean and desquare data before per block or sth \n",
    "## or moving...)\n",
    "# also see if you learn phase per block\n",
    "\n"
   ]
  },
  {
   "cell_type": "code",
   "execution_count": null,
   "metadata": {
    "collapsed": true
   },
   "outputs": [],
   "source": []
  }
 ],
 "metadata": {
  "kernelspec": {
   "display_name": "Python 3",
   "language": "python",
   "name": "python3"
  },
  "language_info": {
   "codemirror_mode": {
    "name": "ipython",
    "version": 3
   },
   "file_extension": ".py",
   "mimetype": "text/x-python",
   "name": "python",
   "nbconvert_exporter": "python",
   "pygments_lexer": "ipython3",
   "version": "3.6.8"
  }
 },
 "nbformat": 4,
 "nbformat_minor": 2
}
