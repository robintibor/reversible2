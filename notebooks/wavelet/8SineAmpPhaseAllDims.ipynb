{
 "cells": [
  {
   "cell_type": "code",
   "execution_count": null,
   "metadata": {
    "collapsed": true
   },
   "outputs": [],
   "source": [
    "%%capture\n",
    "import os\n",
    "import site\n",
    "os.sys.path.insert(0, '/home/schirrmr/code/reversible/reversible2/')\n",
    "os.sys.path.insert(0, '/home/schirrmr/braindecode/code/braindecode/')\n",
    "os.sys.path.insert(0, '/home/schirrmr/code/explaining/reversible//')\n",
    "%cd /home/schirrmr/\n",
    "\n",
    "\n",
    "%load_ext autoreload\n",
    "%autoreload 2\n",
    "import numpy as np\n",
    "import logging\n",
    "log = logging.getLogger()\n",
    "log.setLevel('INFO')\n",
    "import sys\n",
    "logging.basicConfig(format='%(asctime)s %(levelname)s : %(message)s',\n",
    "                     level=logging.INFO, stream=sys.stdout)\n",
    "import matplotlib\n",
    "from matplotlib import pyplot as plt\n",
    "from matplotlib import cm\n",
    "%matplotlib inline\n",
    "%config InlineBackend.figure_format = 'png'\n",
    "matplotlib.rcParams['figure.figsize'] = (12.0, 1.0)\n",
    "matplotlib.rcParams['font.size'] = 14\n",
    "import seaborn\n",
    "seaborn.set_style('darkgrid')\n",
    "\n",
    "from reversible.sliced import sliced_from_samples\n",
    "\n",
    "from numpy.random import RandomState\n",
    "\n",
    "import torch\n",
    "import torch.nn as nn\n",
    "import torch.nn.functional as F\n",
    "from torch.autograd import Variable\n",
    "import numpy as np\n",
    "import copy\n",
    "import math\n",
    "\n",
    "import itertools\n",
    "from reversible.plot import create_bw_image\n",
    "import torch as th\n",
    "from braindecode.torch_ext.util import np_to_var, var_to_np\n",
    "from reversible.revnet import ResidualBlock, invert, SubsampleSplitter, ViewAs, ReversibleBlockOld\n",
    "from spectral_norm import spectral_norm\n",
    "from conv_spectral_norm import conv_spectral_norm\n",
    "\n",
    "def display_text(text, fontsize=18):\n",
    "    fig = plt.figure(figsize=(12,0.1))\n",
    "    plt.title(text, fontsize=fontsize)\n",
    "    plt.axis('off')\n",
    "    display(fig)\n",
    "    plt.close(fig)"
   ]
  },
  {
   "cell_type": "code",
   "execution_count": null,
   "metadata": {},
   "outputs": [],
   "source": [
    "rng = RandomState(39482014)\n",
    "plt.plot(np.sin(np.linspace(0, 2*np.pi, endpoint=False, num=8)))\n",
    "a = np.sin(np.linspace(0, 2*np.pi, endpoint=False, num=8))\n",
    "amps_a = np.abs(rng.randn(320) + 2)\n",
    "phases_a = rng.rand(320) * 2 * np.pi\n",
    "signals = np.array([amp * np.sin(np.linspace(0, 2*np.pi, endpoint=True, num=8) + phase) \n",
    "     for amp, phase in zip(amps_a, phases_a)])\n",
    "plt.figure()\n",
    "plt.plot(signals[:10].squeeze().T)\n",
    "inputs = [np_to_var(signals[:,None,:,None], dtype=np.float32).cuda()]"
   ]
  },
  {
   "cell_type": "code",
   "execution_count": null,
   "metadata": {},
   "outputs": [],
   "source": [
    "from matplotlib.lines import Line2D\n",
    "plt.figure(figsize=(10,6))\n",
    "for i_class in range(len(inputs)):\n",
    "    plt.plot(var_to_np(inputs[i_class].squeeze()).T, color=seaborn.color_palette()[i_class],lw=0.5);\n",
    "lines = [Line2D([0], [0], color=seaborn.color_palette()[i_class],) for i_class in range(2)]\n",
    "plt.legend(lines, ['Right', 'Rest',], bbox_to_anchor=(1,1,0,0))\n",
    "plt.title('Input signals')"
   ]
  },
  {
   "cell_type": "code",
   "execution_count": null,
   "metadata": {
    "collapsed": true
   },
   "outputs": [],
   "source": [
    "def rev_block(n_c, n_i_c):\n",
    "     return ReversibleBlockOld(\n",
    "        nn.Sequential(\n",
    "        nn.Conv2d(n_c // 2, n_i_c,(3,1), stride=1, padding=(1,0),bias=True),\n",
    "        nn.ReLU(),\n",
    "            nn.Conv2d(n_i_c, n_c // 2,(3,1), stride=1, padding=(1,0),bias=True)),\n",
    "         \n",
    "        nn.Sequential(\n",
    "        nn.Conv2d(n_c // 2, n_i_c,(3,1), stride=1, padding=(1,0),bias=True),\n",
    "        nn.ReLU(),\n",
    "            nn.Conv2d(n_i_c, n_c // 2,(3,1), stride=1, padding=(1,0),bias=True))\n",
    "    )\n",
    "    \n",
    "def res_block(n_c, n_i_c):\n",
    "     return ResidualBlock(\n",
    "        nn.Sequential(\n",
    "        nn.Conv2d(n_c, n_i_c, (3,1), stride=1, padding=(1,0),bias=True),\n",
    "        nn.ReLU(),\n",
    "            nn.Conv2d(n_i_c, n_c, (3,1), stride=1, padding=(1,0),bias=True)),\n",
    "    )"
   ]
  },
  {
   "cell_type": "code",
   "execution_count": null,
   "metadata": {
    "collapsed": true
   },
   "outputs": [],
   "source": [
    "from discriminator import ProjectionDiscriminator\n",
    "from reversible.revnet import SubsampleSplitter, ViewAs\n",
    "from reversible.util import set_random_seeds\n",
    "from reversible.revnet import init_model_params\n",
    "from torch.nn import ConstantPad2d\n",
    "import torch as th\n",
    "from conv_spectral_norm import conv_spectral_norm\n",
    "from disttransform import DSFTransform\n",
    "from ampphase import outs_to_amp_phase\n",
    "\n",
    "\n",
    "set_random_seeds(2019011641, True)\n",
    "feature_model = nn.Sequential(\n",
    "    SubsampleSplitter(stride=[2,1],chunk_chans_first=False),\n",
    "    rev_block(2,32),\n",
    "    rev_block(2,32),\n",
    "    SubsampleSplitter(stride=[2,1],chunk_chans_first=True),\n",
    "    rev_block(4,32),\n",
    "    rev_block(4,32),\n",
    "    SubsampleSplitter(stride=[2,1],chunk_chans_first=True),\n",
    "    rev_block(8,32),\n",
    "    rev_block(8,32),\n",
    "    ViewAs((-1,8,1,1), (-1,8))\n",
    ")\n",
    "feature_model.cuda()\n",
    "\n",
    "\n",
    "\n",
    "\n",
    "from braindecode.torch_ext.util import set_random_seeds\n",
    "adv_model = nn.Sequential(\n",
    "    nn.Conv2d(1,16, (3,1), stride=1, padding=(1,0),bias=True),\n",
    "    res_block(16,32),\n",
    "    res_block(16,32),\n",
    "    nn.AvgPool2d((2,1)),\n",
    "    res_block(16,32),\n",
    "    res_block(16,32),\n",
    "    nn.AvgPool2d((2,1)),\n",
    "    res_block(16,32),\n",
    "    res_block(16,32),\n",
    "    ViewAs((-1,16,2,1), (-1,32)),\n",
    "    )\n",
    "\n",
    "\n",
    "adv_model = ProjectionDiscriminator(adv_model,32,2,)\n",
    "\n",
    "adv_model.cuda()\n",
    "\n",
    "\n",
    "from reversible.training import hard_init_std_mean\n",
    "n_dims = inputs[0].shape[2]\n",
    "n_clusters = 1\n",
    "means_per_cluster = [th.autograd.Variable(th.ones(n_dims).cuda(), requires_grad=True)\n",
    "                     for _ in range(n_clusters)]\n",
    "# keep in mind this is in log domain so 0 is std 1\n",
    "stds_per_cluster = [th.autograd.Variable(th.zeros(n_dims).cuda(), requires_grad=True)\n",
    "                    for _ in range(n_clusters)]\n",
    "\n",
    "super_means_per_cluster = [th.autograd.Variable(th.ones(2).cuda(), requires_grad=True)\n",
    "                     for _ in range(n_clusters)]\n",
    "super_stds_per_cluster = [th.autograd.Variable(th.zeros(2).cuda(), requires_grad=True)\n",
    "                     for _ in range(n_clusters)]\n",
    "for i_class in range(n_clusters):\n",
    "    this_outs = feature_model(inputs[i_class])\n",
    "    amps, phases = outs_to_amp_phase(this_outs)\n",
    "\n",
    "    means_per_cluster[i_class].data[:amps.shape[1]] = th.mean(amps, dim=0).data - th.mean(amps).data\n",
    "    #stds_per_cluster[i_class].data[:amps.shape[1]] = th.log(th.std(amps, dim=0).data / th.std(amps.data))\n",
    "    stds_per_cluster[i_class].data[:amps.shape[1]] = -3#th.log(th.std(amps, dim=0).data / th.std(amps.data))\n",
    "    # override phase\n",
    "    means_per_cluster[i_class].data[amps.shape[1]:] = 0\n",
    "    stds_per_cluster[i_class].data[amps.shape[1]:] = -3#0\n",
    "\n",
    "\n",
    "\n",
    "\n",
    "from copy import deepcopy\n",
    "optimizer = th.optim.Adam(\n",
    "                          [\n",
    "    {'params': list(feature_model.parameters()),\n",
    "    'lr': 1e-3,\n",
    "    'weight_decay': 0},], betas=(0,0.9))\n",
    "\n",
    "optim_dist = th.optim.Adam(\n",
    "                          [\n",
    "    {'params': means_per_cluster + stds_per_cluster + super_means_per_cluster + super_stds_per_cluster,\n",
    "    'lr': 1e-2,\n",
    "    'weight_decay': 0},], betas=(0,0.9))\n",
    "\n",
    "optim_adv = th.optim.Adam([{\n",
    "    'params': adv_model.parameters(),\n",
    "    'lr': 4e-3, 'weight_decay': 0.00}],#lr 0.0004\n",
    "                         betas=(0,0.9))"
   ]
  },
  {
   "cell_type": "code",
   "execution_count": null,
   "metadata": {
    "collapsed": true
   },
   "outputs": [],
   "source": [
    "\n",
    "from reversible.gaussian import get_gauss_samples\n",
    "from reversible.uniform import get_uniform_samples\n",
    "from ampphase import (amp_phase_to_x_y, get_amp_phase_samples, amp_phase_sample_to_x_y,\n",
    "                      outs_to_amp_phase, to_amp_phase, get_amp_phase_xy_samples,\n",
    "                     switch_to_other_class)\n",
    "\n",
    "from reversible.gaussian import get_gauss_samples\n",
    "from reversible.uniform import get_uniform_samples\n",
    "from reversible.revnet import invert \n",
    "import pandas as pd\n",
    "from gradient_penalty import gradient_penalty\n",
    "import time\n",
    "\n",
    "\n",
    "df = pd.DataFrame()\n",
    "g_loss = np_to_var([np.nan],dtype=np.float32)\n",
    "g_grad = np.nan\n",
    "d_loss = np_to_var([np.nan],dtype=np.float32)\n",
    "d_grad = np.nan\n",
    "gradient_loss = np_to_var([np.nan],dtype=np.float32)"
   ]
  },
  {
   "cell_type": "code",
   "execution_count": null,
   "metadata": {
    "collapsed": true
   },
   "outputs": [],
   "source": [
    "def invert_hierarchical(features):\n",
    "    return invert(feature_model, features)"
   ]
  },
  {
   "cell_type": "code",
   "execution_count": null,
   "metadata": {
    "collapsed": true
   },
   "outputs": [],
   "source": [
    "def get_samples(n_samples, i_class):\n",
    "    super_samples = get_gauss_samples(n_samples, super_means_per_cluster[i_class],\n",
    "                                     super_stds_per_cluster[i_class], truncate_to=3)\n",
    "    mean = means_per_cluster[i_class]\n",
    "    mean = th.cat((mean[:len(mean)//2] - th.mean(mean[:len(mean)//2]),\n",
    "                  mean[len(mean)//2:] - th.mean(mean[len(mean)//2:])))\n",
    "    log_std = stds_per_cluster[i_class]\n",
    "    std = th.exp(log_std)\n",
    "\n",
    "    subsamples = get_gauss_samples(n_samples, mean, std, truncate_to=3)\n",
    "    super_samples = super_samples.view(super_samples.shape[0], super_samples.shape[1], 1).repeat(\n",
    "        1,1,subsamples.shape[1] // 2).view(super_samples.shape[0], -1)\n",
    "    samples = (super_samples + subsamples)\n",
    "    return samples"
   ]
  },
  {
   "cell_type": "code",
   "execution_count": null,
   "metadata": {},
   "outputs": [],
   "source": [
    "n_epochs = 1001\n",
    "rng = RandomState(349384)\n",
    "for i_epoch in range(n_epochs):\n",
    "    start_time = time.time()\n",
    "    optim_adv.zero_grad()\n",
    "    optimizer.zero_grad()\n",
    "    optim_dist.zero_grad()\n",
    "    i_class = 0\n",
    "    this_inputs = inputs[i_class] \n",
    "    mean = means_per_cluster[i_class]\n",
    "    log_std = stds_per_cluster[i_class]\n",
    "    std = th.exp(log_std)\n",
    "    n_samples = len(this_inputs)\n",
    "    samples = get_samples(n_samples, i_class)\n",
    "    inverted = invert_hierarchical(samples)\n",
    "    y = np_to_var([i_class]).cuda()\n",
    "    score_fake = adv_model(inverted, y)\n",
    "    if (i_epoch % 10) != 0:\n",
    "        score_real = adv_model(this_inputs, y)\n",
    "        gradient_loss = gradient_penalty(adv_model, this_inputs, inverted[:(len(this_inputs))], y)\n",
    "        d_loss = -score_real.mean() + score_fake.mean() + gradient_loss * 10\n",
    "        d_loss.backward()\n",
    "        d_grad = np.mean([th.sum(p.grad **2).item() for p in adv_model.parameters()])\n",
    "    else:\n",
    "        g_loss = -th.mean(score_fake)\n",
    "        g_loss.backward()\n",
    "        g_grad = np.mean([th.sum(p.grad **2).item() for p in itertools.chain(feature_model.parameters(),\n",
    "                                                                 feature_model.parameters())])\n",
    "    if (i_epoch % 10) != 0:\n",
    "            optim_adv.step()\n",
    "    else:\n",
    "        optimizer.step()\n",
    "        optim_dist.step()\n",
    "    \n",
    "    with th.no_grad():\n",
    "        sample_wd_row = {}\n",
    "        for i_class in range(len(inputs)):\n",
    "            this_inputs = inputs[i_class]\n",
    "            mean = means_per_cluster[i_class]\n",
    "            log_std = stds_per_cluster[i_class]\n",
    "            std = th.exp(log_std)\n",
    "            y = np_to_var([i_class]).cuda()\n",
    "            n_samples = len(this_inputs)\n",
    "            samples = get_samples(n_samples, i_class)\n",
    "\n",
    "            inverted = invert_hierarchical(samples)\n",
    "            in_np = var_to_np(this_inputs).reshape(len(this_inputs), -1)\n",
    "            fake_np = var_to_np(inverted).reshape(len(inverted), -1)\n",
    "            import ot\n",
    "\n",
    "            dist = np.sqrt(np.sum(np.square(in_np[:,None] - fake_np[None]), axis=2))\n",
    "            match_matrix = ot.emd([],[], dist)\n",
    "            cost = np.sum(dist * match_matrix)\n",
    "            score_fake = adv_model(inverted, y)\n",
    "            score_real = adv_model(inputs[i_class], y)\n",
    "            wd_dist = th.mean(score_real) - th.mean(score_fake)\n",
    "            sample_wd_row.update({\n",
    "                'wd_dist_' + str(i_class): wd_dist.item() ,\n",
    "                'sampled_wd' + str(i_class): cost,\n",
    "                'wd_diff' + str(i_class): cost - wd_dist.item(),\n",
    "            })\n",
    "        end_time = time.time()\n",
    "        epoch_row = {\n",
    "        'd_loss': d_loss.item(),\n",
    "        'g_loss': g_loss.item(),\n",
    "        'grad_loss': gradient_loss.item(),\n",
    "        'o_real': th.mean(score_real).item(),\n",
    "        'o_fake': th.mean(score_fake).item(),\n",
    "        'g_grad': g_grad,\n",
    "        'd_grad': d_grad,\n",
    "        'runtime': end_time -start_time,}\n",
    "        epoch_row.update(sample_wd_row)\n",
    "        df = df.append(epoch_row, ignore_index=True)\n",
    "        if i_epoch % (max(1,n_epochs // 20)) == 0:\n",
    "            display_text(\"Epoch {:d}\".format(i_epoch))\n",
    "            display(df.iloc[-5:])\n",
    "        if i_epoch % (n_epochs // 20) == 0:\n",
    "            print(\"stds\\n\", var_to_np(th.exp(th.stack(stds_per_cluster))))\n",
    "\n",
    "            fig = plt.figure(figsize=(8,4))\n",
    "            for i_class in range(len(inputs)):\n",
    "                ins = var_to_np(inputs[i_class].squeeze())\n",
    "                bps = np.abs(np.fft.rfft(ins.squeeze()))\n",
    "                plt.plot(np.fft.rfftfreq(ins.squeeze().shape[1], d=1/ins.squeeze().shape[1]), np.median(bps, axis=0))\n",
    "\n",
    "                mean = means_per_cluster[i_class]\n",
    "                log_std = stds_per_cluster[i_class]\n",
    "                std = th.exp(log_std)\n",
    "                y = np_to_var([i_class]).cuda()\n",
    "                n_samples = 5000\n",
    "                samples = get_samples(n_samples, i_class)\n",
    "                inverted = var_to_np(invert_hierarchical(samples).squeeze())\n",
    "                bps = np.abs(np.fft.rfft(inverted.squeeze()))\n",
    "                plt.plot(np.fft.rfftfreq(inverted.squeeze().shape[1], d=1/ins.squeeze().shape[1]), np.median(bps, axis=0),\n",
    "                        color=seaborn.color_palette()[i_class], ls='--')\n",
    "            plt.title(\"Spectrum\")\n",
    "            plt.xlabel('Frequency [Hz]')\n",
    "\n",
    "            plt.ylabel('Amplitude')\n",
    "            plt.legend(['Real Right', 'Fake Right', 'Real Rest', 'Fake Rest'])\n",
    "            display(fig)\n",
    "            plt.close(fig)\n",
    "            \n",
    "            for i_class in range(len(inputs)):\n",
    "                fig = plt.figure(figsize=(5,5))\n",
    "                mean = means_per_cluster[i_class]\n",
    "                log_std = stds_per_cluster[i_class]\n",
    "                std = th.exp(log_std)\n",
    "                y = np_to_var([i_class]).cuda()\n",
    "                n_samples = 5000\n",
    "                samples = get_samples(n_samples, i_class)\n",
    "                inverted = var_to_np(invert_hierarchical(samples).squeeze())\n",
    "                plt.plot(inverted.squeeze()[:,0], inverted.squeeze()[:,1],\n",
    "                         ls='', marker='o', color=seaborn.color_palette()[i_class + 2], alpha=0.5, markersize=2)\n",
    "                plt.plot(var_to_np(inputs[i_class].squeeze())[:,0], var_to_np(inputs[i_class].squeeze())[:,1],\n",
    "                         ls='', marker='o', color=seaborn.color_palette()[i_class])\n",
    "\n",
    "                display(fig)\n",
    "                plt.close(fig)"
   ]
  },
  {
   "cell_type": "code",
   "execution_count": null,
   "metadata": {},
   "outputs": [],
   "source": [
    "super_means_per_cluster"
   ]
  },
  {
   "cell_type": "code",
   "execution_count": null,
   "metadata": {},
   "outputs": [],
   "source": [
    "th.exp(th.cat(super_stds_per_cluster))"
   ]
  },
  {
   "cell_type": "code",
   "execution_count": null,
   "metadata": {},
   "outputs": [],
   "source": [
    "mean = means_per_cluster[0].clone()\n",
    "mean.data[:4] += super_means_per_cluster[0].data[0]\n",
    "mean.data[4:] += super_means_per_cluster[0].data[1]\n",
    "\n",
    "examples = mean.repeat(20,1)\n",
    "\n",
    "examples.data[:,:4] += th.linspace(-0.4,0.4,20).unsqueeze(1).cuda()\n",
    "\n",
    "outs = amp_phase_sample_to_x_y(examples)\n",
    "inverted = invert(feature_model, outs)\n",
    "\n",
    "\n",
    "from matplotlib import rcParams, cycler\n",
    "cmap = plt.cm.coolwarm\n",
    "N = len(inverted)\n",
    "with plt.rc_context({'axes.prop_cycle': cycler(color=cmap(np.linspace(0, 1, N)))}):\n",
    "    plt.plot(var_to_np(inverted).squeeze().T);"
   ]
  },
  {
   "cell_type": "code",
   "execution_count": null,
   "metadata": {},
   "outputs": [],
   "source": [
    "plt.plot(np.abs(np.fft.rfft(var_to_np(inverted.squeeze()))))"
   ]
  },
  {
   "cell_type": "code",
   "execution_count": null,
   "metadata": {},
   "outputs": [],
   "source": [
    "plt.plot(np.angle(np.fft.rfft(var_to_np(this_inputs.squeeze()))))"
   ]
  },
  {
   "cell_type": "code",
   "execution_count": null,
   "metadata": {},
   "outputs": [],
   "source": [
    "plt.plot(np.angle(np.fft.rfft(var_to_np(inverted.squeeze()))))"
   ]
  },
  {
   "cell_type": "code",
   "execution_count": null,
   "metadata": {},
   "outputs": [],
   "source": [
    "mean = means_per_cluster[0].clone()\n",
    "mean.data[:4] += super_means_per_cluster[0].data[0]\n",
    "mean.data[4:] += super_means_per_cluster[0].data[1]\n",
    "\n",
    "examples = mean.repeat(20,1)\n",
    "\n",
    "examples.data[:,4:] += th.linspace(-0.5,0.5,20).unsqueeze(1).cuda()\n",
    "\n",
    "outs = amp_phase_sample_to_x_y(examples)\n",
    "inverted = invert(feature_model, outs)\n",
    "\n",
    "\n",
    "from matplotlib import rcParams, cycler\n",
    "cmap = plt.cm.coolwarm\n",
    "N = len(inverted)\n",
    "with plt.rc_context({'axes.prop_cycle': cycler(color=cmap(np.linspace(0, 1, N)))}):\n",
    "    plt.plot(var_to_np(inverted).squeeze().T);"
   ]
  },
  {
   "cell_type": "code",
   "execution_count": null,
   "metadata": {},
   "outputs": [],
   "source": [
    "plt.plot(np.angle(np.fft.rfft(var_to_np(inverted.squeeze()))))"
   ]
  },
  {
   "cell_type": "code",
   "execution_count": null,
   "metadata": {},
   "outputs": [],
   "source": [
    "plt.plot(np.abs(np.fft.rfft(var_to_np(inverted.squeeze()))))"
   ]
  },
  {
   "cell_type": "code",
   "execution_count": null,
   "metadata": {},
   "outputs": [],
   "source": [
    "th.exp(th.cat(stds_per_cluster))"
   ]
  },
  {
   "cell_type": "code",
   "execution_count": null,
   "metadata": {},
   "outputs": [],
   "source": [
    "subsamples"
   ]
  },
  {
   "cell_type": "code",
   "execution_count": null,
   "metadata": {},
   "outputs": [],
   "source": []
  },
  {
   "cell_type": "code",
   "execution_count": null,
   "metadata": {
    "collapsed": true
   },
   "outputs": [],
   "source": [
    "# std is sqrt of sum of squares"
   ]
  },
  {
   "cell_type": "code",
   "execution_count": null,
   "metadata": {
    "collapsed": true
   },
   "outputs": [],
   "source": []
  },
  {
   "cell_type": "code",
   "execution_count": null,
   "metadata": {
    "collapsed": true
   },
   "outputs": [],
   "source": [
    "th.sum(std ** 2)"
   ]
  }
 ],
 "metadata": {
  "kernelspec": {
   "display_name": "Python 3",
   "language": "python",
   "name": "python3"
  },
  "language_info": {
   "codemirror_mode": {
    "name": "ipython",
    "version": 3
   },
   "file_extension": ".py",
   "mimetype": "text/x-python",
   "name": "python",
   "nbconvert_exporter": "python",
   "pygments_lexer": "ipython3",
   "version": "3.6.8"
  }
 },
 "nbformat": 4,
 "nbformat_minor": 2
}
