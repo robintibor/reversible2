{
 "cells": [
  {
   "cell_type": "code",
   "execution_count": null,
   "metadata": {
    "collapsed": true
   },
   "outputs": [],
   "source": [
    "import logging\n",
    "import importlib\n",
    "importlib.reload(logging) # see https://stackoverflow.com/a/21475297/1469195\n",
    "log = logging.getLogger()\n",
    "log.setLevel('INFO')\n",
    "import sys\n",
    "\n",
    "logging.basicConfig(format='%(asctime)s %(levelname)s : %(message)s',\n",
    "                     level=logging.INFO, stream=sys.stdout)"
   ]
  },
  {
   "cell_type": "code",
   "execution_count": null,
   "metadata": {
    "collapsed": true
   },
   "outputs": [],
   "source": [
    "%%capture\n",
    "import os\n",
    "import site\n",
    "os.sys.path.insert(0, '/home/schirrmr/code/reversible/')\n",
    "os.sys.path.insert(0, '/home/schirrmr/braindecode/code/braindecode/')\n",
    "os.sys.path.insert(0, '/home/schirrmr/code/explaining/reversible//')\n",
    "\n",
    "\n",
    "%load_ext autoreload\n",
    "%autoreload 2\n",
    "import numpy as np\n",
    "import logging\n",
    "log = logging.getLogger()\n",
    "log.setLevel('INFO')\n",
    "import sys\n",
    "logging.basicConfig(format='%(asctime)s %(levelname)s : %(message)s',\n",
    "                     level=logging.INFO, stream=sys.stdout)\n",
    "import matplotlib\n",
    "from matplotlib import pyplot as plt\n",
    "from matplotlib import cm\n",
    "%matplotlib inline\n",
    "%config InlineBackend.figure_format = 'png'\n",
    "matplotlib.rcParams['figure.figsize'] = (12.0, 1.0)\n",
    "matplotlib.rcParams['font.size'] = 14\n",
    "import seaborn\n",
    "seaborn.set_style('darkgrid')\n",
    "\n",
    "from reversible2.sliced import sliced_from_samples\n",
    "from numpy.random import RandomState\n",
    "\n",
    "import torch\n",
    "import torch.nn as nn\n",
    "import torch.nn.functional as F\n",
    "from torch.autograd import Variable\n",
    "import numpy as np\n",
    "import copy\n",
    "import math\n",
    "\n",
    "import itertools\n",
    "import torch as th\n",
    "from braindecode.torch_ext.util import np_to_var, var_to_np\n",
    "from reversible2.splitter import SubsampleSplitter\n",
    "\n",
    "from reversible2.view_as import ViewAs\n",
    "from reversible2.invert import invert\n",
    "\n",
    "from reversible2.affine import AdditiveBlock\n"
   ]
  },
  {
   "cell_type": "code",
   "execution_count": null,
   "metadata": {},
   "outputs": [],
   "source": [
    "from reversible2.bhno import create_inputs, load_file"
   ]
  },
  {
   "cell_type": "code",
   "execution_count": null,
   "metadata": {},
   "outputs": [],
   "source": [
    "orig_train_cnt = load_file('/data/schirrmr/schirrmr/HGD-public/reduced/train/4.mat')\n",
    "train_cnt = orig_train_cnt.reorder_channels(['C3', 'C4'])\n",
    "\n",
    "train_inputs = create_inputs(train_cnt, final_hz=64, half_before=True)"
   ]
  },
  {
   "cell_type": "code",
   "execution_count": null,
   "metadata": {},
   "outputs": [],
   "source": [
    "orig_test_cnt = load_file('/data/schirrmr/schirrmr/HGD-public/reduced/test/4.mat')\n",
    "test_cnt = orig_test_cnt.reorder_channels(['C3', 'C4'])\n",
    "test_inputs = create_inputs(test_cnt, final_hz=64, half_before=True)"
   ]
  },
  {
   "cell_type": "code",
   "execution_count": null,
   "metadata": {
    "collapsed": true
   },
   "outputs": [],
   "source": [
    "cuda = False\n",
    "if cuda:\n",
    "    train_inputs = [i.cuda() for i in train_inputs]\n",
    "    test_inputs = [i.cuda() for i in test_inputs]"
   ]
  },
  {
   "cell_type": "code",
   "execution_count": null,
   "metadata": {},
   "outputs": [],
   "source": [
    "train_inputs[0].shape"
   ]
  },
  {
   "cell_type": "code",
   "execution_count": null,
   "metadata": {},
   "outputs": [],
   "source": [
    "bps_train = [th.mean(th.mean(th.abs(th.rfft(ins.squeeze(),signal_ndim=1)), dim=-1)[:,:,9:14], dim=-1)\n",
    " for ins in train_inputs]\n",
    "\n",
    "bps_test = [th.mean(th.mean(th.abs(th.rfft(ins.squeeze(),signal_ndim=1)), dim=-1)[:,:,9:14], dim=-1)\n",
    " for ins in test_inputs]\n",
    "\n",
    "plt.figure(figsize=(7,7))\n",
    "plt.scatter(var_to_np(bps_train[0])[:,0], var_to_np(bps_train[0])[:,1])\n",
    "plt.scatter(var_to_np(bps_train[1])[:,0], var_to_np(bps_train[1])[:,1])\n",
    "\n",
    "\n",
    "plt.scatter(var_to_np(bps_test[0])[:,0], var_to_np(bps_test[0])[:,1])\n",
    "plt.scatter(var_to_np(bps_test[1])[:,0], var_to_np(bps_test[1])[:,1])"
   ]
  },
  {
   "cell_type": "code",
   "execution_count": null,
   "metadata": {
    "collapsed": true
   },
   "outputs": [],
   "source": [
    "train_inputs = bps_train\n",
    "test_inputs = bps_test"
   ]
  },
  {
   "cell_type": "code",
   "execution_count": null,
   "metadata": {
    "collapsed": true
   },
   "outputs": [],
   "source": [
    "from reversible2.distribution import TwoClassDist\n",
    "\n",
    "from reversible2.blocks import dense_add_block, conv_add_block_3x3\n",
    "from reversible2.util import set_random_seeds\n",
    "import torch as th\n",
    "cuda = False\n",
    "set_random_seeds(2019011641, cuda)\n",
    "feature_model = nn.Sequential(\n",
    "    dense_add_block(2,64),\n",
    "    dense_add_block(2,64),\n",
    "    dense_add_block(2,64),\n",
    "    dense_add_block(2,64),\n",
    ")\n",
    "\n",
    "feature_model.eval()\n",
    "# Check that forward + inverse is really identical\n",
    "t_out = feature_model(train_inputs[0][:2])\n",
    "inverted = invert(feature_model, t_out)\n",
    "assert th.allclose(train_inputs[0][:2], inverted, rtol=1e-3,atol=1e-4)\n",
    "device = list(feature_model.parameters())[0].device\n",
    "from reversible2.ot_exact import ot_euclidean_loss_for_samples\n",
    "class_dist = TwoClassDist(2, np.prod(train_inputs[0].size()[1:]) - 2)\n",
    "if cuda:\n",
    "    class_dist.cuda()\n",
    "optim_model = th.optim.Adam(feature_model.parameters())\n",
    "optim_dist = th.optim.Adam(class_dist.parameters(), lr=1e-2)"
   ]
  },
  {
   "cell_type": "code",
   "execution_count": null,
   "metadata": {
    "collapsed": true
   },
   "outputs": [],
   "source": [
    "from reversible2.graph import Node\n",
    "from reversible2.branching import CatChans, ChunkChans, Select\n",
    "\n",
    "def invert(feature_model, samples):\n",
    "    from reversible2.invert import invert\n",
    "    return invert(feature_model, samples)"
   ]
  },
  {
   "cell_type": "code",
   "execution_count": null,
   "metadata": {},
   "outputs": [],
   "source": [
    "%%writefile plot.py\n",
    "import torch as th\n",
    "import matplotlib.pyplot as plt\n",
    "import numpy as np\n",
    "from reversible2.util import var_to_np\n",
    "from reversible2.plot import display_close\n",
    "from matplotlib.patches import Ellipse\n",
    "import seaborn\n",
    "\n",
    "def plot_outs(feature_model, train_inputs, test_inputs, class_dist):\n",
    "    \n",
    "    # Compute dist for mean/std of encodings\n",
    "    data_cls_dists = []\n",
    "    for i_class in range(len(train_inputs)):\n",
    "        this_class_outs = feature_model(train_inputs[i_class])[:,:2]\n",
    "        data_cls_dists.append(\n",
    "            th.distributions.MultivariateNormal(th.mean(this_class_outs, dim=0),\n",
    "            covariance_matrix=th.diag(th.std(this_class_outs, dim=0) ** 2)))\n",
    "    for setname, set_inputs in ((\"Train\", train_inputs), (\"Test\", test_inputs)):\n",
    "\n",
    "        outs = [feature_model(ins) for ins in set_inputs]\n",
    "        c_outs = [o[:,:2] for o in outs]\n",
    "\n",
    "        c_outs_all = th.cat(c_outs)\n",
    "\n",
    "        cls_dists = []\n",
    "        for i_class in range(len(c_outs)):\n",
    "            mean, std = class_dist.get_mean_std(i_class)\n",
    "            cls_dists.append(\n",
    "                th.distributions.MultivariateNormal(mean[:2],covariance_matrix=th.diag(std[:2] ** 2)))\n",
    "\n",
    "        preds_per_class = [th.stack([cls_dists[i_cls].log_prob(c_out)\n",
    "                         for i_cls in range(len(cls_dists))],\n",
    "                        dim=-1) for c_out in c_outs]\n",
    "\n",
    "        pred_labels_per_class = [np.argmax(var_to_np(preds), axis=1)\n",
    "                       for preds in preds_per_class]\n",
    "\n",
    "        labels = np.concatenate([np.ones(len(set_inputs[i_cls])) * i_cls \n",
    "         for i_cls in range(len(train_inputs))])\n",
    "\n",
    "        acc = np.mean(labels == np.concatenate(pred_labels_per_class))\n",
    "\n",
    "        data_preds_per_class = [th.stack([data_cls_dists[i_cls].log_prob(c_out)\n",
    "                         for i_cls in range(len(cls_dists))],\n",
    "                        dim=-1) for c_out in c_outs]\n",
    "        data_pred_labels_per_class = [np.argmax(var_to_np(data_preds), axis=1)\n",
    "                            for data_preds in data_preds_per_class]\n",
    "        data_acc = np.mean(labels == np.concatenate(data_pred_labels_per_class))\n",
    "\n",
    "        print(\"{:s} Accuracy: {:.1f}%\".format(setname, acc * 100))\n",
    "        fig = plt.figure(figsize=(5,5))\n",
    "        ax = plt.gca()\n",
    "        for i_class in range(len(c_outs)):\n",
    "            #if i_class == 0:\n",
    "            #    continue\n",
    "            o = var_to_np(c_outs[i_class]).squeeze()\n",
    "            incorrect_pred_mask = pred_labels_per_class[i_class] != i_class\n",
    "            plt.scatter(o[:,0], o[:,1], s=20, alpha=0.75, label=[\"Right\", \"Rest\"][i_class])\n",
    "            assert len(incorrect_pred_mask) == len(o)\n",
    "            plt.scatter(o[incorrect_pred_mask,0], o[incorrect_pred_mask,1], marker='x', color='black',\n",
    "                       alpha=1, s=5)\n",
    "            means, stds = class_dist.get_mean_std(i_class)\n",
    "            means = var_to_np(means)[:2]\n",
    "            stds = var_to_np(stds)[:2]\n",
    "            for sigma in [0.5,1,2,3]:\n",
    "                ellipse = Ellipse(means, stds[0]*sigma, stds[1]*sigma)\n",
    "                ax.add_artist(ellipse)\n",
    "                ellipse.set_edgecolor(seaborn.color_palette()[i_class])\n",
    "                ellipse.set_facecolor(\"None\")\n",
    "        for i_class in range(len(c_outs)):\n",
    "            o = var_to_np(c_outs[i_class]).squeeze()\n",
    "            plt.scatter(np.mean(o[:,0]), np.mean(o[:,1]),\n",
    "                       color=seaborn.color_palette()[i_class+2], s=80, marker=\"^\",\n",
    "                       label=[\"Right Mean\", \"Rest Mean\"][i_class])\n",
    "\n",
    "        plt.title(\"{:6s} Accuracy:        {:.1f}%\\n\"\n",
    "                  \"From data mean/std: {:.1f}%\".format(setname, acc * 100, data_acc * 100))\n",
    "        plt.legend(bbox_to_anchor=(1,1,0,0))\n",
    "        display_close(fig)\n",
    "    return"
   ]
  },
  {
   "cell_type": "code",
   "execution_count": null,
   "metadata": {
    "collapsed": true
   },
   "outputs": [],
   "source": [
    "from reversible2.plot import display_close"
   ]
  },
  {
   "cell_type": "code",
   "execution_count": null,
   "metadata": {},
   "outputs": [],
   "source": [
    "from reversible2.timer import Timer\n",
    "from plot import plot_outs\n",
    "\n",
    "i_start_epoch_out = 200\n",
    "n_epochs = 1001\n",
    "for i_epoch in range(n_epochs):\n",
    "    with Timer(name='EpochLoop', verbose=False) as loop_time:\n",
    "        optim_model.zero_grad()\n",
    "        optim_dist.zero_grad()\n",
    "        for i_class in range(len(train_inputs)):\n",
    "            class_ins = train_inputs[i_class]\n",
    "            samples = class_dist.get_samples(i_class, len(train_inputs[i_class]) * 5)\n",
    "            inverted = invert(feature_model, samples)\n",
    "            outs = feature_model(class_ins)\n",
    "            if i_epoch < i_start_epoch_out:\n",
    "                ot_loss_out = th.zeros(1, device=class_ins.device)\n",
    "            else:\n",
    "                ot_loss_out = ot_euclidean_loss_for_samples(outs[:,:2].squeeze(), samples[:,:2].squeeze())\n",
    "            ot_loss_in = ot_euclidean_loss_for_samples(class_ins.squeeze(), inverted.squeeze())\n",
    "\n",
    "            other_class_ins = train_inputs[1-i_class]\n",
    "            changed_to_other_class = class_dist.change_to_other_class(outs, i_class_from=i_class, i_class_to=1-i_class)\n",
    "            other_inverted = invert(feature_model, changed_to_other_class)\n",
    "            ot_transformed_in = ot_euclidean_loss_for_samples(other_class_ins.squeeze(), other_inverted.squeeze())\n",
    "            if i_epoch < i_start_epoch_out:\n",
    "                ot_transformed_out = th.zeros(1, device=class_ins.device)\n",
    "            else:\n",
    "                other_samples = class_dist.get_samples(1-i_class, len(train_inputs[i_class]) * 5)\n",
    "                ot_transformed_out = ot_euclidean_loss_for_samples(changed_to_other_class[:,:2].squeeze(),\n",
    "                                                                   other_samples[:,:2].squeeze(),)\n",
    "            loss = ot_loss_in + ot_loss_out + ot_transformed_in + ot_transformed_out\n",
    "            loss.backward()\n",
    "        optim_model.step()\n",
    "        optim_dist.step()\n",
    "    if i_epoch % (n_epochs // 20) == 0:\n",
    "        print(\"Epoch {:d} of {:d}\".format(i_epoch, n_epochs))\n",
    "        print(\"Loss: {:.2E}\".format(loss.item()))\n",
    "        print(\"OT Loss In: {:.2E}\".format(ot_loss_in.item()))\n",
    "        print(\"OT Loss Out: {:.2E}\".format(ot_loss_out.item()))\n",
    "        print(\"Transformed OT Loss In: {:.2E}\".format(ot_transformed_in.item()))\n",
    "        print(\"Transformed OT Loss Out: {:.2E}\".format(ot_transformed_out.item()))\n",
    "        print(\"Loop Time: {:.0f} ms\".format(loop_time.elapsed_secs * 1000))\n",
    "        plot_outs(feature_model, train_inputs, test_inputs,\n",
    "                 class_dist)\n",
    "        fig = plt.figure(figsize=(8,2))\n",
    "        plt.plot(var_to_np(th.cat((th.exp(class_dist.class_log_stds),\n",
    "                                 th.exp(class_dist.non_class_log_stds)))),\n",
    "                marker='o')\n",
    "        display_close(fig)"
   ]
  },
  {
   "cell_type": "code",
   "execution_count": null,
   "metadata": {},
   "outputs": [],
   "source": [
    "fig = plt.figure(figsize=(5,4))\n",
    "for i_class in range(len(train_inputs)):\n",
    "    class_ins = train_inputs[i_class]\n",
    "    train_outs = feature_model(class_ins)\n",
    "    plt.scatter(var_to_np(train_outs)[:,0], var_to_np(train_outs)[:,1],\n",
    "               color=seaborn.color_palette()[i_class])\n",
    "for i_class in range(len(train_inputs)):\n",
    "    class_ins = test_inputs[i_class]\n",
    "    test_outs = feature_model(class_ins)\n",
    "    plt.scatter(var_to_np(test_outs)[:,0], var_to_np(test_outs)[:,1],\n",
    "               color=seaborn.color_palette()[i_class+2])\n",
    "    \n",
    "display_close(fig)"
   ]
  },
  {
   "cell_type": "code",
   "execution_count": null,
   "metadata": {
    "collapsed": true
   },
   "outputs": [],
   "source": []
  },
  {
   "cell_type": "code",
   "execution_count": null,
   "metadata": {
    "collapsed": true
   },
   "outputs": [],
   "source": []
  }
 ],
 "metadata": {
  "kernelspec": {
   "display_name": "Python 3",
   "language": "python",
   "name": "python3"
  },
  "language_info": {
   "codemirror_mode": {
    "name": "ipython",
    "version": 3
   },
   "file_extension": ".py",
   "mimetype": "text/x-python",
   "name": "python",
   "nbconvert_exporter": "python",
   "pygments_lexer": "ipython3",
   "version": "3.6.8"
  }
 },
 "nbformat": 4,
 "nbformat_minor": 2
}
