{
 "cells": [
  {
   "cell_type": "code",
   "execution_count": null,
   "metadata": {
    "collapsed": true
   },
   "outputs": [],
   "source": [
    "import logging\n",
    "import importlib\n",
    "importlib.reload(logging) # see https://stackoverflow.com/a/21475297/1469195\n",
    "log = logging.getLogger()\n",
    "log.setLevel('INFO')\n",
    "import sys\n",
    "\n",
    "logging.basicConfig(format='%(asctime)s %(levelname)s : %(message)s',\n",
    "                     level=logging.INFO, stream=sys.stdout)"
   ]
  },
  {
   "cell_type": "code",
   "execution_count": null,
   "metadata": {
    "collapsed": true
   },
   "outputs": [],
   "source": [
    "%%capture\n",
    "import os\n",
    "import site\n",
    "os.sys.path.insert(0, '/home/schirrmr/code/reversible/')\n",
    "os.sys.path.insert(0, '/home/schirrmr/braindecode/code/braindecode/')\n",
    "os.sys.path.insert(0, '/home/schirrmr/code/explaining/reversible//')\n",
    "\n",
    "\n",
    "%load_ext autoreload\n",
    "%autoreload 2\n",
    "import numpy as np\n",
    "import logging\n",
    "log = logging.getLogger()\n",
    "log.setLevel('INFO')\n",
    "import sys\n",
    "logging.basicConfig(format='%(asctime)s %(levelname)s : %(message)s',\n",
    "                     level=logging.INFO, stream=sys.stdout)\n",
    "import matplotlib\n",
    "from matplotlib import pyplot as plt\n",
    "from matplotlib import cm\n",
    "%matplotlib inline\n",
    "%config InlineBackend.figure_format = 'png'\n",
    "matplotlib.rcParams['figure.figsize'] = (12.0, 1.0)\n",
    "matplotlib.rcParams['font.size'] = 14\n",
    "import seaborn\n",
    "seaborn.set_style('darkgrid')\n",
    "\n",
    "from reversible2.sliced import sliced_from_samples\n",
    "from numpy.random import RandomState\n",
    "\n",
    "import torch\n",
    "import torch.nn as nn\n",
    "import torch.nn.functional as F\n",
    "from torch.autograd import Variable\n",
    "import numpy as np\n",
    "import copy\n",
    "import math\n",
    "\n",
    "import itertools\n",
    "import torch as th\n",
    "from braindecode.torch_ext.util import np_to_var, var_to_np\n",
    "from reversible2.splitter import SubsampleSplitter\n",
    "\n",
    "from reversible2.view_as import ViewAs\n",
    "from reversible2.invert import invert\n",
    "\n",
    "from reversible2.affine import AdditiveBlock\n",
    "from reversible2.plot import display_text, display_close\n",
    "from reversible2.bhno import load_file, create_inputs"
   ]
  },
  {
   "cell_type": "code",
   "execution_count": null,
   "metadata": {},
   "outputs": [],
   "source": [
    "orig_train_cnt = load_file('/data/schirrmr/schirrmr/HGD-public/reduced/train/4.mat')\n",
    "train_cnt = orig_train_cnt.reorder_channels(['C3',])\n",
    "\n",
    "train_inputs = create_inputs(train_cnt, final_hz=64, half_before=True)"
   ]
  },
  {
   "cell_type": "code",
   "execution_count": null,
   "metadata": {},
   "outputs": [],
   "source": [
    "orig_test_cnt = load_file('/data/schirrmr/schirrmr/HGD-public/reduced/test/4.mat')\n",
    "test_cnt = orig_test_cnt.reorder_channels(['C3', ])\n",
    "test_inputs = create_inputs(test_cnt, final_hz=64, half_before=True)"
   ]
  },
  {
   "cell_type": "code",
   "execution_count": null,
   "metadata": {
    "collapsed": true
   },
   "outputs": [],
   "source": [
    "cuda = True\n",
    "if cuda:\n",
    "    train_inputs = [i.cuda() for i in train_inputs]\n",
    "    test_inputs = [i.cuda() for i in test_inputs]"
   ]
  },
  {
   "cell_type": "code",
   "execution_count": null,
   "metadata": {
    "collapsed": true
   },
   "outputs": [],
   "source": [
    "from reversible2.distribution import TwoClassDist\n",
    "\n",
    "from reversible2.blocks import dense_add_block, conv_add_block_3x3\n",
    "from reversible2.rfft import RFFT, Interleave\n",
    "from reversible2.util import set_random_seeds\n",
    "from torch.nn import ConstantPad2d\n",
    "import torch as th\n",
    "from reversible2.splitter import SubsampleSplitter\n",
    "\n",
    "\n",
    "set_random_seeds(2019011641, cuda)\n",
    "feature_model = nn.Sequential(\n",
    "    SubsampleSplitter(stride=[2,1],chunk_chans_first=False),# 2 x 32\n",
    "    conv_add_block_3x3(2,32),\n",
    "    conv_add_block_3x3(2,32),\n",
    "    SubsampleSplitter(stride=[2,1],chunk_chans_first=True), # 4 x 16\n",
    "    conv_add_block_3x3(4,32),\n",
    "    conv_add_block_3x3(4,32),\n",
    "    SubsampleSplitter(stride=[2,1],chunk_chans_first=True), # 8 x 8\n",
    "    conv_add_block_3x3(8,32),\n",
    "    conv_add_block_3x3(8,32),\n",
    "    SubsampleSplitter(stride=[2,1],chunk_chans_first=True), # 16 x 4\n",
    "    conv_add_block_3x3(16,32),\n",
    "    conv_add_block_3x3(16,32),\n",
    "    SubsampleSplitter(stride=[2,1],chunk_chans_first=True), # 32 x 2\n",
    "    conv_add_block_3x3(32,32),\n",
    "    conv_add_block_3x3(32,32),\n",
    "    SubsampleSplitter(stride=[2,1],chunk_chans_first=True), # 64 x 1\n",
    "    ViewAs((-1,64,1, 1), (-1,64)),\n",
    "    dense_add_block(64,64),\n",
    "    dense_add_block(64,64),\n",
    "    dense_add_block(64,64),\n",
    "    dense_add_block(64,64),\n",
    "    dense_add_block(64,64),\n",
    "    dense_add_block(64,64),\n",
    "    RFFT(),\n",
    ")\n",
    "if cuda:\n",
    "    feature_model.cuda()\n",
    "device = list(feature_model.parameters())[0].device\n",
    "from reversible2.ot_exact import ot_euclidean_loss_for_samples\n",
    "class_dist = TwoClassDist(2,62)\n",
    "class_dist.cuda()\n",
    "optim_model = th.optim.Adam(feature_model.parameters())\n",
    "optim_dist = th.optim.Adam(class_dist.parameters(), lr=1e-2)"
   ]
  },
  {
   "cell_type": "code",
   "execution_count": null,
   "metadata": {
    "collapsed": true
   },
   "outputs": [],
   "source": [
    "i_class = 0\n",
    "class_ins = train_inputs[i_class]"
   ]
  },
  {
   "cell_type": "code",
   "execution_count": null,
   "metadata": {},
   "outputs": [],
   "source": [
    "from reversible2.timer import Timer"
   ]
  },
  {
   "cell_type": "code",
   "execution_count": null,
   "metadata": {},
   "outputs": [],
   "source": [
    "with Timer(name='all'):\n",
    "    with Timer(name='samples'):\n",
    "        samples = class_dist.get_samples(i_class, len(train_inputs[i_class]) * 5)\n",
    "    with Timer(name='invert'):\n",
    "        inverted = invert(feature_model, samples)\n",
    "    with Timer(name='forward'):\n",
    "        outs = feature_model(class_ins)\n",
    "    #with Timer(name='ot_out'):\n",
    "    #    ot_loss_out = ot_euclidean_loss_for_samples(outs[:,:2].squeeze(), samples[:,:2].squeeze())\n",
    "    #with Timer(name='ot_in'):\n",
    "    #    ot_loss_in = ot_euclidean_loss_for_samples(class_ins.squeeze(), inverted.squeeze())\n"
   ]
  },
  {
   "cell_type": "code",
   "execution_count": null,
   "metadata": {},
   "outputs": [],
   "source": [
    "from timeit import default_timer\n",
    "\n",
    "x = class_ins\n",
    "times = []\n",
    "start = default_timer()\n",
    "for module in feature_model.children():\n",
    "    x = module(x)\n",
    "    times.append(default_timer())\n",
    "\n",
    "times_inv = []\n",
    "start_inv = default_timer()\n",
    "x = samples\n",
    "for module in list(feature_model.children())[::-1]:\n",
    "    x = invert(nn.Sequential(module), x)\n",
    "    times_inv.append(default_timer())"
   ]
  },
  {
   "cell_type": "code",
   "execution_count": null,
   "metadata": {},
   "outputs": [],
   "source": [
    "(np.array(times) - start) * 1000"
   ]
  },
  {
   "cell_type": "code",
   "execution_count": null,
   "metadata": {},
   "outputs": [],
   "source": [
    "(np.array(times_inv) - start_inv) * 1000"
   ]
  },
  {
   "cell_type": "code",
   "execution_count": null,
   "metadata": {},
   "outputs": [],
   "source": [
    "list(zip([m.__class__.__name__ for m in feature_model.children()],\n",
    "         np.diff(np.insert(np.array(times) - start, 0, 0) * 1000)))"
   ]
  },
  {
   "cell_type": "code",
   "execution_count": null,
   "metadata": {},
   "outputs": [],
   "source": [
    "list(zip([m.__class__.__name__ for m in feature_model.children()],\n",
    "         np.diff(np.insert(np.array(times_inv) - start_inv,0,0) * 1000)[::-1]))"
   ]
  },
  {
   "cell_type": "code",
   "execution_count": null,
   "metadata": {},
   "outputs": [],
   "source": [
    "plt.plot(np.diff(np.insert(np.array(times) - start, 0, 0) * 1000))\n",
    "plt.plot(np.diff(np.insert(np.array(times_inv) - start_inv,0,0) * 1000)[::-1])"
   ]
  },
  {
   "cell_type": "code",
   "execution_count": null,
   "metadata": {},
   "outputs": [],
   "source": [
    "from plot import plot_outs\n",
    "\n",
    "n_epochs = 2001\n",
    "for i_epoch in range(n_epochs):\n",
    "    optim_model.zero_grad()\n",
    "    optim_dist.zero_grad()\n",
    "    for i_class in range(len(train_inputs)):\n",
    "        class_ins = train_inputs[i_class]\n",
    "        samples = class_dist.get_samples(i_class, len(train_inputs[i_class]) * 5)\n",
    "        inverted = invert(feature_model, samples)\n",
    "        outs = feature_model(class_ins)\n",
    "        ot_loss_out = ot_euclidean_loss_for_samples(outs[:,:2].squeeze(), samples[:,:2].squeeze())\n",
    "        ot_loss_in = ot_euclidean_loss_for_samples(class_ins.squeeze(), inverted.squeeze())\n",
    "        \n",
    "        other_class_ins = train_inputs[1-i_class]\n",
    "        other_outs = feature_model(other_class_ins)\n",
    "        changed_outs = class_dist.change_to_other_class(other_outs, i_class_from=1-i_class, i_class_to=i_class)\n",
    "        changed_inverted = invert(feature_model, changed_outs)\n",
    "        ot_transformed_in = ot_euclidean_loss_for_samples(class_ins.squeeze(), changed_inverted.squeeze())\n",
    "        ot_transformed_out = ot_euclidean_loss_for_samples(changed_outs[:,:2].squeeze(), samples[:,:2].squeeze(),)\n",
    "        loss = ot_loss_in + ot_loss_out + ot_transformed_in + ot_transformed_out\n",
    "        loss.backward()\n",
    "    optim_model.step()\n",
    "    optim_dist.step()\n",
    "    if i_epoch % (n_epochs // 20) == 0:\n",
    "        print(\"Epoch {:d} of {:d}\".format(i_epoch, n_epochs))\n",
    "        print(\"Loss: {:E}\".format(loss.item()))\n",
    "        print(\"OT Loss In: {:E}\".format(ot_loss_in.item()))\n",
    "        print(\"OT Loss Out: {:E}\".format(ot_loss_out.item()))\n",
    "        print(\"Transformed OT Loss In: {:E}\".format(ot_transformed_in.item()))\n",
    "        print(\"Transformed OT Loss Out: {:E}\".format(ot_transformed_out.item()))\n",
    "        plot_outs(feature_model, train_inputs, test_inputs,\n",
    "                 class_dist)\n",
    "        fig = plt.figure(figsize=(8,2))\n",
    "        plt.plot(var_to_np(th.cat((th.exp(class_dist.class_log_stds),\n",
    "                                 th.exp(class_dist.non_class_log_stds)))),\n",
    "                marker='o')\n",
    "        display_close(fig)"
   ]
  },
  {
   "cell_type": "code",
   "execution_count": null,
   "metadata": {
    "collapsed": true
   },
   "outputs": [],
   "source": []
  },
  {
   "cell_type": "code",
   "execution_count": null,
   "metadata": {
    "collapsed": true
   },
   "outputs": [],
   "source": []
  }
 ],
 "metadata": {
  "kernelspec": {
   "display_name": "Python 3",
   "language": "python",
   "name": "python3"
  },
  "language_info": {
   "codemirror_mode": {
    "name": "ipython",
    "version": 3
   },
   "file_extension": ".py",
   "mimetype": "text/x-python",
   "name": "python",
   "nbconvert_exporter": "python",
   "pygments_lexer": "ipython3",
   "version": "3.6.8"
  }
 },
 "nbformat": 4,
 "nbformat_minor": 2
}
