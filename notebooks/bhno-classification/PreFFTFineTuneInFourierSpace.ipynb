{
 "cells": [
  {
   "cell_type": "code",
   "execution_count": null,
   "metadata": {
    "collapsed": true
   },
   "outputs": [],
   "source": [
    "import logging\n",
    "import importlib\n",
    "importlib.reload(logging) # see https://stackoverflow.com/a/21475297/1469195\n",
    "log = logging.getLogger()\n",
    "log.setLevel('INFO')\n",
    "import sys\n",
    "\n",
    "logging.basicConfig(format='%(asctime)s %(levelname)s : %(message)s',\n",
    "                     level=logging.INFO, stream=sys.stdout)"
   ]
  },
  {
   "cell_type": "code",
   "execution_count": null,
   "metadata": {
    "collapsed": true
   },
   "outputs": [],
   "source": [
    "%%capture\n",
    "import os\n",
    "import site\n",
    "os.sys.path.insert(0, '/home/schirrmr/code/reversible/')\n",
    "os.sys.path.insert(0, '/home/schirrmr/braindecode/code/braindecode/')\n",
    "os.sys.path.insert(0, '/home/schirrmr/code/explaining/reversible//')\n",
    "\n",
    "\n",
    "%load_ext autoreload\n",
    "%autoreload 2\n",
    "import numpy as np\n",
    "import logging\n",
    "log = logging.getLogger()\n",
    "log.setLevel('INFO')\n",
    "import sys\n",
    "logging.basicConfig(format='%(asctime)s %(levelname)s : %(message)s',\n",
    "                     level=logging.INFO, stream=sys.stdout)\n",
    "import matplotlib\n",
    "from matplotlib import pyplot as plt\n",
    "from matplotlib import cm\n",
    "%matplotlib inline\n",
    "%config InlineBackend.figure_format = 'png'\n",
    "matplotlib.rcParams['figure.figsize'] = (12.0, 1.0)\n",
    "matplotlib.rcParams['font.size'] = 14\n",
    "import seaborn\n",
    "seaborn.set_style('darkgrid')\n",
    "\n",
    "from reversible2.sliced import sliced_from_samples\n",
    "from numpy.random import RandomState\n",
    "\n",
    "import torch\n",
    "import torch.nn as nn\n",
    "import torch.nn.functional as F\n",
    "from torch.autograd import Variable\n",
    "import numpy as np\n",
    "import copy\n",
    "import math\n",
    "\n",
    "import itertools\n",
    "import torch as th\n",
    "from braindecode.torch_ext.util import np_to_var, var_to_np\n",
    "from reversible2.splitter import SubsampleSplitter\n",
    "\n",
    "from reversible2.view_as import ViewAs\n",
    "\n",
    "from reversible2.affine import AdditiveBlock\n",
    "from reversible2.plot import display_text, display_close\n",
    "from reversible2.bhno import load_file, create_inputs\n",
    "th.backends.cudnn.benchmark = True"
   ]
  },
  {
   "cell_type": "code",
   "execution_count": null,
   "metadata": {},
   "outputs": [],
   "source": [
    "sensor_names = ['Fz', \n",
    "                'FC3','FC1','FCz','FC2','FC4',\n",
    "                'C5','C3','C1','Cz','C2','C4','C6',\n",
    "                'CP3','CP1','CPz','CP2','CP4',\n",
    "                'P1','Pz','P2',\n",
    "                'POz']\n",
    "orig_train_cnt = load_file('/data/schirrmr/schirrmr/HGD-public/reduced/train/4.mat')\n",
    "train_cnt = orig_train_cnt.reorder_channels(sensor_names)\n",
    "\n",
    "train_inputs = create_inputs(train_cnt, final_hz=256, half_before=True,\n",
    "                            start_ms=500, stop_ms=1500)\n",
    "n_split = len(train_inputs[0]) - 40\n",
    "test_inputs = [t[-40:] for t in train_inputs]\n",
    "train_inputs = [t[:-40] for t in train_inputs]"
   ]
  },
  {
   "cell_type": "code",
   "execution_count": null,
   "metadata": {},
   "outputs": [],
   "source": [
    "cuda = True\n",
    "if cuda:\n",
    "    train_inputs = [i.cuda() for i in train_inputs]\n",
    "    test_inputs = [i.cuda() for i in test_inputs]"
   ]
  },
  {
   "cell_type": "code",
   "execution_count": null,
   "metadata": {
    "collapsed": true
   },
   "outputs": [],
   "source": [
    "from reversible2.invert import invert\n",
    "from reversible2.scale import ScalingLayer\n",
    "from reversible2.constantmemory import sequential_to_constant_memory\n",
    "from reversible2.rfft import RFFT, IRFFT\n",
    "from reversible2.constantmemory import clear_ctx_dicts\n",
    "\n",
    "test_module = nn.Sequential(\n",
    "    ViewAs((-1,22,256,1), (-1,256)),\n",
    "    RFFT(),\n",
    "    ScalingLayer((256,)),\n",
    "    IRFFT(),\n",
    "    ViewAs((-1,256),(-1,22,256,1)) )\n",
    "test_module = sequential_to_constant_memory(test_module)\n",
    "test_module.cuda()\n",
    "test_module.zero_grad()\n",
    "out = test_module(train_inputs[0])\n",
    "ins = invert(test_module, out)\n",
    "assert th.allclose(out, train_inputs[0], rtol=1e-4, atol=1e-4)\n",
    "loss = th.norm(ins)\n",
    "loss.backward()\n",
    "del out, ins, loss\n",
    "clear_ctx_dicts(test_module)\n",
    "test_module.zero_grad()"
   ]
  },
  {
   "cell_type": "code",
   "execution_count": null,
   "metadata": {},
   "outputs": [],
   "source": [
    "feature_model = th.load('/data/schirrmr/schirrmr/reversible/models/notebooks/21ChansOT/feature_model.pkl')\n",
    "\n",
    "class_dist = th.load('/data/schirrmr/schirrmr/reversible/models/notebooks/21ChansOT/class_dist.pkl')\n",
    "feature_model.eval();\n",
    "\n",
    "start_node = feature_model.find_starting_node()\n",
    "\n",
    "start_node.module = nn.Sequential(*(list(test_module.children()) + \n",
    "                                   list(start_node.module.children())))"
   ]
  },
  {
   "cell_type": "code",
   "execution_count": null,
   "metadata": {
    "collapsed": true
   },
   "outputs": [],
   "source": [
    "optim_model = th.optim.Adam(feature_model.parameters(), lr=1e-3, betas=(0.9,0.999))\n",
    "optim_dist = th.optim.Adam(class_dist.parameters(), lr=1e-2, betas=(0.9,0.999))"
   ]
  },
  {
   "cell_type": "markdown",
   "metadata": {},
   "source": [
    "### only scaling factors"
   ]
  },
  {
   "cell_type": "code",
   "execution_count": null,
   "metadata": {
    "collapsed": true
   },
   "outputs": [],
   "source": [
    "#optim_model = th.optim.Adam(test_module.parameters(), lr=1e-2, betas=(0.9,0.999))\n"
   ]
  },
  {
   "cell_type": "code",
   "execution_count": null,
   "metadata": {},
   "outputs": [],
   "source": [
    "%%writefile plot.py\n",
    "import torch as th\n",
    "import matplotlib.pyplot as plt\n",
    "import numpy as np\n",
    "from reversible2.util import var_to_np\n",
    "from reversible2.plot import display_close\n",
    "from matplotlib.patches import Ellipse\n",
    "import seaborn\n",
    "\n",
    "def plot_outs(feature_model, train_inputs, test_inputs, class_dist):\n",
    "    with th.no_grad():\n",
    "        # Compute dist for mean/std of encodings\n",
    "        data_cls_dists = []\n",
    "        for i_class in range(len(train_inputs)):\n",
    "            this_class_outs = feature_model(train_inputs[i_class])[:,class_dist.i_class_inds]\n",
    "            data_cls_dists.append(\n",
    "                th.distributions.MultivariateNormal(th.mean(this_class_outs, dim=0),\n",
    "                covariance_matrix=th.diag(th.std(this_class_outs, dim=0) ** 2)))\n",
    "        for setname, set_inputs in ((\"Train\", train_inputs), (\"Test\", test_inputs)):\n",
    "\n",
    "            outs = [feature_model(ins) for ins in set_inputs]\n",
    "            c_outs = [o[:,class_dist.i_class_inds] for o in outs]\n",
    "\n",
    "            c_outs_all = th.cat(c_outs)\n",
    "\n",
    "            cls_dists = []\n",
    "            for i_class in range(len(c_outs)):\n",
    "                mean, std = class_dist.get_mean_std(i_class)\n",
    "                cls_dists.append(\n",
    "                    th.distributions.MultivariateNormal(mean[class_dist.i_class_inds],\n",
    "                                                        covariance_matrix=th.diag(std[class_dist.i_class_inds] ** 2)))\n",
    "\n",
    "            preds_per_class = [th.stack([cls_dists[i_cls].log_prob(c_out)\n",
    "                             for i_cls in range(len(cls_dists))],\n",
    "                            dim=-1) for c_out in c_outs]\n",
    "\n",
    "            pred_labels_per_class = [np.argmax(var_to_np(preds), axis=1)\n",
    "                           for preds in preds_per_class]\n",
    "\n",
    "            labels = np.concatenate([np.ones(len(set_inputs[i_cls])) * i_cls \n",
    "             for i_cls in range(len(train_inputs))])\n",
    "\n",
    "            acc = np.mean(labels == np.concatenate(pred_labels_per_class))\n",
    "\n",
    "            data_preds_per_class = [th.stack([data_cls_dists[i_cls].log_prob(c_out)\n",
    "                             for i_cls in range(len(cls_dists))],\n",
    "                            dim=-1) for c_out in c_outs]\n",
    "            data_pred_labels_per_class = [np.argmax(var_to_np(data_preds), axis=1)\n",
    "                                for data_preds in data_preds_per_class]\n",
    "            data_acc = np.mean(labels == np.concatenate(data_pred_labels_per_class))\n",
    "\n",
    "            print(\"{:s} Accuracy: {:.1f}%\".format(setname, acc * 100))\n",
    "            fig = plt.figure(figsize=(5,5))\n",
    "            ax = plt.gca()\n",
    "            for i_class in range(len(c_outs)):\n",
    "                #if i_class == 0:\n",
    "                #    continue\n",
    "                o = var_to_np(c_outs[i_class]).squeeze()\n",
    "                incorrect_pred_mask = pred_labels_per_class[i_class] != i_class\n",
    "                plt.scatter(o[:,0], o[:,1], s=20, alpha=0.75, label=[\"Right\", \"Rest\"][i_class])\n",
    "                assert len(incorrect_pred_mask) == len(o)\n",
    "                plt.scatter(o[incorrect_pred_mask,0], o[incorrect_pred_mask,1], marker='x', color='black',\n",
    "                           alpha=1, s=5)\n",
    "                means, stds = class_dist.get_mean_std(i_class)\n",
    "                means = var_to_np(means)[class_dist.i_class_inds]\n",
    "                stds = var_to_np(stds)[class_dist.i_class_inds]\n",
    "                for sigma in [0.5,1,2,3]:\n",
    "                    ellipse = Ellipse(means, stds[0]*sigma, stds[1]*sigma)\n",
    "                    ax.add_artist(ellipse)\n",
    "                    ellipse.set_edgecolor(seaborn.color_palette()[i_class])\n",
    "                    ellipse.set_facecolor(\"None\")\n",
    "            for i_class in range(len(c_outs)):\n",
    "                o = var_to_np(c_outs[i_class]).squeeze()\n",
    "                plt.scatter(np.mean(o[:,0]), np.mean(o[:,1]),\n",
    "                           color=seaborn.color_palette()[i_class+2], s=80, marker=\"^\",\n",
    "                           label=[\"Right Mean\", \"Rest Mean\"][i_class])\n",
    "\n",
    "            plt.title(\"{:6s} Accuracy:        {:.1f}%\\n\"\n",
    "                      \"From data mean/std: {:.1f}%\".format(setname, acc * 100, data_acc * 100))\n",
    "            plt.legend(bbox_to_anchor=(1,1,0,0))\n",
    "            display_close(fig)\n",
    "    return"
   ]
  },
  {
   "cell_type": "code",
   "execution_count": null,
   "metadata": {
    "collapsed": true
   },
   "outputs": [],
   "source": [
    "import pandas as pd\n",
    "df = pd.DataFrame()\n",
    "\n",
    "from reversible2.training import OTTrainer\n",
    "trainer = OTTrainer(feature_model, class_dist,\n",
    "                optim_model, optim_dist)"
   ]
  },
  {
   "cell_type": "code",
   "execution_count": null,
   "metadata": {
    "collapsed": true
   },
   "outputs": [],
   "source": [
    "from reversible2.ot_exact import ot_euclidean_loss_for_samples"
   ]
  },
  {
   "cell_type": "code",
   "execution_count": null,
   "metadata": {
    "collapsed": true
   },
   "outputs": [],
   "source": [
    "class_dist.i_class_inds = [0,1]"
   ]
  },
  {
   "cell_type": "code",
   "execution_count": null,
   "metadata": {},
   "outputs": [],
   "source": [
    "from reversible2.constantmemory import clear_ctx_dicts\n",
    "from reversible2.timer import Timer\n",
    "from plot import plot_outs\n",
    "from reversible2.gradient_penalty import gradient_penalty\n",
    "\n",
    "\n",
    "i_start_epoch_out = 401\n",
    "n_epochs = 1001\n",
    "for i_epoch in range(n_epochs):\n",
    "    epoch_row = {}\n",
    "    with Timer(name='EpochLoop', verbose=False) as loop_time:\n",
    "        loss_on_outs = i_epoch >= i_start_epoch_out\n",
    "        result = trainer.train(train_inputs, loss_on_outs=loss_on_outs)\n",
    "        \n",
    "    epoch_row.update(result)\n",
    "    epoch_row['runtime'] = loop_time.elapsed_secs * 1000\n",
    "    if i_epoch % (n_epochs // 20) != 0:\n",
    "        df = df.append(epoch_row, ignore_index=True)\n",
    "        # otherwise add ot loss in\n",
    "    else:\n",
    "        for i_class in range(len(train_inputs)):\n",
    "            with th.no_grad():\n",
    "                class_ins = train_inputs[i_class]\n",
    "                samples = class_dist.get_samples(i_class, len(train_inputs[i_class]) * 4)\n",
    "                inverted = feature_model.invert(samples)\n",
    "                clear_ctx_dicts(feature_model)\n",
    "                ot_loss_in = ot_euclidean_loss_for_samples(class_ins.view(class_ins.shape[0], -1),\n",
    "                                                           inverted.view(inverted.shape[0], -1)[:(len(class_ins))])\n",
    "                epoch_row['ot_loss_in_{:d}'.format(i_class)] = ot_loss_in.item()\n",
    "        df = df.append(epoch_row, ignore_index=True)\n",
    "        print(\"Epoch {:d} of {:d}\".format(i_epoch, n_epochs))\n",
    "        print(\"Loop Time: {:.0f} ms\".format(loop_time.elapsed_secs * 1000))\n",
    "        display(df.iloc[-3:])\n",
    "        plot_outs(feature_model, train_inputs, test_inputs,\n",
    "                 class_dist)\n",
    "        fig = plt.figure(figsize=(8,2))\n",
    "        plt.plot(var_to_np(th.cat((th.exp(class_dist.class_log_stds),\n",
    "                                 th.exp(class_dist.non_class_log_stds)))),\n",
    "                marker='o')\n",
    "        display_close(fig)\n",
    "        fig = plt.figure(figsize=(8,2))\n",
    "        plt.plot(1 / np.exp(var_to_np(test_module[2].F.log_factors)))\n",
    "        plt.title(\"Factors per FFT component\")\n",
    "        display_close(fig)\n",
    "\n"
   ]
  },
  {
   "cell_type": "code",
   "execution_count": null,
   "metadata": {
    "collapsed": true
   },
   "outputs": [],
   "source": [
    "from reversible2.plot import plot_head_signals_tight\n",
    "inverted_per_class = []\n",
    "for i_class in range(2):\n",
    "    with th.no_grad():\n",
    "        samples = class_dist.get_samples(i_class, len(train_inputs[i_class]) * 4)\n",
    "        inverted = feature_model.invert(samples)\n",
    "        inverted = var_to_np(inverted).squeeze()\n",
    "        signals = var_to_np(train_inputs[i_class]).squeeze()\n",
    "    clear_ctx_dicts(feature_model)\n",
    "    "
   ]
  },
  {
   "cell_type": "code",
   "execution_count": null,
   "metadata": {
    "collapsed": true
   },
   "outputs": [],
   "source": [
    "import matplotlib.style as style\n",
    "style.use('seaborn-poster')\n",
    "seaborn.set_context('poster')\n",
    "\n",
    "seaborn.set_palette(\"colorblind\", )\n",
    "\n"
   ]
  },
  {
   "cell_type": "code",
   "execution_count": null,
   "metadata": {},
   "outputs": [],
   "source": [
    "fig = plt.figure(figsize=(8,2))\n",
    "plt.plot(np.fft.rfftfreq(256,d=1.0/256.0), np.mean(np.abs(np.fft.rfft(signals)), axis=(0,1)),\n",
    "         color=seaborn.color_palette()[2])\n",
    "plt.plot(np.fft.rfftfreq(256,d=1.0/256.0), np.mean(np.abs(np.fft.rfft(inverted)), axis=(0,1)),\n",
    "         color=seaborn.color_palette()[3])\n",
    "plt.xlabel(\"Frequency [Hz]\")\n",
    "plt.ylabel(\"Amplitude\")"
   ]
  },
  {
   "cell_type": "code",
   "execution_count": null,
   "metadata": {},
   "outputs": [],
   "source": [
    "for i_class in range(len(train_inputs)):\n",
    "    with th.no_grad():\n",
    "        class_ins = train_inputs[i_class]\n",
    "        samples = class_dist.get_samples(i_class, len(train_inputs[i_class]) * 4)\n",
    "        inverted = feature_model.invert(samples)\n",
    "        clear_ctx_dicts(feature_model)\n",
    "        ot_loss_in = ot_euclidean_loss_for_samples(class_ins.view(class_ins.shape[0], -1),\n",
    "                                                   inverted.view(inverted.shape[0], -1)[:(len(class_ins))])\n",
    "        epoch_row['ot_loss_in_{:d}'.format(i_class)] = ot_loss_in.item()\n",
    "print(\"Epoch {:d} of {:d}\".format(i_epoch, n_epochs))\n",
    "print(\"Loop Time: {:.0f} ms\".format(loop_time.elapsed_secs * 1000))\n",
    "display(df.iloc[-3:])\n",
    "plot_outs(feature_model, train_inputs, test_inputs,\n",
    "         class_dist)\n",
    "fig = plt.figure(figsize=(8,2))\n",
    "plt.plot(var_to_np(th.cat((th.exp(class_dist.class_log_stds),\n",
    "                         th.exp(class_dist.non_class_log_stds)))),\n",
    "        marker='o')\n",
    "display_close(fig)\n",
    "fig = plt.figure(figsize=(8,2))\n",
    "plt.plot(1 / np.exp(var_to_np(test_module[2].F.log_factors)))\n",
    "plt.title(\"Factors per FFT component\")\n",
    "display_close(fig)"
   ]
  },
  {
   "cell_type": "code",
   "execution_count": null,
   "metadata": {},
   "outputs": [],
   "source": [
    "1/th.exp(test_module[2].F.log_factors)"
   ]
  },
  {
   "cell_type": "code",
   "execution_count": null,
   "metadata": {},
   "outputs": [],
   "source": [
    "from reversible2.plot import plot_head_signals_tight\n",
    "\n",
    "mean_bps_per_class = []\n",
    "for i_class in range(len(train_inputs)):\n",
    "    samples = class_dist.get_samples(i_class, 400)\n",
    "    inverted = feature_model.invert(samples)\n",
    "    mean_bps_per_class.append(\n",
    "        np.mean(np.abs(np.fft.rfft(var_to_np(inverted.squeeze()))), axis=0))\n",
    "\n",
    "fig = plt.figure(figsize=(8,3))\n",
    "plt.plot(np.mean(mean_bps_per_class, axis=1).T)\n",
    "display_close(fig)\n",
    "\n",
    "fig = plot_head_signals_tight(np.stack(mean_bps_per_class, axis=-1), sensor_names=sensor_names,\n",
    "                             figsize=(20,12));"
   ]
  },
  {
   "cell_type": "code",
   "execution_count": null,
   "metadata": {},
   "outputs": [],
   "source": [
    "from reversible2.plot import plot_head_signals_tight\n",
    "\n",
    "mean_bps_per_class = []\n",
    "for i_class in range(len(train_inputs)):\n",
    "    samples = class_dist.get_samples(i_class, 400)\n",
    "    inverted = feature_model.invert(samples)\n",
    "    mean_bps_per_class.append(\n",
    "        np.mean(np.log(np.abs(np.fft.rfft(var_to_np(inverted.squeeze())))), axis=0))\n",
    "\n",
    "fig = plt.figure(figsize=(8,3))\n",
    "plt.plot(np.mean(mean_bps_per_class, axis=1).T)\n",
    "display_close(fig)\n",
    "\n",
    "fig = plot_head_signals_tight(np.stack(mean_bps_per_class, axis=-1), sensor_names=sensor_names,\n",
    "                             figsize=(20,12));"
   ]
  },
  {
   "cell_type": "code",
   "execution_count": null,
   "metadata": {},
   "outputs": [],
   "source": [
    "from reversible2.plot import plot_head_signals_tight\n",
    "\n",
    "mean_bps_per_class = []\n",
    "for i_class in range(len(train_inputs)):\n",
    "    samples = class_dist.get_samples(i_class, 400)\n",
    "    inverted = train_inputs[i_class]\n",
    "    mean_bps_per_class.append(\n",
    "        np.mean(np.log(np.abs(np.fft.rfft(var_to_np(inverted.squeeze())))), axis=0))\n",
    "\n",
    "fig = plt.figure(figsize=(8,3))\n",
    "plt.plot(np.mean(mean_bps_per_class, axis=1).T)\n",
    "display_close(fig)\n",
    "\n",
    "fig = plot_head_signals_tight(np.stack(mean_bps_per_class, axis=-1), sensor_names=sensor_names,\n",
    "                             figsize=(20,12));"
   ]
  },
  {
   "cell_type": "code",
   "execution_count": null,
   "metadata": {
    "collapsed": true
   },
   "outputs": [],
   "source": [
    "from reversible2.plot import plot_head_signals_tight\n",
    "\n",
    "mean_bps_per_class = []\n",
    "for i_class in range(len(train_inputs)):\n",
    "    samples = class_dist.get_samples(i_class, 400)\n",
    "    inverted = feature_model.invert(samples)\n",
    "    mean_bps_per_class.append(\n",
    "        np.mean(np.abs(np.fft.rfft(var_to_np(inverted.squeeze()))), axis=0))\n",
    "\n",
    "fig = plt.figure(figsize=(8,3))\n",
    "plt.plot(np.mean(mean_bps_per_class, axis=1).T)\n",
    "display_close(fig)\n",
    "\n",
    "fig = plot_head_signals_tight(np.stack(mean_bps_per_class, axis=-1), sensor_names=sensor_names,\n",
    "                             figsize=(20,12));"
   ]
  },
  {
   "cell_type": "code",
   "execution_count": null,
   "metadata": {
    "collapsed": true
   },
   "outputs": [],
   "source": [
    "start_node.module[2].module.factors.grad"
   ]
  },
  {
   "cell_type": "code",
   "execution_count": null,
   "metadata": {
    "collapsed": true
   },
   "outputs": [],
   "source": [
    "[p.grad for p in feature_model.parameters()]"
   ]
  }
 ],
 "metadata": {
  "kernelspec": {
   "display_name": "Python 3",
   "language": "python",
   "name": "python3"
  },
  "language_info": {
   "codemirror_mode": {
    "name": "ipython",
    "version": 3
   },
   "file_extension": ".py",
   "mimetype": "text/x-python",
   "name": "python",
   "nbconvert_exporter": "python",
   "pygments_lexer": "ipython3",
   "version": "3.6.8"
  }
 },
 "nbformat": 4,
 "nbformat_minor": 2
}
