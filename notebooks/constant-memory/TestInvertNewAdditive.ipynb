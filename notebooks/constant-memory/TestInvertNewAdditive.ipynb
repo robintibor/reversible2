{
 "cells": [
  {
   "cell_type": "code",
   "execution_count": null,
   "metadata": {
    "collapsed": true
   },
   "outputs": [],
   "source": [
    "import logging\n",
    "import importlib\n",
    "importlib.reload(logging) # see https://stackoverflow.com/a/21475297/1469195\n",
    "log = logging.getLogger()\n",
    "log.setLevel('INFO')\n",
    "import sys\n",
    "\n",
    "logging.basicConfig(format='%(asctime)s %(levelname)s : %(message)s',\n",
    "                     level=logging.INFO, stream=sys.stdout)"
   ]
  },
  {
   "cell_type": "code",
   "execution_count": null,
   "metadata": {
    "collapsed": true
   },
   "outputs": [],
   "source": [
    "%%capture\n",
    "import os\n",
    "import site\n",
    "os.sys.path.insert(0, '/home/schirrmr/code/reversible/')\n",
    "os.sys.path.insert(0, '/home/schirrmr/braindecode/code/braindecode/')\n",
    "os.sys.path.insert(0, '/home/schirrmr/code/explaining/reversible//')\n",
    "\n",
    "\n",
    "%load_ext autoreload\n",
    "%autoreload 2\n",
    "import numpy as np\n",
    "import logging\n",
    "log = logging.getLogger()\n",
    "log.setLevel('INFO')\n",
    "import sys\n",
    "logging.basicConfig(format='%(asctime)s %(levelname)s : %(message)s',\n",
    "                     level=logging.INFO, stream=sys.stdout)\n",
    "import matplotlib\n",
    "from matplotlib import pyplot as plt\n",
    "from matplotlib import cm\n",
    "%matplotlib inline\n",
    "%config InlineBackend.figure_format = 'png'\n",
    "matplotlib.rcParams['figure.figsize'] = (12.0, 1.0)\n",
    "matplotlib.rcParams['font.size'] = 14\n",
    "import seaborn\n",
    "seaborn.set_style('darkgrid')\n",
    "\n",
    "from reversible2.sliced import sliced_from_samples\n",
    "from numpy.random import RandomState\n",
    "\n",
    "import torch\n",
    "import torch.nn as nn\n",
    "import torch.nn.functional as F\n",
    "from torch.autograd import Variable\n",
    "import numpy as np\n",
    "import copy\n",
    "import math\n",
    "\n",
    "import itertools\n",
    "import torch as th\n",
    "from braindecode.torch_ext.util import np_to_var, var_to_np\n",
    "from reversible2.splitter import SubsampleSplitter\n",
    "\n",
    "from reversible2.view_as import ViewAs\n",
    "\n",
    "from reversible2.affine import AdditiveBlock\n",
    "from reversible2.plot import display_text, display_close\n",
    "from reversible2.bhno import load_file, create_inputs\n",
    "th.backends.cudnn.benchmark = True\n",
    "from reversible2.util import set_random_seeds"
   ]
  },
  {
   "cell_type": "code",
   "execution_count": null,
   "metadata": {},
   "outputs": [],
   "source": [
    "from reversible2.util import set_random_seeds\n",
    "from reversible2.affine import AdditiveBlock\n",
    "from reversible2.invert import invert\n",
    "\n",
    "b = th.linspace(0,1,2).unsqueeze(0)\n",
    "\n",
    "def additive_dense_block():\n",
    "    # Reversible Block for 1x20 input\n",
    "    return nn.Sequential(nn.Linear(1,1, bias=False),)\n",
    "\n",
    "\n",
    "set_random_seeds(394834, False)\n",
    "b1a = additive_dense_block()\n",
    "b1b = additive_dense_block()\n",
    "\n",
    "net = nn.Sequential(\n",
    "    AdditiveBlock(b1a,b1b, switched_order=False),)\n",
    "\n",
    "ins = invert(net, b)\n",
    "\n",
    "print(ins.shape)\n",
    "loss = ins.sum()\n",
    "loss.backward()"
   ]
  },
  {
   "cell_type": "code",
   "execution_count": null,
   "metadata": {
    "collapsed": true
   },
   "outputs": [],
   "source": [
    "from reversible2.util import set_random_seeds\n",
    "from reversible2.constantmemory import AdditiveBlockConstantMemory\n",
    "\n",
    "b = th.linspace(0,1,2).unsqueeze(0)\n",
    "\n",
    "def additive_dense_block():\n",
    "    # Reversible Block for 1x20 input\n",
    "    return nn.Sequential(nn.Linear(1,1, bias=False))\n",
    "\n",
    "\n",
    "set_random_seeds(394834, False)\n",
    "b1a = additive_dense_block()\n",
    "b1b = additive_dense_block()\n",
    "\n",
    "net2 = nn.Sequential(\n",
    "    AdditiveBlockConstantMemory(b1a,b1b, keep_input=True),)\n",
    "\n",
    "ins2 = invert(net2, b)\n",
    "\n",
    "loss2 = ins2.sum()\n",
    "loss2.backward()\n",
    "\n",
    "assert th.allclose(ins, ins2)\n",
    "for p1, p2 in zip(net.parameters(), net2.parameters()):\n",
    "    assert th.allclose(p1.grad, p2.grad)\n",
    "    "
   ]
  },
  {
   "cell_type": "code",
   "execution_count": null,
   "metadata": {
    "collapsed": true
   },
   "outputs": [],
   "source": [
    "from reversible2.util import set_random_seeds\n",
    "from reversible2.affine import AdditiveBlock\n",
    "\n",
    "b = th.linspace(0,19,20).unsqueeze(0)\n",
    "\n",
    "def additive_dense_block():\n",
    "    # Reversible Block for 1x20 input\n",
    "    return nn.Sequential(nn.Linear(10,30),\n",
    "                         nn.ReLU(),\n",
    "                        nn.Linear(30,10))\n",
    "\n",
    "\n",
    "set_random_seeds(394834, False)\n",
    "b1a = additive_dense_block()\n",
    "b1b = additive_dense_block()\n",
    "b2a = additive_dense_block()\n",
    "b2b = additive_dense_block()\n",
    "\n",
    "net = nn.Sequential(\n",
    "    AdditiveBlock(b1a,b1b, switched_order=False),\n",
    "    AdditiveBlock(b2a,b2b, switched_order=False))\n",
    "\n",
    "ins = invert(net, b)\n",
    "\n",
    "loss = ins.sum()\n",
    "loss.backward()\n"
   ]
  },
  {
   "cell_type": "code",
   "execution_count": null,
   "metadata": {
    "collapsed": true
   },
   "outputs": [],
   "source": [
    "from reversible2.util import set_random_seeds\n",
    "from reversible2.constantmemory import AdditiveBlockConstantMemory\n",
    "\n",
    "b = th.linspace(0,19,20).unsqueeze(0)\n",
    "\n",
    "def additive_dense_block():\n",
    "    # Reversible Block for 1x20 input\n",
    "    return nn.Sequential(nn.Linear(10,30),\n",
    "                         nn.ReLU(),\n",
    "                        nn.Linear(30,10))\n",
    "\n",
    "\n",
    "set_random_seeds(394834, False)\n",
    "b1a = additive_dense_block()\n",
    "b1b = additive_dense_block()\n",
    "b2a = additive_dense_block()\n",
    "b2b = additive_dense_block()\n",
    "\n",
    "net2 = nn.Sequential(\n",
    "    AdditiveBlockConstantMemory(b1a,b1b, keep_input=True),\n",
    "    AdditiveBlockConstantMemory(b2a,b2b, keep_output=True))\n",
    "\n",
    "ins2 = invert(net2, b)\n",
    "\n",
    "loss2 = ins2.sum()\n",
    "loss2.backward()\n",
    "\n",
    "assert th.allclose(ins, ins2)\n",
    "for p1, p2 in zip(net.parameters(), net2.parameters()):\n",
    "    assert th.allclose(p1.grad, p2.grad)\n",
    "    "
   ]
  },
  {
   "cell_type": "code",
   "execution_count": null,
   "metadata": {
    "collapsed": true
   },
   "outputs": [],
   "source": []
  }
 ],
 "metadata": {
  "kernelspec": {
   "display_name": "Python 3",
   "language": "python",
   "name": "python3"
  },
  "language_info": {
   "codemirror_mode": {
    "name": "ipython",
    "version": 3
   },
   "file_extension": ".py",
   "mimetype": "text/x-python",
   "name": "python",
   "nbconvert_exporter": "python",
   "pygments_lexer": "ipython3",
   "version": "3.6.8"
  }
 },
 "nbformat": 4,
 "nbformat_minor": 2
}
