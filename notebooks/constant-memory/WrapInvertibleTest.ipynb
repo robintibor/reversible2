{
 "cells": [
  {
   "cell_type": "code",
   "execution_count": null,
   "metadata": {
    "collapsed": true
   },
   "outputs": [],
   "source": [
    "%%capture\n",
    "import os\n",
    "import site\n",
    "os.sys.path.insert(0, '/home/schirrmr/code/reversible/')\n",
    "os.sys.path.insert(0, '/home/schirrmr/braindecode/code/braindecode/')\n",
    "os.sys.path.insert(0, '/home/schirrmr/code/explaining/reversible//')\n",
    "\n",
    "\n",
    "%load_ext autoreload\n",
    "%autoreload 2\n",
    "import numpy as np\n",
    "import logging\n",
    "log = logging.getLogger()\n",
    "log.setLevel('INFO')\n",
    "import sys\n",
    "logging.basicConfig(format='%(asctime)s %(levelname)s : %(message)s',\n",
    "                     level=logging.INFO, stream=sys.stdout)\n",
    "import matplotlib\n",
    "from matplotlib import pyplot as plt\n",
    "from matplotlib import cm\n",
    "%matplotlib inline\n",
    "%config InlineBackend.figure_format = 'png'\n",
    "matplotlib.rcParams['figure.figsize'] = (12.0, 1.0)\n",
    "matplotlib.rcParams['font.size'] = 14\n",
    "import seaborn\n",
    "seaborn.set_style('darkgrid')\n",
    "\n",
    "from reversible2.sliced import sliced_from_samples\n",
    "from numpy.random import RandomState\n",
    "\n",
    "import torch\n",
    "import torch.nn as nn\n",
    "import torch.nn.functional as F\n",
    "from torch.autograd import Variable\n",
    "import numpy as np\n",
    "import copy\n",
    "import math\n",
    "\n",
    "import itertools\n",
    "import torch as th\n",
    "from braindecode.torch_ext.util import np_to_var, var_to_np\n",
    "from reversible2.splitter import SubsampleSplitter\n",
    "\n",
    "from reversible2.view_as import ViewAs\n",
    "\n",
    "from reversible2.affine import AdditiveBlock\n",
    "from reversible2.plot import display_text, display_close\n",
    "from reversible2.bhno import load_file, create_inputs\n",
    "th.backends.cudnn.benchmark = True\n",
    "from reversible2.util import set_random_seeds"
   ]
  },
  {
   "cell_type": "code",
   "execution_count": null,
   "metadata": {
    "collapsed": true
   },
   "outputs": [],
   "source": [
    "from ipyexperiments import IPyExperimentsCPU"
   ]
  },
  {
   "cell_type": "code",
   "execution_count": null,
   "metadata": {
    "collapsed": true
   },
   "outputs": [],
   "source": [
    "a = th.linspace(0,1023,1024).unsqueeze(0).repeat(1000,1)\n",
    "a = a.view(1000,2,512,1).detach().requires_grad_(True)\n",
    "set_random_seeds(8394834, False)\n",
    "rand = th.randn(a.shape)\n",
    "net = nn.Sequential(\n",
    "    SubsampleSplitter((2,1), chunk_chans_first=False),\n",
    "    SubsampleSplitter((2,1)),\n",
    "    SubsampleSplitter((2,1)),\n",
    "    SubsampleSplitter((2,1)),\n",
    ")\n",
    "    \n",
    "\n",
    "out = net(a)\n",
    "\n",
    "randed_outs = out * rand.view(*out.shape)\n",
    "loss = th.sum(randed_outs)\n",
    "loss.backward()\n"
   ]
  },
  {
   "cell_type": "markdown",
   "metadata": {},
   "source": [
    "### Simple comparison to old implementation"
   ]
  },
  {
   "cell_type": "code",
   "execution_count": null,
   "metadata": {
    "collapsed": true
   },
   "outputs": [],
   "source": [
    "a2 = th.linspace(0,1023,1024).unsqueeze(0).repeat(1000,1)\n",
    "a2 = a2.view(1000,2,512,1).detach().requires_grad_(True)\n",
    "set_random_seeds(8394834, False)\n",
    "rand = th.randn(a2.shape)\n",
    "net = nn.Sequential(\n",
    "    SubsampleSplitter((2,1), chunk_chans_first=False),\n",
    "    SubsampleSplitter((2,1)),\n",
    "    SubsampleSplitter((2,1)),\n",
    "    SubsampleSplitter((2,1)),\n",
    ")\n",
    "    \n",
    "\n",
    "out = net(a2)\n",
    "\n",
    "randed_outs = out * rand.view(*out.shape)\n",
    "loss = th.sum(randed_outs)\n",
    "loss.backward()\n",
    "a2.grad\n",
    "assert th.allclose(a2.grad, a.grad)"
   ]
  },
  {
   "cell_type": "code",
   "execution_count": null,
   "metadata": {
    "collapsed": true
   },
   "outputs": [],
   "source": [
    "import torch"
   ]
  },
  {
   "cell_type": "code",
   "execution_count": null,
   "metadata": {
    "collapsed": true
   },
   "outputs": [],
   "source": [
    "from reversible2.wrap_invertible import WrapInvertible"
   ]
  },
  {
   "cell_type": "code",
   "execution_count": null,
   "metadata": {},
   "outputs": [],
   "source": [
    "a2 = th.linspace(0,1023,1024).unsqueeze(0).repeat(1000,1)\n",
    "a2 = a2.view(1000,2,512,1).detach().requires_grad_(True)\n",
    "set_random_seeds(8394834, False)\n",
    "rand = th.randn(a2.shape)\n",
    "net = nn.Sequential(\n",
    "    WrapInvertible(SubsampleSplitter((2,1), chunk_chans_first=False), keep_input=True),\n",
    "    WrapInvertible(SubsampleSplitter((2,1))),\n",
    "    WrapInvertible(SubsampleSplitter((2,1))),\n",
    "    WrapInvertible(SubsampleSplitter((2,1)), keep_output=True),\n",
    ")\n",
    "    \n",
    "\n",
    "out2 = net(a2)\n",
    "\n",
    "randed_outs2 = out2 * rand.view(*out2.shape)\n",
    "loss2 = th.sum(randed_outs2)\n",
    "loss2.backward()\n",
    "a2.grad\n",
    "assert th.allclose(randed_outs2, randed_outs)\n",
    "assert th.allclose(a2.grad, a.grad)"
   ]
  },
  {
   "cell_type": "code",
   "execution_count": null,
   "metadata": {
    "collapsed": true
   },
   "outputs": [],
   "source": [
    "a2 = th.linspace(0,1023,1024).unsqueeze(0).repeat(1000,1)\n",
    "a2 = a2.view(1000,2,512,1).detach().requires_grad_(True)\n",
    "set_random_seeds(8394834, False)\n",
    "rand = th.randn(a2.shape)\n",
    "net = nn.Sequential(\n",
    "    WrapInvertible(SubsampleSplitter((2,1), chunk_chans_first=False), grad_is_inverse=True, keep_input=True),\n",
    "    WrapInvertible(SubsampleSplitter((2,1)), grad_is_inverse=True, ),\n",
    "    WrapInvertible(SubsampleSplitter((2,1)), grad_is_inverse=True, ),\n",
    "    WrapInvertible(SubsampleSplitter((2,1)), grad_is_inverse=True, keep_output=True),\n",
    ")\n",
    "    \n",
    "\n",
    "out2 = net(a2)\n",
    "\n",
    "randed_outs2 = out2 * rand.view(*out2.shape)\n",
    "loss2 = th.sum(randed_outs2)\n",
    "loss2.backward()\n",
    "a2.grad\n",
    "assert th.allclose(randed_outs2, randed_outs)\n",
    "assert th.allclose(a2.grad, a.grad)"
   ]
  },
  {
   "cell_type": "code",
   "execution_count": null,
   "metadata": {
    "collapsed": true
   },
   "outputs": [],
   "source": []
  }
 ],
 "metadata": {
  "kernelspec": {
   "display_name": "Python 3",
   "language": "python",
   "name": "python3"
  },
  "language_info": {
   "codemirror_mode": {
    "name": "ipython",
    "version": 3
   },
   "file_extension": ".py",
   "mimetype": "text/x-python",
   "name": "python",
   "nbconvert_exporter": "python",
   "pygments_lexer": "ipython3",
   "version": "3.6.8"
  }
 },
 "nbformat": 4,
 "nbformat_minor": 2
}
