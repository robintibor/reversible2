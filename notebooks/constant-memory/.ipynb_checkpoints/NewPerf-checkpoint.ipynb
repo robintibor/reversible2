{
 "cells": [
  {
   "cell_type": "code",
   "execution_count": null,
   "metadata": {
    "collapsed": true
   },
   "outputs": [],
   "source": [
    "import logging\n",
    "import importlib\n",
    "importlib.reload(logging) # see https://stackoverflow.com/a/21475297/1469195\n",
    "log = logging.getLogger()\n",
    "log.setLevel('INFO')\n",
    "import sys\n",
    "\n",
    "logging.basicConfig(format='%(asctime)s %(levelname)s : %(message)s',\n",
    "                     level=logging.INFO, stream=sys.stdout)"
   ]
  },
  {
   "cell_type": "code",
   "execution_count": null,
   "metadata": {
    "collapsed": true
   },
   "outputs": [],
   "source": [
    "%%capture\n",
    "import os\n",
    "import site\n",
    "os.sys.path.insert(0, '/home/schirrmr/code/reversible/')\n",
    "os.sys.path.insert(0, '/home/schirrmr/braindecode/code/braindecode/')\n",
    "os.sys.path.insert(0, '/home/schirrmr/code/explaining/reversible//')\n",
    "\n",
    "\n",
    "%load_ext autoreload\n",
    "%autoreload 2\n",
    "import numpy as np\n",
    "import logging\n",
    "log = logging.getLogger()\n",
    "log.setLevel('INFO')\n",
    "import sys\n",
    "logging.basicConfig(format='%(asctime)s %(levelname)s : %(message)s',\n",
    "                     level=logging.INFO, stream=sys.stdout)\n",
    "import matplotlib\n",
    "from matplotlib import pyplot as plt\n",
    "from matplotlib import cm\n",
    "%matplotlib inline\n",
    "%config InlineBackend.figure_format = 'png'\n",
    "matplotlib.rcParams['figure.figsize'] = (12.0, 1.0)\n",
    "matplotlib.rcParams['font.size'] = 14\n",
    "import seaborn\n",
    "seaborn.set_style('darkgrid')\n",
    "\n",
    "from reversible2.sliced import sliced_from_samples\n",
    "from numpy.random import RandomState\n",
    "\n",
    "import torch\n",
    "import torch.nn as nn\n",
    "import torch.nn.functional as F\n",
    "from torch.autograd import Variable\n",
    "import numpy as np\n",
    "import copy\n",
    "import math\n",
    "\n",
    "import itertools\n",
    "import torch as th\n",
    "from braindecode.torch_ext.util import np_to_var, var_to_np\n",
    "from reversible2.splitter import SubsampleSplitter\n",
    "\n",
    "from reversible2.view_as import ViewAs\n",
    "\n",
    "from reversible2.affine import AdditiveBlock\n",
    "from reversible2.plot import display_text, display_close\n",
    "from reversible2.bhno import load_file, create_inputs\n",
    "th.backends.cudnn.benchmark = True"
   ]
  },
  {
   "cell_type": "code",
   "execution_count": null,
   "metadata": {},
   "outputs": [],
   "source": [
    "rand_inputs = th.randn(440,128,1024,1, device='cuda')\n",
    "print((rand_inputs.numel()*  4) / (1024 ** 2))"
   ]
  },
  {
   "cell_type": "code",
   "execution_count": null,
   "metadata": {
    "collapsed": true
   },
   "outputs": [],
   "source": [
    "cuda = True"
   ]
  },
  {
   "cell_type": "code",
   "execution_count": null,
   "metadata": {
    "collapsed": true
   },
   "outputs": [],
   "source": [
    "from reversible2.graph import Node\n",
    "from reversible2.branching import CatChans, ChunkChans, Select"
   ]
  },
  {
   "cell_type": "code",
   "execution_count": null,
   "metadata": {
    "collapsed": true
   },
   "outputs": [],
   "source": [
    "from reversible2.constantmemory import AdditiveBlockConstantMemory"
   ]
  },
  {
   "cell_type": "code",
   "execution_count": null,
   "metadata": {},
   "outputs": [],
   "source": [
    "def conv_add_3x3_const(n_c, n_i_c, keep_input=False, final_block=False):\n",
    "    return AdditiveBlockConstantMemory(\n",
    "        nn.Sequential(\n",
    "            nn.Conv2d(n_c // 2, n_i_c, (3, 1), stride=1, padding=(1, 0),\n",
    "                      bias=True),\n",
    "            nn.ReLU(),\n",
    "            nn.Conv2d(n_i_c, n_c // 2, (3, 1), stride=1, padding=(1, 0),\n",
    "                      bias=True)),\n",
    "\n",
    "        nn.Sequential(\n",
    "            nn.Conv2d(n_c // 2, n_i_c, (3, 1), stride=1, padding=(1, 0),\n",
    "                      bias=True),\n",
    "            nn.ReLU(),\n",
    "            nn.Conv2d(n_i_c, n_c // 2, (3, 1), stride=1, padding=(1, 0),\n",
    "                      bias=True)),\n",
    "        keep_input=keep_input, final_block=final_block)\n",
    "def dense_add_const(n_c, n_i_c, keep_input=False, final_block=False):\n",
    "    return AdditiveBlockConstantMemory(\n",
    "        nn.Sequential(\n",
    "            nn.Linear(n_c // 2, n_i_c, ),\n",
    "            nn.ReLU(),\n",
    "            nn.Linear(n_i_c, n_c // 2, )),\n",
    "\n",
    "        nn.Sequential(\n",
    "            nn.Linear(n_c // 2, n_i_c, ),\n",
    "            nn.ReLU(),\n",
    "            nn.Linear(n_i_c, n_c // 2, )),\n",
    "    keep_input=keep_input, final_block=final_block)"
   ]
  },
  {
   "cell_type": "code",
   "execution_count": null,
   "metadata": {
    "collapsed": true
   },
   "outputs": [],
   "source": [
    "from reversible2.wrap_invertible import WrapInvertible"
   ]
  },
  {
   "cell_type": "code",
   "execution_count": null,
   "metadata": {
    "collapsed": true
   },
   "outputs": [],
   "source": [
    "from reversible2.blocks import conv_add_block_3x3, dense_add_block"
   ]
  },
  {
   "cell_type": "code",
   "execution_count": null,
   "metadata": {},
   "outputs": [],
   "source": [
    "from copy import deepcopy\n",
    "from reversible2.graph import Node\n",
    "from reversible2.distribution import TwoClassDist\n",
    "\n",
    "from reversible2.rfft import RFFT, Interleave\n",
    "from reversible2.util import set_random_seeds\n",
    "from torch.nn import ConstantPad2d\n",
    "import torch as th\n",
    "from reversible2.splitter import SubsampleSplitter\n",
    "\n",
    "set_random_seeds(2019011641, cuda)\n",
    "n_chans = 128\n",
    "base_model = nn.Sequential(\n",
    "    WrapInvertible(SubsampleSplitter(stride=[2,1],chunk_chans_first=False),\n",
    "                   grad_is_inverse=True, keep_input=True),# 2 x 256\n",
    "    conv_add_3x3_const(2*n_chans,32),\n",
    "    conv_add_3x3_const(2*n_chans,32),\n",
    "    WrapInvertible(SubsampleSplitter(stride=[2,1],chunk_chans_first=True), grad_is_inverse=True), # 4 x 128\n",
    "    conv_add_3x3_const(4*n_chans,32),\n",
    "    conv_add_3x3_const(4*n_chans,32),\n",
    "    WrapInvertible(SubsampleSplitter(stride=[2,1],chunk_chans_first=True), grad_is_inverse=True), # 8 x 64\n",
    "    conv_add_3x3_const(8*n_chans,32),\n",
    "    conv_add_3x3_const(8*n_chans,32, final_block=True))\n",
    "base_model.cuda();\n",
    "\n",
    "branch_1_a =  nn.Sequential(\n",
    "    WrapInvertible(SubsampleSplitter(stride=[2,1],chunk_chans_first=False), \n",
    "                   grad_is_inverse=True, keep_input=True), # 8 x 32\n",
    "    conv_add_3x3_const(8*n_chans,32),\n",
    "    conv_add_3x3_const(8*n_chans,32),\n",
    "    WrapInvertible(SubsampleSplitter(stride=[2,1],chunk_chans_first=True),\n",
    "                   grad_is_inverse=True),# 16 x 16\n",
    "    conv_add_3x3_const(16*n_chans,32),\n",
    "    conv_add_3x3_const(16*n_chans,32),\n",
    "    WrapInvertible(SubsampleSplitter(stride=[2,1],chunk_chans_first=True),\n",
    "                   grad_is_inverse=True), # 32 x 8\n",
    "    conv_add_3x3_const(32*n_chans,32),\n",
    "    conv_add_3x3_const(32*n_chans,32, final_block=True),\n",
    ")\n",
    "branch_1_b = nn.Sequential(\n",
    "    *(list(deepcopy(branch_1_a).children()) + [\n",
    "    WrapInvertible(ViewAs((-1, 32*n_chans,16,1), (-1,512*n_chans)),\n",
    "                   grad_is_inverse=True, keep_input=True),\n",
    "    dense_add_const(512*n_chans,32),\n",
    "    dense_add_const(512*n_chans,32),\n",
    "    dense_add_const(512*n_chans,32),\n",
    "    dense_add_const(512*n_chans,32, final_block=True),\n",
    "]))\n",
    "branch_1_a.cuda();\n",
    "branch_1_b.cuda();\n",
    "\n",
    "branch_2_a = nn.Sequential(\n",
    "    WrapInvertible(SubsampleSplitter(stride=[2,1], chunk_chans_first=False),\n",
    "                   keep_input=True, grad_is_inverse=True),# 32 x 4\n",
    "    conv_add_3x3_const(32*n_chans,32),\n",
    "    conv_add_3x3_const(32*n_chans,32),\n",
    "    WrapInvertible(SubsampleSplitter(stride=[2,1],chunk_chans_first=True),\n",
    "                   grad_is_inverse=True),# 64 x 2\n",
    "    conv_add_3x3_const(64*n_chans,32),\n",
    "    conv_add_3x3_const(64*n_chans,32),\n",
    "    WrapInvertible(SubsampleSplitter(stride=[2,1],chunk_chans_first=True),\n",
    "                   grad_is_inverse=True), # 128 x 1\n",
    "    WrapInvertible(ViewAs((-1, 128*n_chans,2,1), (-1,256*n_chans)),\n",
    "                   grad_is_inverse=True),\n",
    "    dense_add_const(256*n_chans,64),\n",
    "    dense_add_const(256*n_chans,64),\n",
    "    dense_add_const(256*n_chans,64),\n",
    "    dense_add_const(256*n_chans,64, final_block=True),\n",
    ")\n",
    "\n",
    "\n",
    "branch_2_b = deepcopy(branch_2_a).cuda()\n",
    "branch_2_a.cuda();\n",
    "branch_2_b.cuda();\n",
    "\n",
    "final_model = nn.Sequential(\n",
    "    dense_add_const(1024*n_chans,256,keep_input=True),\n",
    "    dense_add_const(1024*n_chans,256),\n",
    "    dense_add_const(1024*n_chans,256),\n",
    "    dense_add_const(1024*n_chans,256, final_block=True),\n",
    "    #RFFT(),\n",
    "    #WrapInvertible(RFFT(), final_block=True),\n",
    ")\n",
    "final_model.cuda();"
   ]
  },
  {
   "cell_type": "code",
   "execution_count": null,
   "metadata": {},
   "outputs": [],
   "source": [
    "o = Node(None, base_model)\n",
    "o = Node(o, ChunkChans(2))\n",
    "o1a = Node(o, Select(0))\n",
    "o1b = Node(o, Select(1))\n",
    "o1a = Node(o1a, branch_1_a)\n",
    "o1b = Node(o1b, branch_1_b)\n",
    "o2 = Node(o1a, ChunkChans(2))\n",
    "o2a = Node(o2, Select(0))\n",
    "o2b = Node(o2, Select(1))\n",
    "o2a = Node(o2a, branch_2_a)\n",
    "o2b = Node(o2b, branch_2_b)\n",
    "o = Node([o1b,o2a,o2b], CatChans())\n",
    "o = Node(o, final_model)\n",
    "feature_model = o\n",
    "if cuda:\n",
    "    feature_model.cuda()\n",
    "feature_model.eval();"
   ]
  },
  {
   "cell_type": "code",
   "execution_count": null,
   "metadata": {},
   "outputs": [],
   "source": [
    "\n",
    "feature_model = o\n",
    "outs = feature_model(rand_inputs[:2])\n",
    "inverted = feature_model.invert(outs)\n",
    "loss = th.sum(inverted ** 2)\n",
    "loss.backward()\n",
    "clear_ctx_dicts(feature_model)"
   ]
  },
  {
   "cell_type": "code",
   "execution_count": null,
   "metadata": {
    "collapsed": true
   },
   "outputs": [],
   "source": [
    "from reversible2.constantmemory import clear_ctx_dicts"
   ]
  },
  {
   "cell_type": "code",
   "execution_count": null,
   "metadata": {},
   "outputs": [],
   "source": [
    "o = Node(None, base_model)\n",
    "o = Node(o, ChunkChans(2))\n",
    "o1a = Node(o, Select(0))\n",
    "o1b = Node(o, Select(1))\n",
    "o1a = Node(o1a, branch_1_a)\n",
    "o1b = Node(o1b, branch_1_a)\n",
    "o = Node([o1a,o1b,], CatChans())\n",
    "\n",
    "feature_model = o\n",
    "outs = feature_model(rand_inputs[:2])\n",
    "inverted = feature_model.invert(outs)\n",
    "loss = th.sum(inverted ** 2)\n",
    "loss.backward()\n",
    "clear_ctx_dicts(feature_model)"
   ]
  },
  {
   "cell_type": "code",
   "execution_count": null,
   "metadata": {},
   "outputs": [],
   "source": [
    "#torch.autograd.set_detect_anomaly(True)"
   ]
  },
  {
   "cell_type": "code",
   "execution_count": null,
   "metadata": {
    "collapsed": true
   },
   "outputs": [],
   "source": [
    "a = th.ones(13,22,512,1, device='cuda')\n",
    "b = ViewAs((-1,22,512,1), a.size())(a)"
   ]
  },
  {
   "cell_type": "code",
   "execution_count": null,
   "metadata": {},
   "outputs": [],
   "source": [
    "from reversible2.constantmemory import AdditiveBlockConstantMemory\n",
    "from reversible2.wrap_invertible import WrapInvertible\n",
    "\n",
    "\n",
    "branch_1_b = nn.Sequential(\n",
    "    *(list(deepcopy(branch_1_a).children())) +  [\n",
    "    WrapInvertible(ViewAs((-1, 32*n_chans,16,1), (-1,512*n_chans)),\n",
    "                   grad_is_inverse=True, keep_input=True),])\n",
    "branch_1_b = nn.Sequential(\n",
    "    *(list(deepcopy(branch_1_a).children())) +  [\n",
    "    conv_add_3x3_const(32*n_chans,32, keep_input=True, final_block=True),\n",
    "    ])\n",
    "        \n",
    "branch_1_b = nn.Sequential(\n",
    "    *(list(deepcopy(branch_1_a).children())) +  [\n",
    "        WrapInvertible(ViewAs((-1, 32*n_chans,16,1), (-1,512*n_chans)), keep_input=True,),\n",
    "        WrapInvertible(ViewAs((-1, 512*n_chans), (-1,512*n_chans)),\n",
    "                      final_block=True),\n",
    "        ])\n",
    "branch_1_b = nn.Sequential(\n",
    "    *(list(deepcopy(branch_1_a).children())) +  [\n",
    "        ViewAs((-1, 32*n_chans,16,1), (-1,512*n_chans)),\n",
    "        dense_add_block(512*n_chans,2),\n",
    "        ])\n",
    "\n",
    "# Works\n",
    "branch_1_b = nn.Sequential(\n",
    "    *(list(deepcopy(branch_1_a).children())) +  [\n",
    "        \n",
    "    WrapInvertible(SubsampleSplitter(stride=[2,1],chunk_chans_first=True),\n",
    "                   keep_input=True,\n",
    "                   grad_is_inverse=True),\n",
    "        ])\n",
    "\n",
    "# still works\n",
    "\n",
    "branch_1_b = nn.Sequential(\n",
    "    *(list(deepcopy(branch_1_a).children())) +  [\n",
    "        \n",
    "        WrapInvertible(SubsampleSplitter(stride=[2,1],chunk_chans_first=True),\n",
    "                       keep_input=True,\n",
    "                       final_block=True,\n",
    "                      grad_is_inverse=True),\n",
    "        ])\n",
    "\n",
    "branch_1_b = nn.Sequential(\n",
    "    *(list(deepcopy(branch_1_a).children())) +  [\n",
    "        WrapInvertible(ViewAs((-1, 32*n_chans,16,1), (-1,512*n_chans)), keep_input=True,\n",
    "                       final_block=True,\n",
    "                      grad_is_inverse=True),\n",
    "        ])\n",
    "o = Node(None, base_model)\n",
    "o = Node(o, ChunkChans(2))\n",
    "o1a = Node(o, Select(0))\n",
    "o1b = Node(o, Select(1))\n",
    "o1a = Node(o1a, branch_1_b)\n",
    "o1b = Node(o1b, branch_1_b)\n",
    "o = Node([o1a,o1b,], CatChans())\n",
    "\n",
    "feature_model = o\n",
    "feature_model.cuda();\n",
    "outs = feature_model(rand_inputs[:2])\n",
    "#inverted = feature_model.invert(outs)\n",
    "loss = th.sum(outs ** 2)\n",
    "loss.backward()\n",
    "clear_ctx_dicts(feature_model)"
   ]
  },
  {
   "cell_type": "code",
   "execution_count": null,
   "metadata": {
    "collapsed": true
   },
   "outputs": [],
   "source": [
    "from reversible2.view_as import ViewAs"
   ]
  },
  {
   "cell_type": "code",
   "execution_count": null,
   "metadata": {},
   "outputs": [],
   "source": [
    "from reversible2.constantmemory import AdditiveBlockConstantMemory\n",
    "from reversible2.wrap_invertible import WrapInvertible\n",
    "\n",
    "# This runs fine:\n",
    "\n",
    "\n",
    "test_model = nn.Sequential(\n",
    "    conv_add_block_3x3(n_chans, 32),\n",
    "        #conv_add_3x3_const(n_chans,32, keep_input=True, final_block=True),\n",
    "        WrapInvertible(SubsampleSplitter(stride=[2,1],chunk_chans_first=True),\n",
    "                       keep_input=True,\n",
    "                       final_block=True,\n",
    "                      grad_is_inverse=True),\n",
    "        )\n",
    "\n",
    "# this works:\n",
    "test_model = nn.Sequential(\n",
    "        conv_add_3x3_const(n_chans,32, keep_input=True, final_block=True),\n",
    "        WrapInvertible(ViewAs((-1, n_chans,1024,1), (-1,1024*n_chans)),\n",
    "                       keep_input=True,\n",
    "                       final_block=True,\n",
    "                      grad_is_inverse=True),\n",
    "        )\n",
    "# this crashes\n",
    "test_model = nn.Sequential(\n",
    "        conv_add_3x3_const(n_chans,32, keep_input=True, final_block=True),\n",
    "        WrapInvertible(ViewAs((-1, n_chans,1024,1), (-1,1024*n_chans)),\n",
    "                       keep_input=True,\n",
    "                      grad_is_inverse=True),\n",
    "        WrapInvertible(ViewAs((-1, 1024*n_chans), (-1,1024*n_chans)),\n",
    "                       final_block=True,\n",
    "                      grad_is_inverse=True),\n",
    "        )\n",
    "feature_model = test_model\n",
    "feature_model.cuda();\n",
    "outs = feature_model(rand_inputs[:2])\n",
    "#inverted = feature_model.invert(outs)\n",
    "loss = th.sum(outs ** 2)\n",
    "loss.backward()\n",
    "clear_ctx_dicts(feature_model)"
   ]
  },
  {
   "cell_type": "code",
   "execution_count": null,
   "metadata": {},
   "outputs": [],
   "source": []
  },
  {
   "cell_type": "code",
   "execution_count": null,
   "metadata": {
    "collapsed": true
   },
   "outputs": [],
   "source": [
    "b = a.view(13,22,512,1)"
   ]
  },
  {
   "cell_type": "code",
   "execution_count": null,
   "metadata": {},
   "outputs": [],
   "source": [
    "a.shape"
   ]
  },
  {
   "cell_type": "code",
   "execution_count": null,
   "metadata": {},
   "outputs": [],
   "source": [
    "a.view(13,22*512)"
   ]
  },
  {
   "cell_type": "code",
   "execution_count": null,
   "metadata": {},
   "outputs": [],
   "source": [
    "a.shape"
   ]
  },
  {
   "cell_type": "code",
   "execution_count": null,
   "metadata": {},
   "outputs": [],
   "source": [
    "128*1024"
   ]
  },
  {
   "cell_type": "code",
   "execution_count": null,
   "metadata": {
    "collapsed": true
   },
   "outputs": [],
   "source": [
    "o = Node(None, base_model)\n",
    "o = Node(o, ChunkChans(2))\n",
    "o1a = Node(o, Select(0))\n",
    "o1b = Node(o, Select(1))\n",
    "o1a = Node(o1a, branch_1_a)\n",
    "o1b = Node(o1b, branch_1_b)\n",
    "o2 = Node(o1a, ChunkChans(2))\n",
    "o2a = Node(o2, Select(0))\n",
    "o2b = Node(o2, Select(1))\n",
    "o2a = Node(o2a, branch_2_a)\n",
    "o2b = Node(o2b, branch_2_b)\n",
    "o = Node([o1b,o2a,o2b], CatChans())\n",
    "#o = Node(o, final_model)\n",
    "feature_model = o\n",
    "if cuda:\n",
    "    feature_model.cuda()\n",
    "feature_model.eval();"
   ]
  },
  {
   "cell_type": "code",
   "execution_count": null,
   "metadata": {},
   "outputs": [],
   "source": [
    "from reversible2.constantmemory import clear_ctx_dicts"
   ]
  },
  {
   "cell_type": "code",
   "execution_count": null,
   "metadata": {},
   "outputs": [],
   "source": [
    "outs = feature_model(rand_inputs[:2])\n",
    "inverted = feature_model.invert(outs)\n",
    "loss = th.sum(inverted ** 2)\n",
    "loss.backward()\n",
    "clear_ctx_dicts(feature_model)"
   ]
  },
  {
   "cell_type": "code",
   "execution_count": null,
   "metadata": {},
   "outputs": [],
   "source": [
    "%%time\n",
    "for _ in range(2):\n",
    "    outs = feature_model(rand_inputs)\n",
    "    inverted = feature_model.invert(outs)\n",
    "    loss = th.sum(inverted ** 2)\n",
    "    loss.backward()\n",
    "    clear_ctx_dicts(feature_model)\n"
   ]
  },
  {
   "cell_type": "code",
   "execution_count": null,
   "metadata": {
    "collapsed": true
   },
   "outputs": [],
   "source": [
    "del outs"
   ]
  },
  {
   "cell_type": "code",
   "execution_count": null,
   "metadata": {},
   "outputs": [],
   "source": [
    "%%time \n",
    "# between 60 to 80\n",
    "outs = feature_model(rand_inputs[:50])\n",
    "inverted = feature_model.invert(outs)"
   ]
  }
 ],
 "metadata": {
  "kernelspec": {
   "display_name": "Python 3",
   "language": "python",
   "name": "python3"
  },
  "language_info": {
   "codemirror_mode": {
    "name": "ipython",
    "version": 3
   },
   "file_extension": ".py",
   "mimetype": "text/x-python",
   "name": "python",
   "nbconvert_exporter": "python",
   "pygments_lexer": "ipython3",
   "version": "3.6.8"
  }
 },
 "nbformat": 4,
 "nbformat_minor": 2
}
