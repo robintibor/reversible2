{
 "cells": [
  {
   "cell_type": "code",
   "execution_count": null,
   "metadata": {
    "collapsed": true
   },
   "outputs": [],
   "source": [
    "import logging\n",
    "import importlib\n",
    "importlib.reload(logging) # see https://stackoverflow.com/a/21475297/1469195\n",
    "log = logging.getLogger()\n",
    "log.setLevel('INFO')\n",
    "import sys\n",
    "\n",
    "logging.basicConfig(format='%(asctime)s %(levelname)s : %(message)s',\n",
    "                     level=logging.INFO, stream=sys.stdout)"
   ]
  },
  {
   "cell_type": "code",
   "execution_count": null,
   "metadata": {
    "collapsed": true
   },
   "outputs": [],
   "source": [
    "import os\n",
    "os.sys.path.insert(0, '/home/schirrmr/code/memcnn/')\n",
    "\n",
    "import unittest\n",
    "import torch\n",
    "import torch.nn\n",
    "from torch.autograd import Variable\n",
    "import memcnn.models.revop as revop\n",
    "import numpy as np\n",
    "import copy"
   ]
  },
  {
   "cell_type": "code",
   "execution_count": null,
   "metadata": {
    "collapsed": true
   },
   "outputs": [],
   "source": [
    "dims = (2, 10, 8, 8)\n",
    "data = np.random.random(dims).astype(np.float32)\n",
    "target_data = np.random.random(dims).astype(np.float32)\n",
    "\n",
    "class SubModule(torch.nn.Module):\n",
    "    def __init__(self):\n",
    "        super(SubModule, self).__init__()\n",
    "        self.bn = torch.nn.BatchNorm2d(10 // 2)\n",
    "        self.conv = torch.nn.Conv2d(10 // 2, 10 // 2, (3, 3), padding=1)\n",
    "\n",
    "    def forward(self, x):\n",
    "        return self.bn(self.conv(x))\n",
    "\n",
    "Gm = SubModule()"
   ]
  },
  {
   "cell_type": "code",
   "execution_count": null,
   "metadata": {
    "collapsed": true
   },
   "outputs": [],
   "source": [
    "s_grad = [p.data.numpy().copy() for p in Gm.parameters()]"
   ]
  },
  {
   "cell_type": "code",
   "execution_count": null,
   "metadata": {},
   "outputs": [],
   "source": [
    "class ReversibleOperationsTestCase(unittest.TestCase):\n",
    "    def test_reversible_block_fwd_bwd(self):\n",
    "        for _ in range(1): # was 10\n",
    "            for bwd in [False]:#, True]:\n",
    "                for coupling in ['additive']:  # , 'affine']:\n",
    "                    impl_out, impl_grad = [], []\n",
    "                    for keep_input in [False]:#, True]:\n",
    "                        for implementation_fwd in [-1, 0,]:#, 1, 1]:\n",
    "                            for implementation_bwd in [-1, 0]:#, 1]:\n",
    "                                print(\"Running imp_fwd: {:d}, imp_bwd: {:d}\".format(\n",
    "                                    implementation_fwd, implementation_bwd))\n",
    "                                keep_input = keep_input or (implementation_bwd == -1)\n",
    "                                # print(bwd, coupling, keep_input, implementation_fwd, implementation_bwd)\n",
    "                                # test with zero padded convolution\n",
    "                                X = Variable(torch.from_numpy(data.copy())).clone()\n",
    "                                Ytarget = Variable(torch.from_numpy(target_data.copy())).clone()\n",
    "                                Xshape = X.shape\n",
    "                                Gm2 = copy.deepcopy(Gm)\n",
    "                                rb = revop.ReversibleBlock(Gm2, coupling=coupling, implementation_fwd=implementation_fwd,\n",
    "                                                           implementation_bwd=implementation_bwd, keep_input=keep_input)\n",
    "                                from torch import nn\n",
    "                                class DoubleRb(nn.Module):\n",
    "                                    def __init__(self, rb):\n",
    "                                        super(DoubleRb, self).__init__()\n",
    "                                        self.rb = rb\n",
    "                                        self.rb2 = copy.deepcopy(self.rb)\n",
    "\n",
    "                                    def forward(self, x):\n",
    "                                        return self.rb2(self.rb(x))\n",
    "\n",
    "                                    def inverse(self, y):\n",
    "                                        return self.rb.inverse(self.rb2.inverse(y))\n",
    "                                rb = DoubleRb(rb)\n",
    "                                rb.train()\n",
    "                                rb.zero_grad()\n",
    "\n",
    "                                optim = torch.optim.RMSprop(rb.parameters())\n",
    "                                optim.zero_grad()\n",
    "\n",
    "                                if not bwd:\n",
    "                                    Y = rb(X)\n",
    "                                    Yrev = Y.clone()\n",
    "                                    Xinv = rb.inverse(Yrev)\n",
    "                                else:\n",
    "                                    Y = rb.inverse(X)\n",
    "                                    Yrev = Y.clone()\n",
    "                                    Xinv = rb(Yrev)\n",
    "                                loss = torch.nn.MSELoss()(Y, Ytarget)\n",
    "\n",
    "                                # has input been retained/discarded after forward (and backward) passes?\n",
    "                                if keep_input:\n",
    "                                    self.assertTrue(X.data.shape == Xshape)\n",
    "                                    self.assertTrue(Y.data.shape == Yrev.shape)\n",
    "                                else:\n",
    "                                    self.assertTrue(len(X.data.shape) == 0 or (len(X.data.shape) == 1 and X.data.shape[0] == 0))\n",
    "                                    self.assertTrue(len(Yrev.data.shape) == 0 or (len(Yrev.data.shape) == 1\n",
    "                                                                                  and Yrev.data.shape[0] == 0))\n",
    "\n",
    "                                optim.zero_grad()\n",
    "                                print(\"loss bwd\")\n",
    "                                loss.backward()\n",
    "                                print(\"bwd completed\")\n",
    "                                optim.step()\n",
    "\n",
    "                                self.assertTrue(Y.shape == Xshape)\n",
    "                                self.assertTrue(X.data.numpy().shape == data.shape)\n",
    "                                self.assertTrue(np.allclose(X.data.numpy(), data, atol=1e-06))\n",
    "                                self.assertTrue(np.allclose(X.data.numpy(), Xinv.data.numpy(), atol=1e-06))\n",
    "                                impl_out.append(Y.data.numpy().copy())\n",
    "                                #impl_grad.append([p.data.numpy().copy() for p in Gm2.parameters()])\n",
    "                                impl_grad.append([p.data.numpy().copy() for p in\n",
    "                                                  rb.parameters()])\n",
    "                                self.assertFalse(np.allclose(impl_grad[-1][0], s_grad[0]))\n",
    "\n",
    "                        # output and gradients similar over all implementations?\n",
    "                        for i in range(0, len(impl_grad) - 1, 1):\n",
    "                            self.assertTrue(np.allclose(impl_grad[i][0], impl_grad[i + 1][0]))\n",
    "                            self.assertTrue(np.allclose(impl_out[i], impl_out[i + 1]))"
   ]
  },
  {
   "cell_type": "code",
   "execution_count": null,
   "metadata": {
    "collapsed": true
   },
   "outputs": [],
   "source": [
    "t = ReversibleOperationsTestCase()"
   ]
  },
  {
   "cell_type": "code",
   "execution_count": null,
   "metadata": {},
   "outputs": [],
   "source": [
    "t.test_reversible_block_fwd_bwd()"
   ]
  },
  {
   "cell_type": "code",
   "execution_count": null,
   "metadata": {
    "collapsed": true
   },
   "outputs": [],
   "source": []
  }
 ],
 "metadata": {
  "kernelspec": {
   "display_name": "Python 3",
   "language": "python",
   "name": "python3"
  },
  "language_info": {
   "codemirror_mode": {
    "name": "ipython",
    "version": 3
   },
   "file_extension": ".py",
   "mimetype": "text/x-python",
   "name": "python",
   "nbconvert_exporter": "python",
   "pygments_lexer": "ipython3",
   "version": "3.6.8"
  }
 },
 "nbformat": 4,
 "nbformat_minor": 2
}
