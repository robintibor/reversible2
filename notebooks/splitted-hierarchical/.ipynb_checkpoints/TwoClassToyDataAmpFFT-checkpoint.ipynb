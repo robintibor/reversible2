{
 "cells": [
  {
   "cell_type": "code",
   "execution_count": null,
   "metadata": {
    "collapsed": true
   },
   "outputs": [],
   "source": [
    "%%capture\n",
    "import os\n",
    "import site\n",
    "os.sys.path.insert(0, '/home/schirrmr/code/reversible/reversible2/')\n",
    "os.sys.path.insert(0, '/home/schirrmr/braindecode/code/braindecode/')\n",
    "os.sys.path.insert(0, '/home/schirrmr/code/explaining/reversible//')\n",
    "%cd /home/schirrmr/\n",
    "\n",
    "\n",
    "%load_ext autoreload\n",
    "%autoreload 2\n",
    "import numpy as np\n",
    "import logging\n",
    "log = logging.getLogger()\n",
    "log.setLevel('INFO')\n",
    "import sys\n",
    "logging.basicConfig(format='%(asctime)s %(levelname)s : %(message)s',\n",
    "                     level=logging.INFO, stream=sys.stdout)\n",
    "import matplotlib\n",
    "from matplotlib import pyplot as plt\n",
    "from matplotlib import cm\n",
    "%matplotlib inline\n",
    "%config InlineBackend.figure_format = 'png'\n",
    "matplotlib.rcParams['figure.figsize'] = (12.0, 1.0)\n",
    "matplotlib.rcParams['font.size'] = 14\n",
    "import seaborn\n",
    "seaborn.set_style('darkgrid')\n",
    "\n",
    "from reversible.sliced import sliced_from_samples\n",
    "\n",
    "from numpy.random import RandomState\n",
    "\n",
    "import torch\n",
    "import torch.nn as nn\n",
    "import torch.nn.functional as F\n",
    "from torch.autograd import Variable\n",
    "import numpy as np\n",
    "import copy\n",
    "import math\n",
    "\n",
    "import itertools\n",
    "from reversible.plot import create_bw_image\n",
    "import torch as th\n",
    "from braindecode.torch_ext.util import np_to_var, var_to_np\n",
    "from reversible.revnet import ResidualBlock, invert, SubsampleSplitter, ViewAs, ReversibleBlockOld\n",
    "from spectral_norm import spectral_norm\n",
    "from conv_spectral_norm import conv_spectral_norm\n",
    "\n",
    "def display_text(text, fontsize=18):\n",
    "    fig = plt.figure(figsize=(12,0.1))\n",
    "    plt.title(text, fontsize=fontsize)\n",
    "    plt.axis('off')\n",
    "    display(fig)\n",
    "    plt.close(fig)"
   ]
  },
  {
   "cell_type": "markdown",
   "metadata": {},
   "source": [
    "## Create data"
   ]
  },
  {
   "cell_type": "code",
   "execution_count": null,
   "metadata": {
    "collapsed": true
   },
   "outputs": [],
   "source": [
    "rng = RandomState(20190401)"
   ]
  },
  {
   "cell_type": "code",
   "execution_count": null,
   "metadata": {
    "collapsed": true
   },
   "outputs": [],
   "source": [
    "# i freq\n",
    "# amp_level\n",
    "inputs =  []\n",
    "\n",
    "for i_class, freq_amps  in enumerate((((2,3), (4,1)), ((2,1), (4,3)))):\n",
    "    fft_coefs = np.zeros((300, 33), dtype=np.complex64)\n",
    "    for i_freq, amp in freq_amps:\n",
    "        amps = np.abs(rng.randn(300) + amp)\n",
    "        phases = rng.rand(300) * 2 * np.pi - np.pi\n",
    "        this_fft_coefs_a = amps * np.exp(phases * 1j)\n",
    "        fft_coefs[:,i_freq] = this_fft_coefs_a\n",
    "        \n",
    "        signals = np.fft.irfft(fft_coefs)\n",
    "        inputs.append(np_to_var(signals, dtype=np.float32))"
   ]
  },
  {
   "cell_type": "code",
   "execution_count": null,
   "metadata": {},
   "outputs": [],
   "source": [
    "a = th.rfft(inputs[0].view(300,-1), signal_ndim=1)\n",
    "\n",
    "net = AmplitudePhaseFFT()\n",
    "\n",
    "b = net(a)\n",
    "\n",
    "c = invert(net,b)"
   ]
  },
  {
   "cell_type": "code",
   "execution_count": null,
   "metadata": {},
   "outputs": [],
   "source": [
    "th.mean(th.abs(c - a))"
   ]
  },
  {
   "cell_type": "code",
   "execution_count": null,
   "metadata": {
    "collapsed": true
   },
   "outputs": [],
   "source": [
    "def th_angle(x,y):\n",
    "    # yes reverse oder to (y,x)...\n",
    "    return th.atan2(y, x)\n",
    "\n",
    "\n",
    "def th_amp(x,y):\n",
    "    return th.sqrt((x * x) + (y * y))\n",
    "\n",
    "class AmplitudePhaseFFT(nn.Module):\n",
    "    def __init__(self):\n",
    "        super(AmplitudePhaseFFT, self).__init__()\n",
    "\n",
    "    def forward(self, inputs):\n",
    "        expanded = th.cat(\n",
    "            (inputs[:, :1], th.zeros(inputs.shape[0], 1, device=inputs.device),\n",
    "             inputs[:, 1:], th.zeros(inputs.shape[0], 1, device=inputs.device)),\n",
    "            dim=1)\n",
    "        unfolded = expanded.view(expanded.shape[0], expanded.shape[1] // 2, 2)\n",
    "        \n",
    "        x = unfolded.transpose(len(unfolded.shape)-1,0)[0].transpose(\n",
    "            len(unfolded.shape) - 2,0)\n",
    "        y = unfolded.transpose(len(unfolded.shape)-1,0)[1].transpose(\n",
    "            len(unfolded.shape) - 2,0)\n",
    "        \n",
    "        amps = th_amp(x, y)\n",
    "        phases = th_angle(x, y)\n",
    "        \n",
    "        return th.stack((amps, phases), dim=-1)\n",
    "    \n",
    "    def invert(self, out):\n",
    "        amps = out.transpose(len(out.shape) - 1,0)[0].transpose(\n",
    "            len(out.shape) - 2,0)\n",
    "        phases = out.transpose(len(out.shape) - 1,0)[1].transpose(\n",
    "            len(out.shape) - 2,0)\n",
    "        x = th.cos(phases)\n",
    "        y = th.sin(phases)\n",
    "        x_y = th.stack((x,y), dim=-1)\n",
    "        x_y = x_y * amps.unsqueeze(-1)\n",
    "        flattened = x_y.view(x_y.shape[0], -1)\n",
    "        reduced = th.cat((flattened[:, :1], flattened[:, 2:-1]), dim=1)\n",
    "        return reduced\n"
   ]
  },
  {
   "cell_type": "code",
   "execution_count": null,
   "metadata": {
    "collapsed": true
   },
   "outputs": [],
   "source": [
    "from rfft import RFFT, Interleave\n",
    "from discriminator import ProjectionDiscriminator\n",
    "from reversible.revnet import SubsampleSplitter, ViewAs\n",
    "from reversible.util import set_random_seeds\n",
    "from reversible.revnet import init_model_params\n",
    "from torch.nn import ConstantPad2d\n",
    "import torch as th\n",
    "from conv_spectral_norm import conv_spectral_norm\n",
    "from disttransform import DistTransformResNet\n",
    "\n",
    "feature_model = nn.Sequential(RFFT(),\n",
    "                              AmplitudePhaseFFT())\n"
   ]
  },
  {
   "cell_type": "code",
   "execution_count": null,
   "metadata": {},
   "outputs": [],
   "source": [
    "outs_2 = feature_model(inputs[1])\n",
    "print(np.mean(np.abs(var_to_np(outs_2[:,:,0]) - np.abs(np.fft.rfft(var_to_np(inputs[1]),\n",
    "                                                            norm='ortho')))))\n",
    "np.mean(np.abs(var_to_np(outs_2[:,:,1]) - np.angle(np.fft.rfft(var_to_np(inputs[1]),\n",
    "                                                            norm='ortho'))))"
   ]
  },
  {
   "cell_type": "code",
   "execution_count": null,
   "metadata": {},
   "outputs": [],
   "source": [
    "np_angles = np.angle(np.fft.rfft(var_to_np(inputs[1]),norm='ortho'))"
   ]
  },
  {
   "cell_type": "code",
   "execution_count": null,
   "metadata": {},
   "outputs": [],
   "source": [
    "th_angles = outs_2[:,:,1]"
   ]
  },
  {
   "cell_type": "code",
   "execution_count": null,
   "metadata": {},
   "outputs": [],
   "source": [
    "plt.plot((var_to_np(th_angles) - np_angles).T);"
   ]
  },
  {
   "cell_type": "code",
   "execution_count": null,
   "metadata": {},
   "outputs": [],
   "source": [
    "fft_th = th.rfft(inputs[1], signal_ndim=1, normalized=True)\n",
    "fft_th_2 = feature_model[0](inputs[1])\n",
    "fft_th_2 - fft_th"
   ]
  },
  {
   "cell_type": "code",
   "execution_count": null,
   "metadata": {},
   "outputs": [],
   "source": [
    "fft_np = np.fft.rfft(var_to_np(inputs[1]), norm='ortho')\n",
    "fft_th = th.rfft(inputs[1], signal_ndim=1, normalized=True)\n",
    "fft_np = np.stack((np.real(fft_np), np.imag(fft_np)), axis=-1)\n",
    "np.mean(np.abs(var_to_np(fft_th) -fft_np))"
   ]
  },
  {
   "cell_type": "code",
   "execution_count": null,
   "metadata": {},
   "outputs": [],
   "source": []
  },
  {
   "cell_type": "code",
   "execution_count": null,
   "metadata": {},
   "outputs": [],
   "source": [
    "outs = feature_model(inputs[0])\n",
    "\n",
    "outs.shape"
   ]
  },
  {
   "cell_type": "code",
   "execution_count": null,
   "metadata": {
    "collapsed": true
   },
   "outputs": [],
   "source": [
    "out_fft = invert(list(feature_model.children())[1], outs)"
   ]
  },
  {
   "cell_type": "code",
   "execution_count": null,
   "metadata": {},
   "outputs": [],
   "source": [
    "out_fft.shape"
   ]
  },
  {
   "cell_type": "code",
   "execution_count": null,
   "metadata": {
    "collapsed": true
   },
   "outputs": [],
   "source": [
    "ins = invert(feature_model, outs)"
   ]
  },
  {
   "cell_type": "code",
   "execution_count": null,
   "metadata": {},
   "outputs": [],
   "source": [
    "th.mean(np.abs(ins - inputs[0]))"
   ]
  },
  {
   "cell_type": "code",
   "execution_count": null,
   "metadata": {
    "collapsed": true
   },
   "outputs": [],
   "source": []
  }
 ],
 "metadata": {
  "kernelspec": {
   "display_name": "Python 3",
   "language": "python",
   "name": "python3"
  },
  "language_info": {
   "codemirror_mode": {
    "name": "ipython",
    "version": 3
   },
   "file_extension": ".py",
   "mimetype": "text/x-python",
   "name": "python",
   "nbconvert_exporter": "python",
   "pygments_lexer": "ipython3",
   "version": "3.6.8"
  }
 },
 "nbformat": 4,
 "nbformat_minor": 2
}
