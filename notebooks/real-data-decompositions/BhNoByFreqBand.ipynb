{
 "cells": [
  {
   "cell_type": "code",
   "execution_count": null,
   "metadata": {
    "collapsed": true
   },
   "outputs": [],
   "source": [
    "%%capture\n",
    "import os\n",
    "import site\n",
    "os.sys.path.insert(0, '/home/schirrmr/code/reversible/reversible2/')\n",
    "os.sys.path.insert(0, '/home/schirrmr/braindecode/code/braindecode/')\n",
    "os.sys.path.insert(0, '/home/schirrmr/code/explaining/reversible//')\n",
    "%cd /home/schirrmr/\n",
    "\n",
    "\n",
    "%load_ext autoreload\n",
    "%autoreload 2\n",
    "import numpy as np\n",
    "import logging\n",
    "log = logging.getLogger()\n",
    "log.setLevel('INFO')\n",
    "import sys\n",
    "logging.basicConfig(format='%(asctime)s %(levelname)s : %(message)s',\n",
    "                     level=logging.INFO, stream=sys.stdout)\n",
    "import matplotlib\n",
    "from matplotlib import pyplot as plt\n",
    "from matplotlib import cm\n",
    "%matplotlib inline\n",
    "%config InlineBackend.figure_format = 'png'\n",
    "matplotlib.rcParams['figure.figsize'] = (12.0, 1.0)\n",
    "matplotlib.rcParams['font.size'] = 14\n",
    "import seaborn\n",
    "seaborn.set_style('darkgrid')\n",
    "\n",
    "from reversible.sliced import sliced_from_samples\n",
    "\n",
    "from numpy.random import RandomState\n",
    "\n",
    "import torch\n",
    "import torch.nn as nn\n",
    "import torch.nn.functional as F\n",
    "from torch.autograd import Variable\n",
    "import numpy as np\n",
    "import copy\n",
    "import math\n",
    "\n",
    "import itertools\n",
    "from reversible.plot import create_bw_image\n",
    "import torch as th\n",
    "from braindecode.torch_ext.util import np_to_var, var_to_np\n",
    "from reversible.revnet import ResidualBlock, invert, SubsampleSplitter, ViewAs, ReversibleBlockOld\n",
    "from spectral_norm import spectral_norm\n",
    "from conv_spectral_norm import conv_spectral_norm\n",
    "\n",
    "def display_text(text, fontsize=18):\n",
    "    fig = plt.figure(figsize=(12,0.1))\n",
    "    plt.title(text, fontsize=fontsize)\n",
    "    plt.axis('off')\n",
    "    display(fig)\n",
    "    plt.close(fig)"
   ]
  },
  {
   "cell_type": "code",
   "execution_count": null,
   "metadata": {
    "collapsed": true
   },
   "outputs": [],
   "source": [
    "from braindecode.datasets.bbci import BBCIDataset\n",
    "from braindecode.mne_ext.signalproc import mne_apply\n",
    "from collections import OrderedDict\n",
    "from braindecode.datautil.trial_segment import create_signal_target_from_raw_mne\n",
    "from braindecode.mne_ext.signalproc import mne_apply, resample_cnt\n",
    "from braindecode.datautil.signalproc import exponential_running_standardize, bandpass_cnt\n",
    "def load_file(filename):\n",
    "    cnt = BBCIDataset(filename).load()\n",
    "    cnt = cnt.drop_channels(['STI 014'])\n",
    "    def car(a):\n",
    "        return a - np.mean(a, keepdims=True, axis=0)\n",
    "\n",
    "    cnt = mne_apply(\n",
    "        car, cnt)\n",
    "    log.info(\"Resampling train...\")\n",
    "    cnt = resample_cnt(cnt, 250.0)\n",
    "    return cnt\n",
    "\n",
    "\n",
    "def create_set(cnt):\n",
    "    marker_def = OrderedDict([('Right Hand', [1]), ('Left Hand', [2],),\n",
    "                             ('Rest', [3]), ('Feet', [4])])\n",
    "    ival = [500,1520]\n",
    "    log.info(\"Standardizing train...\")\n",
    "    cnt = mne_apply(lambda a: exponential_running_standardize(a.T ,factor_new=1e-3, init_block_size=1000, eps=1e-4).T,\n",
    "                         cnt)\n",
    "    dataset = create_signal_target_from_raw_mne(cnt, marker_def, ival)\n",
    "    return dataset\n",
    "\n",
    "def create_inputs(dataset):\n",
    "    x_right = dataset.X[dataset.y == 0]\n",
    "\n",
    "    x_rest = dataset.X[dataset.y == 2]\n",
    "\n",
    "    inputs_a = np_to_var(x_right[:,:,:,None], dtype=np.float32)\n",
    "\n",
    "    inputs_b = np_to_var(x_rest[:,:,:,None], dtype=np.float32)\n",
    "    inputs = [inputs_a, inputs_b]\n",
    "    return inputs\n"
   ]
  },
  {
   "cell_type": "code",
   "execution_count": null,
   "metadata": {
    "collapsed": true
   },
   "outputs": [],
   "source": [
    "orig_train_cnt = load_file('/data/schirrmr/schirrmr/HGD-public/reduced/train/4.mat')\n",
    "train_cnt = orig_train_cnt.reorder_channels(['C3', 'C4'])\n",
    "train_cnt = resample_cnt(train_cnt, 125.0)\n",
    "train_set = create_set(train_cnt)\n",
    "\n",
    "train_inputs = create_inputs(train_set)"
   ]
  },
  {
   "cell_type": "code",
   "execution_count": null,
   "metadata": {
    "collapsed": true
   },
   "outputs": [],
   "source": [
    "orig_test_cnt = load_file('/data/schirrmr/schirrmr/HGD-public/reduced/test/4.mat')\n",
    "test_cnt = orig_test_cnt.reorder_channels(['C3', 'C4'])\n",
    "test_cnt = resample_cnt(test_cnt, 125.0)\n",
    "test_set = create_set(test_cnt)\n",
    "test_inputs = create_inputs(test_set)"
   ]
  },
  {
   "cell_type": "code",
   "execution_count": null,
   "metadata": {
    "collapsed": true
   },
   "outputs": [],
   "source": [
    "cuda = False\n",
    "if cuda:\n",
    "    train_inputs  = [i.cuda() for i in train_inputs]\n",
    "    test_inputs  = [i.cuda() for i in test_inputs]"
   ]
  },
  {
   "cell_type": "code",
   "execution_count": null,
   "metadata": {},
   "outputs": [],
   "source": [
    "train_set.X.shape"
   ]
  },
  {
   "cell_type": "code",
   "execution_count": null,
   "metadata": {},
   "outputs": [],
   "source": [
    "plt.figure(figsize=(16,4))\n",
    "plt.plot(var_to_np(train_inputs[1])[0,0].squeeze())"
   ]
  },
  {
   "cell_type": "code",
   "execution_count": null,
   "metadata": {},
   "outputs": [],
   "source": [
    "trial = var_to_np(train_inputs[1])[0,0].squeeze()\n",
    "ffted = np.fft.rfft(trial)\n",
    "ffted[:5] = 0\n",
    "ffted[15:] = 0\n",
    "iffted = np.fft.irfft(ffted, n=128,axis=-1)\n",
    "plt.figure(figsize=(16,4))\n",
    "plt.plot(var_to_np(train_inputs[1])[0,0].squeeze())\n",
    "plt.plot(iffted)\n",
    "ffted = np.fft.rfft(trial)\n",
    "ffted[5:] = 0\n",
    "iffted = np.fft.irfft(ffted, n=128,axis=-1)\n",
    "plt.plot(iffted)\n",
    "#ffted = np.fft.rfft(trial)\n",
    "#ffted[:15] = 0\n",
    "#iffted = np.fft.irfft(ffted, n=256,axis=-1)\n",
    "#plt.plot(iffted)"
   ]
  },
  {
   "cell_type": "code",
   "execution_count": null,
   "metadata": {
    "collapsed": true
   },
   "outputs": [],
   "source": [
    "coeffs = th.ones(31, requires_grad=True)\n",
    "weights = th.ones(8, requires_grad=True)\n",
    "optimizer = th.optim.Adam([coeffs, weights], lr=1e-2)"
   ]
  },
  {
   "cell_type": "code",
   "execution_count": null,
   "metadata": {},
   "outputs": [],
   "source": [
    "n_epochs = 2001\n",
    "for i_epoch in range(n_epochs):\n",
    "    out = F.conv_transpose1d(coeffs.unsqueeze(0).unsqueeze(0), weights.unsqueeze(0).unsqueeze(0),\n",
    "                      stride=4).squeeze()\n",
    "\n",
    "    diff = out - train_inputs[1][0,0].squeeze()\n",
    "    loss = th.mean(th.abs(diff))\n",
    "    optimizer.zero_grad()\n",
    "    loss.backward()\n",
    "    optimizer.step()\n",
    "    if i_epoch % (n_epochs // 20) == 0:\n",
    "        print(\"Epoch {:d} of {:d}\".format(i_epoch, n_epochs))\n",
    "        print(\"Loss: {:E}\".format(loss.item()))\n",
    "        fig = plt.figure(figsize=(8,2))\n",
    "        plt.plot(var_to_np(train_inputs[1])[0,0].squeeze())\n",
    "        plt.plot(var_to_np(out))\n",
    "        display(fig)\n",
    "        plt.close(fig)\n",
    "        "
   ]
  },
  {
   "cell_type": "code",
   "execution_count": null,
   "metadata": {
    "collapsed": true
   },
   "outputs": [],
   "source": [
    "coeffs = th.ones(31, requires_grad=True)\n",
    "weights = th.ones(8, requires_grad=True)\n",
    "optimizer = th.optim.Adam([coeffs, weights], lr=1e-2)"
   ]
  },
  {
   "cell_type": "code",
   "execution_count": null,
   "metadata": {},
   "outputs": [],
   "source": [
    "n_epochs = 20001\n",
    "for i_epoch in range(n_epochs):\n",
    "    out = F.conv_transpose1d(coeffs.unsqueeze(0).unsqueeze(0), weights.unsqueeze(0).unsqueeze(0),\n",
    "                      stride=4).squeeze()\n",
    "\n",
    "    diff = out - train_inputs[1][0,0].squeeze()\n",
    "    loss = th.mean(diff * diff)\n",
    "    optimizer.zero_grad()\n",
    "    loss.backward()\n",
    "    optimizer.step()\n",
    "    if i_epoch % (n_epochs // 20) == 0:\n",
    "        print(\"Epoch {:d} of {:d}\".format(i_epoch, n_epochs))\n",
    "        print(\"Loss: {:E}\".format(loss.item()))\n",
    "        fig = plt.figure(figsize=(8,2))\n",
    "        plt.plot(var_to_np(train_inputs[1])[0,0].squeeze())\n",
    "        plt.plot(var_to_np(out))\n",
    "        display(fig)\n",
    "        plt.close(fig)\n",
    "        "
   ]
  },
  {
   "cell_type": "code",
   "execution_count": null,
   "metadata": {},
   "outputs": [],
   "source": [
    "plt.figure(figsize=(8,2))\n",
    "plt.plot(var_to_np(weights))"
   ]
  },
  {
   "cell_type": "code",
   "execution_count": null,
   "metadata": {
    "collapsed": true
   },
   "outputs": [],
   "source": [
    "coeffs = th.ones(31, requires_grad=True)\n",
    "weights = th.ones(8, requires_grad=True)\n",
    "optimizer = th.optim.Adam([coeffs, ], lr=1e-2)"
   ]
  },
  {
   "cell_type": "code",
   "execution_count": null,
   "metadata": {},
   "outputs": [],
   "source": [
    "n_epochs = 20001\n",
    "for i_epoch in range(n_epochs):\n",
    "    out = F.conv_transpose1d(coeffs.unsqueeze(0).unsqueeze(0), weights.unsqueeze(0).unsqueeze(0),\n",
    "                      stride=4).squeeze()\n",
    "\n",
    "    diff = out - train_inputs[1][0,0].squeeze()\n",
    "    loss = th.mean(diff * diff)\n",
    "    optimizer.zero_grad()\n",
    "    loss.backward()\n",
    "    optimizer.step()\n",
    "    if i_epoch % (n_epochs // 20) == 0:\n",
    "        print(\"Epoch {:d} of {:d}\".format(i_epoch, n_epochs))\n",
    "        print(\"Loss: {:E}\".format(loss.item()))\n",
    "        fig = plt.figure(figsize=(8,2))\n",
    "        plt.plot(var_to_np(train_inputs[1])[0,0].squeeze())\n",
    "        plt.plot(var_to_np(out))\n",
    "        display(fig)\n",
    "        plt.close(fig)\n",
    "        "
   ]
  },
  {
   "cell_type": "code",
   "execution_count": null,
   "metadata": {},
   "outputs": [],
   "source": [
    "plt.figure(figsize=(8,2))\n",
    "plt.plot(var_to_np(coeffs))"
   ]
  },
  {
   "cell_type": "code",
   "execution_count": null,
   "metadata": {
    "collapsed": true
   },
   "outputs": [],
   "source": [
    "coeffs = th.ones(15, requires_grad=True)\n",
    "weights = th.ones(16, requires_grad=True)\n",
    "optimizer = th.optim.Adam([coeffs, weights], lr=1e-2)"
   ]
  },
  {
   "cell_type": "code",
   "execution_count": null,
   "metadata": {},
   "outputs": [],
   "source": [
    "n_epochs = 20001\n",
    "for i_epoch in range(n_epochs):\n",
    "    out = F.conv_transpose1d(coeffs.unsqueeze(0).unsqueeze(0), weights.unsqueeze(0).unsqueeze(0),\n",
    "                      stride=8).squeeze()\n",
    "\n",
    "    diff = out - train_inputs[1][0,0].squeeze()\n",
    "    loss = th.mean(diff * diff)\n",
    "    optimizer.zero_grad()\n",
    "    loss.backward()\n",
    "    optimizer.step()\n",
    "    if i_epoch % (n_epochs // 20) == 0:\n",
    "        print(\"Epoch {:d} of {:d}\".format(i_epoch, n_epochs))\n",
    "        print(\"Loss: {:E}\".format(loss.item()))\n",
    "        fig = plt.figure(figsize=(8,2))\n",
    "        plt.plot(var_to_np(train_inputs[1])[0,0].squeeze())\n",
    "        plt.plot(var_to_np(out))\n",
    "        display(fig)\n",
    "        plt.close(fig)\n",
    "        "
   ]
  },
  {
   "cell_type": "code",
   "execution_count": null,
   "metadata": {},
   "outputs": [],
   "source": [
    "plt.figure(figsize=(8,2))\n",
    "plt.plot(var_to_np(weights))"
   ]
  },
  {
   "cell_type": "code",
   "execution_count": null,
   "metadata": {},
   "outputs": [],
   "source": [
    "plt.figure(figsize=(8,2))\n",
    "plt.plot(var_to_np(coeffs))"
   ]
  },
  {
   "cell_type": "code",
   "execution_count": null,
   "metadata": {},
   "outputs": [],
   "source": [
    "coeffs_2d = var_to_np(coeffs[:14].view(-1,2))\n",
    "\n",
    "plt.figure(figsize=(4,4))\n",
    "plt.scatter(coeffs_2d[:,0], coeffs_2d[:,1], marker='o',\n",
    "           color=cm.coolwarm(np.linspace(0,1,7)))\n",
    "plt.plot(coeffs_2d[:,0], coeffs_2d[:,1], color='black',lw=0.5)\n",
    "plt.xlim(-np.max(np.abs(plt.xlim())), np.max(np.abs(plt.xlim())))\n",
    "plt.ylim(-np.max(np.abs(plt.ylim())), np.max(np.abs(plt.ylim())))"
   ]
  },
  {
   "cell_type": "code",
   "execution_count": null,
   "metadata": {},
   "outputs": [],
   "source": [
    "128/7"
   ]
  },
  {
   "cell_type": "code",
   "execution_count": null,
   "metadata": {},
   "outputs": [],
   "source": [
    "plt.plot(np.arctan2(coeffs_2d[:,1], coeffs_2d[:,0]))"
   ]
  },
  {
   "cell_type": "code",
   "execution_count": null,
   "metadata": {},
   "outputs": [],
   "source": [
    "plt.plot((np.diff(np.arctan2(coeffs_2d[:,1], coeffs_2d[:,0]))) % (2*np.pi))"
   ]
  },
  {
   "cell_type": "code",
   "execution_count": null,
   "metadata": {},
   "outputs": [],
   "source": [
    "plt.figure(figsize=(8,2))\n",
    "plt.plot(var_to_np(train_inputs[1])[0,0].squeeze())\n",
    "plt.plot(np.repeat(np.mean(coeffs_2d ** 2, axis=1),18))\n",
    "plt.plot(np.repeat(np.arctan2(coeffs_2d[:,1], coeffs_2d[:,0]),18))"
   ]
  },
  {
   "cell_type": "code",
   "execution_count": null,
   "metadata": {},
   "outputs": [],
   "source": [
    "plt.figure(figsize=(16,4))\n",
    "plt.plot(np.fft.rfftfreq(256, d=1/250.0), np.abs(np.fft.rfft(var_to_np(train_inputs[1])[0,0].squeeze())))\n",
    "plt.xticks(range(0,126,5));"
   ]
  },
  {
   "cell_type": "code",
   "execution_count": null,
   "metadata": {},
   "outputs": [],
   "source": [
    "plt.figure(figsize=(16,4))\n",
    "plt.plot(np.fft.rfftfreq(256, d=1/250.0), np.mean(np.abs(np.fft.rfft(var_to_np(train_inputs[1])[:,0].squeeze())), axis=0))\n",
    "plt.xticks(range(0,126,5));"
   ]
  },
  {
   "cell_type": "code",
   "execution_count": null,
   "metadata": {},
   "outputs": [],
   "source": [
    "plt.figure(figsize=(16,4))\n",
    "plt.plot(np.fft.rfftfreq(256, d=1/250.0), np.abs(np.fft.rfft(train_set.X[:,0].squeeze())).T)\n",
    "plt.xticks(range(0,126,5));"
   ]
  }
 ],
 "metadata": {
  "kernelspec": {
   "display_name": "Python 3",
   "language": "python",
   "name": "python3"
  },
  "language_info": {
   "codemirror_mode": {
    "name": "ipython",
    "version": 3
   },
   "file_extension": ".py",
   "mimetype": "text/x-python",
   "name": "python",
   "nbconvert_exporter": "python",
   "pygments_lexer": "ipython3",
   "version": "3.6.8"
  }
 },
 "nbformat": 4,
 "nbformat_minor": 2
}
