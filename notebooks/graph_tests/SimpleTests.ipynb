{
 "cells": [
  {
   "cell_type": "code",
   "execution_count": null,
   "metadata": {
    "collapsed": true
   },
   "outputs": [],
   "source": [
    "import logging\n",
    "import importlib\n",
    "importlib.reload(logging) # see https://stackoverflow.com/a/21475297/1469195\n",
    "log = logging.getLogger()\n",
    "log.setLevel('INFO')\n",
    "import sys\n",
    "\n",
    "logging.basicConfig(format='%(asctime)s %(levelname)s : %(message)s',\n",
    "                     level=logging.INFO, stream=sys.stdout)"
   ]
  },
  {
   "cell_type": "code",
   "execution_count": null,
   "metadata": {
    "collapsed": true
   },
   "outputs": [],
   "source": [
    "%%capture\n",
    "import os\n",
    "import site\n",
    "os.sys.path.insert(0, '/home/schirrmr/code/reversible/')\n",
    "os.sys.path.insert(0, '/home/schirrmr/braindecode/code/braindecode/')\n",
    "os.sys.path.insert(0, '/home/schirrmr/code/explaining/reversible//')\n",
    "\n",
    "\n",
    "%load_ext autoreload\n",
    "%autoreload 2\n",
    "import numpy as np\n",
    "import logging\n",
    "log = logging.getLogger()\n",
    "log.setLevel('INFO')\n",
    "import sys\n",
    "logging.basicConfig(format='%(asctime)s %(levelname)s : %(message)s',\n",
    "                     level=logging.INFO, stream=sys.stdout)\n",
    "import matplotlib\n",
    "from matplotlib import pyplot as plt\n",
    "from matplotlib import cm\n",
    "%matplotlib inline\n",
    "%config InlineBackend.figure_format = 'png'\n",
    "matplotlib.rcParams['figure.figsize'] = (12.0, 1.0)\n",
    "matplotlib.rcParams['font.size'] = 14\n",
    "import seaborn\n",
    "seaborn.set_style('darkgrid')\n",
    "\n",
    "from reversible2.sliced import sliced_from_samples\n",
    "from numpy.random import RandomState\n",
    "\n",
    "import torch\n",
    "import torch.nn as nn\n",
    "import torch.nn.functional as F\n",
    "from torch.autograd import Variable\n",
    "import numpy as np\n",
    "import copy\n",
    "import math\n",
    "\n",
    "import itertools\n",
    "import torch as th\n",
    "from braindecode.torch_ext.util import np_to_var, var_to_np\n",
    "from reversible2.splitter import SubsampleSplitter\n",
    "\n",
    "from reversible2.view_as import ViewAs\n",
    "from reversible2.invert import invert\n",
    "\n",
    "from reversible2.affine import AdditiveBlock\n",
    "from reversible2.plot import display_text, display_close\n",
    "from reversible2.bhno import load_file, create_inputs"
   ]
  },
  {
   "cell_type": "code",
   "execution_count": null,
   "metadata": {
    "collapsed": true
   },
   "outputs": [],
   "source": [
    "from reversible2.graph import Node"
   ]
  },
  {
   "cell_type": "code",
   "execution_count": null,
   "metadata": {
    "collapsed": true
   },
   "outputs": [],
   "source": [
    "o1 = Node(None, SubsampleSplitter(stride=[2,1],chunk_chans_first=False))\n",
    "o = Node(o1, SubsampleSplitter(stride=[2,1],chunk_chans_first=True))\n",
    "ins = th.linspace(0,7,8).unsqueeze(0).unsqueeze(1).unsqueeze(-1)"
   ]
  },
  {
   "cell_type": "code",
   "execution_count": null,
   "metadata": {},
   "outputs": [],
   "source": [
    "%%time\n",
    "outs = o.forward(ins)\n",
    "inverted = o.invert(outs)"
   ]
  },
  {
   "cell_type": "code",
   "execution_count": null,
   "metadata": {},
   "outputs": [],
   "source": [
    "assert th.allclose(inverted, ins)"
   ]
  },
  {
   "cell_type": "code",
   "execution_count": null,
   "metadata": {},
   "outputs": [],
   "source": [
    "import numpy as np\n",
    "class SplitEveryNth(nn.Module):\n",
    "    def __init__(self, n_parts):\n",
    "        super(SplitEveryNth, self).__init__()\n",
    "        self.n_parts = n_parts\n",
    "\n",
    "    def forward(self, x):\n",
    "        xs = tuple([x[:,i::self.n_parts] for i in range(self.n_parts)])\n",
    "        return xs\n",
    "    def invert(self,y):\n",
    "        new_y = th.zeros((y[0].shape[0], y[0].shape[1] * self.n_parts,) + y[0].shape[2:],\n",
    "                        device=y[0].device)\n",
    "        for i in range(self.n_parts):\n",
    "            new_y[:,i::self.n_parts] = y[i]\n",
    "        return new_y\n",
    "    \n",
    "class Select(nn.Module):\n",
    "    def __init__(self, index):\n",
    "        super(Select, self).__init__()\n",
    "        self.index = index\n",
    "    \n",
    "    def forward(self, x):\n",
    "        return x[self.index]\n",
    "    \n",
    "    def invert(self, y):\n",
    "        return y\n",
    "    \n",
    "class Identity(nn.Module):\n",
    "    def forward(self, *x):\n",
    "        return x\n",
    "\n",
    "    \n",
    "class CatChans(nn.Module):\n",
    "    def __init__(self):\n",
    "        self.n_chans = None\n",
    "        super(CatChans, self).__init__()\n",
    "        \n",
    "    def forward(self, *x):\n",
    "        n_chans = tuple([a_x.size()[1] for a_x in x])\n",
    "        if self.n_chans is None:\n",
    "            self.n_chans = n_chans\n",
    "        else:\n",
    "            assert n_chans == self.n_chans\n",
    "        return th.cat(x, dim=1)\n",
    "    \n",
    "    def invert(self, y):\n",
    "        assert self.n_chans is not None, \"make forward first\"\n",
    "        xs = []\n",
    "        bounds = np.insert(np.cumsum(self.n_chans), 0,0)\n",
    "        for i_b in range(len(bounds) - 1):\n",
    "            xs.append(y[:,bounds[i_b]:bounds[i_b+1]])\n",
    "        return xs"
   ]
  },
  {
   "cell_type": "code",
   "execution_count": null,
   "metadata": {
    "collapsed": true
   },
   "outputs": [],
   "source": [
    "from reversible2.graph import Node\n",
    "o1 = Node(None, SubsampleSplitter(stride=[2,1],chunk_chans_first=False))\n",
    "o = Node(o1, SubsampleSplitter(stride=[2,1],chunk_chans_first=True))\n",
    "o = Node(o, SplitEveryNth(2))\n",
    "o1 = Node(o, Select(0))\n",
    "o2 = Node(o, Select(1))\n",
    "o = Node([o1,o2], CatChans())\n",
    "\n",
    "ins = th.linspace(0,7,8).unsqueeze(0).unsqueeze(1).unsqueeze(-1)\n",
    "\n",
    "\n"
   ]
  },
  {
   "cell_type": "code",
   "execution_count": null,
   "metadata": {},
   "outputs": [],
   "source": [
    "%%time\n",
    "outs = o.forward(ins)\n",
    "inverted = o.invert(outs)\n",
    "\n",
    "assert th.allclose(inverted, ins)"
   ]
  },
  {
   "cell_type": "code",
   "execution_count": null,
   "metadata": {
    "collapsed": true
   },
   "outputs": [],
   "source": [
    "class ChunkChans(nn.Module):\n",
    "    def __init__(self, n_parts):\n",
    "        super(ChunkChans, self).__init__()\n",
    "        self.n_parts = n_parts\n",
    "\n",
    "    def forward(self, x):\n",
    "        xs = th.chunk(x, chunks=self.n_parts, dim=1,)\n",
    "        return xs\n",
    "    \n",
    "    def invert(self,y):\n",
    "        y = th.cat(y, dim=1)\n",
    "        return y\n",
    "    "
   ]
  },
  {
   "cell_type": "code",
   "execution_count": null,
   "metadata": {
    "collapsed": true
   },
   "outputs": [],
   "source": [
    "from reversible2.graph import Node\n",
    "o1 = Node(None, SubsampleSplitter(stride=[2,1],chunk_chans_first=False))\n",
    "o = Node(o1, SubsampleSplitter(stride=[2,1],chunk_chans_first=True))\n",
    "o = Node(o, ChunkChans(2))\n",
    "o1 = Node(o, Select(0))\n",
    "o2 = Node(o, Select(1))\n",
    "o = Node([o1,o2], CatChans())\n",
    "\n",
    "ins = th.linspace(0,7,8).unsqueeze(0).unsqueeze(1).unsqueeze(-1)"
   ]
  },
  {
   "cell_type": "code",
   "execution_count": null,
   "metadata": {},
   "outputs": [],
   "source": [
    "%%time\n",
    "outs = o.forward(ins)\n",
    "inverted = o.invert(outs)\n",
    "\n",
    "assert th.allclose(inverted, ins)"
   ]
  }
 ],
 "metadata": {
  "kernelspec": {
   "display_name": "Python 3",
   "language": "python",
   "name": "python3"
  },
  "language_info": {
   "codemirror_mode": {
    "name": "ipython",
    "version": 3
   },
   "file_extension": ".py",
   "mimetype": "text/x-python",
   "name": "python",
   "nbconvert_exporter": "python",
   "pygments_lexer": "ipython3",
   "version": "3.6.8"
  }
 },
 "nbformat": 4,
 "nbformat_minor": 2
}
