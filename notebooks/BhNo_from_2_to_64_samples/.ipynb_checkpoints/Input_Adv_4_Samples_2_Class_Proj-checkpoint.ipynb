{
 "cells": [
  {
   "cell_type": "code",
   "execution_count": null,
   "metadata": {
    "collapsed": true
   },
   "outputs": [],
   "source": [
    "%%capture\n",
    "import os\n",
    "import site\n",
    "os.sys.path.insert(0, '/home/schirrmr/code/reversible/reversible2/')\n",
    "os.sys.path.insert(0, '/home/schirrmr/braindecode/code/braindecode/')\n",
    "os.sys.path.insert(0, '/home/schirrmr/code/explaining/reversible//')\n",
    "%cd /home/schirrmr/\n",
    "\n",
    "\n",
    "%load_ext autoreload\n",
    "%autoreload 2\n",
    "import numpy as np\n",
    "import logging\n",
    "log = logging.getLogger()\n",
    "log.setLevel('INFO')\n",
    "import sys\n",
    "logging.basicConfig(format='%(asctime)s %(levelname)s : %(message)s',\n",
    "                     level=logging.INFO, stream=sys.stdout)\n",
    "import matplotlib\n",
    "from matplotlib import pyplot as plt\n",
    "from matplotlib import cm\n",
    "%matplotlib inline\n",
    "%config InlineBackend.figure_format = 'png'\n",
    "matplotlib.rcParams['figure.figsize'] = (12.0, 1.0)\n",
    "matplotlib.rcParams['font.size'] = 14\n",
    "import seaborn\n",
    "seaborn.set_style('darkgrid')\n",
    "\n",
    "from reversible.sliced import sliced_from_samples\n",
    "\n",
    "from numpy.random import RandomState\n",
    "\n",
    "import torch\n",
    "import torch.nn as nn\n",
    "import torch.nn.functional as F\n",
    "from torch.autograd import Variable\n",
    "import numpy as np\n",
    "import copy\n",
    "import math\n",
    "\n",
    "import itertools\n",
    "from reversible.plot import create_bw_image\n",
    "import torch as th\n",
    "from braindecode.torch_ext.util import np_to_var, var_to_np\n",
    "from reversible.revnet import ResidualBlock, invert, SubsampleSplitter, ViewAs, ReversibleBlockOld\n",
    "from spectral_norm import spectral_norm\n",
    "from conv_spectral_norm import conv_spectral_norm\n",
    "\n",
    "def display_text(text, fontsize=18):\n",
    "    fig = plt.figure(figsize=(12,0.1))\n",
    "    plt.title(text, fontsize=fontsize)\n",
    "    plt.axis('off')\n",
    "    display(fig)\n",
    "    plt.close(fig)"
   ]
  },
  {
   "cell_type": "code",
   "execution_count": null,
   "metadata": {},
   "outputs": [],
   "source": [
    "from braindecode.datasets.bbci import BBCIDataset\n",
    "\n",
    "# we loaded all sensors to always get same cleaning results independent of sensor selection\n",
    "# There is an inbuilt heuristic that tries to use only EEG channels and that definitely\n",
    "# works for datasets in our paper\n",
    "#train_loader = BBCIDataset('/data/schirrmr/schirrmr/HGD-public/reduced/train/13.mat')\n",
    "#test_loader = BBCIDataset('/data/schirrmr/schirrmr/HGD-public/reduced/test/13.mat')\n",
    "cnt = BBCIDataset('/data/schirrmr/schirrmr/HGD-public/reduced/train/4.mat',\n",
    "                 load_sensor_names=['C3', 'C4']).load()\n",
    "cnt = cnt.drop_channels(['STI 014'])"
   ]
  },
  {
   "cell_type": "code",
   "execution_count": null,
   "metadata": {
    "collapsed": true
   },
   "outputs": [],
   "source": [
    "from collections import OrderedDict\n",
    "from braindecode.datautil.trial_segment import create_signal_target_from_raw_mne\n",
    "\n",
    "marker_def = OrderedDict([('Right Hand', [1]), ('Left Hand', [2],),\n",
    "                         ('Rest', [3]), ('Feet', [4])])\n",
    "ival = [500,1500]\n",
    "from braindecode.mne_ext.signalproc import mne_apply, resample_cnt\n",
    "from braindecode.datautil.signalproc import exponential_running_standardize\n",
    "\n",
    "log.info(\"Resampling train...\")\n",
    "cnt = resample_cnt(cnt, 250.0)\n",
    "log.info(\"Standardizing train...\")\n",
    "cnt = mne_apply(lambda a: exponential_running_standardize(a.T ,factor_new=1e-3, init_block_size=1000, eps=1e-4).T,\n",
    "                     cnt)\n",
    "cnt = resample_cnt(cnt, 4.0)\n",
    "train_set = create_signal_target_from_raw_mne(cnt, marker_def, ival)"
   ]
  },
  {
   "cell_type": "code",
   "execution_count": null,
   "metadata": {
    "collapsed": true
   },
   "outputs": [],
   "source": [
    "x_right = train_set.X[train_set.y == 0]\n",
    "\n",
    "x_rest = train_set.X[train_set.y == 2]"
   ]
  },
  {
   "cell_type": "code",
   "execution_count": null,
   "metadata": {
    "collapsed": true
   },
   "outputs": [],
   "source": [
    "def rev_block(n_c, n_i_c):\n",
    "     return ReversibleBlockOld(\n",
    "        nn.Sequential(\n",
    "        nn.Conv2d(n_c // 2, n_i_c,(3,1), stride=1, padding=(1,0),bias=True),\n",
    "        nn.ReLU(),\n",
    "            nn.Conv2d(n_i_c, n_c // 2,(3,1), stride=1, padding=(1,0),bias=True)),\n",
    "         \n",
    "        nn.Sequential(\n",
    "        nn.Conv2d(n_c // 2, n_i_c,(3,1), stride=1, padding=(1,0),bias=True),\n",
    "        nn.ReLU(),\n",
    "            nn.Conv2d(n_i_c, n_c // 2,(3,1), stride=1, padding=(1,0),bias=True))\n",
    "    )\n",
    "    \n",
    "def res_block(n_c, n_i_c):\n",
    "     return ResidualBlock(\n",
    "        nn.Sequential(\n",
    "        nn.Conv2d(n_c, n_i_c, (3,1), stride=1, padding=(1,0),bias=True),\n",
    "        nn.ReLU(),\n",
    "            nn.Conv2d(n_i_c, n_c, (3,1), stride=1, padding=(1,0),bias=True)),\n",
    "    )"
   ]
  },
  {
   "cell_type": "code",
   "execution_count": null,
   "metadata": {
    "collapsed": true
   },
   "outputs": [],
   "source": [
    "inputs_a = np_to_var(x_right[:20,0:1,:,None], dtype=np.float32).cuda()\n",
    "\n",
    "inputs_b = np_to_var(x_rest[:20,0:1,:,None], dtype=np.float32).cuda()\n",
    "inputs = [inputs_a, inputs_b]"
   ]
  },
  {
   "cell_type": "code",
   "execution_count": null,
   "metadata": {},
   "outputs": [],
   "source": [
    "fig, axes = plt.subplots(4,10, figsize=(12,6), sharex=True, sharey=True)\n",
    "for i_class in range(2):\n",
    "    for i_example in range(len(inputs[i_class])):\n",
    "        i_row = i_example // 5\n",
    "        i_col = i_example % 5\n",
    "        i_col += i_class * 5\n",
    "        axes[i_row][i_col].plot(var_to_np(inputs[i_class][i_example]).squeeze(),\n",
    "                               color=seaborn.color_palette()[i_class])\n",
    "fig.suptitle('Input signals')\n",
    "\n",
    "from matplotlib.lines import Line2D\n",
    "lines = [Line2D([0], [0], color=seaborn.color_palette()[i_class],) for i_class in range(2)]\n",
    "labels = ['Right', 'Rest',]\n",
    "axes[0][-1].legend(lines, labels, bbox_to_anchor=(1,1,0,0))"
   ]
  },
  {
   "cell_type": "code",
   "execution_count": null,
   "metadata": {},
   "outputs": [],
   "source": [
    "plt.figure(figsize=(10,6))\n",
    "for i_class in range(2):\n",
    "    plt.plot(var_to_np(inputs[i_class].squeeze()).T, color=seaborn.color_palette()[i_class],);\n",
    "lines = [Line2D([0], [0], color=seaborn.color_palette()[i_class],) for i_class in range(2)]\n",
    "plt.legend(lines, ['Right', 'Rest',], bbox_to_anchor=(1,1,0,0))\n",
    "plt.title('Input signals')"
   ]
  },
  {
   "cell_type": "code",
   "execution_count": null,
   "metadata": {
    "collapsed": true
   },
   "outputs": [],
   "source": [
    "from discriminator import ProjectionDiscriminator"
   ]
  },
  {
   "cell_type": "code",
   "execution_count": null,
   "metadata": {
    "collapsed": true
   },
   "outputs": [],
   "source": [
    "from reversible.revnet import SubsampleSplitter, ViewAs\n",
    "from reversible.util import set_random_seeds\n",
    "from reversible.revnet import init_model_params\n",
    "from torch.nn import ConstantPad2d\n",
    "import torch as th\n",
    "from conv_spectral_norm import conv_spectral_norm\n",
    "set_random_seeds(2019011641, True)\n",
    "feature_model = nn.Sequential(\n",
    "    SubsampleSplitter(stride=[2,1],chunk_chans_first=False),\n",
    "    rev_block(2,32),\n",
    "    rev_block(2,32),\n",
    "    SubsampleSplitter(stride=[2,1],chunk_chans_first=False),\n",
    "    rev_block(4,32),\n",
    "    rev_block(4,32),\n",
    "    ViewAs((-1,4,1,1), (-1,4))\n",
    ")\n",
    "feature_model.cuda()\n",
    "\n",
    "\n",
    "from braindecode.torch_ext.util import set_random_seeds\n",
    "adv_model = nn.Sequential(\n",
    "    nn.Conv2d(1,16, (3,1), stride=1, padding=(1,0),bias=True),\n",
    "    res_block(16,32),\n",
    "    res_block(16,32),\n",
    "    nn.AvgPool2d((2,1)),\n",
    "    res_block(16,32),\n",
    "    res_block(16,32),\n",
    "    ViewAs((-1,16,2,1), (-1,32)),\n",
    "    )\n",
    "\n",
    "from spectral_norm import spectral_norm\n",
    "\n",
    "adv_model = ProjectionDiscriminator(adv_model,32,2,)\n",
    "\n",
    "adv_model.cuda()\n",
    "\n",
    "\n",
    "from reversible.training import hard_init_std_mean\n",
    "n_dims = inputs_b.shape[2]\n",
    "n_clusters = 2\n",
    "# will be initialized properly later\n",
    "means_per_cluster = [th.autograd.Variable(th.zeros(n_dims).cuda(), requires_grad=True)\n",
    "                     for _ in range(n_clusters)]\n",
    "stds_per_cluster = [th.autograd.Variable(th.zeros(n_dims).cuda(), requires_grad=True)\n",
    "                    for _ in range(n_clusters)]\n",
    "\n",
    "\n",
    "\n",
    "\n",
    "from copy import deepcopy\n",
    "optimizer = th.optim.Adam(\n",
    "                          [\n",
    "    {'params': list(feature_model.parameters()),\n",
    "    'lr': 1e-3,\n",
    "    'weight_decay': 0},], betas=(0,0.9))\n",
    "\n",
    "optim_dist = th.optim.Adam(\n",
    "                          [\n",
    "    {'params': means_per_cluster + stds_per_cluster,\n",
    "    'lr': 1e-2,\n",
    "    'weight_decay': 0},], betas=(0,0.9))\n",
    "\n",
    "\n",
    "optim_adv = th.optim.Adam([{\n",
    "    'params': adv_model.parameters(),\n",
    "    'lr': 4e-3, 'weight_decay': 0.00}],#lr 0.0004\n",
    "                         betas=(0,0.9))\n",
    "\n"
   ]
  },
  {
   "cell_type": "code",
   "execution_count": null,
   "metadata": {
    "collapsed": true
   },
   "outputs": [],
   "source": [
    "from reversible.gaussian import get_gauss_samples\n",
    "from reversible.revnet import invert \n",
    "import pandas as pd\n",
    "from gradient_penalty import gradient_penalty\n",
    "import time\n",
    "\n",
    "\n",
    "df = pd.DataFrame()\n",
    "g_loss = np_to_var([np.nan],dtype=np.float32)\n",
    "g_grad = np.nan\n",
    "d_loss = np_to_var([np.nan],dtype=np.float32)\n",
    "d_grad = np.nan"
   ]
  },
  {
   "cell_type": "code",
   "execution_count": null,
   "metadata": {
    "collapsed": true
   },
   "outputs": [],
   "source": [
    "def one_nn_score_train():\n",
    "    outs_per_class =[]\n",
    "    for i_class in range(len(means_per_cluster)):\n",
    "        outs_per_class.append(var_to_np(feature_model(inputs[i_class])))\n",
    "\n",
    "    preds_per_class = []\n",
    "    for i_class in range(len(means_per_cluster)):\n",
    "        preds_this_class = []\n",
    "        for i_example in range(len(outs_per_class[i_class])):\n",
    "            this_example = outs_per_class[i_class][i_example]\n",
    "            min_diffs = []\n",
    "            for j_class in range(len(means_per_cluster)):\n",
    "                if j_class != i_class:\n",
    "                    this_ref_examples = outs_per_class[j_class]\n",
    "                else:\n",
    "                    this_ref_examples = np.concatenate((outs_per_class[i_class][:i_example],\n",
    "                           outs_per_class[i_class][i_example+1:]), axis=0)\n",
    "                diffs = np.sum(np.square(this_ref_examples - this_example), axis=1)\n",
    "                min_diffs.append(np.min(diffs))\n",
    "            preds_this_class.append(np.argmin(min_diffs))\n",
    "        preds_per_class.append(preds_this_class)\n",
    "    preds_per_class = np.array(preds_per_class)\n",
    "    return (np.mean(preds_per_class[0] == 0) + np.mean(preds_per_class[1] == 1)) /  2"
   ]
  },
  {
   "cell_type": "code",
   "execution_count": null,
   "metadata": {},
   "outputs": [],
   "source": [
    "n_epochs = 4001\n",
    "for i_epoch in range(n_epochs):\n",
    "    start_time = time.time()\n",
    "    optim_adv.zero_grad()\n",
    "    optimizer.zero_grad()\n",
    "    optim_dist.zero_grad()\n",
    "    for i_class in range(len(inputs)):\n",
    "        mean = means_per_cluster[i_class]\n",
    "        std = th.exp(stds_per_cluster[i_class])\n",
    "        this_inputs = inputs[i_class]\n",
    "        y = np_to_var([i_class]).cuda()\n",
    "        samples = get_gauss_samples(20, mean, std)\n",
    "        inverted = invert(feature_model, samples)\n",
    "        score_fake = adv_model(inverted, y)\n",
    "        if (i_epoch % 10) != 0:\n",
    "            score_real = adv_model(this_inputs, y)\n",
    "            gradient_loss = gradient_penalty(adv_model, this_inputs, inverted[:(len(this_inputs))], y)\n",
    "            d_loss = -score_real.mean() + score_fake.mean() + gradient_loss\n",
    "            d_loss.backward()\n",
    "            d_grad = np.mean([th.sum(p.grad **2).item() for p in adv_model.parameters()])\n",
    "        else:\n",
    "            g_loss = -th.mean(score_fake)\n",
    "            g_loss.backward()\n",
    "            g_grad = np.mean([th.sum(p.grad **2).item() for p in feature_model.parameters()])\n",
    "    if (i_epoch % 10) != 0:\n",
    "            optim_adv.step()\n",
    "    else:\n",
    "        optimizer.step()\n",
    "        optim_dist.step()\n",
    "    sample_wd_row = {}\n",
    "    for i_class in range(len(inputs)):\n",
    "        this_inputs = inputs[i_class]\n",
    "        mean = means_per_cluster[i_class]\n",
    "        std = th.exp(stds_per_cluster[i_class])\n",
    "        y = np_to_var([i_class]).cuda()\n",
    "        samples = get_gauss_samples(20, mean, std)\n",
    "\n",
    "        inverted = invert(feature_model, samples)\n",
    "        in_np = var_to_np(this_inputs).squeeze()\n",
    "        fake_np = var_to_np(inverted).squeeze()\n",
    "        import ot\n",
    "\n",
    "        dist = np.sum(np.abs(in_np[:,None] - fake_np[None]), axis=2)\n",
    "        match_matrix = ot.emd([],[], dist)\n",
    "        cost = np.sum(dist * match_matrix)\n",
    "        score_fake = adv_model(inverted, y)\n",
    "        score_real = adv_model(inputs[i_class], y)\n",
    "        wd_dist = th.mean(score_real) - th.mean(score_fake)\n",
    "        sample_wd_row.update({\n",
    "            'wd_dist_' + str(i_class): wd_dist.item() ,\n",
    "            'sampled_wd' + str(i_class): cost,\n",
    "            'wd_diff' + str(i_class): cost - wd_dist.item(),\n",
    "        })\n",
    "    end_time = time.time()\n",
    "    epoch_row = {\n",
    "    'd_loss': d_loss.item(),\n",
    "    'g_loss': g_loss.item(),\n",
    "    'o_real': th.mean(score_real).item(),\n",
    "    'o_fake': th.mean(score_fake).item(),\n",
    "    'g_grad': g_grad,\n",
    "    'd_grad': d_grad,\n",
    "    'runtime': end_time -start_time,\n",
    "    '1nn_train': one_nn_score_train()}\n",
    "    epoch_row.update(sample_wd_row)\n",
    "    df = df.append(epoch_row, ignore_index=True)\n",
    "    if i_epoch % (n_epochs // 20) == 0:\n",
    "        \n",
    "        display_text(\"Epoch {:d}\".format(i_epoch))\n",
    "        display(df.iloc[-5:])\n",
    "        print(\"stds\\n\", var_to_np(th.exp(th.stack(stds_per_cluster))))\n",
    "        for i_class in range(len(stds_per_cluster)):\n",
    "            std = th.exp(stds_per_cluster[i_class])\n",
    "            mean = means_per_cluster[i_class]\n",
    "            i_std_2, i_std_1 = np.argsort(var_to_np(std))[::-1][:2]\n",
    "            feature_a_values = th.linspace(float(mean[i_std_1].data - 2 * std[i_std_1].data),\n",
    "                                   float(mean[i_std_1].data + 2 * std[i_std_1].data), 9)\n",
    "            feature_b_values = th.linspace(float(mean[i_std_2].data - 2 * std[i_std_2].data),\n",
    "                                   float(mean[i_std_2].data + 2 * std[i_std_2].data), 9)\n",
    "            image_grid = np.zeros((len(feature_a_values), len(feature_b_values), inputs[i_class].shape[2]))\n",
    "\n",
    "            for i_f_a_val, f_a_val in enumerate(feature_a_values):\n",
    "                for i_f_b_val, f_b_val in enumerate(feature_b_values):\n",
    "                    this_out = mean.clone()\n",
    "                    this_out.data[i_std_1] = f_a_val\n",
    "                    this_out.data[i_std_2] = f_b_val\n",
    "                    inverted = var_to_np(invert(feature_model, this_out.unsqueeze(0))[0]).squeeze()\n",
    "\n",
    "                    image_grid[i_f_a_val, i_f_b_val] = np.copy(inverted)\n",
    "            fig, axes = plt.subplots(image_grid.shape[0], image_grid.shape[1],\n",
    "                 sharex=True, sharey=True,\n",
    "                figsize=(int(image_grid.shape[0] * 2), int(image_grid.shape[1])))\n",
    "            plt.subplots_adjust(wspace=0, hspace=0)\n",
    "            for ax, curve  in zip(axes.flatten(), image_grid.reshape(-1, image_grid.shape[-1])):\n",
    "                ax.plot(curve)\n",
    "            display(fig)\n",
    "            plt.close(fig)\n",
    "        \n",
    "        for i_class in range(len(means_per_cluster)):\n",
    "            outs_np = var_to_np(feature_model(inputs[i_class]))\n",
    "            fig = plt.figure(figsize=(12,2))\n",
    "            plt.title(\"Std of different dimensions\")\n",
    "            plt.plot(np.std(outs_np, axis=0))\n",
    "            plt.xlabel('Output dimension')\n",
    "            display(fig)\n",
    "            plt.close(fig)\n",
    "        \n",
    "        for i_class in range(len(inputs)):\n",
    "            y = np_to_var([i_class]).cuda()\n",
    "            mean = means_per_cluster[i_class]\n",
    "            std = th.exp(stds_per_cluster[i_class])\n",
    "            this_inputs = inputs[i_class]\n",
    "            samples = get_gauss_samples(2000, mean, std)\n",
    "\n",
    "            inverted = invert(feature_model, samples)\n",
    "            in_np = var_to_np(this_inputs).squeeze()\n",
    "            fake_np = var_to_np(inverted).squeeze()\n",
    "            import ot\n",
    "\n",
    "            dist = np.sum(np.abs(in_np[:,None] - fake_np[None]), axis=2)\n",
    "            match_matrix = ot.emd([],[], dist)\n",
    "            cost = np.sum(dist * match_matrix)\n",
    "            print(cost)\n",
    "            score_fake = adv_model(inverted, y)\n",
    "            score_real = adv_model(inputs[i_class], y)\n",
    "            wd_dist = th.mean(score_real) - th.mean(score_fake)\n",
    "            print(wd_dist)\n",
    "\n",
    "        for i_class in range(len(inputs)):\n",
    "            y = np_to_var([i_class]).cuda()\n",
    "            mean = means_per_cluster[1-i_class]\n",
    "            std = th.exp(stds_per_cluster[1-i_class])\n",
    "            this_inputs = inputs[i_class]\n",
    "            samples = get_gauss_samples(2000, mean, std)\n",
    "\n",
    "            inverted = invert(feature_model, samples)\n",
    "            in_np = var_to_np(this_inputs).squeeze()\n",
    "            fake_np = var_to_np(inverted).squeeze()\n",
    "            import ot\n",
    "\n",
    "            dist = np.sum(np.abs(in_np[:,None] - fake_np[None]), axis=2)\n",
    "            match_matrix = ot.emd([],[], dist)\n",
    "            cost = np.sum(dist * match_matrix)\n",
    "            print(cost)\n",
    "            score_fake = adv_model(inverted, y)\n",
    "            score_real = adv_model(inputs[i_class], y)\n",
    "            wd_dist = th.mean(score_real) - th.mean(score_fake)\n",
    "            print(wd_dist)"
   ]
  },
  {
   "cell_type": "code",
   "execution_count": null,
   "metadata": {},
   "outputs": [],
   "source": [
    "n_classes =   len(stds_per_cluster)\n",
    "image_grid = np.zeros((len(std), len(feature_a_values), n_classes, inputs[i_class].shape[2]))\n",
    "for i_class in range(len(stds_per_cluster)):\n",
    "    std = th.exp(stds_per_cluster[i_class])\n",
    "    mean = means_per_cluster[i_class]\n",
    "    for i_std in range(len(std)):\n",
    "        feature_a_values = th.linspace(float(mean[i_std].data - 2 * std[i_std].data),\n",
    "                               float(mean[i_std].data + 2 * std[i_std].data), 9)\n",
    "        for i_f_a_val, f_a_val in enumerate(feature_a_values):\n",
    "            this_out = mean.clone()\n",
    "            this_out.data[i_std] = f_a_val\n",
    "            inverted = var_to_np(invert(feature_model, this_out.unsqueeze(0))[0]).squeeze()\n",
    "            image_grid[i_std, i_f_a_val, i_class] = np.copy(inverted)\n",
    "fig, axes = plt.subplots(image_grid.shape[0], image_grid.shape[1],\n",
    "     sharex=True, sharey=True,\n",
    "    figsize=(int(image_grid.shape[1] * 1.5), int(image_grid.shape[0]) * 1.25))\n",
    "plt.subplots_adjust(wspace=0, hspace=0.2)\n",
    "for i_ax, (ax, curves)  in enumerate(zip(axes.flatten(), \n",
    "                                         image_grid.reshape(-1, image_grid.shape[-2], image_grid.shape[-1]))):\n",
    "    for i_class in range(n_classes):\n",
    "        ax.plot(np.linspace(0,1000, len(curves[i_class])), \n",
    "                curves[i_class], color=seaborn.color_palette()[i_class])\n",
    "axes[0][-1].legend(['Right', 'Rest'], bbox_to_anchor=[1,1,0,0])\n",
    "from matplotlib.colors import  LinearSegmentedColormap\n",
    "cmap = LinearSegmentedColormap.from_list(\n",
    "        'test', seaborn.color_palette()[:2][::-1])\n",
    "min_ratio, max_ratio = np.sort(var_to_np(th.exp(stds_per_cluster[0]) /\n",
    "                                         th.exp(stds_per_cluster[1])))[[0,-1]]\n",
    "for i_std in range(len(stds_per_cluster[0])):\n",
    "    std1 = th.exp(stds_per_cluster[0][i_std]).item()\n",
    "    std2 = th.exp(stds_per_cluster[1][i_std]).item()\n",
    "    ratio = std1/std2\n",
    "    axes[i_std][0].text(-750,0,\"{:.1f}\\n{:.1f}\\n{:.1f}\".format(\n",
    "        std1,\n",
    "        std2,\n",
    "        ratio), va='center', color=cmap((ratio - min_ratio) / max_ratio))\n",
    "\n",
    "axes[0][0].text(-750,2, \"Stds\\nRatio\")\n",
    "display(fig)\n",
    "plt.close(fig)\n"
   ]
  },
  {
   "cell_type": "code",
   "execution_count": null,
   "metadata": {
    "collapsed": true
   },
   "outputs": [],
   "source": [
    "# compute surrounding\n",
    "# plot each one the match to other ones"
   ]
  },
  {
   "cell_type": "markdown",
   "metadata": {},
   "source": [
    "### plot mean difference"
   ]
  },
  {
   "cell_type": "code",
   "execution_count": null,
   "metadata": {},
   "outputs": [],
   "source": [
    "n_steps = 17\n",
    "alphas = th.linspace(-0.5,1.5,n_steps).cuda()\n",
    "mean_dir = means_per_cluster[1] - means_per_cluster[0]\n",
    "\n",
    "vals = means_per_cluster[0].unsqueeze(0) + (alphas.unsqueeze(1) * mean_dir.unsqueeze(0))\n",
    "\n",
    "inverted = invert(feature_model, vals).squeeze()\n",
    "\n",
    "\n",
    "alphas =np.linspace(0,1,len(inverted))\n",
    "colors = (1 - alphas)[:,None] * np.array(seaborn.color_palette()[0])[None] + (\n",
    "    alphas[:,None] * np.array(seaborn.color_palette()[1])[None])\n",
    "plt.figure(figsize=(12,6))\n",
    "for i_line in range(len(colors)):\n",
    "    lw = 0.7\n",
    "    if i_line in [4,17-4]:\n",
    "        lw=2\n",
    "    label = ''\n",
    "    if i_line == 4:\n",
    "        label = 'Right'\n",
    "    elif i_line == (17-4):\n",
    "        label = 'Rest'\n",
    "    plt.plot(var_to_np(inverted)[i_line], color=colors[i_line], lw=lw, label=label);\n",
    "plt.title(\"Morph between two class means\")\n",
    "plt.legend()"
   ]
  },
  {
   "cell_type": "code",
   "execution_count": null,
   "metadata": {},
   "outputs": [],
   "source": [
    "n_steps = 17\n",
    "alphas = np.linspace(-0.5,1.5,n_steps)\n",
    "mean_dir = np.mean(var_to_np(inputs[1]).squeeze(), axis=0) - np.mean(var_to_np(inputs[0]).squeeze(), axis=0)\n",
    "\n",
    "inverted = np.mean(var_to_np(inputs[0]).squeeze(), axis=0)[None] + (alphas[:,None] * mean_dir[None])\n",
    "\n",
    "\n",
    "alphas =np.linspace(0,1,len(inverted))\n",
    "colors = (1 - alphas)[:,None] * np.array(seaborn.color_palette()[0])[None] + (\n",
    "    alphas[:,None] * np.array(seaborn.color_palette()[1])[None])\n",
    "plt.figure(figsize=(12,6))\n",
    "for i_line in range(len(colors)):\n",
    "    lw = 0.7\n",
    "    if i_line in [4,17-4]:\n",
    "        lw=2\n",
    "    label = ''\n",
    "    if i_line == 4:\n",
    "        label = 'Right'\n",
    "    elif i_line == (17-4):\n",
    "        label = 'Rest'\n",
    "    plt.plot(inverted[i_line], color=colors[i_line], lw=lw, label=label);\n",
    "plt.title(\"Morph between two class means in input space\")\n",
    "plt.legend()"
   ]
  },
  {
   "cell_type": "code",
   "execution_count": null,
   "metadata": {},
   "outputs": [],
   "source": [
    "plt.figure(figsize=(6,2))\n",
    "\n",
    "for i_class in range(len(means_per_cluster)):\n",
    "    mean = means_per_cluster[i_class]\n",
    "    inverted = invert(feature_model, get_gauss_samples(1, mean, mean*0)).squeeze()\n",
    "    plt.plot(var_to_np(inverted),\n",
    "            color=seaborn.color_palette()[i_class],\n",
    "            label=['Right', 'Rest'][i_class] + ' Fake Mode')\n",
    "\n",
    "    data_mean = np.mean(var_to_np(inputs[i_class]), axis=0).squeeze()\n",
    "    plt.plot(data_mean,\n",
    "            color=seaborn.color_palette()[i_class],\n",
    "             ls='--', label=['Right', 'Rest'][i_class] + ' Real Mean')\n",
    "plt.legend(bbox_to_anchor=(1,1,0,0))\n",
    "plt.title(\"Compare inverted modes and real means\")"
   ]
  },
  {
   "cell_type": "code",
   "execution_count": null,
   "metadata": {},
   "outputs": [],
   "source": [
    "part_df = df.loc[[0,2000,4000],['sampled_wd0', 'sampled_wd1', 'wd_diff0', 'wd_diff1', '1nn_train']]\n",
    "display(part_df)\n",
    "\n",
    "for i_epoch in [2000,4000]:\n",
    "    print(\"Epoch {:d}\".format(i_epoch))\n",
    "    print('Sampled_wd: {:.2f}'.format(np.mean(np.mean(df.loc[i_epoch-5:i_epoch, ['sampled_wd0', 'sampled_wd1']]))))\n",
    "    print('wd_diff: {:.2f}'.format(np.mean(np.mean(df.loc[i_epoch-5:i_epoch, ['wd_diff0', 'wd_diff1']]))))\n",
    "    print('1nn: {:.1f}%'.format(np.mean(np.mean(df.loc[i_epoch-5:i_epoch, ['1nn_train',]])) * 100))\n",
    "    print(\"\")"
   ]
  },
  {
   "cell_type": "code",
   "execution_count": null,
   "metadata": {},
   "outputs": [],
   "source": [
    "\n",
    "for i_epoch in [8000,10000,12000]:\n",
    "    print(\"Epoch {:d}\".format(i_epoch))\n",
    "    print('Sampled_wd: {:.2f}'.format(np.mean(np.mean(df.loc[i_epoch-5:i_epoch, ['sampled_wd0', 'sampled_wd1']]))))\n",
    "    print('wd_diff: {:.2f}'.format(np.mean(np.mean(df.loc[i_epoch-5:i_epoch, ['wd_diff0', 'wd_diff1']]))))\n",
    "    print('1nn: {:.1f}%'.format(np.mean(np.mean(df.loc[i_epoch-5:i_epoch, ['1nn_train',]])) * 100))\n",
    "    print(\"\")"
   ]
  },
  {
   "cell_type": "code",
   "execution_count": null,
   "metadata": {},
   "outputs": [],
   "source": [
    "\n",
    "df.plot()\n",
    "plt.ylim(-1,5)"
   ]
  },
  {
   "cell_type": "code",
   "execution_count": null,
   "metadata": {},
   "outputs": [],
   "source": [
    "df.loc[:,['sampled_wd0', 'sampled_wd1']].plot()\n",
    "plt.ylim(-1,5)"
   ]
  },
  {
   "cell_type": "code",
   "execution_count": null,
   "metadata": {},
   "outputs": [],
   "source": [
    "for i_class in range(2):\n",
    "    plt.figure(figsize=(8,5))\n",
    "\n",
    "    mean = means_per_cluster[i_class]\n",
    "    std = th.exp(stds_per_cluster[i_class])\n",
    "    samples = get_gauss_samples(40, mean, std)\n",
    "    inverted = invert(feature_model, samples)\n",
    "\n",
    "    plt.plot(var_to_np(inverted.squeeze()).T, lw=1, alpha=0.7,\n",
    "            color=seaborn.color_palette()[i_class], );\n",
    "    plt.plot(var_to_np(inputs[i_class].squeeze()).T,  lw=1, alpha=0.7,\n",
    "            color='black',);"
   ]
  },
  {
   "cell_type": "markdown",
   "metadata": {},
   "source": [
    "### semidual"
   ]
  },
  {
   "cell_type": "markdown",
   "metadata": {},
   "source": [
    "#### match ring to gaussian"
   ]
  },
  {
   "cell_type": "code",
   "execution_count": null,
   "metadata": {},
   "outputs": [],
   "source": [
    "angles = np.linspace(0,2*np.pi,endpoint=False, num=8)\n",
    "x = np.cos(angles)\n",
    "y = np.sin(angles)\n",
    "\n",
    "plt.figure(figsize=(5,5))\n",
    "plt.plot(x,y, marker='o', ls ='')\n",
    "\n",
    "xs = np.array([x,y]).T"
   ]
  },
  {
   "cell_type": "code",
   "execution_count": null,
   "metadata": {},
   "outputs": [],
   "source": [
    "rng = RandomState(20192501)\n",
    "\n",
    "v = np.zeros(len(xs))\n",
    "v_avg = np.zeros(len(v))\n",
    "n = 1000\n",
    "lr = 10\n",
    "for k in range(1,100):\n",
    "    a = rng.randn(1,2)\n",
    "\n",
    "    diffs =  np.sqrt(np.sum(np.square(a - xs), axis=1))\n",
    "    diffs = diffs - v\n",
    "    i_min_diff = np.argmin(diffs)\n",
    "    this_lr = lr / np.sqrt(k)\n",
    "    v[i_min_diff] -= (1 * this_lr)\n",
    "    v += ((1/len(v)) * this_lr)\n",
    "    v_avg = (v) * (1/k) + ((k-1) / n) * v_avg\n",
    "\n",
    "v"
   ]
  },
  {
   "cell_type": "code",
   "execution_count": null,
   "metadata": {},
   "outputs": [],
   "source": [
    "plt.figure(figsize=(5,5))\n",
    "for k in range(1,500):\n",
    "    a = rng.randn(1,2)\n",
    "    diffs =  np.sqrt(np.sum(np.square(a - xs), axis=1))\n",
    "    diffs = diffs - v_avg\n",
    "    i_min_diff = np.argmin(diffs)\n",
    "    plt.plot(a[0,0], a[0,1], color=seaborn.color_palette()[i_min_diff], ls='', marker='o')\n"
   ]
  },
  {
   "cell_type": "code",
   "execution_count": null,
   "metadata": {},
   "outputs": [],
   "source": [
    "plt.figure(figsize=(5,5))\n",
    "for k in range(1,500):\n",
    "    a = rng.randn(1,2)\n",
    "    diffs =  np.sqrt(np.sum(np.square(a - xs), axis=1))\n",
    "    diffs = diffs - v_avg\n",
    "    i_min_diff = np.argmin(diffs)\n",
    "    plt.plot(a[0,0], a[0,1], color=seaborn.color_palette()[i_min_diff], ls='', marker='o')\n"
   ]
  },
  {
   "cell_type": "code",
   "execution_count": null,
   "metadata": {
    "collapsed": true
   },
   "outputs": [],
   "source": []
  },
  {
   "cell_type": "code",
   "execution_count": null,
   "metadata": {},
   "outputs": [],
   "source": [
    "xs = np.array([np.zeros(7),np.linspace(-1,1,7)]).T\n",
    "rng = RandomState(20192501)\n",
    "\n",
    "v = np.zeros(len(xs))\n",
    "v_avg = np.zeros(len(v))\n",
    "n = 100000\n",
    "lr = 1000\n",
    "for k in range(1,n):\n",
    "    a = rng.randn(1,2)\n",
    "\n",
    "    diffs =  np.sqrt(np.sum(np.square(a - xs), axis=1))\n",
    "    diffs = diffs - v\n",
    "    i_min_diff = np.argmin(diffs)\n",
    "    this_lr = lr / np.sqrt(k)\n",
    "    v[i_min_diff] -= (1 * this_lr)\n",
    "    v += ((1/len(v)) * this_lr)\n",
    "    v_avg = (v) * (1/k) + ((k-1) / n) * v_avg\n",
    "\n",
    "v_avg"
   ]
  },
  {
   "cell_type": "code",
   "execution_count": null,
   "metadata": {},
   "outputs": [],
   "source": [
    "plt.figure(figsize=(5,5))\n",
    "for k in range(1,500):\n",
    "    a = rng.randn(1,2)\n",
    "    diffs =  np.sqrt(np.sum(np.square(a - xs), axis=1))\n",
    "    diffs = diffs - v_avg\n",
    "    i_min_diff = np.argmin(diffs)\n",
    "    plt.plot(a[0,0], a[0,1], color=seaborn.color_palette()[i_min_diff], ls='', marker='o')\n"
   ]
  },
  {
   "cell_type": "code",
   "execution_count": null,
   "metadata": {},
   "outputs": [],
   "source": []
  },
  {
   "cell_type": "code",
   "execution_count": null,
   "metadata": {},
   "outputs": [],
   "source": [
    "v"
   ]
  },
  {
   "cell_type": "code",
   "execution_count": null,
   "metadata": {},
   "outputs": [],
   "source": [
    "plt.figure(figsize=(5,5))\n",
    "for k in range(1,500):\n",
    "    a = rng.rand(1,2)\n",
    "    diffs =  np.sqrt(np.sum(np.square(a - xs), axis=1))\n",
    "    diffs = diffs - v_avg\n",
    "    i_min_diff = np.argmin(diffs)\n",
    "    plt.plot(a[0,0], a[0,1], color=seaborn.color_palette()[i_min_diff], ls='', marker='o')\n"
   ]
  },
  {
   "cell_type": "code",
   "execution_count": null,
   "metadata": {},
   "outputs": [],
   "source": [
    "xs = np.array([np.zeros(7),np.linspace(-1,1,7)]).T\n",
    "rng = RandomState(20192501)\n",
    "\n",
    "v = np.zeros(len(xs))\n",
    "v_avg = np.zeros(len(v))\n",
    "n = 10000\n",
    "lr = 1\n",
    "for k in range(1,n):\n",
    "    a = rng.rand(1,2)\n",
    "\n",
    "    diffs =  np.sqrt(np.sum(np.square(a - xs), axis=1))\n",
    "    diffs = diffs - v\n",
    "    i_min_diff = np.argmin(diffs)\n",
    "    this_lr = lr / np.sqrt(k)\n",
    "    v[i_min_diff] -= (1 * this_lr)\n",
    "    v += ((1/len(v)) * this_lr)\n",
    "    v_avg = ((v) * (1/k)) + (((k-1) / n) * v_avg)\n",
    "\n",
    "v_avg\n",
    "bincount = np.zeros(len(xs))\n",
    "plt.figure(figsize=(5,5))\n",
    "for k in range(1,1500):\n",
    "    a = rng.rand(1,2)\n",
    "    diffs =  np.sqrt(np.sum(np.square(a - xs), axis=1))\n",
    "    diffs = diffs - v\n",
    "    i_min_diff = np.argmin(diffs)\n",
    "    bincount[i_min_diff] += 1\n",
    "    plt.plot(a[0,0], a[0,1], color=seaborn.color_palette()[i_min_diff], ls='', marker='o')\n",
    "bincount"
   ]
  },
  {
   "cell_type": "code",
   "execution_count": null,
   "metadata": {
    "collapsed": true
   },
   "outputs": [],
   "source": [
    "for i_class in range(2):\n",
    "    mean = means_per_cluster[i_class]\n",
    "    std = th.exp(stds_per_cluster[i_class])\n",
    "    samples = get_gauss_samples(40, mean, std)\n",
    "    inverted = invert(feature_model, samples)\n",
    "\n",
    "    plt.plot(var_to_np(inverted.squeeze()).T, lw=1, alpha=0.7,\n",
    "            color=seaborn.color_palette()[i_class], );\n",
    "    plt.plot(var_to_np(inputs[i_class].squeeze()).T,  lw=1, alpha=0.7,\n",
    "            color='black',);"
   ]
  },
  {
   "cell_type": "code",
   "execution_count": null,
   "metadata": {},
   "outputs": [],
   "source": [
    "i_class = 0\n",
    "xs = var_to_np(inputs[i_class].squeeze())\n",
    "rng = RandomState(20192501)\n",
    "mean = means_per_cluster[i_class]\n",
    "std = th.exp(stds_per_cluster[i_class])\n",
    "v = np.zeros(len(xs))\n",
    "v_avg = np.zeros(len(v))\n",
    "n = 10000\n",
    "lr = 1\n",
    "for k in range(1,n):\n",
    "    a = var_to_np(get_gauss_samples(1, mean, std).squeeze())\n",
    "\n",
    "    diffs =  np.sqrt(np.sum(np.square(a - xs), axis=1))\n",
    "    diffs = diffs - v\n",
    "    i_min_diff = np.argmin(diffs)\n",
    "    this_lr = lr / np.sqrt(k)\n",
    "    v[i_min_diff] -= (1 * this_lr)\n",
    "    v += ((1/len(v)) * this_lr)\n",
    "    v_avg = ((v) * (1/k)) + (((k-1) / n) * v_avg)\n",
    "\n",
    "v_avg"
   ]
  },
  {
   "cell_type": "code",
   "execution_count": null,
   "metadata": {},
   "outputs": [],
   "source": [
    "bincount = np.zeros(len(xs))\n",
    "matches = [[] for _ in range(20)]\n",
    "plt.figure(figsize=(5,5))\n",
    "for k in range(1,1500):\n",
    "    a = var_to_np(get_gauss_samples(1, mean, std).squeeze())\n",
    "    diffs =  np.sqrt(np.sum(np.square(a - xs), axis=1))\n",
    "    diffs = diffs - v\n",
    "    i_min_diff = np.argmin(diffs)\n",
    "    bincount[i_min_diff] += 1\n",
    "    matches[i_min_diff].append(a)\n",
    "bincount"
   ]
  },
  {
   "cell_type": "code",
   "execution_count": null,
   "metadata": {},
   "outputs": [],
   "source": [
    "for reference, match in zip(xs, matches):\n",
    "    plt.figure(figsize=(12,4))\n",
    "    plt.plot(np.array(match).T, color=seaborn.color_palette()[0]);\n",
    "    plt.plot(reference, color='black')"
   ]
  },
  {
   "cell_type": "code",
   "execution_count": null,
   "metadata": {},
   "outputs": [],
   "source": [
    "mean = means_per_cluster[i_class]\n",
    "std = th.exp(stds_per_cluster[i_class])\n",
    "samples = get_gauss_samples(5000, mean, std)\n",
    "inverted = var_to_np(invert(feature_model, samples).squeeze())\n",
    "ins = var_to_np(inputs[i_class].squeeze())\n",
    "\n",
    "dist_matrix = np.sqrt(np.sum(np.square(ins[:,None] - inverted[None]), axis=2))\n",
    "\n",
    "coupling = ot.emd([],[], dist_matrix)\n",
    "\n",
    "for i_in in range(len(ins)):\n",
    "    plt.figure(figsize=(12,4))\n",
    "    mask = coupling[i_in] > 1 / (len(inverted) + 1)\n",
    "    matched_samples = inverted[mask]\n",
    "    reference = ins[i_in]\n",
    "    plt.plot(np.array(matched_samples).T, color=seaborn.color_palette()[0]);\n",
    "    plt.plot(reference, color='black')\n",
    "    "
   ]
  },
  {
   "cell_type": "code",
   "execution_count": null,
   "metadata": {},
   "outputs": [],
   "source": [
    "plt.plot(np.array(matched_samples).T, color=seaborn.color_palette()[0]);"
   ]
  },
  {
   "cell_type": "code",
   "execution_count": null,
   "metadata": {},
   "outputs": [],
   "source": [
    "dist_matrix.shape"
   ]
  },
  {
   "cell_type": "code",
   "execution_count": null,
   "metadata": {},
   "outputs": [],
   "source": []
  },
  {
   "cell_type": "code",
   "execution_count": null,
   "metadata": {},
   "outputs": [],
   "source": [
    "np.sum(mask)"
   ]
  },
  {
   "cell_type": "code",
   "execution_count": null,
   "metadata": {},
   "outputs": [],
   "source": [
    "1 / 0.00066667"
   ]
  },
  {
   "cell_type": "code",
   "execution_count": null,
   "metadata": {},
   "outputs": [],
   "source": [
    "np.array(matches[0]).shape"
   ]
  },
  {
   "cell_type": "code",
   "execution_count": null,
   "metadata": {},
   "outputs": [],
   "source": [
    "v_avg"
   ]
  },
  {
   "cell_type": "code",
   "execution_count": null,
   "metadata": {
    "collapsed": true
   },
   "outputs": [],
   "source": [
    "def optimize_v_optimizer(v, optim_v, outs, sample_fn, max_iters=150):\n",
    "    avg_v = th.zeros_like(v.data)\n",
    "    for i_update in range(max_iters):\n",
    "        samples = sample_fn()\n",
    "        diffs = th.sum((outs.unsqueeze(dim=1) - samples.unsqueeze(dim=0)) ** 2, dim=2)\n",
    "        min_diffs, _ = th.min(diffs - v.unsqueeze(1), dim=0)\n",
    "        loss = -(th.mean(min_diffs) + th.mean(v))\n",
    "        optim_v.zero_grad()\n",
    "        loss.backward()\n",
    "        optim_v.step()\n",
    "        v.data = v.data - th.mean(v.data)\n",
    "        k = i_update + 1\n",
    "        avg_v = ((k-1) / k) * avg_v + (1/k) * v.data\n",
    "    return i_update, avg_v"
   ]
  },
  {
   "cell_type": "markdown",
   "metadata": {},
   "source": [
    "### map "
   ]
  },
  {
   "cell_type": "code",
   "execution_count": null,
   "metadata": {},
   "outputs": [],
   "source": [
    "for i_class in range(len(inputs)):\n",
    "    y = np_to_var([i_class]).cuda()\n",
    "    mean = means_per_cluster[i_class]\n",
    "    std = th.exp(stds_per_cluster[i_class])\n",
    "    this_inputs = inputs[i_class]\n",
    "    if y == 0:\n",
    "        inverted = np_to_var(x_rest[20:,0:1,:,None], dtype=np.float32).cuda()\n",
    "    else:\n",
    "        inverted = np_to_var(x_right[20:,0:1,:,None], dtype=np.float32).cuda()\n",
    "\n",
    "    in_np = var_to_np(this_inputs).squeeze()\n",
    "    fake_np = var_to_np(inverted).squeeze()\n",
    "    import ot\n",
    "\n",
    "    dist = np.sum(np.abs(in_np[:,None] - fake_np[None]), axis=2)\n",
    "    match_matrix = ot.emd([],[], dist)\n",
    "    cost = np.sum(dist * match_matrix)\n",
    "    print(cost)\n",
    "    score_fake = adv_model(inverted, y)\n",
    "    score_real = adv_model(inputs[i_class], y)\n",
    "    wd_dist = th.mean(score_real) - th.mean(score_fake)\n",
    "    print(wd_dist)"
   ]
  },
  {
   "cell_type": "code",
   "execution_count": null,
   "metadata": {},
   "outputs": [],
   "source": [
    "for i_class in range(len(inputs)):\n",
    "    y = np_to_var([i_class]).cuda()\n",
    "    mean = means_per_cluster[i_class]\n",
    "    std = th.exp(stds_per_cluster[i_class])\n",
    "    if y == 0:\n",
    "        this_inputs = np_to_var(x_rest[20:,0:1,:,None], dtype=np.float32).cuda()\n",
    "    else:\n",
    "        this_inputs = np_to_var(x_right[20:,0:1,:,None], dtype=np.float32).cuda()\n",
    "    samples = get_gauss_samples(20, mean, std)\n",
    "\n",
    "    inverted = invert(feature_model, samples)\n",
    "    in_np = var_to_np(this_inputs).squeeze()\n",
    "    fake_np = var_to_np(inverted).squeeze()\n",
    "    import ot\n",
    "\n",
    "    dist = np.sum(np.abs(in_np[:,None] - fake_np[None]), axis=2)\n",
    "    match_matrix = ot.emd([],[], dist)\n",
    "    cost = np.sum(dist * match_matrix)\n",
    "    print(cost)\n",
    "    score_fake = adv_model(inverted, y)\n",
    "    score_real = adv_model(inputs[i_class], y)\n",
    "    wd_dist = th.mean(score_real) - th.mean(score_fake)\n",
    "    print(wd_dist)"
   ]
  },
  {
   "cell_type": "code",
   "execution_count": null,
   "metadata": {},
   "outputs": [],
   "source": [
    "for i_class in range(len(inputs)):\n",
    "    mean = means_per_cluster[i_class]\n",
    "    std = th.exp(stds_per_cluster[i_class])\n",
    "    this_inputs = inputs[i_class]\n",
    "    samples = get_gauss_samples(2000, mean, std)\n",
    "\n",
    "    inverted = invert(feature_model, samples)\n",
    "    in_np = var_to_np(this_inputs).squeeze()\n",
    "    fake_np = var_to_np(inverted).squeeze()\n",
    "    import ot\n",
    "\n",
    "    dist = np.sum(np.abs(in_np[:,None] - fake_np[None]), axis=2)\n",
    "    match_matrix = ot.emd([],[], dist)\n",
    "    cost = np.sum(dist * match_matrix)\n",
    "    print(cost)\n",
    "    score_fake = adv_model(inverted)\n",
    "    score_real = adv_model(inputs[i_class])\n",
    "    wd_dist = th.mean(score_real) - th.mean(score_fake)\n",
    "    print(wd_dist)"
   ]
  },
  {
   "cell_type": "code",
   "execution_count": null,
   "metadata": {},
   "outputs": [],
   "source": [
    "for i_class in range(len(inputs)):\n",
    "        mean = means_per_cluster[1-i_class]\n",
    "        std = th.exp(stds_per_cluster[1-i_class])\n",
    "        samples = get_gauss_samples(2000, mean, std)\n",
    "\n",
    "        inverted = invert(feature_model, samples)\n",
    "        in_np = var_to_np(inputs[i_class]).squeeze()\n",
    "        fake_np = var_to_np(inverted).squeeze()\n",
    "        import ot\n",
    "\n",
    "        dist = np.sum(np.abs(in_np[:,None] - fake_np[None]), axis=2)\n",
    "        match_matrix = ot.emd([],[], dist)\n",
    "        cost = np.sum(dist * match_matrix)\n",
    "        print(cost)\n",
    "        score_fake = adv_model(inverted)\n",
    "        score_real = adv_model(inputs[i_class])\n",
    "        wd_dist = th.mean(score_real) - th.mean(score_fake)\n",
    "        print(wd_dist)"
   ]
  },
  {
   "cell_type": "code",
   "execution_count": null,
   "metadata": {},
   "outputs": [],
   "source": [
    "means_per_cluster"
   ]
  },
  {
   "cell_type": "code",
   "execution_count": null,
   "metadata": {},
   "outputs": [],
   "source": [
    "th.exp(th.stack(stds_per_cluster))"
   ]
  }
 ],
 "metadata": {
  "kernelspec": {
   "display_name": "Python 3",
   "language": "python",
   "name": "python3"
  },
  "language_info": {
   "codemirror_mode": {
    "name": "ipython",
    "version": 3
   },
   "file_extension": ".py",
   "mimetype": "text/x-python",
   "name": "python",
   "nbconvert_exporter": "python",
   "pygments_lexer": "ipython3",
   "version": "3.6.8"
  }
 },
 "nbformat": 4,
 "nbformat_minor": 2
}
