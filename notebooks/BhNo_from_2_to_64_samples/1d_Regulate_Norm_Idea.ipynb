{
 "cells": [
  {
   "cell_type": "code",
   "execution_count": null,
   "metadata": {
    "collapsed": true
   },
   "outputs": [],
   "source": [
    "%%capture\n",
    "import os\n",
    "import site\n",
    "os.sys.path.insert(0, '/home/schirrmr/braindecode/code/braindecode/')\n",
    "os.sys.path.insert(0, '/home/schirrmr/code/explaining/reversible//')\n",
    "os.sys.path.insert(0, '/home/schirrmr/code/reversible/reversible2///')\n",
    "%cd /home/schirrmr/\n",
    "\n",
    "\n",
    "%load_ext autoreload\n",
    "%autoreload 2\n",
    "import numpy as np\n",
    "import logging\n",
    "log = logging.getLogger()\n",
    "log.setLevel('INFO')\n",
    "import sys\n",
    "logging.basicConfig(format='%(asctime)s %(levelname)s : %(message)s',\n",
    "                     level=logging.INFO, stream=sys.stdout)\n",
    "import matplotlib\n",
    "from matplotlib import pyplot as plt\n",
    "from matplotlib import cm\n",
    "%matplotlib inline\n",
    "%config InlineBackend.figure_format = 'png'\n",
    "matplotlib.rcParams['figure.figsize'] = (12.0, 1.0)\n",
    "matplotlib.rcParams['font.size'] = 14\n",
    "import seaborn\n",
    "seaborn.set_style('darkgrid')\n",
    "\n",
    "from reversible.sliced import sliced_from_samples\n",
    "\n",
    "from numpy.random import RandomState\n",
    "\n",
    "import torch as th\n",
    "import torch.nn as nn\n",
    "import torch.nn.functional as F\n",
    "from torch.autograd import Variable\n",
    "import numpy as np\n",
    "import copy\n",
    "import math\n",
    "\n",
    "import itertools\n",
    "from reversible.plot import create_bw_image\n",
    "import torch as th\n",
    "from braindecode.torch_ext.util import np_to_var, var_to_np, set_random_seeds"
   ]
  },
  {
   "cell_type": "code",
   "execution_count": null,
   "metadata": {
    "collapsed": true
   },
   "outputs": [],
   "source": [
    "class UpperBoundReLU(nn.Module):\n",
    "    def __init__(self, n_filters):\n",
    "        super(UpperBoundReLU, self).__init__()\n",
    "        self.upper_bound = nn.Parameter(th.ones(n_filters, dtype=th.float32))\n",
    "        #self.upper_bound = th.ones(n_filters, dtype=th.float32)\n",
    "        \n",
    "    def forward(self, x):\n",
    "        x = nn.functional.relu(x)\n",
    "        mask = (x < self.upper_bound.unsqueeze(0)).type_as(x)\n",
    "        x = x * mask + ((1-mask ) * self.upper_bound.unsqueeze(0))\n",
    "        return x"
   ]
  },
  {
   "cell_type": "code",
   "execution_count": null,
   "metadata": {
    "collapsed": true
   },
   "outputs": [],
   "source": [
    "example_points = np_to_var([0,1.0,2.0],dtype=np.float32).unsqueeze(1).detach().requires_grad_(True)"
   ]
  },
  {
   "cell_type": "code",
   "execution_count": null,
   "metadata": {
    "collapsed": true
   },
   "outputs": [],
   "source": [
    "set_random_seeds(20190118, False)\n",
    "discriminator = nn.Sequential(nn.Linear(1,60), \n",
    "                             nn.ReLU(),#UpperBoundReLU(20)\n",
    "                             nn.Linear(60,60),\n",
    "                             nn.ReLU(),#UpperBoundReLU(20)\n",
    "                             nn.Linear(60,1))\n",
    "\n",
    "from spectral_norm import spectral_norm\n",
    "\n",
    "#for module in discriminator.modules():\n",
    "#    if hasattr(module, 'weight'):\n",
    "#        spectral_norm(module,n_power_iterations=3)"
   ]
  },
  {
   "cell_type": "code",
   "execution_count": null,
   "metadata": {},
   "outputs": [],
   "source": [
    "counter_points = np_to_var(np.linspace(-0.5,2.5,4), dtype=np.float32).unsqueeze(1)\n",
    "\n",
    "plt.plot(var_to_np(example_points), var_to_np(example_points) * 0, ls='', marker='o')\n",
    "plt.plot(var_to_np(counter_points), var_to_np(counter_points) * 0, ls='', marker='o')"
   ]
  },
  {
   "cell_type": "code",
   "execution_count": null,
   "metadata": {},
   "outputs": [],
   "source": [
    "sorted_p, _ = th.sort(th.cat((example_points, counter_points)), dim=0)\n",
    "\n",
    "for i_module in range(len(list(discriminator.children()))):\n",
    "    outs = discriminator[:i_module+1](sorted_p)\n",
    "    plt.figure(figsize=(6,1.2))\n",
    "    plt.plot(var_to_np(sorted_p), var_to_np(outs[:,:10]), color='black')\n",
    "    print(outs.shape)"
   ]
  },
  {
   "cell_type": "code",
   "execution_count": null,
   "metadata": {},
   "outputs": [],
   "source": [
    "out"
   ]
  },
  {
   "cell_type": "code",
   "execution_count": null,
   "metadata": {},
   "outputs": [],
   "source": [
    "optimizer = th.optim.Adam(discriminator.parameters(), lr=1e-2)\n",
    "n_epochs = 5000\n",
    "for i_epoch in range(n_epochs):\n",
    "    out = th.mean(discriminator(example_points)) - th.mean(discriminator(counter_points))\n",
    "    l1 = example_points.unsqueeze(1)- counter_points.unsqueeze(0)\n",
    "    dist = discriminator(example_points).unsqueeze(1) - discriminator(counter_points).unsqueeze(0)\n",
    "    dist_loss = nn.functional.relu(th.abs(dist) - th.abs(l1))\n",
    "    dist_loss =  dist_loss + (dist_loss ** 2 )\n",
    "    loss = -out + th.mean(dist_loss) * 10\n",
    "    optimizer.zero_grad()\n",
    "    loss.backward()\n",
    "    optimizer.step()\n",
    "    if i_epoch % (n_epochs // 20) == 0:\n",
    "        print(\"loss\", loss)\n",
    "        sorted_p, _ = th.sort(th.cat((example_points, counter_points)), dim=0)\n",
    "\n",
    "        outs = discriminator(sorted_p)\n",
    "        fig = plt.figure(figsize=(8,3))\n",
    "        plt.plot(var_to_np(sorted_p.squeeze()), var_to_np(outs))\n",
    "        display(fig)\n",
    "        plt.close(fig)"
   ]
  },
  {
   "cell_type": "code",
   "execution_count": null,
   "metadata": {
    "collapsed": true
   },
   "outputs": [],
   "source": [
    "optimizer = th.optim.Adam(discriminator.parameters(), lr=1e-2)\n",
    "n_epochs = 5000\n",
    "for i_epoch in range(n_epochs):\n",
    "    out = th.mean(discriminator(example_points)) - th.mean(discriminator(counter_points))\n",
    "    l1 = example_points.unsqueeze(1)- counter_points.unsqueeze(0)\n",
    "    dist = discriminator(example_points).unsqueeze(1) - discriminator(counter_points).unsqueeze(0)\n",
    "    dist_loss = nn.functional.relu(th.abs(dist) - th.abs(l1))\n",
    "    dist_loss =  dist_loss + (dist_loss ** 2 )\n",
    "    loss = -out + th.mean(dist_loss) * 10\n",
    "    optimizer.zero_grad()\n",
    "    loss.backward()\n",
    "    optimizer.step()\n",
    "    if i_epoch % (n_epochs // 20) == 0:\n",
    "        print(\"loss\", loss)\n",
    "        sorted_p, _ = th.sort(th.cat((example_points, counter_points)), dim=0)\n",
    "\n",
    "        outs = discriminator(sorted_p)\n",
    "        fig = plt.figure(figsize=(8,3))\n",
    "        plt.plot(var_to_np(sorted_p.squeeze()), var_to_np(outs))\n",
    "        display(fig)\n",
    "        plt.close(fig)"
   ]
  },
  {
   "cell_type": "code",
   "execution_count": null,
   "metadata": {},
   "outputs": [],
   "source": [
    "out"
   ]
  },
  {
   "cell_type": "code",
   "execution_count": null,
   "metadata": {},
   "outputs": [],
   "source": [
    "sorted_p, _ = th.sort(th.cat((example_points, counter_points)), dim=0)\n",
    "\n",
    "for i_module in range(len(list(discriminator.children()))):\n",
    "    outs = discriminator[:i_module+1](sorted_p)\n",
    "    plt.figure(figsize=(6,1.2))\n",
    "    plt.plot(var_to_np(sorted_p), var_to_np(outs[:,:]), color='black', lw=0.5)\n",
    "    print(outs.shape)"
   ]
  },
  {
   "cell_type": "markdown",
   "metadata": {},
   "source": [
    "## only use first and last point"
   ]
  },
  {
   "cell_type": "code",
   "execution_count": null,
   "metadata": {},
   "outputs": [],
   "source": [
    "from weight_norm import weight_norm\n",
    "set_random_seeds(20190118, False)\n",
    "discriminator = nn.Sequential(nn.Linear(1,60), \n",
    "                             nn.ReLU(),#UpperBoundReLU(20)\n",
    "                             nn.Linear(60,60),\n",
    "                             nn.ReLU(),#UpperBoundReLU(20)\n",
    "                             nn.Linear(60,1))\n",
    "\n",
    "\n",
    "weight_norms = []\n",
    "for m in discriminator.modules():\n",
    "    if hasattr(m, 'weight') and m.weight is not None:\n",
    "        w_norms = th.ones_like(m.weight[:,0:1], requires_grad=True)\n",
    "        w_norms.data = w_norms.data *  1\n",
    "        # in-place!!\n",
    "        print(\"wnorm\", w_norms.shape)\n",
    "        weight_norm(m, 'weight', dim=0, fixed_norm=w_norms)\n",
    "        weight_norms.append(w_norms)\n",
    "None"
   ]
  },
  {
   "cell_type": "code",
   "execution_count": null,
   "metadata": {},
   "outputs": [],
   "source": [
    "optimizer = th.optim.Adam(discriminator.parameters(), lr=1e-2)\n",
    "optim_wnorms = th.optim.Adam(weight_norms, lr=1e-3)\n",
    "n_epochs = 20\n",
    "for i_epoch in range(n_epochs):\n",
    "    used_points = example_points[[0,2]]\n",
    "    out = th.mean(discriminator(used_points)) - th.mean(discriminator(counter_points))\n",
    "    l1 = used_points.unsqueeze(1)- counter_points.unsqueeze(0)\n",
    "    dist = discriminator(used_points).unsqueeze(1) - discriminator(counter_points).unsqueeze(0)\n",
    "    dist_loss = nn.functional.relu(th.abs(dist) - th.abs(l1))\n",
    "    dist_loss =  dist_loss + (dist_loss ** 2 )\n",
    "    loss = -out + th.mean(dist_loss) * 10\n",
    "    optimizer.zero_grad()\n",
    "    loss.backward()\n",
    "    optimizer.step()\n",
    "    \n",
    "    used_points = example_points[[1,]]\n",
    "    out = th.mean(discriminator(used_points)) - th.mean(discriminator(counter_points))\n",
    "    l1 = used_points.unsqueeze(1)- counter_points.unsqueeze(0)\n",
    "    dist = discriminator(used_points).unsqueeze(1) - discriminator(counter_points).unsqueeze(0)\n",
    "    dist_loss = nn.functional.relu(th.abs(dist) - th.abs(l1))\n",
    "    dist_loss =  dist_loss + (dist_loss ** 2 )\n",
    "    loss = -out + th.mean(dist_loss) * 10\n",
    "    optim_wnorms.zero_grad()\n",
    "    loss.backward()\n",
    "    optim_wnorms.step()\n",
    "    \n",
    "    if i_epoch % (n_epochs // 20) == 0:\n",
    "        print(\"loss\", loss)\n",
    "        sorted_p, _ = th.sort(th.cat((example_points, counter_points)), dim=0)\n",
    "\n",
    "        outs = discriminator(sorted_p)\n",
    "        fig = plt.figure(figsize=(8,3))\n",
    "        plt.plot(var_to_np(sorted_p.squeeze()), var_to_np(outs))\n",
    "        display(fig)\n",
    "        plt.close(fig)"
   ]
  },
  {
   "cell_type": "code",
   "execution_count": null,
   "metadata": {},
   "outputs": [],
   "source": [
    "from weight_norm import weight_norm\n",
    "set_random_seeds(20190118, False)\n",
    "discriminator = nn.Sequential(nn.Linear(1,60), \n",
    "                             nn.ReLU(),#UpperBoundReLU(20)\n",
    "                             nn.Linear(60,60),\n",
    "                             nn.ReLU(),#UpperBoundReLU(20)\n",
    "                             nn.Linear(60,1))\n",
    "\n",
    "\n",
    "weight_norms = []\n",
    "for m in discriminator.modules():\n",
    "    if hasattr(m, 'weight') and m.weight is not None:\n",
    "        w_norms = th.ones_like(m.weight[:,0:1], requires_grad=True)\n",
    "        w_norms.data = w_norms.data *  1\n",
    "        # in-place!!\n",
    "        print(\"wnorm\", w_norms.shape)\n",
    "        weight_norm(m, 'weight', dim=0, fixed_norm=w_norms)\n",
    "        weight_norms.append(w_norms)\n",
    "None"
   ]
  },
  {
   "cell_type": "code",
   "execution_count": null,
   "metadata": {
    "collapsed": true
   },
   "outputs": [],
   "source": [
    "a = th.randn(784,2000)"
   ]
  },
  {
   "cell_type": "code",
   "execution_count": null,
   "metadata": {
    "scrolled": true
   },
   "outputs": [],
   "source": [
    "%%timeit\n",
    "_, _ = th.sort(a, dim=0)"
   ]
  },
  {
   "cell_type": "code",
   "execution_count": null,
   "metadata": {
    "collapsed": true
   },
   "outputs": [],
   "source": []
  },
  {
   "cell_type": "code",
   "execution_count": null,
   "metadata": {},
   "outputs": [],
   "source": [
    "optimizer = th.optim.Adam(discriminator.parameters(), lr=1e-2)\n",
    "optim_wnorms = th.optim.Adam(weight_norms, lr=1e-3)\n",
    "n_epochs = 2000\n",
    "for i_epoch in range(n_epochs):\n",
    "    used_points = example_points[th.randperm(len(example_points))[:2]]\n",
    "    out = th.mean(discriminator(used_points)) - th.mean(discriminator(counter_points))\n",
    "    l1 = used_points.unsqueeze(1)- counter_points.unsqueeze(0)\n",
    "    dist = discriminator(used_points).unsqueeze(1) - discriminator(counter_points).unsqueeze(0)\n",
    "    dist_loss = nn.functional.relu(th.abs(dist) - th.abs(l1))\n",
    "    dist_loss =  dist_loss + (dist_loss ** 2 )\n",
    "    loss = -out + th.mean(dist_loss) * 10\n",
    "    optimizer.zero_grad()\n",
    "    loss.backward()\n",
    "    optimizer.step()\n",
    "    \n",
    "    used_points = example_points[th.randperm(len(example_points))[:1]]\n",
    "    out = th.mean(discriminator(used_points)) - th.mean(discriminator(counter_points))\n",
    "    l1 = used_points.unsqueeze(1)- counter_points.unsqueeze(0)\n",
    "    dist = discriminator(used_points).unsqueeze(1) - discriminator(counter_points).unsqueeze(0)\n",
    "    dist_loss = nn.functional.relu(th.abs(dist) - th.abs(l1))\n",
    "    dist_loss =  dist_loss + (dist_loss ** 2 )\n",
    "    loss = -out + th.mean(dist_loss) * 10\n",
    "    optim_wnorms.zero_grad()\n",
    "    loss.backward()\n",
    "    optim_wnorms.step()\n",
    "    \n",
    "    if i_epoch % (n_epochs // 20) == 0:\n",
    "        print(\"loss\", loss)\n",
    "        sorted_p, _ = th.sort(th.cat((example_points, counter_points)), dim=0)\n",
    "\n",
    "        outs = discriminator(sorted_p)\n",
    "        fig = plt.figure(figsize=(8,3))\n",
    "        plt.plot(var_to_np(sorted_p.squeeze()), var_to_np(outs))\n",
    "        display(fig)\n",
    "        plt.close(fig)"
   ]
  },
  {
   "cell_type": "code",
   "execution_count": null,
   "metadata": {
    "collapsed": true
   },
   "outputs": [],
   "source": []
  },
  {
   "cell_type": "code",
   "execution_count": null,
   "metadata": {
    "collapsed": true
   },
   "outputs": [],
   "source": [
    "import ot"
   ]
  },
  {
   "cell_type": "code",
   "execution_count": null,
   "metadata": {},
   "outputs": [],
   "source": [
    "used_points.shape"
   ]
  },
  {
   "cell_type": "code",
   "execution_count": null,
   "metadata": {
    "collapsed": true
   },
   "outputs": [],
   "source": []
  },
  {
   "cell_type": "code",
   "execution_count": null,
   "metadata": {},
   "outputs": [],
   "source": [
    "distances = np.sum(np.abs(var_to_np(used_points)[:,None] - var_to_np(counter_points)[None]), axis=(2))\n",
    "coupling = ot.emd([],[], distances)"
   ]
  },
  {
   "cell_type": "code",
   "execution_count": null,
   "metadata": {},
   "outputs": [],
   "source": [
    "np.sum(coupling * distances)"
   ]
  },
  {
   "cell_type": "code",
   "execution_count": null,
   "metadata": {
    "collapsed": true
   },
   "outputs": [],
   "source": []
  },
  {
   "cell_type": "code",
   "execution_count": null,
   "metadata": {
    "collapsed": true
   },
   "outputs": [],
   "source": [
    "distac"
   ]
  },
  {
   "cell_type": "code",
   "execution_count": null,
   "metadata": {
    "collapsed": true
   },
   "outputs": [],
   "source": []
  }
 ],
 "metadata": {
  "kernelspec": {
   "display_name": "Python 3",
   "language": "python",
   "name": "python3"
  },
  "language_info": {
   "codemirror_mode": {
    "name": "ipython",
    "version": 3
   },
   "file_extension": ".py",
   "mimetype": "text/x-python",
   "name": "python",
   "nbconvert_exporter": "python",
   "pygments_lexer": "ipython3",
   "version": "3.6.8"
  }
 },
 "nbformat": 4,
 "nbformat_minor": 2
}
