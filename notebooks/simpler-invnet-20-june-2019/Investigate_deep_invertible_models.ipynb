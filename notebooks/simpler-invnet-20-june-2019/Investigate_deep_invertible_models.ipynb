{
 "cells": [
  {
   "cell_type": "code",
   "execution_count": null,
   "metadata": {
    "collapsed": true
   },
   "outputs": [],
   "source": [
    "import logging\n",
    "import importlib\n",
    "importlib.reload(logging) # see https://stackoverflow.com/a/21475297/1469195\n",
    "log = logging.getLogger()\n",
    "log.setLevel('INFO')\n",
    "import sys\n",
    "\n",
    "logging.basicConfig(format='%(asctime)s %(levelname)s : %(message)s',\n",
    "                     level=logging.INFO, stream=sys.stdout)"
   ]
  },
  {
   "cell_type": "code",
   "execution_count": null,
   "metadata": {
    "collapsed": true
   },
   "outputs": [],
   "source": [
    "%%capture\n",
    "import os\n",
    "import site\n",
    "os.sys.path.insert(0, '/home/schirrmr/code/reversible/')\n",
    "os.sys.path.insert(0, '/home/schirrmr/braindecode/code/braindecode/')\n",
    "os.sys.path.insert(0, '/home/schirrmr/code/explaining/reversible//')\n",
    "\n",
    "\n",
    "%load_ext autoreload\n",
    "%autoreload 2\n",
    "import numpy as np\n",
    "import logging\n",
    "log = logging.getLogger()\n",
    "log.setLevel('INFO')\n",
    "import sys\n",
    "logging.basicConfig(format='%(asctime)s %(levelname)s : %(message)s',\n",
    "                     level=logging.INFO, stream=sys.stdout)\n",
    "import matplotlib\n",
    "from matplotlib import pyplot as plt\n",
    "from matplotlib import cm\n",
    "%matplotlib inline\n",
    "%config InlineBackend.figure_format = 'png'\n",
    "matplotlib.rcParams['figure.figsize'] = (12.0, 1.0)\n",
    "matplotlib.rcParams['font.size'] = 14\n",
    "import seaborn\n",
    "seaborn.set_style('darkgrid')\n",
    "\n",
    "from reversible2.sliced import sliced_from_samples\n",
    "from numpy.random import RandomState\n",
    "\n",
    "import torch\n",
    "import torch.nn as nn\n",
    "import torch.nn.functional as F\n",
    "from torch.autograd import Variable\n",
    "import numpy as np\n",
    "import copy\n",
    "import math\n",
    "\n",
    "import itertools\n",
    "import torch as th\n",
    "from braindecode.torch_ext.util import np_to_var, var_to_np\n",
    "from reversible2.splitter import SubsampleSplitter\n",
    "\n",
    "from reversible2.view_as import ViewAs\n",
    "\n",
    "from reversible2.affine import AdditiveBlock\n",
    "from reversible2.plot import display_text, display_close\n",
    "from reversible2.high_gamma import load_file, create_inputs\n",
    "th.backends.cudnn.benchmark = True"
   ]
  },
  {
   "cell_type": "code",
   "execution_count": null,
   "metadata": {
    "collapsed": true
   },
   "outputs": [],
   "source": [
    "from hyperoptim.results import (load_data_frame,\n",
    "                                remove_columns_with_same_value, mean_identical_exps, pairwise_compare_frame,\n",
    "                                round_numeric_columns)\n",
    "import pandas as pd\n",
    "\n",
    "def load_df(folder):\n",
    "    df = load_data_frame(folder)\n",
    "    df = df.drop(['save_folder', 'seed', 'only_return_exp'], axis=1)\n",
    "    df = df[df.finished == 1]\n",
    "    df = df[df.debug == 0]\n",
    "    if len(df) > 0:\n",
    "        for key in ['train_acc', 'train_data_acc','test_acc', 'test_data_acc', 'test_clf_acc', 'train_clf_acc']:\n",
    "            if key in df.columns:\n",
    "                df.loc[:,key] = np.round(df.loc[:,key] * 100,1)\n",
    "        df = remove_columns_with_same_value(df) \n",
    "        df.runtime = pd.to_timedelta(np.round(df.runtime), unit='s')\n",
    "        if 'clf_loss' in df.columns:\n",
    "            df.clf_loss = df.clf_loss.replace([None], 'none')\n",
    "\n",
    "    print(len(df))\n",
    "    return df"
   ]
  },
  {
   "cell_type": "code",
   "execution_count": null,
   "metadata": {},
   "outputs": [],
   "source": [
    "df = load_df('/data/schirrmr/schirrmr/reversible/experiments/new-deep-invertible//')\n",
    "\n",
    "\n",
    "df[df.max_epochs == 1000]"
   ]
  },
  {
   "cell_type": "code",
   "execution_count": null,
   "metadata": {
    "collapsed": true
   },
   "outputs": [],
   "source": [
    "feature_model = th.load('/data/schirrmr/schirrmr/reversible/experiments/new-deep-invertible/54/feature_model.pkl')\n",
    "\n",
    "class_dist = th.load('/data/schirrmr/schirrmr/reversible/experiments/new-deep-invertible/54/class_dist.pkl')"
   ]
  },
  {
   "cell_type": "code",
   "execution_count": null,
   "metadata": {
    "collapsed": true
   },
   "outputs": [],
   "source": [
    "sensor_names = ['Fz', \n",
    "                'FC3','FC1','FCz','FC2','FC4',\n",
    "                'C5','C3','C1','Cz','C2','C4','C6',\n",
    "                'CP3','CP1','CPz','CP2','CP4',\n",
    "                'P1','Pz','P2',\n",
    "                'POz']"
   ]
  },
  {
   "cell_type": "code",
   "execution_count": null,
   "metadata": {},
   "outputs": [],
   "source": [
    "from reversible2.plot import plot_head_signals_tight\n",
    "inverted_per_class = []\n",
    "for i_class in range(2):\n",
    "    samples = class_dist.get_mean_std(i_class)[0].unsqueeze(0)\n",
    "    inverted = feature_model.invert(samples)\n",
    "    inverted_per_class.append(var_to_np(inverted)[0].squeeze())\n",
    "plot_head_signals_tight(np.stack(inverted_per_class, axis=-1), sensor_names=sensor_names,\n",
    "                         figsize=(20,12));"
   ]
  },
  {
   "cell_type": "code",
   "execution_count": null,
   "metadata": {
    "collapsed": true
   },
   "outputs": [],
   "source": [
    "from reversible2.plot import plot_head_signals_tight\n",
    "inverted_per_class = []\n",
    "for i_class in range(2):\n",
    "    samples = class_dist.get_samples(i_class, 500)\n",
    "    inverted = feature_model.invert(samples)\n",
    "    inverted_per_class.append(var_to_np(inverted).squeeze())\n"
   ]
  },
  {
   "cell_type": "code",
   "execution_count": null,
   "metadata": {},
   "outputs": [],
   "source": [
    "plt.figure(figsize=(8,2))\n",
    "for i_class, inverted in enumerate(inverted_per_class):\n",
    "    bps = np.abs(np.fft.rfft(inverted))\n",
    "    plt.plot(np.fft.rfftfreq(256, 1/256.0), np.mean(np.mean(bps, axis=0), axis=0),\n",
    "            color=seaborn.color_palette()[i_class])\n",
    "    \n",
    "plt.xlabel(\"Freq [Hz]\")\n",
    "plt.ylabel(\"Amplitude\")"
   ]
  },
  {
   "cell_type": "code",
   "execution_count": null,
   "metadata": {},
   "outputs": [],
   "source": [
    "bps.shape"
   ]
  }
 ],
 "metadata": {
  "kernelspec": {
   "display_name": "Python 3",
   "language": "python",
   "name": "python3"
  },
  "language_info": {
   "codemirror_mode": {
    "name": "ipython",
    "version": 3
   },
   "file_extension": ".py",
   "mimetype": "text/x-python",
   "name": "python",
   "nbconvert_exporter": "python",
   "pygments_lexer": "ipython3",
   "version": "3.6.8"
  }
 },
 "nbformat": 4,
 "nbformat_minor": 2
}
