{
 "cells": [
  {
   "cell_type": "code",
   "execution_count": null,
   "metadata": {
    "collapsed": true
   },
   "outputs": [],
   "source": [
    "import logging\n",
    "import importlib\n",
    "importlib.reload(logging) # see https://stackoverflow.com/a/21475297/1469195\n",
    "log = logging.getLogger()\n",
    "log.setLevel('INFO')\n",
    "import sys\n",
    "\n",
    "logging.basicConfig(format='%(asctime)s %(levelname)s : %(message)s',\n",
    "                     level=logging.INFO, stream=sys.stdout)"
   ]
  },
  {
   "cell_type": "code",
   "execution_count": null,
   "metadata": {
    "collapsed": true
   },
   "outputs": [],
   "source": [
    "%%capture\n",
    "import os\n",
    "import site\n",
    "os.sys.path.insert(0, '/home/schirrmr/code/reversible/')\n",
    "os.sys.path.insert(0, '/home/schirrmr/braindecode/code/braindecode/')\n",
    "os.sys.path.insert(0, '/home/schirrmr/code/explaining/reversible//')\n",
    "\n",
    "\n",
    "%load_ext autoreload\n",
    "%autoreload 2\n",
    "import numpy as np\n",
    "import logging\n",
    "log = logging.getLogger()\n",
    "log.setLevel('INFO')\n",
    "import sys\n",
    "logging.basicConfig(format='%(asctime)s %(levelname)s : %(message)s',\n",
    "                     level=logging.INFO, stream=sys.stdout)\n",
    "import matplotlib\n",
    "from matplotlib import pyplot as plt\n",
    "from matplotlib import cm\n",
    "%matplotlib inline\n",
    "%config InlineBackend.figure_format = 'png'\n",
    "matplotlib.rcParams['figure.figsize'] = (12.0, 1.0)\n",
    "matplotlib.rcParams['font.size'] = 14\n",
    "import seaborn\n",
    "seaborn.set_style('darkgrid')\n",
    "\n",
    "from reversible2.sliced import sliced_from_samples\n",
    "from numpy.random import RandomState\n",
    "\n",
    "import torch\n",
    "import torch.nn as nn\n",
    "import torch.nn.functional as F\n",
    "from torch.autograd import Variable\n",
    "import numpy as np\n",
    "import copy\n",
    "import math\n",
    "\n",
    "import itertools\n",
    "import torch as th\n",
    "from braindecode.torch_ext.util import np_to_var, var_to_np\n",
    "from reversible2.splitter import SubsampleSplitter\n",
    "\n",
    "from reversible2.view_as import ViewAs\n",
    "\n",
    "from reversible2.affine import AdditiveBlock\n",
    "from reversible2.plot import display_text, display_close\n",
    "from reversible2.high_gamma import load_file, create_inputs\n",
    "from reversible2.high_gamma import load_train_test\n",
    "th.backends.cudnn.benchmark = True\n",
    "from reversible2.models import deep_invertible\n"
   ]
  },
  {
   "cell_type": "code",
   "execution_count": null,
   "metadata": {
    "collapsed": true
   },
   "outputs": [],
   "source": [
    "sensor_names = ['Fz', \n",
    "                'FC3','FC1','FCz','FC2','FC4',\n",
    "                'C5','C3','C1','Cz','C2','C4','C6',\n",
    "                'CP3','CP1','CPz','CP2','CP4',\n",
    "                'P1','Pz','P2',\n",
    "                'POz']"
   ]
  },
  {
   "cell_type": "code",
   "execution_count": null,
   "metadata": {},
   "outputs": [],
   "source": [
    "# create model\n",
    "# create dist\n",
    "\n",
    "train_inputs, test_inputs = load_train_test(\n",
    "    subject_id=4,\n",
    "    car=True,\n",
    "    n_sensors=22,\n",
    "    final_hz=256,\n",
    "    start_ms=500,\n",
    "    stop_ms=1500,\n",
    "    half_before=True,\n",
    "    only_load_given_sensors=False,\n",
    ")"
   ]
  },
  {
   "cell_type": "code",
   "execution_count": null,
   "metadata": {},
   "outputs": [],
   "source": [
    "train_less = [t[:10,7:9].clone().contiguous() for t in train_inputs]\n",
    "test_less = [t[:10,7:9].clone().contiguous() for t in test_inputs]\n"
   ]
  },
  {
   "cell_type": "code",
   "execution_count": null,
   "metadata": {
    "collapsed": true
   },
   "outputs": [],
   "source": [
    "for t in train_less + test_less:\n",
    "    t.data[:,1] = 0"
   ]
  },
  {
   "cell_type": "code",
   "execution_count": null,
   "metadata": {},
   "outputs": [],
   "source": [
    "from reversible2.distribution import TwoClassIndependentDist\n",
    "\n",
    "def create_model():\n",
    "    n_chan_pad = 0\n",
    "    filter_length_time = 11\n",
    "    feature_model = deep_invertible(\n",
    "        n_chans, n_time,  n_chan_pad,  filter_length_time)\n",
    "    from reversible2.view_as import ViewAs\n",
    "    feature_model.add_module('flatten',\n",
    "                             ViewAs((-1, 8*2, 32), (-1, 8*2*32)))\n",
    "    from reversible2.graph import Node\n",
    "    feature_model = Node(None, feature_model)\n",
    "    return feature_model\n",
    "\n",
    "def create_dist():\n",
    "    return TwoClassIndependentDist(np.prod(train_less[0].size()[1:]))\n",
    "    \n",
    "\n",
    "from reversible2.invert import invert\n",
    "\n",
    "class ModelAndDist(nn.Module):\n",
    "    def __init__(self, model, dist):\n",
    "        super(ModelAndDist, self).__init__()\n",
    "        self.model = model\n",
    "        self.dist = dist\n",
    "        \n",
    "    def get_examples(self, i_class, n_samples,):\n",
    "        samples = self.dist.get_samples(i_class=i_class, n_samples=n_samples)\n",
    "        if hasattr(self.model, 'invert'):\n",
    "            examples = invert(self.model, samples)\n",
    "        else:\n",
    "            examples = self.model.invert(samples)\n",
    "        return examples"
   ]
  },
  {
   "cell_type": "code",
   "execution_count": null,
   "metadata": {},
   "outputs": [],
   "source": [
    "import ot\n",
    "\n",
    "from reversible2.ot_exact import get_matched_samples\n",
    "\n",
    "def flatten_2d(a):\n",
    "    return a.view(len(a), -1)"
   ]
  },
  {
   "cell_type": "code",
   "execution_count": null,
   "metadata": {
    "collapsed": true
   },
   "outputs": [],
   "source": [
    "from reversible2.constantmemory import clear_ctx_dicts\n",
    "def set_dist_to_empirical(feature_model, class_dist, train_inputs):\n",
    "    for i_class in range(len(train_inputs)):\n",
    "        with th.no_grad():\n",
    "            this_outs = feature_model(train_inputs[i_class])\n",
    "            mean = th.mean(this_outs, dim=0)\n",
    "            std = th.std(this_outs, dim=0)\n",
    "            class_dist.set_mean_std(i_class, mean, std)\n",
    "            # Just check\n",
    "            setted_mean, setted_std = class_dist.get_mean_std(i_class)\n",
    "            assert th.allclose(mean, setted_mean)\n",
    "            assert th.allclose(std, setted_std)\n",
    "    clear_ctx_dicts(feature_model)\n"
   ]
  },
  {
   "cell_type": "code",
   "execution_count": null,
   "metadata": {},
   "outputs": [],
   "source": [
    "n_chans = train_less[0].shape[1]\n",
    "n_time = train_less[0].shape[2]\n",
    "model = create_model()\n",
    "\n",
    "dist = create_dist()\n",
    "model_and_dist = ModelAndDist(model, dist)\n",
    "\n",
    "set_dist_to_empirical(model_and_dist.model, model_and_dist.dist, train_less)\n",
    "\n",
    "optim = th.optim.Adam([{'params': dist.parameters()},\n",
    "                      {'params': list(model.parameters()),\n",
    "                      'lr': 1e-2}])"
   ]
  },
  {
   "cell_type": "code",
   "execution_count": null,
   "metadata": {},
   "outputs": [],
   "source": [
    "i_class = 1\n",
    "n_epochs = 101\n",
    "class_ins = train_less[i_class]\n",
    "for i_epoch in range(n_epochs):\n",
    "    examples = model_and_dist.get_examples(1,len(class_ins) * 3)\n",
    "    matched_examples = get_matched_samples(flatten_2d(class_ins), flatten_2d(examples))\n",
    "    loss = th.mean(th.norm(flatten_2d(class_ins).unsqueeze(1)  - matched_examples, p=2, dim=2))#\n",
    "    optim.zero_grad()\n",
    "    loss.backward()\n",
    "    optim.step()\n",
    "    \n",
    "\n",
    "    if i_epoch % (n_epochs // 20) == 0:\n",
    "        display_text(\"OT {:.1E}\".format(loss.item()))\n",
    "        fig, axes = plt.subplots(5,2, figsize=(16,12), sharex=True, sharey=True)\n",
    "        for ax, signal, matched in zip(axes.flatten(), class_ins, matched_examples):\n",
    "            ax.plot(var_to_np(signal).squeeze().T)\n",
    "            for ex in var_to_np(matched.view(len(matched), class_ins.shape[1], class_ins.shape[2])):\n",
    "                ax.plot(ex[0], color=seaborn.color_palette()[0], lw=0.5, alpha=0.7)\n",
    "                ax.plot(ex[1], color=seaborn.color_palette()[1], lw=0.5, alpha=0.7)\n",
    "        display_close(fig)\n",
    "        fig = plt.figure()\n",
    "        plt.plot(var_to_np(th.exp(model_and_dist.dist.class_log_stds)).T)\n",
    "        display_close(fig)"
   ]
  },
  {
   "cell_type": "code",
   "execution_count": null,
   "metadata": {},
   "outputs": [],
   "source": []
  },
  {
   "cell_type": "code",
   "execution_count": null,
   "metadata": {
    "collapsed": true
   },
   "outputs": [],
   "source": [
    "# plot real signal and matched example\n",
    "# see how they move\n",
    "# try it for another network trained on different examples and see what ot looks like then\n"
   ]
  },
  {
   "cell_type": "code",
   "execution_count": null,
   "metadata": {
    "collapsed": true
   },
   "outputs": [],
   "source": []
  }
 ],
 "metadata": {
  "kernelspec": {
   "display_name": "Python 3",
   "language": "python",
   "name": "python3"
  },
  "language_info": {
   "codemirror_mode": {
    "name": "ipython",
    "version": 3
   },
   "file_extension": ".py",
   "mimetype": "text/x-python",
   "name": "python",
   "nbconvert_exporter": "python",
   "pygments_lexer": "ipython3",
   "version": "3.6.8"
  }
 },
 "nbformat": 4,
 "nbformat_minor": 2
}
