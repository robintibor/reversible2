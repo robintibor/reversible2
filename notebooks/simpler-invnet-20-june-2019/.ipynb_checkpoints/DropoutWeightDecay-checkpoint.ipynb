{
 "cells": [
  {
   "cell_type": "code",
   "execution_count": null,
   "metadata": {
    "collapsed": true
   },
   "outputs": [],
   "source": [
    "import logging\n",
    "import importlib\n",
    "importlib.reload(logging) # see https://stackoverflow.com/a/21475297/1469195\n",
    "log = logging.getLogger()\n",
    "log.setLevel('INFO')\n",
    "import sys\n",
    "\n",
    "logging.basicConfig(format='%(asctime)s %(levelname)s : %(message)s',\n",
    "                     level=logging.INFO, stream=sys.stdout)"
   ]
  },
  {
   "cell_type": "code",
   "execution_count": null,
   "metadata": {
    "collapsed": true
   },
   "outputs": [],
   "source": [
    "%%capture\n",
    "import os\n",
    "import site\n",
    "\n",
    "os.sys.path.insert(0, '/home/schirrmr/code/hyperoptim//')\n",
    "os.sys.path.insert(0, '/home/schirrmr/code/reversible/')\n",
    "os.sys.path.insert(0, '/home/schirrmr/braindecode/code/braindecode/')\n",
    "\n",
    "\n",
    "%load_ext autoreload\n",
    "%autoreload 2\n",
    "import numpy as np\n",
    "import logging\n",
    "log = logging.getLogger()\n",
    "log.setLevel('INFO')\n",
    "import sys\n",
    "logging.basicConfig(format='%(asctime)s %(levelname)s : %(message)s',\n",
    "                     level=logging.INFO, stream=sys.stdout)\n",
    "import matplotlib\n",
    "from matplotlib import pyplot as plt\n",
    "from matplotlib import cm\n",
    "%matplotlib inline\n",
    "%config InlineBackend.figure_format = 'png'\n",
    "matplotlib.rcParams['figure.figsize'] = (12.0, 1.0)\n",
    "matplotlib.rcParams['font.size'] = 14\n",
    "import seaborn\n",
    "seaborn.set_style('darkgrid')"
   ]
  },
  {
   "cell_type": "code",
   "execution_count": null,
   "metadata": {
    "collapsed": true
   },
   "outputs": [],
   "source": [
    "from hyperoptim.results import (load_data_frame,\n",
    "                                remove_columns_with_same_value, mean_identical_exps, pairwise_compare_frame,\n",
    "                                round_numeric_columns)\n",
    "import pandas as pd\n",
    "\n",
    "def load_df(folder):\n",
    "    df = load_data_frame(folder)\n",
    "    df = df.drop(['save_folder', 'seed', 'only_return_exp'], axis=1)\n",
    "    df = df[df.finished == 1]\n",
    "    df = df[df.debug == 0]\n",
    "    if len(df) > 0:\n",
    "        for key in [\n",
    "                   'model_train_acc', 'model_test_acc', 'train_train_acc', 'train_test_acc',  \n",
    "                    'combined_train_acc', 'combined_test_acc', 'test_train_acc', 'test_test_acc',]:\n",
    "            if key in df.columns:\n",
    "                df.loc[:,key] = np.round(df.loc[:,key] * 100,1)\n",
    "        df = remove_columns_with_same_value(df) \n",
    "        df.runtime = pd.to_timedelta(np.round(df.runtime), unit='s')\n",
    "        if 'clf_loss' in df.columns:\n",
    "            df.clf_loss = df.clf_loss.replace([None], 'none')\n",
    "    df = df.fillna('-')\n",
    "    print(len(df))\n",
    "    return df"
   ]
  },
  {
   "cell_type": "code",
   "execution_count": null,
   "metadata": {
    "collapsed": true
   },
   "outputs": [],
   "source": [
    "result_cols = [\n",
    "                   'model_train_acc', 'model_test_acc', 'train_train_acc', 'train_test_acc', \n",
    "                    'combined_train_acc', 'combined_test_acc', 'test_train_acc', 'test_test_acc',\n",
    "    'traintime','train_NLL', 'test_NLL', 'train_OT', 'test_OT',\n",
    "    'lip_loss', 'runtime',]\n",
    "\n",
    "interesting_result_cols = [\n",
    "               'model_train_acc', 'model_test_acc', 'train_train_acc', 'train_test_acc', \n",
    "    'train_NLL', 'test_NLL', 'train_OT', 'test_OT',]"
   ]
  },
  {
   "cell_type": "code",
   "execution_count": null,
   "metadata": {},
   "outputs": [],
   "source": [
    "df = load_df('/data/schirrmr/schirrmr/reversible/experiments/dropout-weight-decay/')\n",
    "\n",
    "df = mean_identical_exps(df, result_cols=result_cols).drop('n_exp', axis=1)\n",
    "\n",
    "df.sort_values(by='train_test_acc', ascending=False)"
   ]
  },
  {
   "cell_type": "code",
   "execution_count": null,
   "metadata": {},
   "outputs": [],
   "source": [
    "df[df.gauss_noise_factor!='-'].drop(np.setdiff1d(result_cols, interesting_result_cols), axis=1)"
   ]
  },
  {
   "cell_type": "code",
   "execution_count": null,
   "metadata": {
    "collapsed": true
   },
   "outputs": [],
   "source": []
  },
  {
   "cell_type": "code",
   "execution_count": null,
   "metadata": {},
   "outputs": [],
   "source": [
    "df = load_df('/data/schirrmr/schirrmr/reversible/experiments/dropout-weight-decay-more-data//')\n",
    "df = mean_identical_exps(df, result_cols=result_cols).drop('n_exp', axis=1)\n",
    "\n",
    "df.sort_values(by='train_test_acc', ascending=False)"
   ]
  }
 ],
 "metadata": {
  "kernelspec": {
   "display_name": "Python 3",
   "language": "python",
   "name": "python3"
  },
  "language_info": {
   "codemirror_mode": {
    "name": "ipython",
    "version": 3
   },
   "file_extension": ".py",
   "mimetype": "text/x-python",
   "name": "python",
   "nbconvert_exporter": "python",
   "pygments_lexer": "ipython3",
   "version": "3.6.8"
  }
 },
 "nbformat": 4,
 "nbformat_minor": 2
}
