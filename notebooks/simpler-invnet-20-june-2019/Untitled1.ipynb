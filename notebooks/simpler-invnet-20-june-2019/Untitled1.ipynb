{
 "cells": [
  {
   "cell_type": "code",
   "execution_count": null,
   "metadata": {
    "collapsed": true
   },
   "outputs": [],
   "source": [
    "import logging\n",
    "import importlib\n",
    "importlib.reload(logging) # see https://stackoverflow.com/a/21475297/1469195\n",
    "log = logging.getLogger()\n",
    "log.setLevel('INFO')\n",
    "import sys\n",
    "\n",
    "logging.basicConfig(format='%(asctime)s %(levelname)s : %(message)s',\n",
    "                     level=logging.INFO, stream=sys.stdout)"
   ]
  },
  {
   "cell_type": "code",
   "execution_count": null,
   "metadata": {
    "collapsed": true
   },
   "outputs": [],
   "source": [
    "%%capture\n",
    "import os\n",
    "import site\n",
    "os.sys.path.insert(0, '/home/schirrmr/code/reversible/')\n",
    "os.sys.path.insert(0, '/home/schirrmr/braindecode/code/braindecode/')\n",
    "os.sys.path.insert(0, '/home/schirrmr/code/explaining/reversible//')\n",
    "\n",
    "\n",
    "%load_ext autoreload\n",
    "%autoreload 2\n",
    "import numpy as np\n",
    "import logging\n",
    "log = logging.getLogger()\n",
    "log.setLevel('INFO')\n",
    "import sys\n",
    "logging.basicConfig(format='%(asctime)s %(levelname)s : %(message)s',\n",
    "                     level=logging.INFO, stream=sys.stdout)\n",
    "import matplotlib\n",
    "from matplotlib import pyplot as plt\n",
    "from matplotlib import cm\n",
    "%matplotlib inline\n",
    "%config InlineBackend.figure_format = 'png'\n",
    "matplotlib.rcParams['figure.figsize'] = (12.0, 1.0)\n",
    "matplotlib.rcParams['font.size'] = 14\n",
    "import seaborn\n",
    "seaborn.set_style('darkgrid')\n",
    "\n",
    "from reversible2.sliced import sliced_from_samples\n",
    "from numpy.random import RandomState\n",
    "\n",
    "import torch\n",
    "import torch.nn as nn\n",
    "import torch.nn.functional as F\n",
    "from torch.autograd import Variable\n",
    "import numpy as np\n",
    "import copy\n",
    "import math\n",
    "\n",
    "import itertools\n",
    "import torch as th\n",
    "from braindecode.torch_ext.util import np_to_var, var_to_np\n",
    "from reversible2.splitter import SubsampleSplitter\n",
    "\n",
    "from reversible2.view_as import ViewAs\n",
    "\n",
    "from reversible2.affine import AdditiveBlock\n",
    "from reversible2.plot import display_text, display_close\n",
    "from reversible2.high_gamma import load_file, create_inputs\n",
    "from reversible2.high_gamma import load_train_test\n",
    "th.backends.cudnn.benchmark = True\n",
    "from reversible2.models import deep_invertible\n"
   ]
  },
  {
   "cell_type": "code",
   "execution_count": null,
   "metadata": {
    "collapsed": true
   },
   "outputs": [],
   "source": [
    "other_model_dist = th.load('/data/schirrmr/schirrmr/reversible/experiments/dropout-weight-decay/243/model_and_dist.pkl')"
   ]
  },
  {
   "cell_type": "code",
   "execution_count": null,
   "metadata": {},
   "outputs": [],
   "source": [
    "fig = plt.figure()\n",
    "plt.plot(var_to_np(th.exp(other_model_dist.dist.class_log_stds)[1]))\n",
    "display_close(fig)\n",
    "examples = other_model_dist.get_examples(0,200)\n",
    "fake_bps = np.abs(np.fft.rfft(var_to_np(examples[:,0]).squeeze()))\n",
    "fig = plt.figure(figsize=(8,3))\n",
    "plt.plot(np.fft.rfftfreq(256, 1/256.0), np.mean(fake_bps, axis=0))\n",
    "examples = other_model_dist.get_examples(1,200)\n",
    "fake_bps = np.abs(np.fft.rfft(var_to_np(examples[:,0]).squeeze()))\n",
    "plt.plot(np.fft.rfftfreq(256, 1/256.0), np.mean(fake_bps, axis=0))\n",
    "display_close(fig)"
   ]
  },
  {
   "cell_type": "code",
   "execution_count": null,
   "metadata": {},
   "outputs": [],
   "source": [
    "fig = plt.figure()\n",
    "plt.plot(var_to_np(th.exp(other_model_dist.dist.class_log_stds)[1]))\n",
    "display_close(fig)\n",
    "examples = other_model_dist.get_examples(0,200)\n",
    "fake_bps = np.abs(np.fft.rfft(var_to_np(examples[:,0]).squeeze()))\n",
    "fig = plt.figure(figsize=(8,3))\n",
    "plt.plot(np.fft.rfftfreq(256, 1/256.0), np.mean(fake_bps, axis=0))\n",
    "display_close(fig)"
   ]
  },
  {
   "cell_type": "code",
   "execution_count": null,
   "metadata": {
    "collapsed": true
   },
   "outputs": [],
   "source": [
    "other_model_dist = th.load('/data/schirrmr/schirrmr/reversible/experiments/dropout-weight-decay/368/model_and_dist.pkl')"
   ]
  },
  {
   "cell_type": "code",
   "execution_count": null,
   "metadata": {},
   "outputs": [],
   "source": [
    "other_model_dist.model.eval();"
   ]
  },
  {
   "cell_type": "code",
   "execution_count": null,
   "metadata": {},
   "outputs": [],
   "source": [
    "fig = plt.figure()\n",
    "plt.plot(var_to_np(th.exp(other_model_dist.dist.class_log_stds)[1]))\n",
    "display_close(fig)\n",
    "examples = other_model_dist.get_examples(0,200)\n",
    "fake_bps = np.abs(np.fft.rfft(var_to_np(examples[:,0]).squeeze()))\n",
    "fig = plt.figure(figsize=(8,3))\n",
    "plt.plot(np.fft.rfftfreq(256, 1/256.0), np.mean(fake_bps, axis=0))\n",
    "examples = other_model_dist.get_examples(1,200)\n",
    "fake_bps = np.abs(np.fft.rfft(var_to_np(examples[:,0]).squeeze()))\n",
    "plt.plot(np.fft.rfftfreq(256, 1/256.0), np.mean(fake_bps, axis=0))\n",
    "display_close(fig)"
   ]
  },
  {
   "cell_type": "code",
   "execution_count": null,
   "metadata": {},
   "outputs": [],
   "source": [
    "plt.plot(var_to_np(examples[0,10].squeeze()))"
   ]
  }
 ],
 "metadata": {
  "kernelspec": {
   "display_name": "Python 3",
   "language": "python",
   "name": "python3"
  },
  "language_info": {
   "codemirror_mode": {
    "name": "ipython",
    "version": 3
   },
   "file_extension": ".py",
   "mimetype": "text/x-python",
   "name": "python",
   "nbconvert_exporter": "python",
   "pygments_lexer": "ipython3",
   "version": "3.6.8"
  }
 },
 "nbformat": 4,
 "nbformat_minor": 2
}
