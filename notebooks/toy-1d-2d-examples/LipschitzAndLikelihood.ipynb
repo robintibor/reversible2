{
 "cells": [
  {
   "cell_type": "code",
   "execution_count": null,
   "metadata": {
    "collapsed": true
   },
   "outputs": [],
   "source": [
    "import logging\n",
    "import importlib\n",
    "importlib.reload(logging) # see https://stackoverflow.com/a/21475297/1469195\n",
    "log = logging.getLogger()\n",
    "log.setLevel('INFO')\n",
    "import sys\n",
    "\n",
    "logging.basicConfig(format='%(asctime)s %(levelname)s : %(message)s',\n",
    "                     level=logging.INFO, stream=sys.stdout)"
   ]
  },
  {
   "cell_type": "code",
   "execution_count": null,
   "metadata": {
    "collapsed": true
   },
   "outputs": [],
   "source": [
    "%%capture\n",
    "import os\n",
    "import site\n",
    "os.sys.path.insert(0, '/home/schirrmr/code/reversible/')\n",
    "os.sys.path.insert(0, '/home/schirrmr/braindecode/code/braindecode/')\n",
    "os.sys.path.insert(0, '/home/schirrmr/code/explaining/reversible//')\n",
    "\n",
    "\n",
    "%load_ext autoreload\n",
    "%autoreload 2\n",
    "import numpy as np\n",
    "import logging\n",
    "log = logging.getLogger()\n",
    "log.setLevel('INFO')\n",
    "import sys\n",
    "logging.basicConfig(format='%(asctime)s %(levelname)s : %(message)s',\n",
    "                     level=logging.INFO, stream=sys.stdout)\n",
    "import matplotlib\n",
    "from matplotlib import pyplot as plt\n",
    "from matplotlib import cm\n",
    "%matplotlib inline\n",
    "%config InlineBackend.figure_format = 'png'\n",
    "matplotlib.rcParams['figure.figsize'] = (12.0, 1.0)\n",
    "matplotlib.rcParams['font.size'] = 14\n",
    "import seaborn\n",
    "seaborn.set_style('darkgrid')\n",
    "\n",
    "from reversible2.sliced import sliced_from_samples\n",
    "from numpy.random import RandomState\n",
    "\n",
    "import torch\n",
    "import torch.nn as nn\n",
    "import torch.nn.functional as F\n",
    "from torch.autograd import Variable\n",
    "import numpy as np\n",
    "import copy\n",
    "import math\n",
    "\n",
    "import itertools\n",
    "import torch as th\n",
    "from braindecode.torch_ext.util import np_to_var, var_to_np\n",
    "from reversible2.splitter import SubsampleSplitter\n",
    "\n",
    "from reversible2.view_as import ViewAs\n",
    "from reversible2.invert import invert\n",
    "\n",
    "from reversible2.affine import AdditiveBlock\n",
    "from reversible2.plot import display_text, display_close\n",
    "from reversible2.bhno import load_file, create_inputs"
   ]
  },
  {
   "cell_type": "code",
   "execution_count": null,
   "metadata": {},
   "outputs": [],
   "source": [
    "rng = RandomState(201904113)#2 ganz gut # 13 sehr gut)\n",
    "\n",
    "X = rng.randn(5,2) * np.array([1,0])[None] + np.array([-1,0])[None]\n",
    "\n",
    "\n",
    "plt.figure(figsize=(5,5))\n",
    "plt.scatter(X[:,0], X[:,1])\n",
    "plt.scatter([-1],[0], color='black')\n",
    "plt.xlim(-2.5,5.5)\n",
    "plt.ylim(-4,4)"
   ]
  },
  {
   "cell_type": "code",
   "execution_count": null,
   "metadata": {},
   "outputs": [],
   "source": [
    "plt.scatter(X[:2,0], X[:2,1])\n",
    "plt.scatter(X[3:5,0], X[3:5,1])"
   ]
  },
  {
   "cell_type": "code",
   "execution_count": null,
   "metadata": {
    "collapsed": true
   },
   "outputs": [],
   "source": [
    "train_inputs = np_to_var(np.concatenate((X[:2],X[3:5])), dtype=np.float32)\n",
    "cuda = False"
   ]
  },
  {
   "cell_type": "code",
   "execution_count": null,
   "metadata": {
    "collapsed": true
   },
   "outputs": [],
   "source": [
    "from reversible2.distribution import TwoClassDist\n",
    "\n",
    "from reversible2.blocks import dense_add_block, conv_add_block_3x3\n",
    "from reversible2.rfft import RFFT, Interleave\n",
    "from reversible2.util import set_random_seeds\n",
    "from torch.nn import ConstantPad2d\n",
    "import torch as th\n",
    "from reversible2.splitter import SubsampleSplitter\n",
    "\n",
    "\n",
    "set_random_seeds(2019011641, cuda)\n",
    "feature_model_a = nn.Sequential(\n",
    "    dense_add_block(2,200),\n",
    "    dense_add_block(2,200),\n",
    "    dense_add_block(2,200),\n",
    "    dense_add_block(2,200),\n",
    ")\n",
    "if cuda:\n",
    "    feature_model_a.cuda()\n",
    "from reversible2.ot_exact import ot_euclidean_loss_for_samples\n",
    "class_dist = TwoClassDist(2,0, [0,1])\n",
    "if cuda:\n",
    "    class_dist.cuda()\n",
    "\n",
    "optim_model_a = th.optim.Adam(feature_model_a.parameters())\n",
    "optim_dist = th.optim.Adam(class_dist.parameters(), lr=1e-3)"
   ]
  },
  {
   "cell_type": "code",
   "execution_count": null,
   "metadata": {},
   "outputs": [],
   "source": [
    "th.randn(outs_a.shape)"
   ]
  },
  {
   "cell_type": "code",
   "execution_count": null,
   "metadata": {
    "collapsed": true
   },
   "outputs": [],
   "source": []
  },
  {
   "cell_type": "code",
   "execution_count": null,
   "metadata": {
    "collapsed": true
   },
   "outputs": [],
   "source": [
    "perturb_norm"
   ]
  },
  {
   "cell_type": "code",
   "execution_count": null,
   "metadata": {},
   "outputs": [],
   "source": [
    "from reversible.gaussian import get_gauss_samples\n",
    "n_epochs = 3001\n",
    "for i_epoch in range(n_epochs):\n",
    "    outs_a = feature_model_a(train_inputs)\n",
    "    \n",
    "    perturbations = th.randn(outs_a.shape) * 0.01\n",
    "    outs_perturbed = outs_a + perturbations\n",
    "    inverted_perturbed = invert(feature_model_a, outs_perturbed)\n",
    "    out_dists = th.norm(perturbations, p=2, dim=1)\n",
    "    in_dists = th.norm(train_inputs - inverted_perturbed, p=2, dim=1)\n",
    "    lip_loss = F.relu((in_dists - out_dists) ** 2)\n",
    "    log_probs = class_dist.get_class_log_prob(0, outs_a)\n",
    "    nll_loss = -th.mean(log_probs)\n",
    "    loss = nll_loss + lip_loss\n",
    "    optim_model_a.zero_grad()\n",
    "    loss.backward()\n",
    "    optim_model_a.step()\n",
    "    if i_epoch % (n_epochs // 20) == 0:\n",
    "        fig = plt.figure(figsize=(6,6))\n",
    "        model = feature_model_a\n",
    "        rng = RandomState(201904114)\n",
    "        outs = model(train_inputs)\n",
    "        other_X = rng.randn(100,2) * np.array([1,0])[None] + np.array([-1,0])[None]\n",
    "        other_X = other_X[np.argsort(other_X[:,0])]\n",
    "        other_ins = np_to_var(other_X, dtype=np.float32)\n",
    "        other_outs = model(other_ins)\n",
    "\n",
    "        plt.plot(var_to_np(other_outs[:,0]), var_to_np(other_outs[:,1]), label=\"All Outputs\")\n",
    "        plt.scatter(var_to_np(outs[:,0]), var_to_np(outs[:,1]), s=30, c=[seaborn.color_palette()[2]],\n",
    "                   label=\"Actual data outputs\")\n",
    "        plt.legend()\n",
    "        display_close(fig)\n"
   ]
  },
  {
   "cell_type": "code",
   "execution_count": null,
   "metadata": {},
   "outputs": [],
   "source": [
    "(in_dists - out_dists)"
   ]
  },
  {
   "cell_type": "code",
   "execution_count": null,
   "metadata": {},
   "outputs": [],
   "source": [
    "class_dist.get_mean_std(0)"
   ]
  },
  {
   "cell_type": "code",
   "execution_count": null,
   "metadata": {
    "collapsed": true
   },
   "outputs": [],
   "source": [
    "from reversible2.distribution import TwoClassDist\n",
    "\n",
    "from reversible2.blocks import dense_add_block, conv_add_block_3x3\n",
    "from reversible2.rfft import RFFT, Interleave\n",
    "from reversible2.util import set_random_seeds\n",
    "from torch.nn import ConstantPad2d\n",
    "import torch as th\n",
    "from reversible2.splitter import SubsampleSplitter\n",
    "\n",
    "\n",
    "set_random_seeds(2019011641, cuda)\n",
    "feature_model_a = nn.Sequential(\n",
    "    dense_add_block(2,200),\n",
    "    dense_add_block(2,200),\n",
    "    dense_add_block(2,200),\n",
    "    dense_add_block(2,200),\n",
    ")\n",
    "if cuda:\n",
    "    feature_model_a.cuda()\n",
    "from reversible2.ot_exact import ot_euclidean_loss_for_samples\n",
    "class_dist = TwoClassDist(2,0, [0,1])\n",
    "if cuda:\n",
    "    class_dist.cuda()\n",
    "\n",
    "optim_model_a = th.optim.Adam(feature_model_a.parameters())\n",
    "optim_dist = th.optim.Adam(class_dist.parameters(), lr=1e-2)"
   ]
  },
  {
   "cell_type": "code",
   "execution_count": null,
   "metadata": {},
   "outputs": [],
   "source": [
    "from reversible.gaussian import get_gauss_samples\n",
    "n_epochs = 2001\n",
    "for i_epoch in range(n_epochs):\n",
    "    outs_a = feature_model_a(train_inputs)\n",
    "    perturbations = th.randn(outs_a.shape) * 0.01\n",
    "    outs_perturbed = outs_a + perturbations\n",
    "    inverted_perturbed = invert(feature_model_a, outs_perturbed)\n",
    "    out_dists = th.norm(perturbations, p=2, dim=1)\n",
    "    in_dists = th.norm(train_inputs - inverted_perturbed, p=2, dim=1)\n",
    "    eps=1e-8\n",
    "    lip_loss = th.mean(F.relu(((in_dists - out_dists) / (out_dists +eps)) ** 2))\n",
    "    log_probs = class_dist.get_class_log_prob(0, outs_a)\n",
    "    nll_loss = -th.mean(log_probs)\n",
    "    loss = nll_loss + lip_loss * 100\n",
    "    optim_dist.zero_grad()\n",
    "    optim_model_a.zero_grad()\n",
    "    loss.backward()\n",
    "    optim_model_a.step()\n",
    "    optim_dist.step()\n",
    "    if i_epoch % (n_epochs // 20) == 0:\n",
    "        display_text(\"NLL: {:.1E}, Lip: {:.1E}\".format(nll_loss.item(), lip_loss.item()))\n",
    "\n",
    "        fig,axes = plt.subplots(1,2, figsize=(10,4))\n",
    "        model = feature_model_a\n",
    "        rng = RandomState(201904114)\n",
    "        outs = model(train_inputs)\n",
    "        other_X = rng.randn(100,2) * np.array([1,0])[None] + np.array([-1,0])[None]\n",
    "        other_X = other_X[np.argsort(other_X[:,0])]\n",
    "        other_ins = np_to_var(other_X, dtype=np.float32)\n",
    "        other_outs = model(other_ins)\n",
    "\n",
    "        axes[0].plot(var_to_np(other_outs[:,0]), var_to_np(other_outs[:,1]), label=\"All Outputs\",\n",
    "                color=seaborn.color_palette()[1])\n",
    "        axes[0].scatter(var_to_np(outs[:,0]), var_to_np(outs[:,1]), s=30, c=[seaborn.color_palette()[0]],\n",
    "                   label=\"Actual data outputs\")\n",
    "        axes[0].axis('equal')\n",
    "        axes[0].set_title(\"Output space\")\n",
    "        plt.axis('equal')\n",
    "        samples = class_dist.get_samples(0, 100)\n",
    "        inverted = invert(feature_model_a, samples)\n",
    "        axes[1].scatter(var_to_np(inverted)[:,0], var_to_np(inverted)[:,1], s=30, label=\"Fake/Unknown Samples\",\n",
    "                   c=[seaborn.color_palette()[1]])\n",
    "        axes[1].scatter(var_to_np(train_inputs)[:,0], var_to_np(train_inputs)[:,1], s=30, label=\"Real data\",\n",
    "                   c=[seaborn.color_palette()[0]])\n",
    "        axes[1].legend(bbox_to_anchor=(1,1,0,0))\n",
    "        axes[1].set_title(\"Input space\")\n",
    "        axes[1].axis('equal')\n",
    "        display_close(fig)\n"
   ]
  },
  {
   "cell_type": "code",
   "execution_count": null,
   "metadata": {},
   "outputs": [],
   "source": [
    "\n",
    "fig,axes = plt.subplots(1,2, figsize=(10,4))\n",
    "model = feature_model_a\n",
    "rng = RandomState(201904114)\n",
    "outs = model(train_inputs)\n",
    "other_X = rng.randn(100,2) * np.array([1,0])[None] + np.array([-1,0])[None]\n",
    "other_X = other_X[np.argsort(other_X[:,0])]\n",
    "other_ins = np_to_var(other_X, dtype=np.float32)\n",
    "other_outs = model(other_ins)\n",
    "\n",
    "axes[0].plot(var_to_np(other_outs[:,0]), var_to_np(other_outs[:,1]), label=\"All Outputs\",\n",
    "        color=seaborn.color_palette()[1])\n",
    "axes[0].scatter(var_to_np(outs[:,0]), var_to_np(outs[:,1]), s=30, c=[seaborn.color_palette()[0]],\n",
    "           label=\"Actual data outputs\")\n",
    "#axes[0].legend(bbox_to_anchor=(1,1,0,0))\n",
    "axes[0].set_title(\"Output space\")\n",
    "axes[0].axis('equal')\n",
    "samples = class_dist.get_samples(0, 100)\n",
    "inverted = invert(feature_model_a, samples)\n",
    "axes[1].scatter(var_to_np(inverted)[:,0], var_to_np(inverted)[:,1], s=30, label=\"Fake/Unknown Samples\",\n",
    "           c=[seaborn.color_palette()[1]])\n",
    "axes[1].scatter(var_to_np(train_inputs)[:,0], var_to_np(train_inputs)[:,1], s=30, label=\"Real data\",\n",
    "           c=[seaborn.color_palette()[0]])\n",
    "axes[1].legend(bbox_to_anchor=(1,1,0,0))\n",
    "axes[1].set_title(\"Input space\")\n",
    "axes[1].axis('equal')\n",
    "display_close(fig)"
   ]
  },
  {
   "cell_type": "code",
   "execution_count": null,
   "metadata": {},
   "outputs": [],
   "source": []
  },
  {
   "cell_type": "code",
   "execution_count": null,
   "metadata": {
    "collapsed": true
   },
   "outputs": [],
   "source": []
  },
  {
   "cell_type": "code",
   "execution_count": null,
   "metadata": {},
   "outputs": [],
   "source": [
    "class_dist.get_mean_std(0)"
   ]
  },
  {
   "cell_type": "code",
   "execution_count": null,
   "metadata": {},
   "outputs": [],
   "source": [
    "nll_loss"
   ]
  }
 ],
 "metadata": {
  "kernelspec": {
   "display_name": "Python 3",
   "language": "python",
   "name": "python3"
  },
  "language_info": {
   "codemirror_mode": {
    "name": "ipython",
    "version": 3
   },
   "file_extension": ".py",
   "mimetype": "text/x-python",
   "name": "python",
   "nbconvert_exporter": "python",
   "pygments_lexer": "ipython3",
   "version": "3.6.8"
  }
 },
 "nbformat": 4,
 "nbformat_minor": 2
}
