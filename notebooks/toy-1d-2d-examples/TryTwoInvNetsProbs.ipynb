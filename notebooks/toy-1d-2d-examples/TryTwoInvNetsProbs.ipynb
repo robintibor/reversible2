{
 "cells": [
  {
   "cell_type": "code",
   "execution_count": null,
   "metadata": {
    "collapsed": true
   },
   "outputs": [],
   "source": [
    "import logging\n",
    "import importlib\n",
    "importlib.reload(logging) # see https://stackoverflow.com/a/21475297/1469195\n",
    "log = logging.getLogger()\n",
    "log.setLevel('INFO')\n",
    "import sys\n",
    "\n",
    "logging.basicConfig(format='%(asctime)s %(levelname)s : %(message)s',\n",
    "                     level=logging.INFO, stream=sys.stdout)"
   ]
  },
  {
   "cell_type": "code",
   "execution_count": null,
   "metadata": {
    "collapsed": true
   },
   "outputs": [],
   "source": [
    "%%capture\n",
    "import os\n",
    "import site\n",
    "os.sys.path.insert(0, '/home/schirrmr/code/reversible/')\n",
    "os.sys.path.insert(0, '/home/schirrmr/braindecode/code/braindecode/')\n",
    "os.sys.path.insert(0, '/home/schirrmr/code/explaining/reversible//')\n",
    "\n",
    "\n",
    "%load_ext autoreload\n",
    "%autoreload 2\n",
    "import numpy as np\n",
    "import logging\n",
    "log = logging.getLogger()\n",
    "log.setLevel('INFO')\n",
    "import sys\n",
    "logging.basicConfig(format='%(asctime)s %(levelname)s : %(message)s',\n",
    "                     level=logging.INFO, stream=sys.stdout)\n",
    "import matplotlib\n",
    "from matplotlib import pyplot as plt\n",
    "from matplotlib import cm\n",
    "%matplotlib inline\n",
    "%config InlineBackend.figure_format = 'png'\n",
    "matplotlib.rcParams['figure.figsize'] = (12.0, 1.0)\n",
    "matplotlib.rcParams['font.size'] = 14\n",
    "import seaborn\n",
    "seaborn.set_style('darkgrid')\n",
    "\n",
    "from reversible2.sliced import sliced_from_samples\n",
    "from numpy.random import RandomState\n",
    "\n",
    "import torch\n",
    "import torch.nn as nn\n",
    "import torch.nn.functional as F\n",
    "from torch.autograd import Variable\n",
    "import numpy as np\n",
    "import copy\n",
    "import math\n",
    "\n",
    "import itertools\n",
    "import torch as th\n",
    "from braindecode.torch_ext.util import np_to_var, var_to_np\n",
    "from reversible2.splitter import SubsampleSplitter\n",
    "\n",
    "from reversible2.view_as import ViewAs\n",
    "from reversible2.invert import invert\n",
    "\n",
    "from reversible2.affine import AdditiveBlock\n",
    "from reversible2.plot import display_text, display_close\n",
    "from reversible2.bhno import load_file, create_inputs"
   ]
  },
  {
   "cell_type": "code",
   "execution_count": null,
   "metadata": {},
   "outputs": [],
   "source": [
    "rng = RandomState(201904113)#2 ganz gut # 13 sehr gut)\n",
    "\n",
    "X = rng.randn(5,2) * np.array([1,0])[None] + np.array([-1,0])[None]\n",
    "\n",
    "\n",
    "plt.figure(figsize=(5,5))\n",
    "plt.scatter(X[:,0], X[:,1])\n",
    "plt.scatter([-1],[0], color='black')\n",
    "plt.xlim(-2.5,5.5)\n",
    "plt.ylim(-4,4)"
   ]
  },
  {
   "cell_type": "code",
   "execution_count": null,
   "metadata": {
    "collapsed": true
   },
   "outputs": [],
   "source": [
    "import sklearn.datasets"
   ]
  },
  {
   "cell_type": "code",
   "execution_count": null,
   "metadata": {
    "collapsed": true
   },
   "outputs": [],
   "source": [
    "X,y  = sklearn.datasets.make_moons(200, shuffle=False, noise=1e-4)"
   ]
  },
  {
   "cell_type": "code",
   "execution_count": null,
   "metadata": {},
   "outputs": [],
   "source": [
    "plt.figure(figsize=(4,4))\n",
    "plt.scatter(X[:100,0], X[:100,1])\n",
    "plt.scatter(X[100:,0], X[100:,1])\n",
    "train_inputs = np_to_var(X[:100][::2], dtype=np.float32)\n",
    "valid_inputs = np_to_var(X[:100][1::2], dtype=np.float32)\n",
    "cuda = False"
   ]
  },
  {
   "cell_type": "code",
   "execution_count": null,
   "metadata": {},
   "outputs": [],
   "source": [
    "from reversible2.distribution import TwoClassDist\n",
    "from reversible2.spectral_norm import spectral_norm\n",
    "from reversible2.blocks import dense_add_block, conv_add_block_3x3\n",
    "from reversible2.rfft import RFFT, Interleave\n",
    "from reversible2.util import set_random_seeds\n",
    "from torch.nn import ConstantPad2d\n",
    "import torch as th\n",
    "from reversible2.splitter import SubsampleSplitter\n",
    "from copy import deepcopy\n",
    "\n",
    "\n",
    "set_random_seeds(2019011641, cuda)\n",
    "feature_model_a = nn.Sequential(\n",
    "    dense_add_block(2,200),\n",
    "    dense_add_block(2,200),\n",
    "    dense_add_block(2,200),\n",
    "    dense_add_block(2,200),\n",
    ")\n",
    "if cuda:\n",
    "    feature_model_a.cuda()\n",
    "adv_model = deepcopy(feature_model_a)\n",
    "from reversible2.ot_exact import ot_euclidean_loss_for_samples\n",
    "class_dist = TwoClassDist(2,0, [0,1])\n",
    "if cuda:\n",
    "    class_dist.cuda()\n",
    "spec_norms_adv = []\n",
    "for module in adv_model.modules():\n",
    "    if hasattr(module, 'weight'):\n",
    "        norm = th.ones(1, device=module.weight.device, requires_grad=True)\n",
    "        spectral_norm(module, 'weight', norm, n_power_iterations=3)\n",
    "        spec_norms_adv.append(norm)\n",
    "\n",
    "optim_model_a = th.optim.Adam(feature_model_a.parameters())\n",
    "optim_adv = th.optim.Adam(adv_model.parameters())\n",
    "optim_dist = th.optim.Adam(class_dist.parameters(), lr=1e-2)\n",
    "optim_norms = th.optim.Adam(spec_norms_adv, lr=1e-3)"
   ]
  },
  {
   "cell_type": "code",
   "execution_count": null,
   "metadata": {},
   "outputs": [],
   "source": [
    "from reversible.gaussian import get_gauss_samples\n",
    "n_epochs = 2001\n",
    "gen_frequency = 2\n",
    "for i_epoch in range(n_epochs):\n",
    "    samples = class_dist.get_samples(0, 100)\n",
    "    inverted = invert(feature_model_a, samples)\n",
    "    outs_fake = adv_model(inverted)\n",
    "    # no grad through dist\n",
    "    log_probs_fake = deepcopy(class_dist).get_class_log_prob(0, outs_fake)\n",
    "    nll_fake = -th.mean(log_probs_fake)\n",
    "    if (i_epoch % gen_frequency) == (gen_frequency - 1):\n",
    "        loss = nll_fake\n",
    "        optim_model_a.zero_grad()\n",
    "        loss.backward()\n",
    "        optim_model_a.step()\n",
    "    else:\n",
    "        outs_real = adv_model(train_inputs)\n",
    "        log_probs_real = class_dist.get_class_log_prob(0, outs_real)\n",
    "        nll_real = -th.mean(log_probs_real)\n",
    "        loss = 2 * nll_real - nll_fake\n",
    "        optim_adv.zero_grad()\n",
    "        optim_dist.zero_grad()\n",
    "        loss.backward()\n",
    "        optim_adv.step()\n",
    "        optim_dist.step()\n",
    "        \n",
    "        outs_valid =  adv_model(valid_inputs)\n",
    "        log_probs_valid = class_dist.get_class_log_prob(0, outs_valid)\n",
    "        nll_valid= -th.mean(log_probs_valid)\n",
    "        loss = nll_valid\n",
    "        optim_norms.zero_grad()\n",
    "        loss.backward()\n",
    "        optim_norms.step()\n",
    "        \n",
    "    \n",
    "    if i_epoch % (n_epochs // 20) == 0:\n",
    "        display_text(\"NLL Real: {:.1E}, NLL Valid: {:.1E} NLL Fake: {:.1E}\".format(\n",
    "            nll_real.item(), nll_valid.item(), nll_fake.item()))\n",
    "\n",
    "        fig,axes = plt.subplots(1,2, figsize=(10,4))\n",
    "        model = feature_model_a\n",
    "        rng = RandomState(201904114)\n",
    "        outs = model(train_inputs)\n",
    "        other_X  = sklearn.datasets.make_moons(200, shuffle=False, noise=1e-4)[0][:100]\n",
    "        other_ins = np_to_var(other_X, dtype=np.float32)\n",
    "        other_outs = model(other_ins)\n",
    "\n",
    "        axes[0].plot(var_to_np(other_outs[:,0]), var_to_np(other_outs[:,1]), label=\"All Outputs\",\n",
    "                color=seaborn.color_palette()[1])\n",
    "        axes[0].scatter(var_to_np(outs[:,0]), var_to_np(outs[:,1]), s=30, c=[seaborn.color_palette()[0]],\n",
    "                   label=\"Actual data outputs\")\n",
    "        axes[0].axis('equal')\n",
    "        axes[0].set_title(\"Output space\")\n",
    "        plt.axis('equal')\n",
    "        samples = class_dist.get_samples(0, 100)\n",
    "        inverted = invert(feature_model_a, samples)\n",
    "        axes[1].scatter(var_to_np(inverted)[:,0], var_to_np(inverted)[:,1], s=30, label=\"Fake/Unknown Samples\",\n",
    "                   c=[seaborn.color_palette()[1]])\n",
    "        axes[1].scatter(var_to_np(train_inputs)[:,0], var_to_np(train_inputs)[:,1], s=30, label=\"Real data\",\n",
    "                   c=[seaborn.color_palette()[0]])\n",
    "        axes[1].legend(bbox_to_anchor=(1,1,0,0))\n",
    "        axes[1].set_title(\"Input space\")\n",
    "        axes[1].axis('equal')\n",
    "        display_close(fig)\n",
    "        fig = plt.figure(figsize=(8,2))\n",
    "        plt.plot(var_to_np(th.stack(spec_norms_adv)))\n",
    "        display_close(fig)"
   ]
  },
  {
   "cell_type": "code",
   "execution_count": null,
   "metadata": {},
   "outputs": [],
   "source": [
    "nll_valid"
   ]
  },
  {
   "cell_type": "code",
   "execution_count": null,
   "metadata": {},
   "outputs": [],
   "source": []
  }
 ],
 "metadata": {
  "kernelspec": {
   "display_name": "Python 3",
   "language": "python",
   "name": "python3"
  },
  "language_info": {
   "codemirror_mode": {
    "name": "ipython",
    "version": 3
   },
   "file_extension": ".py",
   "mimetype": "text/x-python",
   "name": "python",
   "nbconvert_exporter": "python",
   "pygments_lexer": "ipython3",
   "version": "3.6.8"
  }
 },
 "nbformat": 4,
 "nbformat_minor": 2
}
