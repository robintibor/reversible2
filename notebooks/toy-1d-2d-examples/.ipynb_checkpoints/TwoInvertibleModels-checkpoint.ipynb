{
 "cells": [
  {
   "cell_type": "code",
   "execution_count": null,
   "metadata": {
    "collapsed": true
   },
   "outputs": [],
   "source": [
    "import logging\n",
    "import importlib\n",
    "importlib.reload(logging) # see https://stackoverflow.com/a/21475297/1469195\n",
    "log = logging.getLogger()\n",
    "log.setLevel('INFO')\n",
    "import sys\n",
    "\n",
    "logging.basicConfig(format='%(asctime)s %(levelname)s : %(message)s',\n",
    "                     level=logging.INFO, stream=sys.stdout)"
   ]
  },
  {
   "cell_type": "code",
   "execution_count": null,
   "metadata": {
    "collapsed": true
   },
   "outputs": [],
   "source": [
    "%%capture\n",
    "import os\n",
    "import site\n",
    "os.sys.path.insert(0, '/home/schirrmr/code/reversible/')\n",
    "os.sys.path.insert(0, '/home/schirrmr/braindecode/code/braindecode/')\n",
    "os.sys.path.insert(0, '/home/schirrmr/code/explaining/reversible//')\n",
    "\n",
    "\n",
    "%load_ext autoreload\n",
    "%autoreload 2\n",
    "import numpy as np\n",
    "import logging\n",
    "log = logging.getLogger()\n",
    "log.setLevel('INFO')\n",
    "import sys\n",
    "logging.basicConfig(format='%(asctime)s %(levelname)s : %(message)s',\n",
    "                     level=logging.INFO, stream=sys.stdout)\n",
    "import matplotlib\n",
    "from matplotlib import pyplot as plt\n",
    "from matplotlib import cm\n",
    "%matplotlib inline\n",
    "%config InlineBackend.figure_format = 'png'\n",
    "matplotlib.rcParams['figure.figsize'] = (12.0, 1.0)\n",
    "matplotlib.rcParams['font.size'] = 14\n",
    "import seaborn\n",
    "seaborn.set_style('darkgrid')\n",
    "\n",
    "from reversible2.sliced import sliced_from_samples\n",
    "from numpy.random import RandomState\n",
    "\n",
    "import torch\n",
    "import torch.nn as nn\n",
    "import torch.nn.functional as F\n",
    "from torch.autograd import Variable\n",
    "import numpy as np\n",
    "import copy\n",
    "import math\n",
    "\n",
    "import itertools\n",
    "import torch as th\n",
    "from braindecode.torch_ext.util import np_to_var, var_to_np\n",
    "from reversible2.splitter import SubsampleSplitter\n",
    "\n",
    "from reversible2.view_as import ViewAs\n",
    "from reversible2.invert import invert\n",
    "\n",
    "from reversible2.affine import AdditiveBlock\n",
    "from reversible2.plot import display_text, display_close\n",
    "from reversible2.bhno import load_file, create_inputs"
   ]
  },
  {
   "cell_type": "code",
   "execution_count": null,
   "metadata": {},
   "outputs": [],
   "source": [
    "rng = RandomState(201904113)#2 ganz gut # 13 sehr gut)\n",
    "\n",
    "X = rng.randn(5,2) * np.array([1,0])[None] + np.array([-1,0])[None]\n",
    "\n",
    "\n",
    "plt.figure(figsize=(5,5))\n",
    "plt.scatter(X[:,0], X[:,1])\n",
    "plt.scatter([-1],[0], color='black')\n",
    "plt.xlim(-2.5,5.5)\n",
    "plt.ylim(-4,4)"
   ]
  },
  {
   "cell_type": "code",
   "execution_count": null,
   "metadata": {},
   "outputs": [],
   "source": [
    "\n",
    "plt.scatter(X[:2,0], X[:2,1])\n",
    "plt.scatter(X[3:5,0], X[3:5,1])"
   ]
  },
  {
   "cell_type": "code",
   "execution_count": null,
   "metadata": {
    "collapsed": true
   },
   "outputs": [],
   "source": [
    "train_inputs = np_to_var(np.concatenate((X[:2],X[3:5])), dtype=np.float32)\n",
    "cuda = False"
   ]
  },
  {
   "cell_type": "code",
   "execution_count": null,
   "metadata": {
    "collapsed": true
   },
   "outputs": [],
   "source": [
    "from reversible2.distribution import TwoClassDist\n",
    "\n",
    "from reversible2.blocks import dense_add_block, conv_add_block_3x3\n",
    "from reversible2.rfft import RFFT, Interleave\n",
    "from reversible2.util import set_random_seeds\n",
    "from torch.nn import ConstantPad2d\n",
    "import torch as th\n",
    "from reversible2.splitter import SubsampleSplitter\n",
    "\n",
    "\n",
    "set_random_seeds(2019011641, cuda)\n",
    "feature_model_a = nn.Sequential(\n",
    "    dense_add_block(2,200),\n",
    "    dense_add_block(2,200),\n",
    "    dense_add_block(2,200),\n",
    "    dense_add_block(2,200),\n",
    ")\n",
    "feature_model_b = nn.Sequential(\n",
    "    dense_add_block(2,200),\n",
    "    dense_add_block(2,200),\n",
    "    dense_add_block(2,200),\n",
    "    dense_add_block(2,200),\n",
    ")\n",
    "if cuda:\n",
    "    feature_model_a.cuda()\n",
    "    feature_model_b.cuda()\n",
    "from reversible2.ot_exact import ot_euclidean_loss_for_samples\n",
    "class_dist = TwoClassDist(2,0)\n",
    "if cuda:\n",
    "    class_dist.cuda()\n",
    "\n",
    "optim_model_a = th.optim.Adam(feature_model_a.parameters())\n",
    "optim_model_b = th.optim.Adam(feature_model_b.parameters())\n",
    "optim_dist = th.optim.Adam(class_dist.parameters(), lr=1e-3)"
   ]
  },
  {
   "cell_type": "code",
   "execution_count": null,
   "metadata": {
    "collapsed": true
   },
   "outputs": [],
   "source": [
    "from reversible.gaussian import get_gauss_samples"
   ]
  },
  {
   "cell_type": "code",
   "execution_count": null,
   "metadata": {},
   "outputs": [],
   "source": [
    "n_epochs = 3001\n",
    "for i_epoch in range(n_epochs):\n",
    "    outs_a = feature_model_a(train_inputs[:2])\n",
    "    outs_b = feature_model_b(train_inputs[2:])\n",
    "\n",
    "    loss_a = th.sum(outs_a[:,0] ** 2) + th.sum(outs_a[:,1] ** 2) * 100\n",
    "    loss_b = th.sum(outs_b[:,0] ** 2) + th.sum(outs_b[:,1] ** 2) * 100\n",
    "    loss = loss_a + loss_b\n",
    "    optim_model_a.zero_grad()\n",
    "    optim_model_b.zero_grad()\n",
    "    loss.backward()\n",
    "    optim_model_a.step()\n",
    "    optim_model_b.step()\n",
    "    if i_epoch % (n_epochs // 20) == 0:\n",
    "        fig = plt.figure(figsize=(6,6))\n",
    "        for i_model, model in enumerate([feature_model_a, feature_model_b]):\n",
    "            rng = RandomState(201904114)\n",
    "            outs = model(train_inputs)\n",
    "            other_X = rng.randn(100,2) * np.array([1,0])[None] + np.array([-1,0])[None]\n",
    "            other_X = other_X[np.argsort(other_X[:,0])]\n",
    "            other_ins = np_to_var(other_X, dtype=np.float32)\n",
    "            other_outs = model(other_ins)\n",
    "\n",
    "            plt.plot(var_to_np(other_outs[:,0]), var_to_np(other_outs[:,1]), label=\"All Outputs\")\n",
    "            colors = seaborn.color_palette()[2:4]\n",
    "            plt.scatter(var_to_np(outs[:2,0]), var_to_np(outs[:2,1]), s=30, c=[colors[i_model]],\n",
    "                       label=\"Actual data outputs\")\n",
    "            plt.scatter(var_to_np(outs[2:,0]), var_to_np(outs[2:,1]), s=30, c=[colors[1-i_model]],\n",
    "                       label=\"Actual data outputs\", marker='s')\n",
    "        plt.legend()\n",
    "        display_close(fig)\n"
   ]
  },
  {
   "cell_type": "code",
   "execution_count": null,
   "metadata": {},
   "outputs": [],
   "source": [
    "samples =  get_gauss_samples(100, th.zeros(2), np_to_var([1,0], dtype=np.float32))\n",
    "inverted = invert(feature_model_a,samples)\n",
    "i_sorted = th.sort(samples[:,0], dim=0)[1]\n",
    "fig = plt.figure(figsize=(3,3))\n",
    "plt.scatter(var_to_np(inverted)[:,0], var_to_np(inverted)[:,1])\n",
    "plt.plot(var_to_np(inverted)[i_sorted,0], var_to_np(inverted)[i_sorted,1])\n",
    "plt.title(\"Samples 1d\\nLoss: {:.2E}\".format(loss.item()) )\n",
    "display_close(fig)"
   ]
  },
  {
   "cell_type": "code",
   "execution_count": null,
   "metadata": {},
   "outputs": [],
   "source": [
    "samples =  get_gauss_samples(100, th.zeros(2), np_to_var([1,0], dtype=np.float32))\n",
    "inverted = invert(feature_model_a,samples)\n",
    "i_sorted = th.sort(samples[:,0], dim=0)[1]\n",
    "fig = plt.figure(figsize=(3,3))\n",
    "plt.plot(var_to_np(inverted)[i_sorted,0], var_to_np(inverted)[i_sorted,1])\n",
    "display_close(fig)"
   ]
  },
  {
   "cell_type": "markdown",
   "metadata": {},
   "source": [
    "### One as adversary"
   ]
  },
  {
   "cell_type": "code",
   "execution_count": null,
   "metadata": {
    "collapsed": true
   },
   "outputs": [],
   "source": [
    "from reversible2.distribution import TwoClassDist\n",
    "\n",
    "from reversible2.blocks import dense_add_block, conv_add_block_3x3\n",
    "from reversible2.rfft import RFFT, Interleave\n",
    "from reversible2.util import set_random_seeds\n",
    "from torch.nn import ConstantPad2d\n",
    "import torch as th\n",
    "from reversible2.splitter import SubsampleSplitter\n",
    "\n",
    "\n",
    "set_random_seeds(2019011641, cuda)\n",
    "feature_model_a = nn.Sequential(\n",
    "    dense_add_block(2,200),\n",
    "    dense_add_block(2,200),\n",
    "    dense_add_block(2,200),\n",
    "    dense_add_block(2,200),\n",
    ")\n",
    "feature_model_b = nn.Sequential(\n",
    "    dense_add_block(2,200),\n",
    "    dense_add_block(2,200),\n",
    "    dense_add_block(2,200),\n",
    "    dense_add_block(2,200),\n",
    ")\n",
    "if cuda:\n",
    "    feature_model_a.cuda()\n",
    "    feature_model_b.cuda()\n",
    "from reversible2.ot_exact import ot_euclidean_loss_for_samples\n",
    "class_dist = TwoClassDist(2,0, [0,1])\n",
    "if cuda:\n",
    "    class_dist.cuda()\n",
    "\n",
    "optim_model_a = th.optim.Adam(feature_model_a.parameters(), betas=(0,0.9))\n",
    "optim_model_b = th.optim.Adam(feature_model_b.parameters(), betas=(0,0.9))\n",
    "optim_dist = th.optim.Adam(class_dist.parameters(), lr=1e-3)"
   ]
  },
  {
   "cell_type": "code",
   "execution_count": null,
   "metadata": {
    "collapsed": true
   },
   "outputs": [],
   "source": []
  },
  {
   "cell_type": "code",
   "execution_count": null,
   "metadata": {
    "collapsed": true
   },
   "outputs": [],
   "source": [
    "import pandas as pd\n",
    "df = pd.DataFrame()"
   ]
  },
  {
   "cell_type": "code",
   "execution_count": null,
   "metadata": {
    "collapsed": true
   },
   "outputs": [],
   "source": [
    "\n",
    "other_X = rng.randn(100,2) * np.array([1,0])[None] + np.array([-1,0])[None]\n",
    "other_X = other_X[np.argsort(other_X[:,0])]\n",
    "other_ins = np_to_var(other_X, dtype=np.float32)\n",
    "other_outs = model(other_ins)"
   ]
  },
  {
   "cell_type": "code",
   "execution_count": null,
   "metadata": {},
   "outputs": [],
   "source": []
  },
  {
   "cell_type": "code",
   "execution_count": null,
   "metadata": {},
   "outputs": [],
   "source": [
    "n_epochs = 3100\n",
    "gen_freq = 2\n",
    "for i_epoch in range(n_epochs):\n",
    "    samples = class_dist.get_samples(0,100)\n",
    "    inverted = invert(feature_model_a, samples)\n",
    "    outs_b_fake = feature_model_b(inverted)\n",
    "    fake_probs = class_dist.get_total_log_prob(0, outs_b_fake)\n",
    "    if (i_epoch % gen_freq) == (gen_freq - 1):\n",
    "        loss_gen = -th.mean(fake_probs)\n",
    "        optim_model_a.zero_grad()\n",
    "        optim_dist.zero_grad()\n",
    "        loss_gen.backward()\n",
    "        optim_model_a.step()\n",
    "        optim_dist.step()\n",
    "    else:\n",
    "        outs_b_real = feature_model_b(train_inputs)\n",
    "        real_probs = class_dist.get_total_log_prob(0, outs_b_real)\n",
    "        loss_disc = th.mean(fake_probs) - th.mean(real_probs)\n",
    "        optim_model_b.zero_grad()\n",
    "        loss_disc.backward()\n",
    "        optim_model_b.step()\n",
    "        \n",
    "    if i_epoch % (n_epochs // 20) == 0:\n",
    "        \n",
    "        samples = class_dist.get_samples(0,100)\n",
    "        inverted = invert(feature_model_a, samples)\n",
    "\n",
    "        fig = plt.figure(figsize=(8,2))\n",
    "\n",
    "        plt.scatter(var_to_np(inverted)[:,0], var_to_np(inverted)[:,1], label='Fake data',\n",
    "                    color=seaborn.color_palette()[1])\n",
    "        plt.scatter(var_to_np(train_inputs)[:,0], var_to_np(train_inputs)[:,1], label='Real data',\n",
    "                   color=seaborn.color_palette()[0])\n",
    "        plt.title(\"Input Space\")\n",
    "        plt.legend(bbox_to_anchor=(1,1,0,0))\n",
    "        display_close(fig)\n",
    "        \n",
    "        fig = plt.figure(figsize=(8,2))\n",
    "        outs_b_real = feature_model_b(train_inputs)\n",
    "\n",
    "        outs_b_fake = feature_model_b(inverted)\n",
    "        plt.scatter(var_to_np(outs_b_fake)[:,0], var_to_np(outs_b_fake)[:,1], \n",
    "                   color=seaborn.color_palette()[1])\n",
    "        plt.scatter(var_to_np(outs_b_real)[:,0], var_to_np(outs_b_real)[:,1],\n",
    "                   color=seaborn.color_palette()[0])\n",
    "        display_close(fig)\n",
    "            "
   ]
  },
  {
   "cell_type": "code",
   "execution_count": null,
   "metadata": {
    "collapsed": true
   },
   "outputs": [],
   "source": [
    "from reversible2.distribution import TwoClassDist\n",
    "\n",
    "from reversible2.blocks import dense_add_block, conv_add_block_3x3\n",
    "from reversible2.rfft import RFFT, Interleave\n",
    "from reversible2.util import set_random_seeds\n",
    "from torch.nn import ConstantPad2d\n",
    "import torch as th\n",
    "from reversible2.splitter import SubsampleSplitter\n",
    "\n",
    "\n",
    "set_random_seeds(2019011641, cuda)\n",
    "feature_model_a = nn.Sequential(\n",
    "    dense_add_block(2,200),\n",
    "    dense_add_block(2,200),\n",
    "    dense_add_block(2,200),\n",
    "    dense_add_block(2,200),\n",
    ")\n",
    "feature_model_b = nn.Sequential(\n",
    "    dense_add_block(2,200),\n",
    "    dense_add_block(2,200),\n",
    "    dense_add_block(2,200),\n",
    "    dense_add_block(2,200),\n",
    ")\n",
    "if cuda:\n",
    "    feature_model_a.cuda()\n",
    "    feature_model_b.cuda()\n",
    "from reversible2.ot_exact import ot_euclidean_loss_for_samples\n",
    "class_dist = TwoClassDist(2,0, [0,1])\n",
    "if cuda:\n",
    "    class_dist.cuda()\n",
    "\n",
    "optim_model_a = th.optim.Adam(feature_model_a.parameters(), betas=(0,0.9))\n",
    "optim_model_b = th.optim.Adam(feature_model_b.parameters(), betas=(0,0.9))\n",
    "optim_dist = th.optim.Adam(class_dist.parameters(), lr=1e-3)"
   ]
  },
  {
   "cell_type": "code",
   "execution_count": null,
   "metadata": {},
   "outputs": [],
   "source": [
    "n_epochs = 3100\n",
    "gen_freq = 2\n",
    "for i_epoch in range(n_epochs):\n",
    "    samples = class_dist.get_samples(0,100)\n",
    "    inverted = invert(feature_model_a, samples)\n",
    "    outs_b_fake = feature_model_b(inverted)\n",
    "    fake_probs = th.exp(class_dist.get_total_log_prob(0, outs_b_fake))\n",
    "    if (i_epoch % gen_freq) == (gen_freq - 1):\n",
    "        loss_gen = -th.mean(fake_probs)\n",
    "        optim_model_a.zero_grad()\n",
    "        optim_dist.zero_grad()\n",
    "        loss_gen.backward()\n",
    "        optim_model_a.step()\n",
    "        optim_dist.step()\n",
    "    else:\n",
    "        outs_b_real = feature_model_b(train_inputs)\n",
    "        real_probs = th.exp(class_dist.get_total_log_prob(0, outs_b_real))\n",
    "        loss_disc = th.mean(fake_probs) - th.mean(real_probs)\n",
    "        optim_model_b.zero_grad()\n",
    "        loss_disc.backward()\n",
    "        optim_model_b.step()\n",
    "        \n",
    "    if i_epoch % (n_epochs // 20) == 0:\n",
    "        \n",
    "        samples = class_dist.get_samples(0,100)\n",
    "        inverted = invert(feature_model_a, samples)\n",
    "\n",
    "        fig = plt.figure(figsize=(8,2))\n",
    "\n",
    "        plt.scatter(var_to_np(inverted)[:,0], var_to_np(inverted)[:,1], label='Fake data',\n",
    "                    color=seaborn.color_palette()[1])\n",
    "        plt.scatter(var_to_np(train_inputs)[:,0], var_to_np(train_inputs)[:,1], label='Real data',\n",
    "                   color=seaborn.color_palette()[0])\n",
    "        plt.title(\"Input Space\")\n",
    "        plt.legend(bbox_to_anchor=(1,1,0,0))\n",
    "        display_close(fig)\n",
    "        \n",
    "        fig = plt.figure(figsize=(8,2))\n",
    "        outs_b_real = feature_model_b(train_inputs)\n",
    "\n",
    "        outs_b_fake = feature_model_b(inverted)\n",
    "        plt.scatter(var_to_np(outs_b_fake)[:,0], var_to_np(outs_b_fake)[:,1], \n",
    "                   color=seaborn.color_palette()[1], label='Fale out',)\n",
    "        plt.scatter(var_to_np(outs_b_real)[:,0], var_to_np(outs_b_real)[:,1],\n",
    "                   color=seaborn.color_palette()[0], label='Real out',)\n",
    "        plt.title(\"Output Space\")\n",
    "        plt.legend(bbox_to_anchor=(1,1,0,0))\n",
    "        \n",
    "        display_close(fig)\n",
    "            "
   ]
  },
  {
   "cell_type": "code",
   "execution_count": null,
   "metadata": {
    "collapsed": true
   },
   "outputs": [],
   "source": []
  }
 ],
 "metadata": {
  "kernelspec": {
   "display_name": "Python 3",
   "language": "python",
   "name": "python3"
  },
  "language_info": {
   "codemirror_mode": {
    "name": "ipython",
    "version": 3
   },
   "file_extension": ".py",
   "mimetype": "text/x-python",
   "name": "python",
   "nbconvert_exporter": "python",
   "pygments_lexer": "ipython3",
   "version": "3.6.8"
  }
 },
 "nbformat": 4,
 "nbformat_minor": 2
}
