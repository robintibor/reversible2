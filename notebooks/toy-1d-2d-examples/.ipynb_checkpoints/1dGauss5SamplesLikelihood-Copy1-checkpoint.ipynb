{
 "cells": [
  {
   "cell_type": "code",
   "execution_count": null,
   "metadata": {
    "collapsed": true
   },
   "outputs": [],
   "source": [
    "import logging\n",
    "import importlib\n",
    "importlib.reload(logging) # see https://stackoverflow.com/a/21475297/1469195\n",
    "log = logging.getLogger()\n",
    "log.setLevel('INFO')\n",
    "import sys\n",
    "\n",
    "logging.basicConfig(format='%(asctime)s %(levelname)s : %(message)s',\n",
    "                     level=logging.INFO, stream=sys.stdout)"
   ]
  },
  {
   "cell_type": "code",
   "execution_count": null,
   "metadata": {
    "collapsed": true
   },
   "outputs": [],
   "source": [
    "%%capture\n",
    "import os\n",
    "import site\n",
    "os.sys.path.insert(0, '/home/schirrmr/code/reversible/')\n",
    "os.sys.path.insert(0, '/home/schirrmr/braindecode/code/braindecode/')\n",
    "os.sys.path.insert(0, '/home/schirrmr/code/explaining/reversible//')\n",
    "\n",
    "\n",
    "%load_ext autoreload\n",
    "%autoreload 2\n",
    "import numpy as np\n",
    "import logging\n",
    "log = logging.getLogger()\n",
    "log.setLevel('INFO')\n",
    "import sys\n",
    "logging.basicConfig(format='%(asctime)s %(levelname)s : %(message)s',\n",
    "                     level=logging.INFO, stream=sys.stdout)\n",
    "import matplotlib\n",
    "from matplotlib import pyplot as plt\n",
    "from matplotlib import cm\n",
    "%matplotlib inline\n",
    "%config InlineBackend.figure_format = 'png'\n",
    "matplotlib.rcParams['figure.figsize'] = (12.0, 1.0)\n",
    "matplotlib.rcParams['font.size'] = 14\n",
    "import seaborn\n",
    "seaborn.set_style('darkgrid')\n",
    "\n",
    "from reversible2.sliced import sliced_from_samples\n",
    "from numpy.random import RandomState\n",
    "\n",
    "import torch\n",
    "import torch.nn as nn\n",
    "import torch.nn.functional as F\n",
    "from torch.autograd import Variable\n",
    "import numpy as np\n",
    "import copy\n",
    "import math\n",
    "\n",
    "import itertools\n",
    "import torch as th\n",
    "from braindecode.torch_ext.util import np_to_var, var_to_np\n",
    "from reversible2.splitter import SubsampleSplitter\n",
    "\n",
    "from reversible2.view_as import ViewAs\n",
    "from reversible2.invert import invert\n",
    "\n",
    "from reversible2.affine import AdditiveBlock\n",
    "from reversible2.plot import display_text, display_close\n",
    "from reversible2.bhno import load_file, create_inputs"
   ]
  },
  {
   "cell_type": "code",
   "execution_count": null,
   "metadata": {
    "collapsed": true
   },
   "outputs": [],
   "source": [
    "# 2 gaussians different stds and means.. or uniform dims..\n",
    "# train, show what would happen for different visualizations\n"
   ]
  },
  {
   "cell_type": "code",
   "execution_count": null,
   "metadata": {},
   "outputs": [],
   "source": [
    "rng = RandomState(201904113)#2 ganz gut # 13 sehr gut)\n",
    "\n",
    "X = rng.randn(5,2) * np.array([1,0])[None] + np.array([-1,0])[None]\n",
    "\n",
    "\n",
    "plt.figure(figsize=(5,5))\n",
    "plt.scatter(X[:,0], X[:,1])\n",
    "plt.scatter([-1],[0], color='black')\n",
    "plt.xlim(-2.5,5.5)\n",
    "plt.ylim(-4,4)"
   ]
  },
  {
   "cell_type": "code",
   "execution_count": null,
   "metadata": {
    "collapsed": true
   },
   "outputs": [],
   "source": [
    "train_inputs = np_to_var(X, dtype=np.float32)"
   ]
  },
  {
   "cell_type": "code",
   "execution_count": null,
   "metadata": {
    "collapsed": true
   },
   "outputs": [],
   "source": [
    "cuda = False"
   ]
  },
  {
   "cell_type": "code",
   "execution_count": null,
   "metadata": {
    "collapsed": true
   },
   "outputs": [],
   "source": [
    "from reversible2.distribution import TwoClassDist\n",
    "\n",
    "from reversible2.blocks import dense_add_block, conv_add_block_3x3\n",
    "from reversible2.rfft import RFFT, Interleave\n",
    "from reversible2.util import set_random_seeds\n",
    "from torch.nn import ConstantPad2d\n",
    "import torch as th\n",
    "from reversible2.splitter import SubsampleSplitter\n",
    "\n",
    "\n",
    "set_random_seeds(2019011641, cuda)\n",
    "feature_model_a = nn.Sequential(\n",
    "    dense_add_block(2,200),\n",
    "    dense_add_block(2,200),\n",
    "    dense_add_block(2,200),\n",
    "    dense_add_block(2,200),\n",
    ")\n",
    "feature_model_b = nn.Sequential(\n",
    "    dense_add_block(2,200),\n",
    "    dense_add_block(2,200),\n",
    "    dense_add_block(2,200),\n",
    "    dense_add_block(2,200),\n",
    ")\n",
    "if cuda:\n",
    "    feature_model_a.cuda()\n",
    "    feature_model_b.cuda()\n",
    "from reversible2.ot_exact import ot_euclidean_loss_for_samples\n",
    "class_dist = TwoClassDist(2,0)\n",
    "if cuda:\n",
    "    class_dist.cuda()\n",
    "\n",
    "optim_model_a = th.optim.Adam(feature_model_a.parameters())\n",
    "optim_model_b = th.optim.Adam(feature_model_b.parameters())\n",
    "optim_dist = th.optim.Adam(class_dist.parameters(), lr=1e-3)"
   ]
  },
  {
   "cell_type": "code",
   "execution_count": null,
   "metadata": {
    "collapsed": true
   },
   "outputs": [],
   "source": [
    "from reversible.gaussian import get_gauss_samples"
   ]
  },
  {
   "cell_type": "code",
   "execution_count": null,
   "metadata": {},
   "outputs": [],
   "source": [
    "n_epochs = 2001\n",
    "for i_epoch in range(n_epochs):\n",
    "    outs = feature_model_a(train_inputs)\n",
    "\n",
    "    loss = th.sum(outs[:,0] ** 2) + th.sum(outs[:,1] ** 2) * 100\n",
    "    optim_model_a.zero_grad()\n",
    "    loss.backward()\n",
    "    optim_model_a.step()\n",
    "    if i_epoch % (n_epochs // 20) == 0:\n",
    "        inverted = invert(feature_model_a, get_gauss_samples(100, th.zeros(2), np_to_var([1,0], dtype=np.float32)))\n",
    "        fig = plt.figure(figsize=(3,3))\n",
    "        for i_class in range(len(train_inputs)):\n",
    "            outs = feature_model_a(train_inputs)\n",
    "            plt.scatter(var_to_np(inverted)[:,0], var_to_np(inverted)[:,1])\n",
    "        plt.title(\"Samples 1d\\nLoss: {:.2E}\".format(loss.item()) )\n",
    "        display_close(fig)\n",
    "        inverted = invert(feature_model_a, get_gauss_samples(100, th.zeros(2), np_to_var([1,1], dtype=np.float32)))\n",
    "        fig = plt.figure(figsize=(3,3))\n",
    "        for i_class in range(len(train_inputs)):\n",
    "            outs = feature_model_a(train_inputs)\n",
    "            plt.scatter(var_to_np(inverted)[:,0], var_to_np(inverted)[:,1])\n",
    "        plt.title(\"Samples 2d\\nLoss: {:.2E}\".format(loss.item()) )\n",
    "        display_close(fig)\n",
    "        fig = plt.figure(figsize=(3,3))\n",
    "        for i_class in range(len(train_inputs)):\n",
    "            outs = feature_model_a(train_inputs)\n",
    "\n",
    "            plt.scatter(var_to_np(outs)[:,0], var_to_np(outs)[:,1])\n",
    "        plt.title(\"Outs\\nLoss: {:.2E}\".format(loss.item()) )\n",
    "        display_close(fig)"
   ]
  },
  {
   "cell_type": "code",
   "execution_count": null,
   "metadata": {},
   "outputs": [],
   "source": [
    "n_epochs = 2001\n",
    "for i_epoch in range(n_epochs):\n",
    "    outs = feature_model_a(train_inputs)\n",
    "\n",
    "    loss = th.sum(outs[:,0] ** 2) + th.sum(outs[:,1] ** 2) * 100\n",
    "    optim_model_a.zero_grad()\n",
    "    loss.backward()\n",
    "    optim_model_a.step()\n",
    "    if i_epoch % (n_epochs // 20) == 0:\n",
    "        inverted = invert(feature_model_a, get_gauss_samples(100, th.zeros(2), np_to_var([1,0], dtype=np.float32)))\n",
    "        fig = plt.figure(figsize=(3,3))\n",
    "        for i_class in range(len(train_inputs)):\n",
    "            outs = feature_model_a(train_inputs)\n",
    "            plt.scatter(var_to_np(inverted)[:,0], var_to_np(inverted)[:,1])\n",
    "        plt.title(\"Samples 1d\\nLoss: {:.2E}\".format(loss.item()) )\n",
    "        display_close(fig)\n",
    "        inverted = invert(feature_model_a, get_gauss_samples(100, th.zeros(2), np_to_var([1,1], dtype=np.float32)))\n",
    "        fig = plt.figure(figsize=(3,3))\n",
    "        for i_class in range(len(train_inputs)):\n",
    "            outs = feature_model_a(train_inputs)\n",
    "            plt.scatter(var_to_np(inverted)[:,0], var_to_np(inverted)[:,1])\n",
    "        plt.title(\"Samples 2d\\nLoss: {:.2E}\".format(loss.item()) )\n",
    "        display_close(fig)\n",
    "        fig = plt.figure(figsize=(3,3))\n",
    "        for i_class in range(len(train_inputs)):\n",
    "            outs = feature_model_a(train_inputs)\n",
    "\n",
    "            plt.scatter(var_to_np(outs)[:,0], var_to_np(outs)[:,1])\n",
    "        plt.title(\"Outs\\nLoss: {:.2E}\".format(loss.item()) )\n",
    "        display_close(fig)"
   ]
  },
  {
   "cell_type": "code",
   "execution_count": null,
   "metadata": {},
   "outputs": [],
   "source": [
    "outs = feature_model_a(train_inputs)\n",
    "\n",
    "fig = plt.figure(figsize=(6,6))\n",
    "plt.scatter(var_to_np(train_inputs[:,0]), var_to_np(train_inputs[:,1]))\n",
    "plt.scatter(var_to_np(outs[:,0]), var_to_np(outs[:,1]))\n",
    "for a,b in zip(var_to_np(outs), var_to_np(train_inputs)):\n",
    "    plt.annotate(\"\", xy=a, xytext=b,\n",
    "                 arrowprops=dict(arrowstyle=\"->\",),\n",
    "                    )\n",
    "\n",
    "display_close(fig)"
   ]
  },
  {
   "cell_type": "code",
   "execution_count": null,
   "metadata": {},
   "outputs": [],
   "source": [
    "rng = RandomState(201904114)\n",
    "outs = feature_model_a(train_inputs)\n",
    "other_X = rng.randn(100,2) * np.array([1,0])[None] + np.array([-1,0])[None]\n",
    "other_ins = np_to_var(other_X, dtype=np.float32)\n",
    "other_outs = feature_model_a(other_ins)\n",
    "\n",
    "fig = plt.figure(figsize=(6,6))\n",
    "plt.scatter(var_to_np(other_ins[:,0]), var_to_np(other_ins[:,1]))\n",
    "plt.scatter(var_to_np(other_outs[:,0]), var_to_np(other_outs[:,1]))\n",
    "plt.scatter(var_to_np(train_inputs[:,0]), var_to_np(train_inputs[:,1]))\n",
    "plt.scatter(var_to_np(outs[:,0]), var_to_np(outs[:,1]), s=30)\n",
    "for a,b in zip(var_to_np(other_ins), var_to_np(other_outs)):\n",
    "    plt.annotate(\"\", xy=b, xytext=a,\n",
    "                 arrowprops=dict(arrowstyle=\"->\",lw=0.2),\n",
    "                    )\n",
    "for a,b in zip(var_to_np(train_inputs), var_to_np(outs)):\n",
    "    plt.annotate(\"\", xy=b, xytext=a,\n",
    "                 arrowprops=dict(arrowstyle=\"->\",lw=2),\n",
    "                    )\n",
    "plt.legend((\"Inputs\", \"Outputs\"))\n",
    "display_close(fig)"
   ]
  },
  {
   "cell_type": "code",
   "execution_count": null,
   "metadata": {},
   "outputs": [],
   "source": [
    "rng = RandomState(201904114)\n",
    "\n",
    "other_X = rng.randn(100,2) * np.array([1,0])[None] + np.array([-1,0])[None]\n",
    "other_ins = np_to_var(other_X, dtype=np.float32)\n",
    "other_outs = feature_model_a(other_ins)\n",
    "\n",
    "fig = plt.figure(figsize=(6,6))\n",
    "plt.scatter(var_to_np(other_ins[:,0]), var_to_np(other_ins[:,1]))\n",
    "plt.scatter(var_to_np(other_outs[:,0]), var_to_np(other_outs[:,1]))\n",
    "xmin= -0.1\n",
    "xmax = 0.2\n",
    "plt.xlim(xmin,xmax)\n",
    "for a,b in zip(var_to_np(other_ins), var_to_np(other_outs)):\n",
    "    plt.annotate(\"\", xy=np.clip(b,xmin,xmax), xytext=np.clip(a,xmin,xmax),\n",
    "                 arrowprops=dict(arrowstyle=\"->\",lw=0.2),\n",
    "                )\n",
    "for a,b in zip(var_to_np(train_inputs), var_to_np(outs)):\n",
    "    plt.annotate(\"\", xy=np.clip(b,xmin,xmax), xytext=np.clip(a,xmin,xmax),\n",
    "                 arrowprops=dict(arrowstyle=\"->\",lw=1),\n",
    "                )\n",
    "plt.scatter(var_to_np(train_inputs[:,0]), var_to_np(train_inputs[:,1]), s=30)\n",
    "plt.scatter(var_to_np(outs[:,0]), var_to_np(outs[:,1]), s=30)\n",
    "plt.legend((\"Inputs\", \"Outputs\", \"TIns\", \"TOuts\"))\n",
    "display_close(fig)"
   ]
  },
  {
   "cell_type": "code",
   "execution_count": null,
   "metadata": {
    "collapsed": true
   },
   "outputs": [],
   "source": [
    "Capacity: gradient "
   ]
  },
  {
   "cell_type": "code",
   "execution_count": null,
   "metadata": {},
   "outputs": [],
   "source": [
    "rng = RandomState(201904114)\n",
    "samples = get_gauss_samples(100, th.zeros(2), np_to_var([1,1], dtype=np.float32))\n",
    "inverted = invert(feature_model_a, samples)\n",
    "fig = plt.figure(figsize=(6,6))\n",
    "plt.scatter(var_to_np(inverted[:,0]), var_to_np(inverted[:,1]))\n",
    "plt.scatter(var_to_np(samples[:,0]), var_to_np(samples[:,1]))\n",
    "plt.scatter(var_to_np(train_inputs[:,0]), var_to_np(train_inputs[:,1]), s=30)\n",
    "plt.scatter(var_to_np(outs[:,0]), var_to_np(outs[:,1]), s=30)\n",
    "xmin= -10\n",
    "xmax = 10\n",
    "plt.xlim(xmin,xmax)\n",
    "plt.ylim(xmin,xmax)\n",
    "for a,b in zip(var_to_np(samples), var_to_np(inverted)):\n",
    "    plt.annotate(\"\", xy=np.clip(b,xmin,xmax), xytext=np.clip(a,xmin,xmax),\n",
    "                 arrowprops=dict(arrowstyle=\"->\",lw=0.2),\n",
    "                )\n",
    "for a,b in zip(var_to_np(outs), var_to_np(train_inputs)):\n",
    "    plt.annotate(\"\", xy=np.clip(b,xmin,xmax), xytext=np.clip(a,xmin,xmax),\n",
    "                 arrowprops=dict(arrowstyle=\"->\",lw=1),\n",
    "                )\n",
    "plt.legend((\"Inputs\", \"Outputs\", \"TIns\", \"TOuts\"))\n",
    "display_close(fig)"
   ]
  },
  {
   "cell_type": "code",
   "execution_count": null,
   "metadata": {},
   "outputs": [],
   "source": [
    "rng = RandomState(201904114)\n",
    "samples = get_gauss_samples(100, th.zeros(2), np_to_var([1,1], dtype=np.float32))\n",
    "inverted = invert(feature_model_a, samples)\n",
    "fig = plt.figure(figsize=(6,6))\n",
    "plt.scatter(var_to_np(inverted[:,0]), var_to_np(inverted[:,1]))\n",
    "plt.scatter(var_to_np(samples[:,0]), var_to_np(samples[:,1]))\n",
    "plt.scatter(var_to_np(train_inputs[:,0]), var_to_np(train_inputs[:,1]), s=30)\n",
    "plt.scatter(var_to_np(outs[:,0]), var_to_np(outs[:,1]), s=30)\n",
    "xmin= -0.5\n",
    "xmax = 0.5\n",
    "plt.xlim(xmin,xmax)\n",
    "plt.ylim(xmin,xmax)\n",
    "for a,b in zip(var_to_np(samples), var_to_np(inverted)):\n",
    "    plt.annotate(\"\", xy=np.clip(b,xmin,xmax), xytext=np.clip(a,xmin,xmax),\n",
    "                 arrowprops=dict(arrowstyle=\"->\",lw=0.2),\n",
    "                )\n",
    "for a,b in zip(var_to_np(outs), var_to_np(train_inputs)):\n",
    "    plt.annotate(\"\", xy=np.clip(b,xmin,xmax), xytext=np.clip(a,xmin,xmax),\n",
    "                 arrowprops=dict(arrowstyle=\"->\",lw=1),\n",
    "                )\n",
    "plt.legend((\"Inputs\", \"Outputs\", \"TIns\", \"TOuts\"))\n",
    "display_close(fig)"
   ]
  },
  {
   "cell_type": "code",
   "execution_count": null,
   "metadata": {},
   "outputs": [],
   "source": [
    "np.std((X[:,0]))"
   ]
  },
  {
   "cell_type": "code",
   "execution_count": null,
   "metadata": {},
   "outputs": [],
   "source": [
    "th.std(outs[:,0])"
   ]
  },
  {
   "cell_type": "code",
   "execution_count": null,
   "metadata": {},
   "outputs": [],
   "source": [
    "th.sum(th.std(outs, dim=0))"
   ]
  },
  {
   "cell_type": "code",
   "execution_count": null,
   "metadata": {
    "collapsed": true
   },
   "outputs": [],
   "source": []
  },
  {
   "cell_type": "code",
   "execution_count": null,
   "metadata": {},
   "outputs": [],
   "source": []
  },
  {
   "cell_type": "code",
   "execution_count": null,
   "metadata": {
    "collapsed": true
   },
   "outputs": [],
   "source": []
  },
  {
   "cell_type": "code",
   "execution_count": null,
   "metadata": {
    "collapsed": true
   },
   "outputs": [],
   "source": []
  },
  {
   "cell_type": "code",
   "execution_count": null,
   "metadata": {
    "collapsed": true
   },
   "outputs": [],
   "source": []
  }
 ],
 "metadata": {
  "kernelspec": {
   "display_name": "Python 3",
   "language": "python",
   "name": "python3"
  },
  "language_info": {
   "codemirror_mode": {
    "name": "ipython",
    "version": 3
   },
   "file_extension": ".py",
   "mimetype": "text/x-python",
   "name": "python",
   "nbconvert_exporter": "python",
   "pygments_lexer": "ipython3",
   "version": "3.6.8"
  }
 },
 "nbformat": 4,
 "nbformat_minor": 2
}
