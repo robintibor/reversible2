{
 "cells": [
  {
   "cell_type": "code",
   "execution_count": null,
   "metadata": {
    "collapsed": true
   },
   "outputs": [],
   "source": [
    "import logging\n",
    "import importlib\n",
    "importlib.reload(logging) # see https://stackoverflow.com/a/21475297/1469195\n",
    "log = logging.getLogger()\n",
    "log.setLevel('INFO')\n",
    "import sys\n",
    "\n",
    "logging.basicConfig(format='%(asctime)s %(levelname)s : %(message)s',\n",
    "                     level=logging.INFO, stream=sys.stdout)"
   ]
  },
  {
   "cell_type": "code",
   "execution_count": null,
   "metadata": {
    "collapsed": true
   },
   "outputs": [],
   "source": [
    "%%capture\n",
    "import os\n",
    "import site\n",
    "os.sys.path.insert(0, '/home/schirrmr/code/reversible/')\n",
    "os.sys.path.insert(0, '/home/schirrmr/braindecode/code/braindecode/')\n",
    "os.sys.path.insert(0, '/home/schirrmr/code/explaining/reversible//')\n",
    "\n",
    "\n",
    "%load_ext autoreload\n",
    "%autoreload 2\n",
    "import numpy as np\n",
    "import logging\n",
    "log = logging.getLogger()\n",
    "log.setLevel('INFO')\n",
    "import sys\n",
    "logging.basicConfig(format='%(asctime)s %(levelname)s : %(message)s',\n",
    "                     level=logging.INFO, stream=sys.stdout)\n",
    "import matplotlib\n",
    "from matplotlib import pyplot as plt\n",
    "from matplotlib import cm\n",
    "%matplotlib inline\n",
    "%config InlineBackend.figure_format = 'png'\n",
    "matplotlib.rcParams['figure.figsize'] = (12.0, 1.0)\n",
    "matplotlib.rcParams['font.size'] = 14\n",
    "import seaborn\n",
    "seaborn.set_style('darkgrid')\n",
    "\n",
    "from reversible2.sliced import sliced_from_samples\n",
    "from numpy.random import RandomState\n",
    "\n",
    "import torch\n",
    "import torch.nn as nn\n",
    "import torch.nn.functional as F\n",
    "from torch.autograd import Variable\n",
    "import numpy as np\n",
    "import copy\n",
    "import math\n",
    "\n",
    "import itertools\n",
    "import torch as th\n",
    "from braindecode.torch_ext.util import np_to_var, var_to_np\n",
    "from reversible2.splitter import SubsampleSplitter\n",
    "\n",
    "from reversible2.view_as import ViewAs\n",
    "from reversible2.invert import invert\n",
    "\n",
    "from reversible2.affine import AdditiveBlock\n",
    "from reversible2.plot import display_text, display_close\n",
    "from reversible2.bhno import load_file, create_inputs"
   ]
  },
  {
   "cell_type": "code",
   "execution_count": null,
   "metadata": {
    "collapsed": true
   },
   "outputs": [],
   "source": [
    "# 2 gaussians different stds and means.. or uniform dims..\n",
    "# train, show what would happen for different visualizations\n"
   ]
  },
  {
   "cell_type": "code",
   "execution_count": null,
   "metadata": {},
   "outputs": [],
   "source": [
    "rng = RandomState(20190416)\n",
    "\n",
    "XA = rng.rand(30,2) * np.array([0.5,2])[None] + np.array([-1,-1])[None]\n",
    "XB = rng.rand(30,2) * np.array([3,0.5])[None] + np.array([1,1])[None]"
   ]
  },
  {
   "cell_type": "code",
   "execution_count": null,
   "metadata": {},
   "outputs": [],
   "source": [
    "plt.figure(figsize=(5,5))\n",
    "plt.scatter(XA[:,0], XA[:,1])\n",
    "plt.scatter(XB[:,0], XB[:,1])\n",
    "plt.xlim(-2.5,5.5)\n",
    "plt.ylim(-4,4)"
   ]
  },
  {
   "cell_type": "code",
   "execution_count": null,
   "metadata": {},
   "outputs": [],
   "source": [
    "list(itertools.product(['a'], ['b'],repeat=1),)"
   ]
  },
  {
   "cell_type": "code",
   "execution_count": null,
   "metadata": {
    "collapsed": true
   },
   "outputs": [],
   "source": [
    "train_inputs = np_to_var(XA, dtype=np.float32), np_to_var(XB, dtype=np.float32)"
   ]
  },
  {
   "cell_type": "code",
   "execution_count": null,
   "metadata": {
    "collapsed": true
   },
   "outputs": [],
   "source": [
    "cuda = False"
   ]
  },
  {
   "cell_type": "code",
   "execution_count": null,
   "metadata": {
    "collapsed": true
   },
   "outputs": [],
   "source": [
    "from reversible2.distribution import TwoClassDist\n",
    "\n",
    "from reversible2.blocks import dense_add_block, conv_add_block_3x3\n",
    "from reversible2.rfft import RFFT, Interleave\n",
    "from reversible2.util import set_random_seeds\n",
    "from torch.nn import ConstantPad2d\n",
    "import torch as th\n",
    "from reversible2.splitter import SubsampleSplitter\n",
    "\n",
    "\n",
    "set_random_seeds(2019011641, cuda)\n",
    "feature_model = nn.Sequential(\n",
    "    dense_add_block(2,200),\n",
    "    dense_add_block(2,200),\n",
    "    dense_add_block(2,200),\n",
    "    dense_add_block(2,200),\n",
    ")\n",
    "if cuda:\n",
    "    feature_model.cuda()\n",
    "from reversible2.ot_exact import ot_euclidean_loss_for_samples\n",
    "class_dist = TwoClassDist(2,0)\n",
    "if cuda:\n",
    "    class_dist.cuda()\n",
    "\n",
    "optim_model = th.optim.Adam(feature_model.parameters())\n",
    "optim_dist = th.optim.Adam(class_dist.parameters(), lr=1e-2)"
   ]
  },
  {
   "cell_type": "code",
   "execution_count": null,
   "metadata": {},
   "outputs": [],
   "source": [
    "from plot import plot_outs\n",
    "n_epochs = 2001\n",
    "for i_epoch in range(n_epochs):\n",
    "    optim_model.zero_grad()\n",
    "    optim_dist.zero_grad()\n",
    "    for i_class in range(len(train_inputs)):\n",
    "        class_ins = train_inputs[i_class]\n",
    "        samples = class_dist.get_samples(i_class, len(train_inputs[i_class]) * 5)\n",
    "        inverted = invert(feature_model, samples)\n",
    "        sample_loss = ot_euclidean_loss_for_samples(class_ins.squeeze(), inverted.squeeze())\n",
    "        other_class_ins = train_inputs[1-i_class]\n",
    "        outs = feature_model(other_class_ins)\n",
    "        changed_outs = class_dist.change_to_other_class(outs, i_class_from=1-i_class, i_class_to=i_class)\n",
    "        changed_inverted = invert(feature_model, changed_outs)\n",
    "        transform_class_loss = ot_euclidean_loss_for_samples(class_ins.squeeze(), changed_inverted.squeeze())\n",
    "        loss = sample_loss + transform_class_loss\n",
    "        loss.backward()\n",
    "    optim_model.step()\n",
    "    optim_dist.step()\n",
    "    if i_epoch % (n_epochs // 20) == 0:\n",
    "        display_text(\"Epoch {:d} of {:d}\".format(i_epoch, n_epochs))\n",
    "        fig = plt.figure(figsize=(5,5))\n",
    "        for i_class in range(len(train_inputs)):\n",
    "            samples = class_dist.get_samples(i_class, len(train_inputs[i_class]) * 5)\n",
    "            inverted = invert(feature_model, samples)\n",
    "\n",
    "            plt.scatter(var_to_np(inverted)[:,0], var_to_np(inverted)[:,1])\n",
    "        plt.title(\"Samples\\nLoss: {:.2E}\".format(loss.item()) )\n",
    "        display_close(fig)\n",
    "        fig = plt.figure(figsize=(5,5))\n",
    "        for i_class in range(len(train_inputs)):\n",
    "            outs = feature_model(train_inputs[i_class])\n",
    "\n",
    "            plt.scatter(var_to_np(outs)[:,0], var_to_np(outs)[:,1])\n",
    "        plt.title(\"Outs\\nLoss: {:.2E}\".format(loss.item()) )\n",
    "        display_close(fig)"
   ]
  },
  {
   "cell_type": "code",
   "execution_count": null,
   "metadata": {
    "collapsed": true
   },
   "outputs": [],
   "source": [
    "# Push real data towards zero\n",
    "# Push fake data away from zero"
   ]
  },
  {
   "cell_type": "code",
   "execution_count": null,
   "metadata": {
    "collapsed": true
   },
   "outputs": [],
   "source": [
    "p_real - p_fake + p_own"
   ]
  }
 ],
 "metadata": {
  "kernelspec": {
   "display_name": "Python 3",
   "language": "python",
   "name": "python3"
  },
  "language_info": {
   "codemirror_mode": {
    "name": "ipython",
    "version": 3
   },
   "file_extension": ".py",
   "mimetype": "text/x-python",
   "name": "python",
   "nbconvert_exporter": "python",
   "pygments_lexer": "ipython3",
   "version": "3.6.8"
  }
 },
 "nbformat": 4,
 "nbformat_minor": 2
}
