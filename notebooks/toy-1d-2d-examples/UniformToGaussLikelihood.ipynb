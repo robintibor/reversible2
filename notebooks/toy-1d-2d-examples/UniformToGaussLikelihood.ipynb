{
 "cells": [
  {
   "cell_type": "code",
   "execution_count": null,
   "metadata": {
    "collapsed": true
   },
   "outputs": [],
   "source": [
    "import logging\n",
    "import importlib\n",
    "importlib.reload(logging) # see https://stackoverflow.com/a/21475297/1469195\n",
    "log = logging.getLogger()\n",
    "log.setLevel('INFO')\n",
    "import sys\n",
    "\n",
    "logging.basicConfig(format='%(asctime)s %(levelname)s : %(message)s',\n",
    "                     level=logging.INFO, stream=sys.stdout)"
   ]
  },
  {
   "cell_type": "code",
   "execution_count": null,
   "metadata": {
    "collapsed": true
   },
   "outputs": [],
   "source": [
    "%%capture\n",
    "import os\n",
    "import site\n",
    "os.sys.path.insert(0, '/home/schirrmr/code/reversible/')\n",
    "os.sys.path.insert(0, '/home/schirrmr/braindecode/code/braindecode/')\n",
    "os.sys.path.insert(0, '/home/schirrmr/code/explaining/reversible//')\n",
    "\n",
    "\n",
    "%load_ext autoreload\n",
    "%autoreload 2\n",
    "import numpy as np\n",
    "import logging\n",
    "log = logging.getLogger()\n",
    "log.setLevel('INFO')\n",
    "import sys\n",
    "logging.basicConfig(format='%(asctime)s %(levelname)s : %(message)s',\n",
    "                     level=logging.INFO, stream=sys.stdout)\n",
    "import matplotlib\n",
    "from matplotlib import pyplot as plt\n",
    "from matplotlib import cm\n",
    "%matplotlib inline\n",
    "%config InlineBackend.figure_format = 'png'\n",
    "matplotlib.rcParams['figure.figsize'] = (12.0, 1.0)\n",
    "matplotlib.rcParams['font.size'] = 14\n",
    "import seaborn\n",
    "seaborn.set_style('darkgrid')\n",
    "\n",
    "from reversible2.sliced import sliced_from_samples\n",
    "from numpy.random import RandomState\n",
    "\n",
    "import torch\n",
    "import torch.nn as nn\n",
    "import torch.nn.functional as F\n",
    "from torch.autograd import Variable\n",
    "import numpy as np\n",
    "import copy\n",
    "import math\n",
    "\n",
    "import itertools\n",
    "import torch as th\n",
    "from braindecode.torch_ext.util import np_to_var, var_to_np\n",
    "from reversible2.splitter import SubsampleSplitter\n",
    "\n",
    "from reversible2.view_as import ViewAs\n",
    "from reversible2.invert import invert\n",
    "\n",
    "from reversible2.affine import AdditiveBlock\n",
    "from reversible2.plot import display_text, display_close\n",
    "from reversible2.bhno import load_file, create_inputs"
   ]
  },
  {
   "cell_type": "code",
   "execution_count": null,
   "metadata": {
    "collapsed": true
   },
   "outputs": [],
   "source": [
    "# 2 gaussians different stds and means.. or uniform dims..\n",
    "# train, show what would happen for different visualizations\n"
   ]
  },
  {
   "cell_type": "code",
   "execution_count": null,
   "metadata": {
    "collapsed": true
   },
   "outputs": [],
   "source": [
    "rng = RandomState(20190416)\n",
    "\n",
    "XA = rng.rand(30,2) * np.array([0.5,2])[None] + np.array([-1,-1])[None]\n",
    "XB = rng.rand(30,2) * np.array([3,0.5])[None] + np.array([1,1])[None]"
   ]
  },
  {
   "cell_type": "code",
   "execution_count": null,
   "metadata": {},
   "outputs": [],
   "source": [
    "plt.figure(figsize=(5,5))\n",
    "plt.scatter(XA[:,0], XA[:,1])\n",
    "plt.scatter(XB[:,0], XB[:,1])\n",
    "plt.xlim(-2.5,5.5)\n",
    "plt.ylim(-4,4)"
   ]
  },
  {
   "cell_type": "code",
   "execution_count": null,
   "metadata": {
    "collapsed": true
   },
   "outputs": [],
   "source": [
    "train_inputs = np_to_var(XA, dtype=np.float32), np_to_var(XB, dtype=np.float32)"
   ]
  },
  {
   "cell_type": "code",
   "execution_count": null,
   "metadata": {
    "collapsed": true
   },
   "outputs": [],
   "source": [
    "cuda = False"
   ]
  },
  {
   "cell_type": "code",
   "execution_count": null,
   "metadata": {
    "collapsed": true
   },
   "outputs": [],
   "source": [
    "from reversible2.distribution import TwoClassDist\n",
    "\n",
    "from reversible2.blocks import dense_add_block, conv_add_block_3x3\n",
    "from reversible2.rfft import RFFT, Interleave\n",
    "from reversible2.util import set_random_seeds\n",
    "from torch.nn import ConstantPad2d\n",
    "import torch as th\n",
    "from reversible2.splitter import SubsampleSplitter\n",
    "\n",
    "\n",
    "set_random_seeds(2019011641, cuda)\n",
    "feature_model_a = nn.Sequential(\n",
    "    dense_add_block(2,200),\n",
    "    dense_add_block(2,200),\n",
    "    dense_add_block(2,200),\n",
    "    dense_add_block(2,200),\n",
    ")\n",
    "feature_model_b = nn.Sequential(\n",
    "    dense_add_block(2,200),\n",
    "    dense_add_block(2,200),\n",
    "    dense_add_block(2,200),\n",
    "    dense_add_block(2,200),\n",
    ")\n",
    "if cuda:\n",
    "    feature_model_a.cuda()\n",
    "    feature_model_b.cuda()\n",
    "from reversible2.ot_exact import ot_euclidean_loss_for_samples\n",
    "class_dist = TwoClassDist(2,0)\n",
    "if cuda:\n",
    "    class_dist.cuda()\n",
    "\n",
    "optim_model_a = th.optim.Adam(feature_model_a.parameters())\n",
    "optim_model_b = th.optim.Adam(feature_model_b.parameters())\n",
    "optim_dist = th.optim.Adam(class_dist.parameters(), lr=1e-3)"
   ]
  },
  {
   "cell_type": "code",
   "execution_count": null,
   "metadata": {},
   "outputs": [],
   "source": [
    "n_epochs = 2001\n",
    "for i_epoch in range(n_epochs):\n",
    "    for (net_a, optim_a), (net_b, optim_b) in (((feature_model_a, optim_model_a), (feature_model_b, optim_model_b)),):\n",
    "        for i_class in range(len(train_inputs)):\n",
    "            optim_a.zero_grad()\n",
    "            optim_b.zero_grad()\n",
    "            class_ins = train_inputs[i_class]\n",
    "            outs_r_a = net_a(class_ins)\n",
    "            outs_r_b = net_b(class_ins)\n",
    "            p_real_a = th.exp(th.mean(class_dist.get_total_log_prob(i_class, outs_r_a)))\n",
    "            p_real_b = th.exp(th.mean(class_dist.get_total_log_prob(i_class, outs_r_b)))\n",
    "            # Create samples\n",
    "            inv_a = invert(net_a, class_dist.get_samples(i_class, len(train_inputs[i_class]) * 5))\n",
    "            inv_b = invert(net_b, class_dist.get_samples(i_class, len(train_inputs[i_class]) * 5))\n",
    "            # Compute probs with opposite network\n",
    "            outs_f_b = net_b(inv_a)\n",
    "            p_a = th.exp(th.mean(class_dist.get_total_log_prob(i_class, outs_f_b)))\n",
    "            outs_f_a = net_a(inv_b)\n",
    "            p_b = th.exp(th.mean(class_dist.get_total_log_prob(i_class, outs_f_a)))\n",
    "            \n",
    "            \n",
    "            #p_b.backward() # p b should get higher for net b!\n",
    "            #_ = [p.grad.data.neg_() for p in net_b.parameters()]\n",
    "            #old_vals = [p.grad.data for p in net_a.parameters()]\n",
    "            #_ = [p.grad.data.zero_() for p in net_a.parameters()]\n",
    "            #p_a.backward() # p a should get higher for net a\n",
    "            #_ = [p.grad.data.neg_() for p in net_a.parameters()]\n",
    "            #_ = [p.grad.data.add_(old_val) for p, old_val in zip(net_a.parameters(), old_vals)]\n",
    "            real_loss=  10*(-p_real_a - p_real_b)\n",
    "            optim_dist.zero_grad()\n",
    "            real_loss.backward()\n",
    "            optim_a.step()\n",
    "            optim_b.step()\n",
    "            optim_dist.step()\n",
    "    if i_epoch % (n_epochs // 20) == 0:\n",
    "        display_text(\"Epoch {:d} of {:d}\".format(i_epoch, n_epochs))\n",
    "        display_text(\"PrA, PrB, PfA, PfB {:.1E} {:.1E} {:.1E} {:.1E}\".format(\n",
    "            p_real_a.item(), p_real_b.item(), p_a.item(), p_b.item()))\n",
    "        fig = plt.figure(figsize=(5,5))\n",
    "        for i_class in range(len(train_inputs)):\n",
    "            samples = class_dist.get_samples(i_class, len(train_inputs[i_class]) * 5)\n",
    "            inverted = invert(feature_model_a, samples)\n",
    "            sample_loss = ot_euclidean_loss_for_samples(train_inputs[i_class].squeeze(), inverted.squeeze())\n",
    "            plt.scatter(var_to_np(inverted)[:,0], var_to_np(inverted)[:,1])\n",
    "        plt.title(\"Samples\\OT: {:.2E}\".format(sample_loss.item()) )\n",
    "        display_close(fig)\n",
    "        fig = plt.figure(figsize=(5,5))\n",
    "        for i_class in range(len(train_inputs)):\n",
    "            outs = feature_model_a(train_inputs[i_class])\n",
    "\n",
    "            plt.scatter(var_to_np(outs)[:,0], var_to_np(outs)[:,1])\n",
    "        plt.title(\"Outs\\OT: {:.2E}\".format(sample_loss.item()) )\n",
    "        display_close(fig)"
   ]
  },
  {
   "cell_type": "code",
   "execution_count": null,
   "metadata": {},
   "outputs": [],
   "source": [
    "n_epochs = 2001\n",
    "for i_epoch in range(n_epochs):\n",
    "    for (net_a, optim_a), (net_b, optim_b) in (((feature_model_a, optim_model_a), (feature_model_b, optim_model_b)),):\n",
    "        for i_class in range(len(train_inputs)):\n",
    "            optim_a.zero_grad()\n",
    "            optim_b.zero_grad()\n",
    "            class_ins = train_inputs[i_class]\n",
    "            outs_r_a = net_a(class_ins)\n",
    "            outs_r_b = net_b(class_ins)\n",
    "            p_real_a = th.exp(th.mean(class_dist.get_total_log_prob(i_class, outs_r_a)))\n",
    "            p_real_b = th.exp(th.mean(class_dist.get_total_log_prob(i_class, outs_r_b)))\n",
    "            # Create samples\n",
    "            inv_a = invert(net_a, class_dist.get_samples(i_class, len(train_inputs[i_class]) * 5))\n",
    "            inv_b = invert(net_b, class_dist.get_samples(i_class, len(train_inputs[i_class]) * 5))\n",
    "            # Compute probs with opposite network\n",
    "            outs_f_b = net_b(inv_a)\n",
    "            p_a = th.exp(th.mean(class_dist.get_total_log_prob(i_class, outs_f_b)))\n",
    "            outs_f_a = net_a(inv_b)\n",
    "            p_b = th.exp(th.mean(class_dist.get_total_log_prob(i_class, outs_f_a)))\n",
    "            \n",
    "            \n",
    "            #p_b.backward() # p b should get higher for net b!\n",
    "            #_ = [p.grad.data.neg_() for p in net_b.parameters()]\n",
    "            #old_vals = [p.grad.data for p in net_a.parameters()]\n",
    "            #_ = [p.grad.data.zero_() for p in net_a.parameters()]\n",
    "            #p_a.backward() # p a should get higher for net a\n",
    "            #_ = [p.grad.data.neg_() for p in net_a.parameters()]\n",
    "            #_ = [p.grad.data.add_(old_val) for p, old_val in zip(net_a.parameters(), old_vals)]\n",
    "            real_loss=  10*(-p_real_a - p_real_b)\n",
    "            optim_dist.zero_grad()\n",
    "            real_loss.backward()\n",
    "            optim_a.step()\n",
    "            optim_b.step()\n",
    "            optim_dist.step()\n",
    "    if i_epoch % (n_epochs // 20) == 0:\n",
    "        display_text(\"Epoch {:d} of {:d}\".format(i_epoch, n_epochs))\n",
    "        display_text(\"PrA, PrB, PfA, PfB {:.1E} {:.1E} {:.1E} {:.1E}\".format(\n",
    "            p_real_a.item(), p_real_b.item(), p_a.item(), p_b.item()))\n",
    "        fig = plt.figure(figsize=(5,5))\n",
    "        for i_class in range(len(train_inputs)):\n",
    "            samples = class_dist.get_samples(i_class, len(train_inputs[i_class]) * 5)\n",
    "            inverted = invert(feature_model_a, samples)\n",
    "            sample_loss = ot_euclidean_loss_for_samples(train_inputs[i_class].squeeze(), inverted.squeeze())\n",
    "            plt.scatter(var_to_np(inverted)[:,0], var_to_np(inverted)[:,1])\n",
    "        plt.title(\"Samples\\OT: {:.2E}\".format(sample_loss.item()) )\n",
    "        display_close(fig)\n",
    "        fig = plt.figure(figsize=(5,5))\n",
    "        for i_class in range(len(train_inputs)):\n",
    "            outs = feature_model_a(train_inputs[i_class])\n",
    "\n",
    "            plt.scatter(var_to_np(outs)[:,0], var_to_np(outs)[:,1])\n",
    "        plt.title(\"Outs\\OT: {:.2E}\".format(sample_loss.item()) )\n",
    "        display_close(fig)"
   ]
  },
  {
   "cell_type": "code",
   "execution_count": null,
   "metadata": {
    "collapsed": true
   },
   "outputs": [],
   "source": [
    "# asymmetric case: B tries to increase likelihood of real data, tries to reduce likelihood of fake data\n",
    "# then A would try to increase likelihood of his fake data\n",
    "# What would happen?"
   ]
  },
  {
   "cell_type": "code",
   "execution_count": null,
   "metadata": {},
   "outputs": [],
   "source": [
    "class_dist.get_mean_std(0)"
   ]
  },
  {
   "cell_type": "code",
   "execution_count": null,
   "metadata": {
    "collapsed": true
   },
   "outputs": [],
   "source": []
  },
  {
   "cell_type": "code",
   "execution_count": null,
   "metadata": {
    "collapsed": true
   },
   "outputs": [],
   "source": [
    "    for i_class in range(len(train_inputs)):\n",
    "        \n",
    "        other_class_ins = train_inputs[1-i_class]\n",
    "        outs = feature_model(other_class_ins)\n",
    "        changed_outs = class_dist.change_to_other_class(outs, i_class_from=1-i_class, i_class_to=i_class)\n",
    "        changed_inverted = invert(feature_model, changed_outs)\n",
    "        transform_class_loss = ot_euclidean_loss_for_samples(class_ins.squeeze(), changed_inverted.squeeze())\n",
    "        loss = sample_loss + transform_class_loss\n",
    "        loss.backward()\n",
    "    optim_model.step()\n",
    "    optim_dist.step()\n",
    "    if i_epoch % (n_epochs // 20) == 0:\n",
    "        class_ins = train_inputs[i_class]\n",
    "        samples = class_dist.get_samples(i_class, len(train_inputs[i_class]) * 5)\n",
    "        inverted = invert(feature_model, samples)\n",
    "        loss = ot_euclidean_loss_for_samples(class_ins.squeeze(), inverted.squeeze())\n",
    "        display_text(\"Epoch {:d} of {:d}\".format(i_epoch, n_epochs))\n",
    "        fig = plt.figure(figsize=(5,5))\n",
    "        for i_class in range(len(train_inputs)):\n",
    "            samples = class_dist.get_samples(i_class, len(train_inputs[i_class]) * 5)\n",
    "            inverted = invert(feature_model, samples)\n",
    "\n",
    "            plt.scatter(var_to_np(inverted)[:,0], var_to_np(inverted)[:,1])\n",
    "        plt.title(\"Samples\\nLoss: {:.2E}\".format(loss.item()) )\n",
    "        display_close(fig)\n",
    "        fig = plt.figure(figsize=(5,5))\n",
    "        for i_class in range(len(train_inputs)):\n",
    "            outs = feature_model(train_inputs[i_class])\n",
    "\n",
    "            plt.scatter(var_to_np(outs)[:,0], var_to_np(outs)[:,1])\n",
    "        plt.title(\"Outs\\nLoss: {:.2E}\".format(loss.item()) )\n",
    "        display_close(fig)"
   ]
  }
 ],
 "metadata": {
  "kernelspec": {
   "display_name": "Python 3",
   "language": "python",
   "name": "python3"
  },
  "language_info": {
   "codemirror_mode": {
    "name": "ipython",
    "version": 3
   },
   "file_extension": ".py",
   "mimetype": "text/x-python",
   "name": "python",
   "nbconvert_exporter": "python",
   "pygments_lexer": "ipython3",
   "version": "3.6.8"
  }
 },
 "nbformat": 4,
 "nbformat_minor": 2
}
