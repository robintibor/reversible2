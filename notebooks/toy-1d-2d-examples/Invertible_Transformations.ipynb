{
 "cells": [
  {
   "cell_type": "code",
   "execution_count": null,
   "metadata": {
    "collapsed": true
   },
   "outputs": [],
   "source": [
    "%%capture\n",
    "import os\n",
    "import site\n",
    "os.sys.path.insert(0, '/home/schirrmr/code/reversible/reversible2/')\n",
    "os.sys.path.insert(0, '/home/schirrmr/braindecode/code/braindecode/')\n",
    "os.sys.path.insert(0, '/home/schirrmr/code/explaining/reversible//')\n",
    "%cd /home/schirrmr/\n",
    "\n",
    "\n",
    "%load_ext autoreload\n",
    "%autoreload 2\n",
    "import numpy as np\n",
    "import logging\n",
    "log = logging.getLogger()\n",
    "log.setLevel('INFO')\n",
    "import sys\n",
    "logging.basicConfig(format='%(asctime)s %(levelname)s : %(message)s',\n",
    "                     level=logging.INFO, stream=sys.stdout)\n",
    "import matplotlib\n",
    "from matplotlib import pyplot as plt\n",
    "from matplotlib import cm\n",
    "%matplotlib inline\n",
    "%config InlineBackend.figure_format = 'png'\n",
    "matplotlib.rcParams['figure.figsize'] = (12.0, 1.0)\n",
    "matplotlib.rcParams['font.size'] = 14\n",
    "import seaborn\n",
    "seaborn.set_style('darkgrid')\n",
    "\n",
    "from reversible.sliced import sliced_from_samples\n",
    "\n",
    "from numpy.random import RandomState\n",
    "\n",
    "import torch\n",
    "import torch.nn as nn\n",
    "import torch.nn.functional as F\n",
    "from torch.autograd import Variable\n",
    "import numpy as np\n",
    "import copy\n",
    "import math\n",
    "\n",
    "import itertools\n",
    "from reversible.plot import create_bw_image\n",
    "import torch as th\n",
    "from braindecode.torch_ext.util import np_to_var, var_to_np\n",
    "from reversible.revnet import ResidualBlock, invert, SubsampleSplitter, ViewAs, ReversibleBlockOld\n",
    "from spectral_norm import spectral_norm\n",
    "from conv_spectral_norm import conv_spectral_norm\n",
    "\n",
    "def display_text(text, fontsize=18):\n",
    "    fig = plt.figure(figsize=(12,0.1))\n",
    "    plt.title(text, fontsize=fontsize)\n",
    "    plt.axis('off')\n",
    "    display(fig)\n",
    "    plt.close(fig)"
   ]
  },
  {
   "cell_type": "code",
   "execution_count": null,
   "metadata": {
    "collapsed": true
   },
   "outputs": [],
   "source": [
    "import scipy.stats"
   ]
  },
  {
   "cell_type": "code",
   "execution_count": null,
   "metadata": {
    "collapsed": true
   },
   "outputs": [],
   "source": []
  },
  {
   "cell_type": "code",
   "execution_count": null,
   "metadata": {},
   "outputs": [],
   "source": [
    "rng = RandomState(20190401)\n",
    "orig = rng.rand(15,2)\n",
    "a =  orig * np.array([0.5,2])[None]\n",
    "\n",
    "b = orig  * np.array([2,0.5])[None] + np.array([2,3])[None]\n",
    "\n",
    "plt.figure(figsize=(5,5))\n",
    "plt.plot(a[:,0], a[:,1], ls='', marker='o')\n",
    "plt.plot(b[:,0], b[:,1], ls='', marker='o', color=seaborn.color_palette()[4],\n",
    "        mfc='none')\n",
    "\n",
    "for one_a, one_b in zip(a,b):\n",
    "    plt.annotate(\"\",\n",
    "                 xy=one_b, xytext=one_a,\n",
    "               arrowprops=dict(arrowstyle=\"->\",),\n",
    "                )\n",
    "plt.xlabel(\"x1\")\n",
    "plt.ylabel(\"x2\")\n",
    "plt.legend((\"Inputs\", \"Targets\"))"
   ]
  },
  {
   "cell_type": "code",
   "execution_count": null,
   "metadata": {
    "collapsed": true
   },
   "outputs": [],
   "source": [
    "from torch import nn\n",
    "from reversible.revnet import ReversibleBlockOld\n",
    "def dense_rev_block(n_c, n_i_c):\n",
    "     return ReversibleBlockOld(\n",
    "        nn.Sequential(\n",
    "            nn.Linear(n_c // 2, n_i_c, bias=True),\n",
    "            nn.ReLU(),\n",
    "            nn.Linear(n_i_c, n_c // 2,bias=True)),\n",
    "        nn.Sequential(\n",
    "            nn.Linear(n_c // 2, n_i_c, bias=True),\n",
    "            nn.ReLU(),\n",
    "            nn.Linear(n_i_c, n_c // 2, bias=True))\n",
    "    )"
   ]
  },
  {
   "cell_type": "code",
   "execution_count": null,
   "metadata": {
    "collapsed": true
   },
   "outputs": [],
   "source": [
    "from reversible.revnet import ReversibleBlockOld\n",
    "\n",
    "from rfft import RFFT, Interleave\n",
    "from discriminator import ProjectionDiscriminator\n",
    "from reversible.revnet import SubsampleSplitter, ViewAs\n",
    "from reversible.util import set_random_seeds\n",
    "from reversible.revnet import init_model_params\n",
    "from torch.nn import ConstantPad2d\n",
    "import torch as th\n",
    "from conv_spectral_norm import conv_spectral_norm\n",
    "from disttransform import DistTransformResNet\n",
    "\n",
    "\n",
    "set_random_seeds(2019011641, True)\n",
    "\n",
    "feature_model = nn.Sequential(\n",
    "    dense_rev_block(2,200),\n",
    "    dense_rev_block(2,200),\n",
    ")\n",
    "inputs = np_to_var(a, dtype=np.float32)\n",
    "targets = np_to_var(b, dtype=np.float32)\n",
    "\n",
    "optimizer = th.optim.Adam(feature_model.parameters(), lr=1e-3)"
   ]
  },
  {
   "cell_type": "code",
   "execution_count": null,
   "metadata": {},
   "outputs": [],
   "source": [
    "n_epochs = 20001\n",
    "for i_epoch in range(n_epochs):\n",
    "    outs = feature_model(inputs)\n",
    "    loss = th.mean((outs -targets) ** 2)\n",
    "    optimizer.zero_grad()\n",
    "    loss.backward()\n",
    "    optimizer.step()\n",
    "    if i_epoch % (n_epochs //20) == 0:\n",
    "        print(\"Epoch {:d}\".format(i_epoch))\n",
    "        print(\"Loss {:.3f}\".format(loss.item()))\n",
    "        outs = feature_model(inputs)\n",
    "\n",
    "        fig = plt.figure(figsize=(5,5))\n",
    "        plt.plot(var_to_np(outs[:,0]), var_to_np(outs[:,1]), ls='', marker='o')\n",
    "        plt.plot(var_to_np(targets[:,0]), var_to_np(targets[:,1]), ls='', marker='o')\n",
    "        display(fig)\n",
    "        plt.close(fig)\n"
   ]
  },
  {
   "cell_type": "code",
   "execution_count": null,
   "metadata": {},
   "outputs": [],
   "source": [
    "outs = feature_model(inputs)\n",
    "all_inverted = invert(feature_model, outs, return_all=True)[::-1]\n",
    "len(all_inverted)"
   ]
  },
  {
   "cell_type": "code",
   "execution_count": null,
   "metadata": {},
   "outputs": [],
   "source": [
    "fig = plt.figure(figsize=(4.5,4.5))\n",
    "for i_inv, this_inv in enumerate(all_inverted):\n",
    "    \n",
    "    pts = var_to_np(this_inv)\n",
    "    plt.plot(pts[:,0], pts[:,1], ls='', marker='o')\n",
    "for prev_inv, next_inv in zip(all_inverted[:-1], all_inverted[1:]):\n",
    "    for one_prev, one_next in zip(var_to_np(prev_inv), var_to_np(next_inv)):\n",
    "        plt.annotate(\"\",\n",
    "                     xy=one_next, xytext=one_prev,\n",
    "                   arrowprops=dict(arrowstyle=\"->\",),\n",
    "                    )\n",
    "\n",
    "plt.plot(var_to_np(targets)[:,0], var_to_np(targets)[:,1], ls='', \n",
    "        color=seaborn.color_palette()[4], marker='o', markerfacecolor='none')\n",
    "plt.legend([\"Step \" +  str(i) for i in range(5)] + [\"Targets\"], bbox_to_anchor=(1,1,0,0))\n",
    "plt.xlabel(\"x1\")\n",
    "plt.ylabel(\"x2\")\n",
    "\n",
    "plt.xlim(0,4)\n",
    "plt.ylim(-4,5)"
   ]
  },
  {
   "cell_type": "code",
   "execution_count": null,
   "metadata": {},
   "outputs": [],
   "source": [
    "fig = plt.figure(figsize=(5,5))\n",
    "for i_inv, this_inv in enumerate(all_inverted):\n",
    "    \n",
    "    pts = var_to_np(this_inv)\n",
    "    plt.plot(pts[:,0], pts[:,1], ls='', marker='o')\n",
    "for prev_inv, next_inv in zip(all_inverted[:-1], all_inverted[1:]):\n",
    "    pass"
   ]
  },
  {
   "cell_type": "code",
   "execution_count": null,
   "metadata": {
    "collapsed": true
   },
   "outputs": [],
   "source": [
    "from affine import AffineBlock"
   ]
  },
  {
   "cell_type": "code",
   "execution_count": null,
   "metadata": {
    "collapsed": true
   },
   "outputs": [],
   "source": [
    "from torch import nn\n",
    "from reversible.revnet import ReversibleBlockOld\n",
    "def dense_aff_block(n_c, n_i_c):\n",
    "     return AffineBlock(\n",
    "        nn.Sequential(\n",
    "            nn.Linear(n_c // 2, n_i_c, bias=True),\n",
    "            nn.ReLU(),\n",
    "            nn.Linear(n_i_c, n_c // 2,bias=True)),\n",
    "        nn.Sequential(\n",
    "            nn.Linear(n_c // 2, n_i_c, bias=True),\n",
    "            nn.ReLU(),\n",
    "            nn.Linear(n_i_c, n_c // 2, bias=True)),\n",
    "        nn.Sequential(\n",
    "            nn.Linear(n_c // 2, n_i_c, bias=True),\n",
    "            nn.ReLU(),\n",
    "            nn.Linear(n_i_c, n_c // 2,bias=True)),\n",
    "        nn.Sequential(\n",
    "            nn.Linear(n_c // 2, n_i_c, bias=True),\n",
    "            nn.ReLU(),\n",
    "            nn.Linear(n_i_c, n_c // 2,bias=True))\n",
    "     )\n"
   ]
  },
  {
   "cell_type": "code",
   "execution_count": null,
   "metadata": {
    "collapsed": true
   },
   "outputs": [],
   "source": [
    "from reversible.revnet import ReversibleBlockOld\n",
    "\n",
    "from rfft import RFFT, Interleave\n",
    "from discriminator import ProjectionDiscriminator\n",
    "from reversible.revnet import SubsampleSplitter, ViewAs\n",
    "from reversible.util import set_random_seeds\n",
    "from reversible.revnet import init_model_params\n",
    "from torch.nn import ConstantPad2d\n",
    "import torch as th\n",
    "from conv_spectral_norm import conv_spectral_norm\n",
    "from disttransform import DistTransformResNet\n",
    "\n",
    "\n",
    "set_random_seeds(2019011641, True)\n",
    "\n",
    "feature_model = nn.Sequential(\n",
    "    dense_aff_block(2,200),\n",
    "    dense_aff_block(2,200),\n",
    ")\n",
    "inputs = np_to_var(a, dtype=np.float32)\n",
    "targets = np_to_var(b, dtype=np.float32)\n",
    "\n",
    "optimizer = th.optim.Adam(feature_model.parameters(), lr=1e-3)"
   ]
  },
  {
   "cell_type": "code",
   "execution_count": null,
   "metadata": {},
   "outputs": [],
   "source": [
    "outs = feature_model(inputs)\n",
    "all_inverted = invert(feature_model, outs, return_all=True)[::-1]\n",
    "len(all_inverted)\n",
    "fig = plt.figure(figsize=(4.5,4.5))\n",
    "for i_inv, this_inv in enumerate(all_inverted):\n",
    "    \n",
    "    pts = var_to_np(this_inv)\n",
    "    plt.plot(pts[:,0], pts[:,1], ls='', marker='o')\n",
    "for prev_inv, next_inv in zip(all_inverted[:-1], all_inverted[1:]):\n",
    "    for one_prev, one_next in zip(var_to_np(prev_inv), var_to_np(next_inv)):\n",
    "        plt.annotate(\"\",\n",
    "                     xy=one_next, xytext=one_prev,\n",
    "                   arrowprops=dict(arrowstyle=\"->\",),\n",
    "                    )\n",
    "\n",
    "plt.plot(var_to_np(targets)[:,0], var_to_np(targets)[:,1], ls='', \n",
    "        color=seaborn.color_palette()[4], marker='o', markerfacecolor='none')\n",
    "plt.legend([\"Step \" +  str(i) for i in range(5)] + [\"Targets\"], bbox_to_anchor=(1,1,0,0))\n",
    "plt.xlabel(\"x1\")\n",
    "plt.ylabel(\"x2\")\n",
    "\n",
    "plt.xlim(0,4)\n",
    "plt.ylim(-4,5)"
   ]
  },
  {
   "cell_type": "code",
   "execution_count": null,
   "metadata": {},
   "outputs": [],
   "source": [
    "n_epochs = 20001\n",
    "for i_epoch in range(n_epochs):\n",
    "    outs = feature_model(inputs)\n",
    "    loss = th.mean((outs -targets) ** 2)\n",
    "    optimizer.zero_grad()\n",
    "    loss.backward()\n",
    "    optimizer.step()\n",
    "    if i_epoch % (n_epochs //20) == 0:\n",
    "        print(\"Epoch {:d}\".format(i_epoch))\n",
    "        print(\"Loss {:.3f}\".format(loss.item()))\n",
    "        outs = feature_model(inputs)\n",
    "\n",
    "        fig = plt.figure(figsize=(5,5))\n",
    "        plt.plot(var_to_np(outs[:,0]), var_to_np(outs[:,1]), ls='', marker='o')\n",
    "        plt.plot(var_to_np(targets[:,0]), var_to_np(targets[:,1]), ls='', marker='o')\n",
    "        display(fig)\n",
    "        plt.close(fig)\n"
   ]
  },
  {
   "cell_type": "code",
   "execution_count": null,
   "metadata": {},
   "outputs": [],
   "source": [
    "outs = feature_model(inputs)\n",
    "all_inverted = invert(feature_model, outs, return_all=True)[::-1]\n",
    "len(all_inverted)"
   ]
  },
  {
   "cell_type": "code",
   "execution_count": null,
   "metadata": {},
   "outputs": [],
   "source": [
    "fig = plt.figure(figsize=(4.5,4.5))\n",
    "for i_inv, this_inv in enumerate(all_inverted):\n",
    "    \n",
    "    pts = var_to_np(this_inv)\n",
    "    plt.plot(pts[:,0], pts[:,1], ls='', marker='o')\n",
    "for prev_inv, next_inv in zip(all_inverted[:-1], all_inverted[1:]):\n",
    "    for one_prev, one_next in zip(var_to_np(prev_inv), var_to_np(next_inv)):\n",
    "        plt.annotate(\"\",\n",
    "                     xy=one_next, xytext=one_prev,\n",
    "                   arrowprops=dict(arrowstyle=\"->\",),\n",
    "                    )\n",
    "\n",
    "plt.plot(var_to_np(targets)[:,0], var_to_np(targets)[:,1], ls='', \n",
    "        color=seaborn.color_palette()[4], marker='o', markerfacecolor='none')\n",
    "plt.legend([\"Step \" +  str(i) for i in range(5)] + [\"Targets\"], bbox_to_anchor=(1,1,0,0))\n",
    "plt.xlabel(\"x1\")\n",
    "plt.ylabel(\"x2\")\n",
    "\n",
    "plt.xlim(0,4)\n",
    "plt.ylim(-4,5)"
   ]
  },
  {
   "cell_type": "code",
   "execution_count": null,
   "metadata": {
    "collapsed": true
   },
   "outputs": [],
   "source": [
    "from torch import nn\n",
    "from reversible.revnet import ReversibleBlockOld\n",
    "def dense_mult_block(n_c, n_i_c):\n",
    "     return AffineBlock(\n",
    "       lambda x: x* 0,\n",
    "       lambda x: x* 0,\n",
    "        nn.Sequential(\n",
    "            nn.Linear(n_c // 2, n_i_c, bias=True),\n",
    "            nn.ReLU(),\n",
    "            nn.Linear(n_i_c, n_c // 2,bias=True)),\n",
    "        nn.Sequential(\n",
    "            nn.Linear(n_c // 2, n_i_c, bias=True),\n",
    "            nn.ReLU(),\n",
    "            nn.Linear(n_i_c, n_c // 2, bias=True)),\n",
    "     )\n"
   ]
  },
  {
   "cell_type": "markdown",
   "metadata": {},
   "source": [
    "### Pure Multiplicative as toy test"
   ]
  },
  {
   "cell_type": "code",
   "execution_count": null,
   "metadata": {
    "collapsed": true
   },
   "outputs": [],
   "source": [
    "from reversible.revnet import ReversibleBlockOld\n",
    "\n",
    "from rfft import RFFT, Interleave\n",
    "from discriminator import ProjectionDiscriminator\n",
    "from reversible.revnet import SubsampleSplitter, ViewAs\n",
    "from reversible.util import set_random_seeds\n",
    "from reversible.revnet import init_model_params\n",
    "from torch.nn import ConstantPad2d\n",
    "import torch as th\n",
    "from conv_spectral_norm import conv_spectral_norm\n",
    "from disttransform import DistTransformResNet\n",
    "\n",
    "\n",
    "set_random_seeds(2019011641, True)\n",
    "\n",
    "feature_model = nn.Sequential(\n",
    "    dense_mult_block(2,200),\n",
    "    dense_mult_block(2,200),\n",
    ")\n",
    "inputs = np_to_var(a, dtype=np.float32)\n",
    "targets = np_to_var(b, dtype=np.float32)\n",
    "\n",
    "optimizer = th.optim.Adam(feature_model.parameters(), lr=1e-3)"
   ]
  },
  {
   "cell_type": "code",
   "execution_count": null,
   "metadata": {},
   "outputs": [],
   "source": [
    "outs = feature_model(inputs)\n",
    "all_inverted = invert(feature_model, outs, return_all=True)[::-1]\n",
    "len(all_inverted)\n",
    "fig = plt.figure(figsize=(4.5,4.5))\n",
    "for i_inv, this_inv in enumerate(all_inverted):\n",
    "    pts = var_to_np(this_inv)\n",
    "    plt.plot(pts[:,0], pts[:,1], ls='', marker='o')\n",
    "for prev_inv, next_inv in zip(all_inverted[:-1], all_inverted[1:]):\n",
    "    for one_prev, one_next in zip(var_to_np(prev_inv), var_to_np(next_inv)):\n",
    "        plt.annotate(\"\",\n",
    "                     xy=one_next, xytext=one_prev,\n",
    "                   arrowprops=dict(arrowstyle=\"->\",),\n",
    "                    )\n",
    "\n",
    "plt.plot(var_to_np(targets)[:,0], var_to_np(targets)[:,1], ls='', \n",
    "        color=seaborn.color_palette()[4], marker='o', markerfacecolor='none')\n",
    "plt.legend([\"Step \" +  str(i) for i in range(5)] + [\"Targets\"], bbox_to_anchor=(1,1,0,0))\n",
    "plt.xlabel(\"x1\")\n",
    "plt.ylabel(\"x2\")\n",
    "\n",
    "plt.xlim(0,4)\n",
    "plt.ylim(-4,5)"
   ]
  },
  {
   "cell_type": "code",
   "execution_count": null,
   "metadata": {},
   "outputs": [],
   "source": [
    "n_epochs = 20001\n",
    "for i_epoch in range(n_epochs):\n",
    "    outs = feature_model(inputs)\n",
    "    loss = th.mean((outs -targets) ** 2)\n",
    "    optimizer.zero_grad()\n",
    "    loss.backward()\n",
    "    optimizer.step()\n",
    "    if i_epoch % (n_epochs //20) == 0:\n",
    "        print(\"Epoch {:d}\".format(i_epoch))\n",
    "        print(\"Loss {:.3f}\".format(loss.item()))\n",
    "        outs = feature_model(inputs)\n",
    "\n",
    "        fig = plt.figure(figsize=(5,5))\n",
    "        plt.plot(var_to_np(outs[:,0]), var_to_np(outs[:,1]), ls='', marker='o')\n",
    "        plt.plot(var_to_np(targets[:,0]), var_to_np(targets[:,1]), ls='', marker='o')\n",
    "        display(fig)\n",
    "        plt.close(fig)\n"
   ]
  },
  {
   "cell_type": "code",
   "execution_count": null,
   "metadata": {},
   "outputs": [],
   "source": [
    "outs = feature_model(inputs)\n",
    "all_inverted = invert(feature_model, outs, return_all=True)[::-1]\n",
    "len(all_inverted)\n",
    "fig = plt.figure(figsize=(4.5,4.5))\n",
    "for i_inv, this_inv in enumerate(all_inverted):\n",
    "    pts = var_to_np(this_inv)\n",
    "    plt.plot(pts[:,0], pts[:,1], ls='', marker='o')\n",
    "for prev_inv, next_inv in zip(all_inverted[:-1], all_inverted[1:]):\n",
    "    for one_prev, one_next in zip(var_to_np(prev_inv), var_to_np(next_inv)):\n",
    "        plt.annotate(\"\",\n",
    "                     xy=one_next, xytext=one_prev,\n",
    "                   arrowprops=dict(arrowstyle=\"->\",),\n",
    "                    )\n",
    "\n",
    "plt.plot(var_to_np(targets)[:,0], var_to_np(targets)[:,1], ls='', \n",
    "        color=seaborn.color_palette()[4], marker='o', markerfacecolor='none')\n",
    "plt.legend([\"Step \" +  str(i) for i in range(5)] + [\"Targets\"], bbox_to_anchor=(1,1,0,0))\n",
    "plt.xlabel(\"x1\")\n",
    "plt.ylabel(\"x2\")\n",
    "\n",
    "plt.xlim(0,4)\n",
    "plt.ylim(-4,5)"
   ]
  },
  {
   "cell_type": "markdown",
   "metadata": {},
   "source": [
    "## Add then mult"
   ]
  },
  {
   "cell_type": "code",
   "execution_count": null,
   "metadata": {
    "collapsed": true
   },
   "outputs": [],
   "source": [
    "from reversible.revnet import ReversibleBlockOld\n",
    "\n",
    "from rfft import RFFT, Interleave\n",
    "from discriminator import ProjectionDiscriminator\n",
    "from reversible.revnet import SubsampleSplitter, ViewAs\n",
    "from reversible.util import set_random_seeds\n",
    "from reversible.revnet import init_model_params\n",
    "from torch.nn import ConstantPad2d\n",
    "import torch as th\n",
    "from conv_spectral_norm import conv_spectral_norm\n",
    "from disttransform import DistTransformResNet\n",
    "\n",
    "\n",
    "set_random_seeds(2019011641, True)\n",
    "\n",
    "feature_model = nn.Sequential(\n",
    "    dense_rev_block(2,200),\n",
    "    dense_mult_block(2,200),\n",
    ")\n",
    "inputs = np_to_var(a, dtype=np.float32)\n",
    "targets = np_to_var(b, dtype=np.float32)\n",
    "\n",
    "optimizer = th.optim.Adam(feature_model.parameters(), lr=1e-3)"
   ]
  },
  {
   "cell_type": "code",
   "execution_count": null,
   "metadata": {},
   "outputs": [],
   "source": [
    "n_epochs = 20001\n",
    "for i_epoch in range(n_epochs):\n",
    "    outs = feature_model(inputs)\n",
    "    loss = th.mean((outs -targets) ** 2)\n",
    "    optimizer.zero_grad()\n",
    "    loss.backward()\n",
    "    optimizer.step()\n",
    "    if i_epoch % (n_epochs //20) == 0:\n",
    "        print(\"Epoch {:d}\".format(i_epoch))\n",
    "        print(\"Loss {:.3f}\".format(loss.item()))\n",
    "        outs = feature_model(inputs)\n",
    "\n",
    "        fig = plt.figure(figsize=(5,5))\n",
    "        plt.plot(var_to_np(outs[:,0]), var_to_np(outs[:,1]), ls='', marker='o')\n",
    "        plt.plot(var_to_np(targets[:,0]), var_to_np(targets[:,1]), ls='', marker='o')\n",
    "        display(fig)\n",
    "        plt.close(fig)\n"
   ]
  },
  {
   "cell_type": "code",
   "execution_count": null,
   "metadata": {},
   "outputs": [],
   "source": [
    "outs = feature_model(inputs)\n",
    "all_inverted = invert(feature_model, outs, return_all=True)[::-1]\n",
    "len(all_inverted)\n",
    "fig = plt.figure(figsize=(4.5,4.5))\n",
    "for i_inv, this_inv in enumerate(all_inverted):\n",
    "    pts = var_to_np(this_inv)\n",
    "    plt.plot(pts[:,0], pts[:,1], ls='', marker='o')\n",
    "for prev_inv, next_inv in zip(all_inverted[:-1], all_inverted[1:]):\n",
    "    for one_prev, one_next in zip(var_to_np(prev_inv), var_to_np(next_inv)):\n",
    "        plt.annotate(\"\",\n",
    "                     xy=one_next, xytext=one_prev,\n",
    "                   arrowprops=dict(arrowstyle=\"->\",),\n",
    "                    )\n",
    "\n",
    "plt.plot(var_to_np(targets)[:,0], var_to_np(targets)[:,1], ls='', \n",
    "        color=seaborn.color_palette()[4], marker='o', markerfacecolor='none')\n",
    "plt.legend([\"Step \" +  str(i) for i in range(5)] + [\"Targets\"], bbox_to_anchor=(1,1,0,0))\n",
    "plt.xlabel(\"x1\")\n",
    "plt.ylabel(\"x2\")\n",
    "\n",
    "#plt.xlim(0,4)\n",
    "#plt.ylim(-4,5)"
   ]
  },
  {
   "cell_type": "markdown",
   "metadata": {},
   "source": [
    "## Mult then add"
   ]
  },
  {
   "cell_type": "code",
   "execution_count": null,
   "metadata": {
    "collapsed": true
   },
   "outputs": [],
   "source": [
    "from reversible.revnet import ReversibleBlockOld\n",
    "\n",
    "from rfft import RFFT, Interleave\n",
    "from discriminator import ProjectionDiscriminator\n",
    "from reversible.revnet import SubsampleSplitter, ViewAs\n",
    "from reversible.util import set_random_seeds\n",
    "from reversible.revnet import init_model_params\n",
    "from torch.nn import ConstantPad2d\n",
    "import torch as th\n",
    "from conv_spectral_norm import conv_spectral_norm\n",
    "from disttransform import DistTransformResNet\n",
    "\n",
    "\n",
    "set_random_seeds(2019011641, True)\n",
    "\n",
    "feature_model = nn.Sequential(\n",
    "    dense_mult_block(2,200),\n",
    "    dense_rev_block(2,200),\n",
    ")\n",
    "inputs = np_to_var(a, dtype=np.float32)\n",
    "targets = np_to_var(b, dtype=np.float32)\n",
    "\n",
    "optimizer = th.optim.Adam(feature_model.parameters(), lr=1e-3)"
   ]
  },
  {
   "cell_type": "code",
   "execution_count": null,
   "metadata": {},
   "outputs": [],
   "source": [
    "n_epochs = 20001\n",
    "for i_epoch in range(n_epochs):\n",
    "    outs = feature_model(inputs)\n",
    "    loss = th.mean((outs -targets) ** 2)\n",
    "    optimizer.zero_grad()\n",
    "    loss.backward()\n",
    "    optimizer.step()\n",
    "    if i_epoch % (n_epochs //20) == 0:\n",
    "        print(\"Epoch {:d}\".format(i_epoch))\n",
    "        print(\"Loss {:.3f}\".format(loss.item()))\n",
    "        outs = feature_model(inputs)\n",
    "\n",
    "        fig = plt.figure(figsize=(5,5))\n",
    "        plt.plot(var_to_np(outs[:,0]), var_to_np(outs[:,1]), ls='', marker='o')\n",
    "        plt.plot(var_to_np(targets[:,0]), var_to_np(targets[:,1]), ls='', marker='o')\n",
    "        display(fig)\n",
    "        plt.close(fig)\n"
   ]
  },
  {
   "cell_type": "code",
   "execution_count": null,
   "metadata": {},
   "outputs": [],
   "source": [
    "outs = feature_model(inputs)\n",
    "all_inverted = invert(feature_model, outs, return_all=True)[::-1]\n",
    "len(all_inverted)\n",
    "fig = plt.figure(figsize=(4.5,4.5))\n",
    "for i_inv, this_inv in enumerate(all_inverted):\n",
    "    pts = var_to_np(this_inv)\n",
    "    plt.plot(pts[:,0], pts[:,1], ls='', marker='o')\n",
    "for prev_inv, next_inv in zip(all_inverted[:-1], all_inverted[1:]):\n",
    "    for one_prev, one_next in zip(var_to_np(prev_inv), var_to_np(next_inv)):\n",
    "        plt.annotate(\"\",\n",
    "                     xy=one_next, xytext=one_prev,\n",
    "                   arrowprops=dict(arrowstyle=\"->\",),\n",
    "                    )\n",
    "\n",
    "plt.plot(var_to_np(targets)[:,0], var_to_np(targets)[:,1], ls='', \n",
    "        color=seaborn.color_palette()[4], marker='o', markerfacecolor='none')\n",
    "plt.legend([\"Step \" +  str(i) for i in range(5)] + [\"Targets\"], bbox_to_anchor=(1,1,0,0))\n",
    "plt.xlabel(\"x1\")\n",
    "plt.ylabel(\"x2\")\n",
    "\n",
    "#plt.xlim(0,4)\n",
    "#plt.ylim(-4,5)"
   ]
  },
  {
   "cell_type": "markdown",
   "metadata": {},
   "source": [
    "### only 1x1"
   ]
  },
  {
   "cell_type": "code",
   "execution_count": null,
   "metadata": {
    "collapsed": true
   },
   "outputs": [],
   "source": [
    "from reversible.revnet import ReversibleBlockOld\n",
    "\n",
    "from rfft import RFFT, Interleave\n",
    "from discriminator import ProjectionDiscriminator\n",
    "from reversible.revnet import SubsampleSplitter, ViewAs\n",
    "from reversible.util import set_random_seeds\n",
    "from reversible.revnet import init_model_params\n",
    "from torch.nn import ConstantPad2d\n",
    "import torch as th\n",
    "from conv_spectral_norm import conv_spectral_norm\n",
    "from disttransform import DistTransformResNet\n",
    "from conv1x1 import Conv1x1, Dense1x1\n",
    "\n",
    "set_random_seeds(2019011641, True)\n",
    "\n",
    "feature_model = nn.Sequential(\n",
    "    Dense1x1(2),\n",
    ")\n",
    "inputs = np_to_var(a, dtype=np.float32)\n",
    "targets = np_to_var(b, dtype=np.float32)\n",
    "\n",
    "optimizer = th.optim.Adam(feature_model.parameters(), lr=1e-3)"
   ]
  },
  {
   "cell_type": "code",
   "execution_count": null,
   "metadata": {},
   "outputs": [],
   "source": [
    "outs = feature_model(inputs)\n",
    "all_inverted = invert(feature_model, outs, return_all=True)[::-1]\n",
    "len(all_inverted)\n",
    "fig = plt.figure(figsize=(4.5,4.5))\n",
    "for i_inv, this_inv in enumerate(all_inverted):\n",
    "    pts = var_to_np(this_inv)\n",
    "    plt.plot(pts[:,0], pts[:,1], ls='', marker='o')\n",
    "for prev_inv, next_inv in zip(all_inverted[:-1], all_inverted[1:]):\n",
    "    for one_prev, one_next in zip(var_to_np(prev_inv), var_to_np(next_inv)):\n",
    "        plt.annotate(\"\",\n",
    "                     xy=one_next, xytext=one_prev,\n",
    "                   arrowprops=dict(arrowstyle=\"->\",),\n",
    "                    )\n",
    "\n",
    "plt.plot(var_to_np(targets)[:,0], var_to_np(targets)[:,1], ls='', \n",
    "        color=seaborn.color_palette()[4], marker='o', markerfacecolor='none')\n",
    "plt.legend([\"Step \" +  str(i) for i in range(5)] + [\"Targets\"], bbox_to_anchor=(1,1,0,0))\n",
    "plt.xlabel(\"x1\")\n",
    "plt.ylabel(\"x2\")\n",
    "\n",
    "#plt.xlim(0,4)\n",
    "#plt.ylim(-4,5)"
   ]
  },
  {
   "cell_type": "code",
   "execution_count": null,
   "metadata": {},
   "outputs": [],
   "source": [
    "n_epochs = 20001\n",
    "for i_epoch in range(n_epochs):\n",
    "    outs = feature_model(inputs)\n",
    "    loss = th.mean((outs -targets) ** 2)\n",
    "    optimizer.zero_grad()\n",
    "    loss.backward()\n",
    "    optimizer.step()\n",
    "    if i_epoch % (n_epochs //20) == 0:\n",
    "        print(\"Epoch {:d}\".format(i_epoch))\n",
    "        print(\"Loss {:.3f}\".format(loss.item()))\n",
    "        outs = feature_model(inputs)\n",
    "\n",
    "        fig = plt.figure(figsize=(5,5))\n",
    "        plt.plot(var_to_np(outs[:,0]), var_to_np(outs[:,1]), ls='', marker='o')\n",
    "        plt.plot(var_to_np(targets[:,0]), var_to_np(targets[:,1]), ls='', marker='o')\n",
    "        display(fig)\n",
    "        plt.close(fig)\n"
   ]
  },
  {
   "cell_type": "code",
   "execution_count": null,
   "metadata": {},
   "outputs": [],
   "source": [
    "outs = feature_model(inputs)\n",
    "all_inverted = invert(feature_model, outs, return_all=True)[::-1]\n",
    "len(all_inverted)\n",
    "fig = plt.figure(figsize=(4.5,4.5))\n",
    "for i_inv, this_inv in enumerate(all_inverted):\n",
    "    pts = var_to_np(this_inv)\n",
    "    plt.plot(pts[:,0], pts[:,1], ls='', marker='o')\n",
    "for prev_inv, next_inv in zip(all_inverted[:-1], all_inverted[1:]):\n",
    "    for one_prev, one_next in zip(var_to_np(prev_inv), var_to_np(next_inv)):\n",
    "        plt.annotate(\"\",\n",
    "                     xy=one_next, xytext=one_prev,\n",
    "                   arrowprops=dict(arrowstyle=\"->\",),\n",
    "                    )\n",
    "\n",
    "plt.plot(var_to_np(targets)[:,0], var_to_np(targets)[:,1], ls='', \n",
    "        color=seaborn.color_palette()[4], marker='o', markerfacecolor='none')\n",
    "plt.legend([\"Input\", \"1x1Conv\", \"Targets\"], bbox_to_anchor=(1,1,0,0))\n",
    "plt.xlabel(\"x1\")\n",
    "plt.ylabel(\"x2\")\n",
    "\n",
    "#plt.xlim(0,4)\n",
    "#plt.ylim(-4,5)"
   ]
  },
  {
   "cell_type": "markdown",
   "metadata": {},
   "source": [
    "## with add block"
   ]
  },
  {
   "cell_type": "code",
   "execution_count": null,
   "metadata": {
    "collapsed": true
   },
   "outputs": [],
   "source": [
    "from reversible.revnet import ReversibleBlockOld\n",
    "\n",
    "from rfft import RFFT, Interleave\n",
    "from discriminator import ProjectionDiscriminator\n",
    "from reversible.revnet import SubsampleSplitter, ViewAs\n",
    "from reversible.util import set_random_seeds\n",
    "from reversible.revnet import init_model_params\n",
    "from torch.nn import ConstantPad2d\n",
    "import torch as th\n",
    "from conv_spectral_norm import conv_spectral_norm\n",
    "from disttransform import DistTransformResNet\n",
    "from conv1x1 import Conv1x1, Dense1x1\n",
    "\n",
    "set_random_seeds(2019011641, True)\n",
    "\n",
    "feature_model = nn.Sequential(\n",
    "    Dense1x1(2),\n",
    "    dense_rev_block(2,200),\n",
    "    dense_rev_block(2,200),\n",
    ")\n",
    "inputs = np_to_var(a, dtype=np.float32)\n",
    "targets = np_to_var(b, dtype=np.float32)\n",
    "\n",
    "optimizer = th.optim.Adam(feature_model.parameters(), lr=1e-3)"
   ]
  },
  {
   "cell_type": "code",
   "execution_count": null,
   "metadata": {},
   "outputs": [],
   "source": [
    "n_epochs = 10001\n",
    "for i_epoch in range(n_epochs):\n",
    "    outs = feature_model(inputs)\n",
    "    loss = th.mean((outs -targets) ** 2)\n",
    "    optimizer.zero_grad()\n",
    "    loss.backward()\n",
    "    optimizer.step()\n",
    "    if i_epoch % (n_epochs //20) == 0:\n",
    "        print(\"Epoch {:d}\".format(i_epoch))\n",
    "        print(\"Loss {:.3f}\".format(loss.item()))\n",
    "        outs = feature_model(inputs)\n",
    "\n",
    "        fig = plt.figure(figsize=(5,5))\n",
    "        plt.plot(var_to_np(outs[:,0]), var_to_np(outs[:,1]), ls='', marker='o')\n",
    "        plt.plot(var_to_np(targets[:,0]), var_to_np(targets[:,1]), ls='', marker='o')\n",
    "        display(fig)\n",
    "        plt.close(fig)\n"
   ]
  },
  {
   "cell_type": "code",
   "execution_count": null,
   "metadata": {},
   "outputs": [],
   "source": [
    "outs = feature_model(inputs)\n",
    "all_inverted = invert(feature_model, outs, return_all=True)[::-1]\n",
    "len(all_inverted)\n",
    "fig = plt.figure(figsize=(4.5,4.5))\n",
    "for i_inv, this_inv in enumerate(all_inverted):\n",
    "    pts = var_to_np(this_inv)\n",
    "    plt.plot(pts[:,0], pts[:,1], ls='', marker='o')\n",
    "for prev_inv, next_inv in zip(all_inverted[:-1], all_inverted[1:]):\n",
    "    for one_prev, one_next in zip(var_to_np(prev_inv), var_to_np(next_inv)):\n",
    "        plt.annotate(\"\",\n",
    "                     xy=one_next, xytext=one_prev,\n",
    "                   arrowprops=dict(arrowstyle=\"->\",),\n",
    "                    )\n",
    "\n",
    "plt.plot(var_to_np(targets)[:,0], var_to_np(targets)[:,1], ls='', \n",
    "        color=seaborn.color_palette()[4], marker='o', markerfacecolor='none')\n",
    "plt.legend([\"Step 0\", \"Step 1 (1x1)\"] +  [\"Step \" + str(i) + \" (Additive)\" for i in range(2,6)] + [\n",
    "    \"Targets\"], bbox_to_anchor=(1,1,0,0))\n",
    "plt.xlabel(\"x1\")\n",
    "plt.ylabel(\"x2\")\n",
    "\n",
    "#plt.xlim(0,4)\n",
    "#plt.ylim(-4,5)"
   ]
  },
  {
   "cell_type": "code",
   "execution_count": null,
   "metadata": {},
   "outputs": [],
   "source": [
    "outs = feature_model(inputs)\n",
    "all_inverted = invert(feature_model, outs, return_all=True)[::-1]\n",
    "len(all_inverted)\n",
    "fig = plt.figure(figsize=(4.5,4.5))\n",
    "for i_inv, this_inv in enumerate(all_inverted):\n",
    "    pts = var_to_np(this_inv)\n",
    "    plt.plot(pts[:,0], pts[:,1], ls='', marker='o')\n",
    "\n",
    "plt.plot(var_to_np(targets)[:,0], var_to_np(targets)[:,1], ls='', \n",
    "        color=seaborn.color_palette()[4], marker='o', markerfacecolor='none')\n",
    "plt.legend([\"Step \" +  str(i) for i in range(6)] + [\"Targets\"], bbox_to_anchor=(1,1,0,0))\n",
    "plt.xlabel(\"x1\")\n",
    "plt.ylabel(\"x2\")\n",
    "\n",
    "#plt.xlim(0,4)\n",
    "#plt.ylim(-4,5)"
   ]
  },
  {
   "cell_type": "markdown",
   "metadata": {},
   "source": [
    "## With invertible residual Lipschitz Block"
   ]
  },
  {
   "cell_type": "code",
   "execution_count": null,
   "metadata": {
    "collapsed": true
   },
   "outputs": [],
   "source": [
    "feature_model = nn.Sequential(\n",
    "    ResidualBlock(\n",
    "        nn.Sequential(\n",
    "        spectral_norm(nn.Linear(2,200), to_norm=0.92, n_power_iterations=3),\n",
    "             nn.ReLU(),\n",
    "             spectral_norm(nn.Linear(200,2), to_norm=0.92, n_power_iterations=3),\n",
    "    )),\n",
    "    ResidualBlock(\n",
    "            nn.Sequential(\n",
    "            spectral_norm(nn.Linear(2,200), to_norm=0.92, n_power_iterations=3),\n",
    "                 nn.ReLU(),\n",
    "                 spectral_norm(nn.Linear(200,2), to_norm=0.92, n_power_iterations=3),\n",
    "        )),\n",
    "    ResidualBlock(\n",
    "            nn.Sequential(\n",
    "            spectral_norm(nn.Linear(2,200), to_norm=0.92, n_power_iterations=3),\n",
    "                 nn.ReLU(),\n",
    "                 spectral_norm(nn.Linear(200,2), to_norm=0.92, n_power_iterations=3),\n",
    "        )),)\n",
    "\n",
    "inputs = np_to_var(a, dtype=np.float32)\n",
    "targets = np_to_var(b, dtype=np.float32)\n",
    "\n",
    "optimizer = th.optim.Adam(feature_model.parameters(), lr=1e-3)"
   ]
  },
  {
   "cell_type": "code",
   "execution_count": null,
   "metadata": {},
   "outputs": [],
   "source": [
    "n_epochs = 10001\n",
    "for i_epoch in range(n_epochs):\n",
    "    outs = feature_model(inputs)\n",
    "    loss = th.mean((outs -targets) ** 2)\n",
    "    optimizer.zero_grad()\n",
    "    loss.backward()\n",
    "    optimizer.step()\n",
    "    if i_epoch % (n_epochs //20) == 0:\n",
    "        print(\"Epoch {:d}\".format(i_epoch))\n",
    "        print(\"Loss {:.3f}\".format(loss.item()))\n",
    "        outs = feature_model(inputs)\n",
    "\n",
    "        fig = plt.figure(figsize=(5,5))\n",
    "        plt.plot(var_to_np(outs[:,0]), var_to_np(outs[:,1]), ls='', marker='o')\n",
    "        plt.plot(var_to_np(targets[:,0]), var_to_np(targets[:,1]), ls='', marker='o')\n",
    "        display(fig)\n",
    "        plt.close(fig)\n"
   ]
  },
  {
   "cell_type": "code",
   "execution_count": null,
   "metadata": {},
   "outputs": [],
   "source": [
    "th.mean(th.abs(all_inverted[0] - inputs))"
   ]
  },
  {
   "cell_type": "code",
   "execution_count": null,
   "metadata": {},
   "outputs": [],
   "source": []
  },
  {
   "cell_type": "code",
   "execution_count": null,
   "metadata": {},
   "outputs": [],
   "source": [
    "len(all_inverted)"
   ]
  },
  {
   "cell_type": "code",
   "execution_count": null,
   "metadata": {},
   "outputs": [],
   "source": [
    "outs = feature_model(inputs)\n",
    "all_inverted = invert(feature_model, outs, return_all=True, residual_iterations=50)[::-1]\n",
    "print(\"MAE: {:E}\".format(th.mean(th.abs(all_inverted[0] - inputs))))\n",
    "len(all_inverted)\n",
    "fig = plt.figure(figsize=(4.5,4.5))\n",
    "for i_inv, this_inv in enumerate(all_inverted):\n",
    "    pts = var_to_np(this_inv)\n",
    "    plt.plot(pts[:,0], pts[:,1], ls='', marker='o')\n",
    "\n",
    "for prev_inv, next_inv in zip(all_inverted[:-1], all_inverted[1:]):\n",
    "    for one_prev, one_next in zip(var_to_np(prev_inv), var_to_np(next_inv)):\n",
    "        plt.annotate(\"\",\n",
    "                     xy=one_next, xytext=one_prev,\n",
    "                   arrowprops=dict(arrowstyle=\"->\",),\n",
    "                    )\n",
    "plt.plot(var_to_np(targets)[:,0], var_to_np(targets)[:,1], ls='', \n",
    "        color=seaborn.color_palette()[4], marker='o', markerfacecolor='none')\n",
    "\n",
    "plt.legend([\"Step \" +  str(i) for i in range(4)] + [\"Targets\"], bbox_to_anchor=(1,1,0,0))\n",
    "\n",
    "plt.xlabel(\"x1\")\n",
    "plt.ylabel(\"x2\")\n",
    "\n",
    "#plt.xlim(0,4)\n",
    "#plt.ylim(-4,5)"
   ]
  },
  {
   "cell_type": "code",
   "execution_count": null,
   "metadata": {
    "collapsed": true
   },
   "outputs": [],
   "source": []
  }
 ],
 "metadata": {
  "kernelspec": {
   "display_name": "Python 3",
   "language": "python",
   "name": "python3"
  },
  "language_info": {
   "codemirror_mode": {
    "name": "ipython",
    "version": 3
   },
   "file_extension": ".py",
   "mimetype": "text/x-python",
   "name": "python",
   "nbconvert_exporter": "python",
   "pygments_lexer": "ipython3",
   "version": "3.6.8"
  }
 },
 "nbformat": 4,
 "nbformat_minor": 2
}
