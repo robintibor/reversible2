{
 "cells": [
  {
   "cell_type": "code",
   "execution_count": null,
   "metadata": {
    "collapsed": true
   },
   "outputs": [],
   "source": [
    "%%capture\n",
    "import os\n",
    "import site\n",
    "os.sys.path.insert(0, '/home/schirrmr/code/reversible/')\n",
    "os.sys.path.insert(0, '/home/schirrmr/braindecode/code/braindecode/')\n",
    "%cd /home/schirrmr/\n",
    "\n",
    "\n",
    "%load_ext autoreload\n",
    "%autoreload 2\n",
    "import numpy as np\n",
    "import logging\n",
    "log = logging.getLogger()\n",
    "log.setLevel('INFO')\n",
    "import sys\n",
    "logging.basicConfig(format='%(asctime)s %(levelname)s : %(message)s',\n",
    "                     level=logging.INFO, stream=sys.stdout)\n",
    "import matplotlib\n",
    "from matplotlib import pyplot as plt\n",
    "from matplotlib import cm\n",
    "%matplotlib inline\n",
    "%config InlineBackend.figure_format = 'png'\n",
    "matplotlib.rcParams['figure.figsize'] = (12.0, 1.0)\n",
    "matplotlib.rcParams['font.size'] = 14\n",
    "import seaborn\n",
    "seaborn.set_style('darkgrid')\n",
    "\n",
    "from reversible2.sliced import sliced_from_samples\n",
    "\n",
    "from numpy.random import RandomState\n",
    "\n",
    "import torch\n",
    "import torch.nn as nn\n",
    "import torch.nn.functional as F\n",
    "from torch.autograd import Variable\n",
    "import numpy as np\n",
    "import copy\n",
    "import math\n",
    "\n",
    "import itertools\n",
    "import torch as th\n",
    "from braindecode.torch_ext.util import np_to_var, var_to_np\n",
    "from reversible2.spectral_norm import spectral_norm\n",
    "from reversible2.conv_spectral_norm import conv_spectral_norm\n",
    "\n",
    "def display_text(text, fontsize=18):\n",
    "    fig = plt.figure(figsize=(12,0.1))\n",
    "    plt.title(text, fontsize=fontsize)\n",
    "    plt.axis('off')\n",
    "    display(fig)\n",
    "    plt.close(fig)"
   ]
  },
  {
   "cell_type": "code",
   "execution_count": null,
   "metadata": {
    "collapsed": true
   },
   "outputs": [],
   "source": [
    "rng = RandomState(394839483)"
   ]
  },
  {
   "cell_type": "code",
   "execution_count": null,
   "metadata": {},
   "outputs": [],
   "source": [
    "a =  rng.rand(200,2)\n",
    "\n",
    "plt.figure(figsize=(4,4))\n",
    "plt.plot(a[:,0], a[:,1], marker='o', ls='')\n",
    "plt.xlim(-2,2)\n",
    "plt.ylim(-2,2)"
   ]
  },
  {
   "cell_type": "code",
   "execution_count": null,
   "metadata": {
    "collapsed": true
   },
   "outputs": [],
   "source": [
    "from torch import nn\n",
    "from reversible2.blocks import dense_add_block"
   ]
  },
  {
   "cell_type": "code",
   "execution_count": null,
   "metadata": {
    "collapsed": true
   },
   "outputs": [],
   "source": [
    "\n",
    "from reversible2.util import set_random_seeds\n",
    "from torch.nn import ConstantPad2d\n",
    "import torch as th\n",
    "\n",
    "\n",
    "set_random_seeds(2019011641, True)\n",
    "\n",
    "feature_model = nn.Sequential(\n",
    "    dense_add_block(2,200),\n",
    "    dense_add_block(2,200),\n",
    ")\n",
    "\n",
    "optimizer = th.optim.Adam(feature_model.parameters(), lr=1e-3)"
   ]
  },
  {
   "cell_type": "code",
   "execution_count": null,
   "metadata": {},
   "outputs": [],
   "source": [
    "n_epochs = 5001\n",
    "for i_epoch in range(n_epochs):\n",
    "    examples = th.rand(200,2)\n",
    "    out = feature_model(examples)\n",
    "    loss = th.mean(out * out)\n",
    "    optimizer.zero_grad()\n",
    "    loss.backward()\n",
    "    optimizer.step()\n",
    "    if i_epoch % (n_epochs // 20) == 0:\n",
    "        examples = th.rand(200,2)\n",
    "        a = var_to_np(examples)\n",
    "        b = var_to_np(feature_model(examples))\n",
    "        fig = plt.figure(figsize=(4,4))\n",
    "        plt.plot(a[:,0], a[:,1], marker='o', ls='')\n",
    "        plt.plot(b[:,0], b[:,1], marker='o', ls='')\n",
    "        plt.xlim(-2,2)\n",
    "        plt.ylim(-2,2)\n",
    "        display(fig)\n",
    "        plt.close(fig)"
   ]
  },
  {
   "cell_type": "code",
   "execution_count": null,
   "metadata": {},
   "outputs": [],
   "source": [
    "set_random_seeds(3,False)\n",
    "examples = th.rand(300,2)\n",
    "a = var_to_np(examples)\n",
    "b = var_to_np(feature_model(examples))\n",
    "fig = plt.figure(figsize=(4,4))\n",
    "plt.plot(a[:,0], a[:,1], marker='o', ls='')\n",
    "plt.plot(b[:,0], b[:,1], marker='o', ls='')\n",
    "plt.xlim(-2,2)\n",
    "plt.ylim(-2,2)\n",
    "plt.legend((\"Inputs\", \"Encodings\"))\n",
    "plt.title(\"Loss: Squared L2 norm\")\n",
    "display(fig)\n",
    "plt.close(fig)"
   ]
  },
  {
   "cell_type": "code",
   "execution_count": null,
   "metadata": {},
   "outputs": [],
   "source": [
    "n_epochs = 5001\n",
    "for i_epoch in range(n_epochs):\n",
    "    examples = th.rand(400,2)\n",
    "    out = feature_model(examples)\n",
    "    nll_loss = th.mean(out * out)\n",
    "    ex_a, ex_b, = th.chunk(examples, 2, dim=0)\n",
    "    out_a, out_b = th.chunk(out, 2, dim=0)\n",
    "    in_dists = th.norm(ex_a - ex_b, p=2,dim=-1) # euclidean dist\n",
    "    out_dists = th.norm(out_a - out_b, p=2,dim=-1)\n",
    "    dist_loss = th.mean(F.relu(out_dists - in_dists) ** 2)\n",
    "    loss = nll_loss + dist_loss * 100\n",
    "    optimizer.zero_grad()\n",
    "    loss.backward()\n",
    "    optimizer.step()\n",
    "    if i_epoch % (n_epochs // 20) == 0:\n",
    "        examples = th.rand(200,2)\n",
    "        a = var_to_np(examples)\n",
    "        b = var_to_np(feature_model(examples))\n",
    "        fig = plt.figure(figsize=(4,4))\n",
    "        plt.plot(a[:,0], a[:,1], marker='o', ls='')\n",
    "        plt.plot(b[:,0], b[:,1], marker='o', ls='')\n",
    "        plt.xlim(-2,2)\n",
    "        plt.ylim(-2,2)\n",
    "        display(fig)\n",
    "        plt.close(fig)"
   ]
  },
  {
   "cell_type": "code",
   "execution_count": null,
   "metadata": {
    "collapsed": true
   },
   "outputs": [],
   "source": [
    "\n",
    "\n",
    "set_random_seeds(20190529, True)\n",
    "\n",
    "feature_model = nn.Sequential(\n",
    "    dense_add_block(2,200),\n",
    "    dense_add_block(2,200),\n",
    ")\n",
    "\n",
    "optimizer = th.optim.Adam(feature_model.parameters(), lr=1e-3)"
   ]
  },
  {
   "cell_type": "code",
   "execution_count": null,
   "metadata": {},
   "outputs": [],
   "source": [
    "n_epochs = 5001\n",
    "for i_epoch in range(n_epochs):\n",
    "    examples = th.rand(400,2)\n",
    "    out = feature_model(examples)\n",
    "    nll_loss = th.mean(out * out)\n",
    "    ex_a, ex_b, = th.chunk(examples, 2, dim=0)\n",
    "    out_a, out_b = th.chunk(out, 2, dim=0)\n",
    "    in_dists = th.norm(ex_a - ex_b, p=2,dim=-1) # euclidean dist\n",
    "    out_dists = th.norm(out_a - out_b, p=2,dim=-1)\n",
    "    dist_loss = th.mean(F.relu(out_dists - in_dists) ** 2)\n",
    "    loss = nll_loss + dist_loss * 100\n",
    "    optimizer.zero_grad()\n",
    "    loss.backward()\n",
    "    optimizer.step()\n",
    "    if i_epoch % (n_epochs // 20) == 0:\n",
    "        examples = th.rand(200,2)\n",
    "        a = var_to_np(examples)\n",
    "        b = var_to_np(feature_model(examples))\n",
    "        fig = plt.figure(figsize=(4,4))\n",
    "        plt.plot(a[:,0], a[:,1], marker='o', ls='')\n",
    "        plt.plot(b[:,0], b[:,1], marker='o', ls='')\n",
    "        plt.xlim(-2,2)\n",
    "        plt.ylim(-2,2)\n",
    "        display(fig)\n",
    "        plt.close(fig)"
   ]
  },
  {
   "cell_type": "code",
   "execution_count": null,
   "metadata": {
    "collapsed": true
   },
   "outputs": [],
   "source": [
    "\n",
    "\n",
    "set_random_seeds(201905291, True)\n",
    "\n",
    "feature_model = nn.Sequential(\n",
    "    dense_add_block(2,200),\n",
    "    dense_add_block(2,200),\n",
    ")\n",
    "\n",
    "optimizer = th.optim.Adam(feature_model.parameters(), lr=1e-3)"
   ]
  },
  {
   "cell_type": "code",
   "execution_count": null,
   "metadata": {},
   "outputs": [],
   "source": [
    "n_epochs = 5001\n",
    "for i_epoch in range(n_epochs):\n",
    "    examples = th.rand(400,2)\n",
    "    out = feature_model(examples)\n",
    "    nll_loss = th.mean(out * out)\n",
    "    ex_a, ex_b, = th.chunk(examples, 2, dim=0)\n",
    "    out_a, out_b = th.chunk(out, 2, dim=0)\n",
    "    in_dists = th.norm(ex_a - ex_b, p=2,dim=-1) # euclidean dist\n",
    "    out_dists = th.norm(out_a - out_b, p=2,dim=-1)\n",
    "    dist_loss = th.mean(F.relu(out_dists - in_dists) ** 2)\n",
    "    loss = nll_loss + dist_loss * 100\n",
    "    optimizer.zero_grad()\n",
    "    loss.backward()\n",
    "    optimizer.step()\n",
    "    if i_epoch % (n_epochs // 20) == 0:\n",
    "        examples = th.rand(200,2)\n",
    "        a = var_to_np(examples)\n",
    "        b = var_to_np(feature_model(examples))\n",
    "        fig = plt.figure(figsize=(4,4))\n",
    "        plt.plot(a[:,0], a[:,1], marker='o', ls='')\n",
    "        plt.plot(b[:,0], b[:,1], marker='o', ls='')\n",
    "        plt.xlim(-2,2)\n",
    "        plt.ylim(-2,2)\n",
    "        display(fig)\n",
    "        plt.close(fig)"
   ]
  },
  {
   "cell_type": "code",
   "execution_count": null,
   "metadata": {
    "collapsed": true
   },
   "outputs": [],
   "source": []
  }
 ],
 "metadata": {
  "kernelspec": {
   "display_name": "Python 3",
   "language": "python",
   "name": "python3"
  },
  "language_info": {
   "codemirror_mode": {
    "name": "ipython",
    "version": 3
   },
   "file_extension": ".py",
   "mimetype": "text/x-python",
   "name": "python",
   "nbconvert_exporter": "python",
   "pygments_lexer": "ipython3",
   "version": "3.6.8"
  }
 },
 "nbformat": 4,
 "nbformat_minor": 2
}
