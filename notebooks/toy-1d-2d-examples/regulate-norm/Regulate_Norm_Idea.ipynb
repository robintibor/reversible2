{
 "cells": [
  {
   "cell_type": "code",
   "execution_count": null,
   "metadata": {
    "collapsed": true
   },
   "outputs": [],
   "source": [
    "# one dimensional problem with invertible net with two dimensions \n",
    "# referee that scales slopes down\n",
    "# connection: slopes -> distance\n",
    "# again: distance function is implemented by network\n",
    "# \n",
    "# "
   ]
  },
  {
   "cell_type": "code",
   "execution_count": null,
   "metadata": {
    "collapsed": true
   },
   "outputs": [],
   "source": [
    "%%capture\n",
    "import os\n",
    "import site\n",
    "os.sys.path.insert(0, '/home/schirrmr/braindecode/code/braindecode/')\n",
    "os.sys.path.insert(0, '/home/schirrmr/code/explaining/reversible//')\n",
    "%cd /home/schirrmr/\n"
   ]
  },
  {
   "cell_type": "code",
   "execution_count": null,
   "metadata": {},
   "outputs": [],
   "source": [
    "%load_ext autoreload\n",
    "%autoreload 2\n",
    "import numpy as np\n",
    "import logging\n",
    "log = logging.getLogger()\n",
    "log.setLevel('INFO')\n",
    "import sys\n",
    "logging.basicConfig(format='%(asctime)s %(levelname)s : %(message)s',\n",
    "                     level=logging.INFO, stream=sys.stdout)\n",
    "import matplotlib\n",
    "from matplotlib import pyplot as plt\n",
    "from matplotlib import cm\n",
    "%matplotlib inline\n",
    "%config InlineBackend.figure_format = 'png' \n",
    "matplotlib.rcParams['figure.figsize'] = (12.0, 1.0)\n",
    "matplotlib.rcParams['font.size'] = 7\n",
    "import seaborn\n",
    "seaborn.set_style('darkgrid')"
   ]
  },
  {
   "cell_type": "code",
   "execution_count": null,
   "metadata": {
    "collapsed": true
   },
   "outputs": [],
   "source": [
    "from numpy.random import RandomState\n",
    "from braindecode.torch_ext.util import np_to_var, var_to_np\n",
    "x = np_to_var(np.array([0,1])[:,None], dtype=np.float32)\n",
    "x_val = np_to_var(np.array([0.25,0.75])[:,None], dtype=np.float32)"
   ]
  },
  {
   "cell_type": "code",
   "execution_count": null,
   "metadata": {
    "collapsed": true
   },
   "outputs": [],
   "source": [
    "import torch.nn as nn\n",
    "from torch.nn import ConstantPad2d\n",
    "from reversible.revnet import ReversibleBlockOld, SubsampleSplitter, ViewAs\n"
   ]
  },
  {
   "cell_type": "code",
   "execution_count": null,
   "metadata": {
    "collapsed": true
   },
   "outputs": [],
   "source": [
    "def rev_block(n_chans, n_intermediate_chans, kernel_size=3):\n",
    "    c = n_chans // 2\n",
    "    n_i_c = n_intermediate_chans\n",
    "    assert kernel_size % 2 == 1\n",
    "    padding = kernel_size // 2\n",
    "    return ReversibleBlockOld(\n",
    "        nn.Sequential(\n",
    "            nn.Linear(c, n_i_c),\n",
    "             nn.ReLU(),\n",
    "             nn.Linear(n_i_c, c)),\n",
    "        nn.Sequential(\n",
    "            nn.Linear(c, n_i_c),\n",
    "             nn.ReLU(),\n",
    "             nn.Linear(n_i_c, c)))\n"
   ]
  },
  {
   "cell_type": "code",
   "execution_count": null,
   "metadata": {
    "collapsed": true
   },
   "outputs": [],
   "source": [
    "feature_model = nn.Sequential(\n",
    "        rev_block(2, 100),\n",
    "        rev_block(2, 100),\n",
    ")"
   ]
  },
  {
   "cell_type": "code",
   "execution_count": null,
   "metadata": {
    "collapsed": true
   },
   "outputs": [],
   "source": [
    "import torch as th\n",
    "xx = th.cat((x,x), dim=1)\n",
    "xx_val = th.cat((x_val,x_val), dim=1)"
   ]
  },
  {
   "cell_type": "code",
   "execution_count": null,
   "metadata": {
    "collapsed": true
   },
   "outputs": [],
   "source": [
    "\n",
    "outs = feature_model(xx)"
   ]
  },
  {
   "cell_type": "code",
   "execution_count": null,
   "metadata": {
    "collapsed": true
   },
   "outputs": [],
   "source": [
    "# show if inverting what happens\n",
    "# which loss? first discriminator loss, but now a discriminator without spectral norm\n",
    "\n",
    "from reversible.revnet import invert"
   ]
  },
  {
   "cell_type": "code",
   "execution_count": null,
   "metadata": {},
   "outputs": [],
   "source": [
    "invert(feature_model,outs)"
   ]
  },
  {
   "cell_type": "code",
   "execution_count": null,
   "metadata": {
    "collapsed": true
   },
   "outputs": [],
   "source": [
    "# generate uniform noise between 0 and 2\n",
    "# tell discriminator to distingiush by putting high values on real data, low values on fake data\n"
   ]
  },
  {
   "cell_type": "code",
   "execution_count": null,
   "metadata": {
    "collapsed": true
   },
   "outputs": [],
   "source": [
    "from reversible.spectral_norm import SpectralNorm\n",
    "from torch import nn\n",
    "class ConcatReLU(nn.Module):\n",
    "    def __init__(self):\n",
    "        super(ConcatReLU, self).__init__()\n",
    "\n",
    "    def forward(self, x):\n",
    "        return th.cat((nn.functional.relu(x), -nn.functional.relu(-x)), dim=1)\n",
    "\n",
    "def create_adv_2_layer(dim, intermediate_dim, snorm):\n",
    "    if snorm is None:\n",
    "        model = nn.Sequential(\n",
    "            nn.Linear(dim, intermediate_dim),\n",
    "            ConcatReLU(),\n",
    "            nn.Linear(intermediate_dim*2, intermediate_dim*2),\n",
    "            nn.ReLU(),\n",
    "            nn.Linear(intermediate_dim*2, 1))\n",
    "    else:\n",
    "        assert isinstance(snorm, float)\n",
    "        model = nn.Sequential(\n",
    "            SpectralNorm(nn.Linear(dim, intermediate_dim), power_iterations=1, to_norm=snorm),\n",
    "            ConcatReLU(),\n",
    "            SpectralNorm(nn.Linear(intermediate_dim*2, intermediate_dim*2), power_iterations=1, to_norm=snorm),\n",
    "            nn.ReLU(),\n",
    "            SpectralNorm(nn.Linear(intermediate_dim*2, 1), power_iterations=1, to_norm=snorm))\n",
    "\n",
    "    return model\n",
    "\n"
   ]
  },
  {
   "cell_type": "code",
   "execution_count": null,
   "metadata": {},
   "outputs": [],
   "source": [
    "from braindecode.torch_ext.util import set_random_seeds\n",
    "set_random_seeds(20181102, False)\n",
    "adversary = create_adv_2_layer(1,100,snorm=None)\n",
    "\n",
    "test_inputs = np_to_var(np.linspace(-3,3,200)[:,None], dtype=np.float32)\n",
    "\n",
    "test_outs = adversary(test_inputs)\n",
    "plt.plot(var_to_np(test_inputs)[:,0], var_to_np(test_outs)[:,0])\n",
    "\n",
    "optimizer = th.optim.Adam(adversary.parameters(), lr=1e-3)\n",
    "test_inputs = np_to_var(np.linspace(-3,3,200)[:,None], dtype=np.float32)\n",
    "\n",
    "rng = RandomState(20181102)"
   ]
  },
  {
   "cell_type": "code",
   "execution_count": null,
   "metadata": {},
   "outputs": [],
   "source": [
    "n_epochs = 10000\n",
    "for i_epoch in range(n_epochs):\n",
    "    if i_epoch % (n_epochs // 10) == 0:\n",
    "        fig = plt.figure(figsize=(12,2))\n",
    "        test_inputs = np_to_var(np.linspace(-3,3,200)[:,None], dtype=np.float32)\n",
    "\n",
    "        test_outs = adversary(test_inputs)\n",
    "        plt.plot(var_to_np(test_inputs)[:,0], var_to_np(test_outs)[:,0])\n",
    "        display(fig)\n",
    "        plt.close(fig)\n",
    "    fake_x = np_to_var(rng.rand(2,1) * 3-1, dtype=np.float32)\n",
    "    fake_x = np_to_var(rng.rand(2,1) * 0.8+0.1, dtype=np.float32)\n",
    "\n",
    "    out_real = adversary(x)\n",
    "    out_fake = adversary(fake_x)\n",
    "\n",
    "    score = out_real - out_fake\n",
    "    loss = -(score.mean())\n",
    "    optimizer.zero_grad()\n",
    "    loss.backward()\n",
    "    optimizer.step()\n",
    "    "
   ]
  },
  {
   "cell_type": "code",
   "execution_count": null,
   "metadata": {},
   "outputs": [],
   "source": [
    "# Right now: decrease value in center, increase on outside"
   ]
  },
  {
   "cell_type": "code",
   "execution_count": null,
   "metadata": {},
   "outputs": [],
   "source": [
    "from braindecode.torch_ext.util import set_random_seeds\n",
    "set_random_seeds(20181102, False)\n",
    "adversary = create_adv_2_layer(1,100,snorm=None)\n",
    "\n",
    "test_inputs = np_to_var(np.linspace(-3,3,200)[:,None], dtype=np.float32)\n",
    "\n",
    "test_outs = adversary(test_inputs)\n",
    "plt.plot(var_to_np(test_inputs)[:,0], var_to_np(test_outs)[:,0])\n",
    "\n",
    "rng = RandomState(20181102)\n",
    "\n",
    "optimizable_inputs = np_to_var(np.linspace(-3,3,200)[:,None], dtype=np.float32, requires_grad=True)\n",
    "\n",
    "optimizer = th.optim.Adam([dict(params=adversary.parameters(), lr=1e-3),\n",
    "                          dict(params=[optimizable_inputs], lr=-1e-3)])\n",
    "plt.plot(var_to_np(optimizable_inputs)[:,0], var_to_np(optimizable_inputs)[:,0] * 0,\n",
    "         ls='', marker='o', alpha=0.3, markersize=3)"
   ]
  },
  {
   "cell_type": "code",
   "execution_count": null,
   "metadata": {},
   "outputs": [],
   "source": [
    "n_epochs = 1000\n",
    "for i_epoch in range(n_epochs):\n",
    "    if i_epoch % (n_epochs // 10) == 0:\n",
    "        fig = plt.figure(figsize=(12,2))\n",
    "        test_inputs = np_to_var(np.linspace(-3,3,200)[:,None], dtype=np.float32)\n",
    "\n",
    "        test_outs = adversary(test_inputs)\n",
    "        plt.plot(var_to_np(test_inputs)[:,0], var_to_np(test_outs)[:,0])\n",
    "        plt.plot(var_to_np(optimizable_inputs)[:,0], var_to_np(optimizable_inputs)[:,0] * 0,\n",
    "                 ls='', marker='o', alpha=0.3, markersize=3)\n",
    "        display(fig)\n",
    "        plt.close(fig)\n",
    "    fake_x = np_to_var(rng.rand(2,1) * 3-1, dtype=np.float32)\n",
    "    fake_x = np_to_var(rng.rand(2,1) * 0.8+0.1, dtype=np.float32)\n",
    "\n",
    "    out_real = adversary(x)\n",
    "    out_fake = adversary(optimizable_inputs)\n",
    "\n",
    "    score = out_real.mean() - out_fake.mean()\n",
    "    loss = -(score.mean())\n",
    "    optimizer.zero_grad()\n",
    "    loss.backward()\n",
    "    optimizer.step()\n",
    "    "
   ]
  },
  {
   "cell_type": "code",
   "execution_count": null,
   "metadata": {
    "collapsed": true
   },
   "outputs": [],
   "source": [
    "import torch as th\n",
    "from torch import nn\n",
    "from torch.nn.parameter import Parameter\n",
    "from torch.nn.utils.weight_norm import _norm\n",
    "\n",
    "class WeightNorm(object):\n",
    "    def __init__(self, name, dim, fixed_norm):\n",
    "        self.name = name\n",
    "        self.dim = dim\n",
    "        self.fixed_norm = fixed_norm\n",
    "\n",
    "    def compute_weight(self, module):\n",
    "        v = getattr(module, self.name + '_v')\n",
    "        if self.fixed_norm is None:\n",
    "            g = getattr(module, self.name + '_g')\n",
    "        else:\n",
    "            g = self.fixed_norm\n",
    "        normed_weight = v * (g / _norm(v, self.dim))\n",
    "        return normed_weight\n",
    "\n",
    "    @staticmethod\n",
    "    def apply(module, name, dim, fixed_norm):\n",
    "        fn = WeightNorm(name, dim, fixed_norm)\n",
    "\n",
    "        weight = getattr(module, name)\n",
    "\n",
    "        # remove w from parameter list\n",
    "        del module._parameters[name]\n",
    "\n",
    "        # add g and v as new parameters and express w as g/||v|| * v\n",
    "        if fixed_norm is None:\n",
    "            module.register_parameter(name + '_g', Parameter(_norm(weight, dim).data))\n",
    "        module.register_parameter(name + '_v', Parameter(weight.data))\n",
    "        setattr(module, name, fn.compute_weight(module))\n",
    "\n",
    "        # recompute weight before every forward()\n",
    "        module.register_forward_pre_hook(fn)\n",
    "\n",
    "        return fn\n",
    "\n",
    "    def remove(self, module):\n",
    "        weight = self.compute_weight(module)\n",
    "        delattr(module, self.name)\n",
    "        if self.fixed_norm is None:\n",
    "            del module._parameters[self.name + '_g']\n",
    "        del module._parameters[self.name + '_v']\n",
    "        module.register_parameter(self.name, Parameter(weight.data))\n",
    "\n",
    "    def __call__(self, module, inputs):\n",
    "        setattr(module, self.name, self.compute_weight(module))\n",
    "\n",
    "\n",
    "def weight_norm(module, name='weight', dim=0, fixed_norm=None):\n",
    "    r\"\"\"Applies weight normalization to a parameter in the given module.\n",
    "\n",
    "    .. math::\n",
    "         \\mathbf{w} = g \\dfrac{\\mathbf{v}}{\\|\\mathbf{v}\\|}\n",
    "\n",
    "    Weight normalization is a reparameterization that decouples the magnitude\n",
    "    of a weight tensor from its direction. This replaces the parameter specified\n",
    "    by `name` (e.g. \"weight\") with two parameters: one specifying the magnitude\n",
    "    (e.g. \"weight_g\") and one specifying the direction (e.g. \"weight_v\").\n",
    "    Weight normalization is implemented via a hook that recomputes the weight\n",
    "    tensor from the magnitude and direction before every :meth:`~Module.forward`\n",
    "    call.\n",
    "\n",
    "    By default, with `dim=0`, the norm is computed independently per output\n",
    "    channel/plane. To compute a norm over the entire weight tensor, use\n",
    "    `dim=None`.\n",
    "\n",
    "    See https://arxiv.org/abs/1602.07868\n",
    "\n",
    "    Args:\n",
    "        module (nn.Module): containing module\n",
    "        name (str, optional): name of weight parameter\n",
    "        dim (int, optional): dimension over which to compute the norm\n",
    "\n",
    "    Returns:\n",
    "        The original module with the weight norm hook\n",
    "\n",
    "    Example::\n",
    "\n",
    "        >>> m = weight_norm(nn.Linear(20, 40), name='weight')\n",
    "        Linear (20 -> 40)\n",
    "        >>> m.weight_g.size()\n",
    "        torch.Size([40, 1])\n",
    "        >>> m.weight_v.size()\n",
    "        torch.Size([40, 20])\n",
    "\n",
    "    \"\"\"\n",
    "    WeightNorm.apply(module, name, dim, fixed_norm=fixed_norm)\n",
    "    return module"
   ]
  },
  {
   "cell_type": "code",
   "execution_count": null,
   "metadata": {},
   "outputs": [],
   "source": [
    "from braindecode.torch_ext.util import set_random_seeds\n",
    "set_random_seeds(20181102, False)\n",
    "\n",
    "dim = 1\n",
    "intermediate_dim = 100\n",
    "norm_a = np_to_var(np.ones((intermediate_dim,1)), dtype=np.float32, requires_grad=True)\n",
    "norm_b = np_to_var(np.ones((intermediate_dim * 2,1)), dtype=np.float32, requires_grad=True)\n",
    "norm_c = np_to_var(np.ones((1,1)), dtype=np.float32, requires_grad=True)\n",
    "adversary = nn.Sequential(\n",
    "    weight_norm(nn.Linear(dim, intermediate_dim), fixed_norm=norm_a),\n",
    "    ConcatReLU(),\n",
    "    nn.Linear(intermediate_dim*2, intermediate_dim*2),\n",
    "    nn.ReLU(),\n",
    "    nn.Linear(intermediate_dim*2, 1))\n",
    "\n",
    "test_inputs = np_to_var(np.linspace(-3,3,200)[:,None], dtype=np.float32)\n",
    "\n",
    "test_outs = adversary(test_inputs)\n",
    "plt.plot(var_to_np(test_inputs)[:,0], var_to_np(test_outs)[:,0])\n",
    "\n",
    "rng = RandomState(20181102)\n",
    "\n",
    "optimizable_inputs = np_to_var(np.linspace(-3,3,200)[:,None], dtype=np.float32, requires_grad=True)\n",
    "\n",
    "optimizer = th.optim.Adam([dict(params=list(adversary.parameters()) + [norm_a] , lr=1e-3),\n",
    "                          dict(params=[optimizable_inputs], lr=-1e-3)])\n",
    "plt.plot(var_to_np(optimizable_inputs)[:,0], var_to_np(optimizable_inputs)[:,0] * 0,\n",
    "         ls='', marker='o', alpha=0.3, markersize=3)"
   ]
  },
  {
   "cell_type": "code",
   "execution_count": null,
   "metadata": {},
   "outputs": [],
   "source": [
    "n_epochs = 1000\n",
    "for i_epoch in range(n_epochs):\n",
    "    if i_epoch % (n_epochs // 10) == 0:\n",
    "        fig = plt.figure(figsize=(12,2))\n",
    "        test_inputs = np_to_var(np.linspace(-3,3,200)[:,None], dtype=np.float32)\n",
    "\n",
    "        test_outs = adversary(test_inputs)\n",
    "        plt.plot(var_to_np(test_inputs)[:,0], var_to_np(test_outs)[:,0])\n",
    "        plt.plot(var_to_np(optimizable_inputs)[:,0], var_to_np(optimizable_inputs)[:,0] * 0,\n",
    "                 ls='', marker='o', alpha=0.3, markersize=3)\n",
    "        display(fig)\n",
    "        plt.close(fig)\n",
    "    fake_x = np_to_var(rng.rand(2,1) * 3-1, dtype=np.float32)\n",
    "    fake_x = np_to_var(rng.rand(2,1) * 0.8+0.1, dtype=np.float32)\n",
    "\n",
    "    out_real = adversary(x)\n",
    "    out_fake = adversary(optimizable_inputs)\n",
    "\n",
    "    score = out_real.mean() - out_fake.mean()\n",
    "    loss = -(score.mean())\n",
    "    optimizer.zero_grad()\n",
    "    loss.backward()\n",
    "    optimizer.step()\n",
    "    "
   ]
  },
  {
   "cell_type": "code",
   "execution_count": null,
   "metadata": {
    "collapsed": true
   },
   "outputs": [],
   "source": []
  },
  {
   "cell_type": "code",
   "execution_count": null,
   "metadata": {},
   "outputs": [],
   "source": [
    "norm_a"
   ]
  }
 ],
 "metadata": {
  "kernelspec": {
   "display_name": "Python 3",
   "language": "python",
   "name": "python3"
  },
  "language_info": {
   "codemirror_mode": {
    "name": "ipython",
    "version": 3
   },
   "file_extension": ".py",
   "mimetype": "text/x-python",
   "name": "python",
   "nbconvert_exporter": "python",
   "pygments_lexer": "ipython3",
   "version": "3.6.6"
  }
 },
 "nbformat": 4,
 "nbformat_minor": 2
}
