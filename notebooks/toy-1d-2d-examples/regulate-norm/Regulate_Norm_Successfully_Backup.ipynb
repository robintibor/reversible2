{
 "cells": [
  {
   "cell_type": "code",
   "execution_count": null,
   "metadata": {
    "collapsed": true
   },
   "outputs": [],
   "source": [
    "%%capture\n",
    "import os\n",
    "import site\n",
    "os.sys.path.insert(0, '/home/schirrmr/braindecode/code/braindecode/')\n",
    "os.sys.path.insert(0, '/home/schirrmr/code/explaining/reversible//')\n",
    "%cd /home/schirrmr/\n"
   ]
  },
  {
   "cell_type": "code",
   "execution_count": null,
   "metadata": {},
   "outputs": [],
   "source": [
    "%load_ext autoreload\n",
    "%autoreload 2\n",
    "import numpy as np\n",
    "import logging\n",
    "log = logging.getLogger()\n",
    "log.setLevel('INFO')\n",
    "import sys\n",
    "logging.basicConfig(format='%(asctime)s %(levelname)s : %(message)s',\n",
    "                     level=logging.INFO, stream=sys.stdout)\n",
    "import matplotlib\n",
    "from matplotlib import pyplot as plt\n",
    "from matplotlib import cm\n",
    "%matplotlib inline\n",
    "%config InlineBackend.figure_format = 'png' \n",
    "matplotlib.rcParams['figure.figsize'] = (12.0, 1.0)\n",
    "matplotlib.rcParams['font.size'] = 14\n",
    "import seaborn\n",
    "seaborn.set_style('darkgrid')"
   ]
  },
  {
   "cell_type": "code",
   "execution_count": null,
   "metadata": {
    "collapsed": true
   },
   "outputs": [],
   "source": [
    "\n",
    "from torch.nn.parameter import Parameter\n",
    "from torch.nn.utils.weight_norm import _norm\n",
    "class WeightNorm(object):\n",
    "    def __init__(self, name, dim, fixed_norm):\n",
    "        self.name = name\n",
    "        self.dim = dim\n",
    "        self.fixed_norm = fixed_norm\n",
    "\n",
    "    def compute_weight(self, module):\n",
    "        v = getattr(module, self.name + '_v')\n",
    "        if self.fixed_norm is None:\n",
    "            g = getattr(module, self.name + '_g')\n",
    "        else:\n",
    "            g = self.fixed_norm\n",
    "        return v * (g / _norm(v, self.dim))\n",
    "\n",
    "    @staticmethod\n",
    "    def apply(module, name, dim, fixed_norm):\n",
    "        fn = WeightNorm(name, dim, fixed_norm)\n",
    "\n",
    "        weight = getattr(module, name)\n",
    "\n",
    "        # remove w from parameter list\n",
    "        del module._parameters[name]\n",
    "\n",
    "        # add g and v as new parameters and express w as g/||v|| * v\n",
    "        if fixed_norm is None:\n",
    "            module.register_parameter(name + '_g', Parameter(_norm(weight, dim).data))\n",
    "        module.register_parameter(name + '_v', Parameter(weight.data))\n",
    "        setattr(module, name, fn.compute_weight(module))\n",
    "\n",
    "        # recompute weight before every forward()\n",
    "        module.register_forward_pre_hook(fn)\n",
    "\n",
    "        return fn\n",
    "\n",
    "    def remove(self, module):\n",
    "        weight = self.compute_weight(module)\n",
    "        delattr(module, self.name)\n",
    "        if self.fixed_norm is None:\n",
    "            del module._parameters[self.name + '_g']\n",
    "        del module._parameters[self.name + '_v']\n",
    "        module.register_parameter(self.name, Parameter(weight.data))\n",
    "\n",
    "    def __call__(self, module, inputs):\n",
    "        setattr(module, self.name, self.compute_weight(module))\n",
    "\n",
    "\n",
    "def weight_norm(module, name='weight', dim=0, fixed_norm=None):\n",
    "    r\"\"\"Applies weight normalization to a parameter in the given module.\n",
    "\n",
    "    .. math::\n",
    "         \\mathbf{w} = g \\dfrac{\\mathbf{v}}{\\|\\mathbf{v}\\|}\n",
    "\n",
    "    Weight normalization is a reparameterization that decouples the magnitude\n",
    "    of a weight tensor from its direction. This replaces the parameter specified\n",
    "    by `name` (e.g. \"weight\") with two parameters: one specifying the magnitude\n",
    "    (e.g. \"weight_g\") and one specifying the direction (e.g. \"weight_v\").\n",
    "    Weight normalization is implemented via a hook that recomputes the weight\n",
    "    tensor from the magnitude and direction before every :meth:`~Module.forward`\n",
    "    call.\n",
    "\n",
    "    By default, with `dim=0`, the norm is computed independently per output\n",
    "    channel/plane. To compute a norm over the entire weight tensor, use\n",
    "    `dim=None`.\n",
    "\n",
    "    See https://arxiv.org/abs/1602.07868\n",
    "\n",
    "    Args:\n",
    "        module (nn.Module): containing module\n",
    "        name (str, optional): name of weight parameter\n",
    "        dim (int, optional): dimension over which to compute the norm\n",
    "\n",
    "    Returns:\n",
    "        The original module with the weight norm hook\n",
    "\n",
    "    Example::\n",
    "\n",
    "        >>> m = weight_norm(nn.Linear(20, 40), name='weight')\n",
    "        Linear (20 -> 40)\n",
    "        >>> m.weight_g.size()\n",
    "        torch.Size([40, 1])\n",
    "        >>> m.weight_v.size()\n",
    "        torch.Size([40, 20])\n",
    "\n",
    "    \"\"\"\n",
    "    WeightNorm.apply(module, name, dim, fixed_norm=fixed_norm)\n",
    "    return module"
   ]
  },
  {
   "cell_type": "code",
   "execution_count": null,
   "metadata": {
    "collapsed": true
   },
   "outputs": [],
   "source": [
    "# 1d example uniform 2,-2 two points at 1,-1"
   ]
  },
  {
   "cell_type": "code",
   "execution_count": null,
   "metadata": {
    "collapsed": true
   },
   "outputs": [],
   "source": [
    "from numpy.random import RandomState\n",
    "from braindecode.torch_ext.util import np_to_var, var_to_np\n",
    "from IPython.display import display"
   ]
  },
  {
   "cell_type": "code",
   "execution_count": null,
   "metadata": {
    "collapsed": true
   },
   "outputs": [],
   "source": [
    "x = np_to_var([-1,1], dtype=np.float32, requires_grad=True)\n",
    "x_fake = np_to_var(np.linspace(-2,2, 400), dtype=np.float32, requires_grad=True)\n"
   ]
  },
  {
   "cell_type": "code",
   "execution_count": null,
   "metadata": {
    "collapsed": true
   },
   "outputs": [],
   "source": [
    "from torch.nn import ConstantPad2d\n",
    "from reversible.revnet import ReversibleBlockOld, SubsampleSplitter, ViewAs\n",
    "import torch as th\n",
    "from torch import nn\n",
    "class ConcatReLU(nn.Module):\n",
    "    def __init__(self):\n",
    "        super(ConcatReLU, self).__init__()\n",
    "\n",
    "    def forward(self, x):\n",
    "        return th.cat((nn.functional.relu(x), nn.functional.relu(-x)), dim=1)\n",
    "\n",
    "class Clip(nn.Module):\n",
    "    def __init__(self):\n",
    "        super(Clip, self).__init__()\n",
    "\n",
    "    def forward(self, x):\n",
    "        return th.clamp(x, 0,1.2)\n",
    "    "
   ]
  },
  {
   "cell_type": "code",
   "execution_count": null,
   "metadata": {
    "collapsed": true
   },
   "outputs": [],
   "source": [
    "from braindecode.torch_ext.util import set_random_seeds\n",
    "set_random_seeds(0, False) # worked with 102398213\n",
    "model = nn.Sequential(nn.Linear(1,2), ConcatReLU(), \n",
    "                      Clip(), nn.Linear(4,1))\n",
    "model[0].bias.data[0] = -1\n",
    "model[0].bias.data[1] = 1\n",
    "model[0].weight.data[0] = 1\n",
    "model[0].weight.data[1] = 1\n",
    "model[3].weight.data[:] = 0.25\n",
    "model[3].bias.data[:] = 0"
   ]
  },
  {
   "cell_type": "code",
   "execution_count": null,
   "metadata": {},
   "outputs": [],
   "source": [
    "list(model.parameters())"
   ]
  },
  {
   "cell_type": "code",
   "execution_count": null,
   "metadata": {},
   "outputs": [],
   "source": [
    "fake_out = model(x_fake.unsqueeze(1))\n",
    "fig = plt.figure(figsize=(12,3))\n",
    "plt.plot(var_to_np(x_fake), var_to_np(fake_out).squeeze())\n",
    "plt.ylabel('Discriminator Score')\n",
    "plt.xlabel('Input')\n",
    "display(fig)\n",
    "plt.close(fig)\n",
    "fig = plt.figure(figsize=(12,3))\n",
    "part_model = nn.Sequential(model[0], model[1], model[2])\n",
    "out_part = part_model(x_fake.unsqueeze(1))\n",
    "\n",
    "plt.plot(var_to_np(x_fake), var_to_np(out_part[:,0] + out_part[:,2]).squeeze())\n",
    "\n",
    "plt.plot(var_to_np(x_fake), var_to_np(out_part[:,1] + out_part[:,3]).squeeze())\n",
    "display(fig)\n",
    "plt.close(fig)"
   ]
  },
  {
   "cell_type": "code",
   "execution_count": null,
   "metadata": {
    "collapsed": true
   },
   "outputs": [],
   "source": [
    "\n",
    "optimizer = th.optim.Adam(model.parameters(), lr=5e-3)"
   ]
  },
  {
   "cell_type": "code",
   "execution_count": null,
   "metadata": {},
   "outputs": [],
   "source": [
    "\n",
    "\n",
    "n_epochs = 2000\n",
    "for i_epoch in range(n_epochs):\n",
    "    real_out = model(x.unsqueeze(1))\n",
    "    fake_out = model(x_fake.unsqueeze(1))\n",
    "\n",
    "    loss = -(th.mean(real_out) - th.mean(fake_out))\n",
    "    optimizer.zero_grad()\n",
    "    loss.backward()\n",
    "    optimizer.step()\n",
    "    if i_epoch % (n_epochs // 20) == 0:\n",
    "\n",
    "        fig = plt.figure(figsize=(12,3))\n",
    "        plt.plot(var_to_np(x_fake), var_to_np(fake_out).squeeze())\n",
    "        plt.ylabel('Discriminator Score')\n",
    "        plt.xlabel('Input')\n",
    "        display(fig)\n",
    "        plt.close(fig)\n",
    "        print(loss.item())\n",
    "        print(model[0].weight)\n",
    "        print(model[0].bias)\n",
    "        fig = plt.figure(figsize=(12,3))\n",
    "        part_model = nn.Sequential(model[0], model[1], model[2])\n",
    "        out_part = part_model(x_fake.unsqueeze(1))\n",
    "\n",
    "        plt.plot(var_to_np(x_fake), var_to_np(out_part[:,0] + out_part[:,2]).squeeze())\n",
    "\n",
    "        plt.plot(var_to_np(x_fake), var_to_np(out_part[:,1] + out_part[:,3]).squeeze())\n",
    "        display(fig)\n",
    "        plt.close(fig)"
   ]
  },
  {
   "cell_type": "markdown",
   "metadata": {},
   "source": [
    "#### now with weight norm regularization on a point at 0,0"
   ]
  },
  {
   "cell_type": "code",
   "execution_count": null,
   "metadata": {},
   "outputs": [],
   "source": [
    "class PointWiseMultLayer(nn.Module):\n",
    "    def __init__(self):\n",
    "        super(PointWiseMultLayer,self).__init__()\n",
    "        self.weights = th.ones(4, requires_grad=True)\n",
    "    def forward(self, x):\n",
    "        return x * self.weights.unsqueeze(0)\n",
    "\n",
    "valid_x = np_to_var([-0.5, 0.5], dtype=np.float32, requires_grad=True)\n",
    "\n",
    "from braindecode.torch_ext.util import set_random_seeds\n",
    "set_random_seeds(0, False) # worked with 102398213\n",
    "model = nn.Sequential(nn.Linear(1,2), ConcatReLU(), \n",
    "                      Clip(), PointWiseMultLayer(), nn.Linear(4,1))\n",
    "model[0].bias.data[0] = -1\n",
    "model[0].bias.data[1] = 1\n",
    "model[0].weight.data[0] = 1\n",
    "model[0].weight.data[1] = 1\n",
    "model[4].weight.data[:] = 0.25\n",
    "model[4].bias.data[:] = 0\n",
    "\n",
    "\n",
    "fake_out = model(x_fake.unsqueeze(1))\n",
    "fig = plt.figure(figsize=(12,3))\n",
    "plt.plot(var_to_np(x_fake), var_to_np(fake_out).squeeze())\n",
    "display(fig)\n",
    "plt.close(fig)\n",
    "fig = plt.figure(figsize=(12,3))\n",
    "part_model = nn.Sequential(model[0], model[1], model[2])\n",
    "out_part = part_model(x_fake.unsqueeze(1))\n",
    "\n",
    "plt.plot(var_to_np(x_fake), var_to_np(out_part[:,0] + out_part[:,2]).squeeze())\n",
    "\n",
    "plt.plot(var_to_np(x_fake), var_to_np(out_part[:,1] + out_part[:,3]).squeeze())\n",
    "display(fig)\n",
    "plt.close(fig)\n",
    "\n",
    "optim_wnorm = th.optim.Adam([model[3].weights], lr=5e-3)\n",
    "optimizer = th.optim.Adam(model.parameters(), lr=5e-3)"
   ]
  },
  {
   "cell_type": "code",
   "execution_count": null,
   "metadata": {},
   "outputs": [],
   "source": [
    "x_fake = np_to_var(np.linspace(-2,2, 400), dtype=np.float32, requires_grad=True)\n",
    "\n",
    "\n",
    "n_epochs = 2000\n",
    "for i_epoch in range(n_epochs):\n",
    "    real_out = model(x.unsqueeze(1))\n",
    "    fake_out = model(x_fake.unsqueeze(1))\n",
    "\n",
    "    loss = -(th.mean(real_out) - th.mean(fake_out))\n",
    "    optimizer.zero_grad()\n",
    "    loss.backward()\n",
    "    optimizer.step()\n",
    "    valid_out = model(valid_x.unsqueeze(1))\n",
    "    loss = -th.mean(valid_out)\n",
    "    optim_wnorm.zero_grad()\n",
    "    loss.backward()\n",
    "    optim_wnorm.step()\n",
    "    if i_epoch % (n_epochs // 20) == 0:\n",
    "\n",
    "        fig = plt.figure(figsize=(12,3))\n",
    "        plt.plot(var_to_np(x_fake), var_to_np(fake_out).squeeze())\n",
    "        plt.ylabel('Discriminator Score')\n",
    "        plt.xlabel('Input')\n",
    "        display(fig)\n",
    "        plt.close(fig)\n",
    "        print(\"loss {:.3f}\".format(loss.item()))\n",
    "        print(\"wnorms\", [model[3].weights])\n",
    "        print(model[0].weight)\n",
    "        print(model[0].bias)\n",
    "        part_model = nn.Sequential(model[0], model[1], model[2])\n",
    "        out_part = part_model(x_fake.unsqueeze(1))\n",
    "        fig = plt.figure(figsize=(12,3))\n",
    "\n",
    "        plt.plot(var_to_np(x_fake), var_to_np(out_part[:,0] + out_part[:,2]).squeeze())\n",
    "\n",
    "        plt.plot(var_to_np(x_fake), var_to_np(out_part[:,1] + out_part[:,3]).squeeze())\n",
    "        display(fig)\n",
    "        plt.close(fig)"
   ]
  },
  {
   "cell_type": "markdown",
   "metadata": {},
   "source": [
    "### optimize generated points"
   ]
  },
  {
   "cell_type": "code",
   "execution_count": null,
   "metadata": {},
   "outputs": [],
   "source": [
    "valid_x = np_to_var([-0.5, 0.5], dtype=np.float32, requires_grad=True)\n",
    "\n",
    "from braindecode.torch_ext.util import set_random_seeds\n",
    "set_random_seeds(0, False) # worked with 102398213\n",
    "model = nn.Sequential(nn.Linear(1,2), ConcatReLU(), \n",
    "                      Clip(), PointWiseMultLayer(), nn.Linear(4,1))\n",
    "model[0].bias.data[0] = -1\n",
    "model[0].bias.data[1] = 1\n",
    "model[0].weight.data[0] = 1\n",
    "model[0].weight.data[1] = 1\n",
    "model[4].weight.data[:] = 0.25\n",
    "model[4].bias.data[:] = 0\n",
    "\n",
    "x_gen = np_to_var(np.linspace(-2,2, 400), dtype=np.float32, requires_grad=True)\n",
    "\n",
    "fake_out = model(x_fake.unsqueeze(1))\n",
    "fig = plt.figure(figsize=(12,3))\n",
    "plt.plot(var_to_np(x_fake), var_to_np(fake_out).squeeze())\n",
    "display(fig)\n",
    "plt.close(fig)\n",
    "fig = plt.figure(figsize=(12,3))\n",
    "part_model = nn.Sequential(model[0], model[1], model[2])\n",
    "out_part = part_model(x_fake.unsqueeze(1))\n",
    "\n",
    "plt.plot(var_to_np(x_fake), var_to_np(out_part[:,0] + out_part[:,2]).squeeze())\n",
    "\n",
    "plt.plot(var_to_np(x_fake), var_to_np(out_part[:,1] + out_part[:,3]).squeeze())\n",
    "display(fig)\n",
    "plt.close(fig)\n",
    "\n",
    "optim_wnorm = th.optim.Adam([model[3].weights], lr=5e-3)\n",
    "optimizer = th.optim.Adam(model.parameters(), lr=5e-3)\n",
    "optim_gen = th.optim.Adam([x_gen], lr=5e-3)"
   ]
  },
  {
   "cell_type": "code",
   "execution_count": null,
   "metadata": {},
   "outputs": [],
   "source": [
    "x_fake = np_to_var(np.linspace(-2,2, 400), dtype=np.float32, requires_grad=True)\n",
    "\n",
    "n_epochs = 2000\n",
    "for i_epoch in range(n_epochs):\n",
    "    real_out = model(x.unsqueeze(1))\n",
    "    fake_out = model(x_gen.unsqueeze(1))\n",
    "\n",
    "    loss = -(th.mean(real_out) - th.mean(fake_out))\n",
    "    optimizer.zero_grad()\n",
    "    loss.backward()\n",
    "    \n",
    "    optimizer.step()\n",
    "    x_gen.grad.data.neg_()\n",
    "    optim_gen.step()\n",
    "    valid_out = model(valid_x.unsqueeze(1))\n",
    "    loss = -th.mean(valid_out)\n",
    "    optim_wnorm.zero_grad()\n",
    "    loss.backward()\n",
    "    optim_wnorm.step()\n",
    "    if i_epoch % (n_epochs // 20) == 0:\n",
    "        fake_out = model(x_fake.unsqueeze(1))\n",
    "        fig = plt.figure(figsize=(12,3))\n",
    "        plt.ylabel('Discriminator Score')\n",
    "        plt.xlabel('Input')\n",
    "        plt.plot(var_to_np(x_fake), var_to_np(fake_out).squeeze())\n",
    "        \n",
    "        display(fig)\n",
    "        plt.close(fig)\n",
    "        \n",
    "        fig = plt.figure(figsize=(12,3))\n",
    "        plt.plot(var_to_np(x_gen).squeeze(), var_to_np(x_gen).squeeze() * 0, ls='', marker='o', alpha=0.5)\n",
    "        plt.xlabel('Input (generated)')\n",
    "        \n",
    "        display(fig)\n",
    "        plt.close(fig)\n",
    "        print(\"loss {:.3f}\".format(loss.item()))\n",
    "        print(\"wnorms\", [model[3].weights])\n",
    "        print(model[0].weight)\n",
    "        print(model[0].bias)\n",
    "        part_model = nn.Sequential(model[0], model[1], model[2])\n",
    "        out_part = part_model(x_fake.unsqueeze(1))\n",
    "        fig = plt.figure(figsize=(12,3))\n",
    "\n",
    "        plt.plot(var_to_np(x_fake), var_to_np(out_part[:,0] + out_part[:,2]).squeeze())\n",
    "\n",
    "        plt.plot(var_to_np(x_fake), var_to_np(out_part[:,1] + out_part[:,3]).squeeze())\n",
    "        display(fig)\n",
    "        plt.close(fig)"
   ]
  },
  {
   "cell_type": "code",
   "execution_count": null,
   "metadata": {},
   "outputs": [],
   "source": [
    "print(list(model.parameters()))"
   ]
  },
  {
   "cell_type": "code",
   "execution_count": null,
   "metadata": {
    "collapsed": true
   },
   "outputs": [],
   "source": [
    "real_out = model(x.unsqueeze(1))"
   ]
  },
  {
   "cell_type": "code",
   "execution_count": null,
   "metadata": {
    "collapsed": true
   },
   "outputs": [],
   "source": [
    "fake_out = model(x_gen.unsqueeze(1))"
   ]
  },
  {
   "cell_type": "code",
   "execution_count": null,
   "metadata": {},
   "outputs": [],
   "source": [
    "fake_out"
   ]
  },
  {
   "cell_type": "code",
   "execution_count": null,
   "metadata": {
    "collapsed": true
   },
   "outputs": [],
   "source": []
  }
 ],
 "metadata": {
  "kernelspec": {
   "display_name": "Python 3",
   "language": "python",
   "name": "python3"
  },
  "language_info": {
   "codemirror_mode": {
    "name": "ipython",
    "version": 3
   },
   "file_extension": ".py",
   "mimetype": "text/x-python",
   "name": "python",
   "nbconvert_exporter": "python",
   "pygments_lexer": "ipython3",
   "version": "3.6.8"
  }
 },
 "nbformat": 4,
 "nbformat_minor": 2
}
