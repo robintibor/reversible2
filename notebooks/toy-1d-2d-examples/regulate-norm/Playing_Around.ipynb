{
 "cells": [
  {
   "cell_type": "code",
   "execution_count": null,
   "metadata": {
    "collapsed": true
   },
   "outputs": [],
   "source": [
    "%%capture\n",
    "import os\n",
    "import site\n",
    "os.sys.path.insert(0, '/home/schirrmr/braindecode/code/braindecode/')\n",
    "os.sys.path.insert(0, '/home/schirrmr/code/reversible///')\n",
    "%cd /home/schirrmr/\n"
   ]
  },
  {
   "cell_type": "code",
   "execution_count": null,
   "metadata": {
    "collapsed": true
   },
   "outputs": [],
   "source": [
    "%load_ext autoreload\n",
    "%autoreload 2\n",
    "import numpy as np\n",
    "import logging\n",
    "log = logging.getLogger()\n",
    "log.setLevel('INFO')\n",
    "import sys\n",
    "logging.basicConfig(format='%(asctime)s %(levelname)s : %(message)s',\n",
    "                     level=logging.INFO, stream=sys.stdout)\n",
    "import matplotlib\n",
    "from matplotlib import pyplot as plt\n",
    "from matplotlib import cm\n",
    "%matplotlib inline\n",
    "%config InlineBackend.figure_format = 'png' \n",
    "matplotlib.rcParams['figure.figsize'] = (12.0, 1.0)\n",
    "matplotlib.rcParams['font.size'] = 14\n",
    "import seaborn\n",
    "seaborn.set_style('darkgrid')"
   ]
  },
  {
   "cell_type": "code",
   "execution_count": null,
   "metadata": {
    "collapsed": true
   },
   "outputs": [],
   "source": [
    "from numpy.random import RandomState\n",
    "from braindecode.torch_ext.util import np_to_var, var_to_np\n",
    "from IPython.display import display"
   ]
  },
  {
   "cell_type": "code",
   "execution_count": null,
   "metadata": {},
   "outputs": [],
   "source": [
    "x = np_to_var([-1.5,1.5], dtype=np.float32, requires_grad=True)\n",
    "valid_x = np_to_var([-0.5, 0.5], dtype=np.float32, requires_grad=True)\n",
    "x_fake = np_to_var(np.linspace(-2,2, 400), dtype=np.float32, requires_grad=True)\n",
    "plt.scatter(var_to_np(x),  var_to_np(x) * 0, )\n",
    "plt.scatter(var_to_np(valid_x),  var_to_np(valid_x) * 0, )\n",
    "plt.scatter(var_to_np(x_fake),  var_to_np(x_fake) * 0 - 0.1, alpha=0.2, marker='x')"
   ]
  },
  {
   "cell_type": "code",
   "execution_count": null,
   "metadata": {
    "collapsed": true
   },
   "outputs": [],
   "source": [
    "from torch.nn import ConstantPad2d\n",
    "import torch as th\n",
    "from torch import nn"
   ]
  },
  {
   "cell_type": "code",
   "execution_count": null,
   "metadata": {},
   "outputs": [],
   "source": [
    "from reversible2.weight_norm import weight_norm\n",
    "\n",
    "from braindecode.torch_ext.util import set_random_seeds\n",
    "set_random_seeds(20190425, False) # worked with 102398213\n",
    "model = nn.Sequential(nn.Linear(1,40), nn.ReLU(), \n",
    "                      nn.Linear(40,1))\n",
    "\n",
    "norms = [th.zeros((40,1), requires_grad=True), \n",
    "         th.zeros((1,1), requires_grad=True)]\n",
    "weight_norm(model[0], fixed_log_norm=norms[0])\n",
    "weight_norm(model[2], fixed_log_norm=norms[1])\n",
    "\n",
    "fake_out = model(x_fake.unsqueeze(1))\n",
    "fig = plt.figure(figsize=(12,3))\n",
    "plt.plot(var_to_np(x_fake), var_to_np(fake_out).squeeze())\n",
    "plt.legend((\"Discriminator score\",))\n",
    "plt.ylabel(\"Discriminator score\")\n",
    "display(fig)\n",
    "plt.close(fig)\n",
    "fig = plt.figure(figsize=(12,3))\n",
    "\n",
    "optimizer = th.optim.Adam(model.parameters(), lr=5e-3)"
   ]
  },
  {
   "cell_type": "code",
   "execution_count": null,
   "metadata": {},
   "outputs": [],
   "source": [
    "from reversible2.gradient_penalty import gradient_penalty\n",
    "\n",
    "x_fake = np_to_var(np.linspace(-2,2, 400), dtype=np.float32, requires_grad=True)\n",
    "\n",
    "\n",
    "n_epochs = 20000\n",
    "for i_epoch in range(n_epochs):\n",
    "    real_out = model(th.cat((x, )).unsqueeze(1))\n",
    "    fake_out = model(x_fake.unsqueeze(1))\n",
    "\n",
    "    loss_score = -(th.mean(real_out) - th.mean(fake_out))\n",
    "    loss_grad = gradient_penalty(model, th.cat((x, valid_x)).repeat(100).unsqueeze(1), x_fake.unsqueeze(1))\n",
    "    loss = loss_score + loss_grad * 100\n",
    "    optimizer.zero_grad()\n",
    "    loss.backward()\n",
    "    optimizer.step()\n",
    "    if i_epoch % (n_epochs // 20) == 0:\n",
    "\n",
    "        real_out = model(th.cat((x, valid_x)).unsqueeze(1))\n",
    "        fake_out = model(x_fake.unsqueeze(1))\n",
    "        loss_score = -(th.mean(real_out) - th.mean(fake_out))\n",
    "        fig = plt.figure(figsize=(12,3))\n",
    "        plt.plot(var_to_np(x_fake), var_to_np(fake_out).squeeze())\n",
    "        plt.ylabel('Discriminator Score')\n",
    "        plt.xlabel('Input')\n",
    "        plt.scatter(var_to_np(x),  var_to_np(x) * 0 + var_to_np(th.mean(fake_out)), )\n",
    "        plt.scatter(var_to_np(valid_x),  var_to_np(valid_x) * 0 + var_to_np(th.mean(fake_out)), )\n",
    "        plt.legend((\"Score\", \"Training\", \"Validation\"), bbox_to_anchor=(1,1,0,0))\n",
    "        display(fig)\n",
    "        plt.close(fig)\n",
    "        print(\"Loss {:.1E}\".format(loss_score.item()))\n",
    "        "
   ]
  },
  {
   "cell_type": "code",
   "execution_count": null,
   "metadata": {},
   "outputs": [],
   "source": [
    "gradient_penalty(model, th.cat((x, valid_x)).repeat(100).unsqueeze(1), x_fake.unsqueeze(1))"
   ]
  },
  {
   "cell_type": "code",
   "execution_count": null,
   "metadata": {},
   "outputs": [],
   "source": [
    "from reversible2.gradient_penalty import gradient_penalty\n",
    "\n",
    "x_fake = np_to_var(np.linspace(-2,2, 400), dtype=np.float32, requires_grad=True)\n",
    "\n",
    "\n",
    "n_epochs = 2000\n",
    "for i_epoch in range(n_epochs):\n",
    "    loss_score = 0\n",
    "    loss_grad = gradient_penalty_at_points(model, valid_x.unsqueeze(1), max_grad=0)\n",
    "    loss = loss_score + loss_grad * 10\n",
    "    optimizer.zero_grad()\n",
    "    loss.backward()\n",
    "    optimizer.step()\n",
    "    if i_epoch % (n_epochs // 20) == 0:\n",
    "\n",
    "        real_out = model(th.cat((x, valid_x)).unsqueeze(1))\n",
    "        fake_out = model(x_fake.unsqueeze(1))\n",
    "        loss_score = -(th.mean(real_out) - th.mean(fake_out))\n",
    "        fig = plt.figure(figsize=(12,3))\n",
    "        plt.plot(var_to_np(x_fake), var_to_np(fake_out).squeeze())\n",
    "        plt.ylabel('Discriminator Score')\n",
    "        plt.xlabel('Input')\n",
    "        plt.scatter(var_to_np(x),  var_to_np(x) * 0 + var_to_np(th.mean(fake_out)), )\n",
    "        plt.scatter(var_to_np(valid_x),  var_to_np(valid_x) * 0 + var_to_np(th.mean(fake_out)), )\n",
    "        plt.legend((\"Score\", \"Training\", \"Validation\"), bbox_to_anchor=(1,1,0,0))\n",
    "        display(fig)\n",
    "        plt.close(fig)\n",
    "        print(\"Loss {:.1E}\".format(loss_score.item()))\n",
    "        "
   ]
  },
  {
   "cell_type": "code",
   "execution_count": null,
   "metadata": {},
   "outputs": [],
   "source": [
    "gradient_penalty(model, th.cat((x, valid_x)).repeat(100).unsqueeze(1), x_fake.unsqueeze(1))"
   ]
  },
  {
   "cell_type": "code",
   "execution_count": null,
   "metadata": {
    "collapsed": true
   },
   "outputs": [],
   "source": [
    "from reversible2.gradient_penalty import gradient_penalty_at_points"
   ]
  },
  {
   "cell_type": "code",
   "execution_count": null,
   "metadata": {},
   "outputs": [],
   "source": [
    "gradient_penalty_at_points(model, valid_x.unsqueeze(1), max_grad=0)"
   ]
  },
  {
   "cell_type": "code",
   "execution_count": null,
   "metadata": {},
   "outputs": [],
   "source": [
    "from reversible2.weight_norm import weight_norm\n",
    "\n",
    "from braindecode.torch_ext.util import set_random_seeds\n",
    "set_random_seeds(20190425, False) # worked with 102398213\n",
    "model = nn.Sequential(nn.Linear(1,80), nn.ReLU(), \n",
    "                      nn.Linear(80,1))\n",
    "\n",
    "fake_out = model(x_fake.unsqueeze(1))\n",
    "fig = plt.figure(figsize=(12,3))\n",
    "plt.plot(var_to_np(x_fake), var_to_np(fake_out).squeeze())\n",
    "plt.legend((\"Discriminator score\",))\n",
    "plt.ylabel(\"Discriminator score\")\n",
    "display(fig)\n",
    "plt.close(fig)\n",
    "fig = plt.figure(figsize=(12,3))\n",
    "\n",
    "optimizer = th.optim.Adam(model.parameters(), lr=5e-3)"
   ]
  },
  {
   "cell_type": "code",
   "execution_count": null,
   "metadata": {},
   "outputs": [],
   "source": [
    "from reversible2.gradient_penalty import gradient_penalty\n",
    "\n",
    "x_fake = np_to_var(np.linspace(-2,2, 400), dtype=np.float32, requires_grad=True)\n",
    "\n",
    "\n",
    "n_epochs = 20000\n",
    "for i_epoch in range(n_epochs):\n",
    "    real_out = model(th.cat((x, )).unsqueeze(1))\n",
    "    fake_out = model(x_fake.unsqueeze(1))\n",
    "\n",
    "    loss_score = -(th.mean(real_out) - th.mean(fake_out))\n",
    "    loss_grad = gradient_penalty(model, th.cat((x, valid_x)).repeat(100).unsqueeze(1), x_fake.unsqueeze(1))\n",
    "    loss_grad_data = gradient_penalty_at_points(model, valid_x.unsqueeze(1), max_grad=0)\n",
    "    loss = loss_score + loss_grad * 100 + loss_grad_data * 10\n",
    "    optimizer.zero_grad()\n",
    "    loss.backward()\n",
    "    optimizer.step()\n",
    "    if i_epoch % (n_epochs // 20) == 0:\n",
    "\n",
    "        real_out = model(th.cat((x, valid_x)).unsqueeze(1))\n",
    "        fake_out = model(x_fake.unsqueeze(1))\n",
    "        loss_score = -(th.mean(real_out) - th.mean(fake_out))\n",
    "        fig = plt.figure(figsize=(12,3))\n",
    "        plt.plot(var_to_np(x_fake), var_to_np(fake_out).squeeze())\n",
    "        plt.ylabel('Discriminator Score')\n",
    "        plt.xlabel('Input')\n",
    "        plt.scatter(var_to_np(x),  var_to_np(x) * 0 + var_to_np(th.mean(fake_out)), )\n",
    "        plt.scatter(var_to_np(valid_x),  var_to_np(valid_x) * 0 + var_to_np(th.mean(fake_out)), )\n",
    "        plt.legend((\"Score\", \"Training\", \"Validation\"), bbox_to_anchor=(1,1,0,0))\n",
    "        display(fig)\n",
    "        plt.close(fig)\n",
    "        print(\"Loss {:.1E}\".format(loss_score.item()))\n",
    "        "
   ]
  },
  {
   "cell_type": "code",
   "execution_count": null,
   "metadata": {},
   "outputs": [],
   "source": [
    "part_model = nn.Sequential(model[0], model[1])\n",
    "\n",
    "part_out = part_model(x_fake.unsqueeze(1))\n",
    "\n",
    "plt.figure(figsize=(12,4))\n",
    "plt.plot(var_to_np(x_fake), var_to_np(part_out))\n",
    "None"
   ]
  },
  {
   "cell_type": "code",
   "execution_count": null,
   "metadata": {},
   "outputs": [],
   "source": [
    "model[2].weight"
   ]
  },
  {
   "cell_type": "code",
   "execution_count": null,
   "metadata": {},
   "outputs": [],
   "source": [
    "part_model = nn.Sequential(model[0], model[1])\n",
    "\n",
    "part_out = part_model(x_fake.unsqueeze(1)) * model[2].weight\n",
    "\n",
    "plt.figure(figsize=(12,4))\n",
    "plt.plot(var_to_np(x_fake), var_to_np(part_out))\n",
    "None"
   ]
  },
  {
   "cell_type": "code",
   "execution_count": null,
   "metadata": {
    "collapsed": true
   },
   "outputs": [],
   "source": []
  },
  {
   "cell_type": "code",
   "execution_count": null,
   "metadata": {
    "collapsed": true
   },
   "outputs": [],
   "source": []
  },
  {
   "cell_type": "code",
   "execution_count": null,
   "metadata": {
    "collapsed": true
   },
   "outputs": [],
   "source": []
  },
  {
   "cell_type": "code",
   "execution_count": null,
   "metadata": {
    "collapsed": true
   },
   "outputs": [],
   "source": []
  },
  {
   "cell_type": "code",
   "execution_count": null,
   "metadata": {
    "collapsed": true
   },
   "outputs": [],
   "source": []
  },
  {
   "cell_type": "code",
   "execution_count": null,
   "metadata": {
    "collapsed": true
   },
   "outputs": [],
   "source": []
  }
 ],
 "metadata": {
  "kernelspec": {
   "display_name": "Python 3",
   "language": "python",
   "name": "python3"
  },
  "language_info": {
   "codemirror_mode": {
    "name": "ipython",
    "version": 3
   },
   "file_extension": ".py",
   "mimetype": "text/x-python",
   "name": "python",
   "nbconvert_exporter": "python",
   "pygments_lexer": "ipython3",
   "version": "3.6.8"
  }
 },
 "nbformat": 4,
 "nbformat_minor": 2
}
