{
 "cells": [
  {
   "cell_type": "code",
   "execution_count": null,
   "metadata": {
    "collapsed": true
   },
   "outputs": [],
   "source": [
    "%%capture\n",
    "import os\n",
    "import site\n",
    "os.sys.path.insert(0, '/home/schirrmr/braindecode/code/braindecode/')\n",
    "os.sys.path.insert(0, '/home/schirrmr/code/reversible/reversible2///')\n",
    "%cd /home/schirrmr/\n"
   ]
  },
  {
   "cell_type": "code",
   "execution_count": null,
   "metadata": {
    "collapsed": true
   },
   "outputs": [],
   "source": [
    "%load_ext autoreload\n",
    "%autoreload 2\n",
    "import numpy as np\n",
    "import logging\n",
    "log = logging.getLogger()\n",
    "log.setLevel('INFO')\n",
    "import sys\n",
    "logging.basicConfig(format='%(asctime)s %(levelname)s : %(message)s',\n",
    "                     level=logging.INFO, stream=sys.stdout)\n",
    "import matplotlib\n",
    "from matplotlib import pyplot as plt\n",
    "from matplotlib import cm\n",
    "%matplotlib inline\n",
    "%config InlineBackend.figure_format = 'png' \n",
    "matplotlib.rcParams['figure.figsize'] = (12.0, 1.0)\n",
    "matplotlib.rcParams['font.size'] = 14\n",
    "import seaborn\n",
    "seaborn.set_style('darkgrid')"
   ]
  },
  {
   "cell_type": "code",
   "execution_count": null,
   "metadata": {
    "collapsed": true
   },
   "outputs": [],
   "source": [
    "# 1d example uniform 2,-2 two points at 1,-1"
   ]
  },
  {
   "cell_type": "code",
   "execution_count": null,
   "metadata": {
    "collapsed": true
   },
   "outputs": [],
   "source": [
    "from numpy.random import RandomState\n",
    "from braindecode.torch_ext.util import np_to_var, var_to_np\n",
    "from IPython.display import display"
   ]
  },
  {
   "cell_type": "code",
   "execution_count": null,
   "metadata": {
    "collapsed": true
   },
   "outputs": [],
   "source": [
    "x = np_to_var([-1,1], dtype=np.float32, requires_grad=True)\n",
    "x_fake = np_to_var(np.linspace(-2,2, 400), dtype=np.float32, requires_grad=True)\n"
   ]
  },
  {
   "cell_type": "markdown",
   "metadata": {},
   "source": [
    "#### now with weight norm regularization on a point at 0,0"
   ]
  },
  {
   "cell_type": "code",
   "execution_count": null,
   "metadata": {
    "collapsed": true
   },
   "outputs": [],
   "source": [
    "from torch.nn import ConstantPad2d\n",
    "import torch as th\n",
    "from torch import nn\n",
    "class ConcatReLU(nn.Module):\n",
    "    def __init__(self):\n",
    "        super(ConcatReLU, self).__init__()\n",
    "\n",
    "    def forward(self, x):\n",
    "        return th.cat((nn.functional.relu(x), nn.functional.relu(-x)), dim=1)\n",
    "\n",
    "class Clip(nn.Module):\n",
    "    def __init__(self):\n",
    "        super(Clip, self).__init__()\n",
    "\n",
    "    def forward(self, x):\n",
    "        return th.clamp(x, 0,1.2)\n",
    "    "
   ]
  },
  {
   "cell_type": "code",
   "execution_count": null,
   "metadata": {},
   "outputs": [],
   "source": [
    "class PointWiseMultLayer(nn.Module):\n",
    "    \"\"\"Multiplies features (hardcoded to 4 with different \"scaling factors\")\"\"\"\n",
    "    def __init__(self):\n",
    "        super(PointWiseMultLayer,self).__init__()\n",
    "        self.weights = th.ones(4, requires_grad=True) # not a parameter!! will not be returned by model.parameters()\n",
    "    def forward(self, x):\n",
    "        return x * self.weights.unsqueeze(0)\n",
    "\n",
    "valid_x = np_to_var([-0.5, 0.5], dtype=np.float32, requires_grad=True)\n",
    "\n",
    "from braindecode.torch_ext.util import set_random_seeds\n",
    "set_random_seeds(0, False) # worked with 102398213\n",
    "model = nn.Sequential(nn.Linear(1,2), ConcatReLU(), \n",
    "                      Clip(), PointWiseMultLayer(), nn.Linear(4,1))\n",
    "model[0].bias.data[0] = -1\n",
    "model[0].bias.data[1] = 1\n",
    "model[0].weight.data[0] = 1\n",
    "model[0].weight.data[1] = 1\n",
    "model[4].weight.data[:] = 0.25\n",
    "model[4].bias.data[:] = 0\n",
    "\n",
    "\n",
    "fake_out = model(x_fake.unsqueeze(1))\n",
    "fig = plt.figure(figsize=(12,3))\n",
    "plt.plot(var_to_np(x_fake), var_to_np(fake_out).squeeze())\n",
    "plt.legend((\"Discriminator score\",))\n",
    "plt.ylabel(\"Discriminator score\")\n",
    "display(fig)\n",
    "plt.close(fig)\n",
    "fig = plt.figure(figsize=(12,3))\n",
    "part_model = nn.Sequential(model[0], model[1], model[2])\n",
    "out_part = part_model(x_fake.unsqueeze(1))\n",
    "\n",
    "plt.plot(var_to_np(x_fake), var_to_np(out_part[:,0] + out_part[:,2]).squeeze())\n",
    "\n",
    "plt.plot(var_to_np(x_fake), var_to_np(out_part[:,1] + out_part[:,3]).squeeze())\n",
    "plt.legend((\"Abs first filter\", # Since sum of filter after Concat ReLU\n",
    "           \"Abs second filter\",))\n",
    "display(fig)\n",
    "plt.close(fig)\n",
    "\n",
    "optim_wnorm = th.optim.Adam([model[3].weights], lr=5e-3)\n",
    "optimizer = th.optim.Adam(model.parameters(), lr=5e-3)"
   ]
  },
  {
   "cell_type": "code",
   "execution_count": null,
   "metadata": {},
   "outputs": [],
   "source": [
    "x_fake = np_to_var(np.linspace(-2,2, 400), dtype=np.float32, requires_grad=True)\n",
    "\n",
    "\n",
    "n_epochs = 2000\n",
    "for i_epoch in range(n_epochs):\n",
    "    real_out = model(x.unsqueeze(1))\n",
    "    fake_out = model(x_fake.unsqueeze(1))\n",
    "\n",
    "    loss = -(th.mean(real_out) - th.mean(fake_out))\n",
    "    optimizer.zero_grad()\n",
    "    loss.backward()\n",
    "    optimizer.step()\n",
    "    valid_out = model(valid_x.unsqueeze(1))\n",
    "    loss = -th.mean(valid_out)\n",
    "    optim_wnorm.zero_grad()\n",
    "    loss.backward()\n",
    "    optim_wnorm.step()\n",
    "    if i_epoch % (n_epochs // 20) == 0:\n",
    "\n",
    "        fig = plt.figure(figsize=(12,3))\n",
    "        plt.plot(var_to_np(x_fake), var_to_np(fake_out).squeeze())\n",
    "        plt.ylabel('Discriminator Score')\n",
    "        plt.xlabel('Input')\n",
    "        display(fig)\n",
    "        plt.close(fig)\n",
    "        print(\"loss {:.3f}\".format(loss.item()))\n",
    "        print(\"wnorms\", [model[3].weights])\n",
    "        print(model[0].weight)\n",
    "        print(model[0].bias)\n",
    "        part_model = nn.Sequential(model[0], model[1], model[2])\n",
    "        out_part = part_model(x_fake.unsqueeze(1))\n",
    "        fig = plt.figure(figsize=(12,3))\n",
    "\n",
    "        plt.plot(var_to_np(x_fake), var_to_np(out_part[:,0] + out_part[:,2]).squeeze())\n",
    "\n",
    "        plt.plot(var_to_np(x_fake), var_to_np(out_part[:,1] + out_part[:,3]).squeeze())\n",
    "        plt.legend((\"Abs first filter\", # Since sum of filter after Concat ReLU\n",
    "                   \"Abs second filter\",))\n",
    "        display(fig)\n",
    "        plt.close(fig)"
   ]
  },
  {
   "cell_type": "markdown",
   "metadata": {},
   "source": [
    "### optimize generated points"
   ]
  },
  {
   "cell_type": "code",
   "execution_count": null,
   "metadata": {},
   "outputs": [],
   "source": [
    "valid_x = np_to_var([-0.5, 0.5], dtype=np.float32, requires_grad=True)\n",
    "\n",
    "from braindecode.torch_ext.util import set_random_seeds\n",
    "set_random_seeds(0, False) # worked with 102398213\n",
    "model = nn.Sequential(nn.Linear(1,2), ConcatReLU(), \n",
    "                      Clip(), PointWiseMultLayer(), nn.Linear(4,1))\n",
    "model[0].bias.data[0] = -1\n",
    "model[0].bias.data[1] = 1\n",
    "model[0].weight.data[0] = 1\n",
    "model[0].weight.data[1] = 1\n",
    "model[4].weight.data[:] = 0.25\n",
    "model[4].bias.data[:] = 0\n",
    "\n",
    "x_gen = np_to_var(np.linspace(-2,2, 400), dtype=np.float32, requires_grad=True)\n",
    "\n",
    "fake_out = model(x_fake.unsqueeze(1))\n",
    "fig = plt.figure(figsize=(12,3))\n",
    "plt.plot(var_to_np(x_fake), var_to_np(fake_out).squeeze())\n",
    "display(fig)\n",
    "plt.close(fig)\n",
    "fig = plt.figure(figsize=(12,3))\n",
    "part_model = nn.Sequential(model[0], model[1], model[2])\n",
    "out_part = part_model(x_fake.unsqueeze(1))\n",
    "\n",
    "plt.plot(var_to_np(x_fake), var_to_np(out_part[:,0] + out_part[:,2]).squeeze())\n",
    "\n",
    "plt.plot(var_to_np(x_fake), var_to_np(out_part[:,1] + out_part[:,3]).squeeze())\n",
    "display(fig)\n",
    "plt.close(fig)\n",
    "\n",
    "optim_wnorm = th.optim.Adam([model[3].weights], lr=5e-3)\n",
    "optimizer = th.optim.Adam(model.parameters(), lr=5e-3)\n",
    "optim_gen = th.optim.Adam([x_gen], lr=5e-3)"
   ]
  },
  {
   "cell_type": "code",
   "execution_count": null,
   "metadata": {},
   "outputs": [],
   "source": [
    "x_fake = np_to_var(np.linspace(-2,2, 400), dtype=np.float32, requires_grad=True)\n",
    "\n",
    "n_epochs = 2000\n",
    "for i_epoch in range(n_epochs):\n",
    "    real_out = model(x.unsqueeze(1))\n",
    "    fake_out = model(x_gen.unsqueeze(1))\n",
    "\n",
    "    loss = -(th.mean(real_out) - th.mean(fake_out))\n",
    "    optimizer.zero_grad()\n",
    "    loss.backward()\n",
    "    \n",
    "    optimizer.step()\n",
    "    x_gen.grad.data.neg_()\n",
    "    optim_gen.step()\n",
    "    valid_out = model(valid_x.unsqueeze(1))\n",
    "    loss = -th.mean(valid_out)\n",
    "    optim_wnorm.zero_grad()\n",
    "    loss.backward()\n",
    "    optim_wnorm.step()\n",
    "    if i_epoch % (n_epochs // 20) == 0:\n",
    "        fake_out = model(x_fake.unsqueeze(1))\n",
    "        fig = plt.figure(figsize=(12,3))\n",
    "        plt.ylabel('Discriminator Score')\n",
    "        plt.xlabel('Input')\n",
    "        plt.plot(var_to_np(x_fake), var_to_np(fake_out).squeeze())\n",
    "        \n",
    "        display(fig)\n",
    "        plt.close(fig)\n",
    "        \n",
    "        fig = plt.figure(figsize=(12,3))\n",
    "        plt.plot(var_to_np(x_gen).squeeze(), var_to_np(x_gen).squeeze() * 0, ls='', marker='o', alpha=0.5)\n",
    "        plt.xlabel('Input (generated)')\n",
    "        \n",
    "        display(fig)\n",
    "        plt.close(fig)\n",
    "        print(\"loss {:.3f}\".format(loss.item()))\n",
    "        print(\"wnorms\", [model[3].weights])\n",
    "        print(model[0].weight)\n",
    "        print(model[0].bias)\n",
    "        part_model = nn.Sequential(model[0], model[1], model[2])\n",
    "        out_part = part_model(x_fake.unsqueeze(1))\n",
    "        fig = plt.figure(figsize=(12,3))\n",
    "\n",
    "        plt.plot(var_to_np(x_fake), var_to_np(out_part[:,0] + out_part[:,2]).squeeze())\n",
    "\n",
    "        plt.plot(var_to_np(x_fake), var_to_np(out_part[:,1] + out_part[:,3]).squeeze())\n",
    "        display(fig)\n",
    "        plt.close(fig)"
   ]
  },
  {
   "cell_type": "code",
   "execution_count": null,
   "metadata": {},
   "outputs": [],
   "source": [
    "\n",
    "part_model = nn.Sequential(model[0], model[1], model[2])\n",
    "out_part = part_model(x_fake.unsqueeze(1))\n",
    "fig = plt.figure(figsize=(12,3))\n",
    "\n",
    "plt.plot(var_to_np(x_fake), var_to_np(out_part[:,0] + out_part[:,2]).squeeze())\n",
    "\n",
    "plt.plot(var_to_np(x_fake), var_to_np(out_part[:,1] + out_part[:,3]).squeeze())\n",
    "plt.legend((\"Abs first filter\", # Since sum of filter after Concat ReLU\n",
    "           \"Abs second filter\",))\n",
    "display(fig)\n",
    "plt.close(fig)"
   ]
  },
  {
   "cell_type": "code",
   "execution_count": null,
   "metadata": {},
   "outputs": [],
   "source": [
    "\n",
    "part_model = nn.Sequential(model[0], model[1], model[2], model[3])\n",
    "out_part = part_model(x_fake.unsqueeze(1))\n",
    "fig = plt.figure(figsize=(12,3))\n",
    "\n",
    "plt.plot(var_to_np(x_fake), var_to_np(out_part[:,0] + out_part[:,2]).squeeze())\n",
    "\n",
    "plt.plot(var_to_np(x_fake), var_to_np(out_part[:,1] + out_part[:,3]).squeeze())\n",
    "plt.legend((\"Abs first filter\", # Since sum of filter after Concat ReLU\n",
    "           \"Abs second filter\",))\n",
    "display(fig)\n",
    "plt.close(fig)"
   ]
  },
  {
   "cell_type": "markdown",
   "metadata": {},
   "source": [
    "### see if you dont use \"weight norms\"\n"
   ]
  },
  {
   "cell_type": "code",
   "execution_count": null,
   "metadata": {
    "collapsed": true
   },
   "outputs": [],
   "source": [
    "valid_x = np_to_var([-0.5, 0.5], dtype=np.float32, requires_grad=True)\n",
    "\n",
    "from braindecode.torch_ext.util import set_random_seeds\n",
    "set_random_seeds(0, False) # worked with 102398213\n",
    "model = nn.Sequential(nn.Linear(1,2), ConcatReLU(), \n",
    "                      Clip(), PointWiseMultLayer(), nn.Linear(4,1))\n",
    "model[0].bias.data[0] = -1\n",
    "model[0].bias.data[1] = 1\n",
    "model[0].weight.data[0] = 1\n",
    "model[0].weight.data[1] = 1\n",
    "model[4].weight.data[:] = 0.25\n",
    "model[4].bias.data[:] = 0\n"
   ]
  },
  {
   "cell_type": "code",
   "execution_count": null,
   "metadata": {},
   "outputs": [],
   "source": [
    "x_fake = np_to_var(np.linspace(-2,2, 400), dtype=np.float32, requires_grad=True)\n",
    "\n",
    "\n",
    "n_epochs = 2000\n",
    "for i_epoch in range(n_epochs):\n",
    "    real_out = model(x.unsqueeze(1))\n",
    "    fake_out = model(x_fake.unsqueeze(1))\n",
    "\n",
    "    loss = -(th.mean(real_out) - th.mean(fake_out))\n",
    "    optimizer.zero_grad()\n",
    "    loss.backward()\n",
    "    optimizer.step()\n",
    "    #valid_out = model(valid_x.unsqueeze(1))\n",
    "    #loss = -th.mean(valid_out)\n",
    "    #optim_wnorm.zero_grad()\n",
    "    #loss.backward()\n",
    "    #optim_wnorm.step()\n",
    "    if i_epoch % (n_epochs // 20) == 0:\n",
    "\n",
    "        fig = plt.figure(figsize=(12,3))\n",
    "        plt.plot(var_to_np(x_fake), var_to_np(fake_out).squeeze())\n",
    "        plt.ylabel('Discriminator Score')\n",
    "        plt.xlabel('Input')\n",
    "        display(fig)\n",
    "        plt.close(fig)\n",
    "        print(\"loss {:.3f}\".format(loss.item()))\n",
    "        print(\"wnorms\", [model[3].weights])\n",
    "        print(model[0].weight)\n",
    "        print(model[0].bias)\n",
    "        part_model = nn.Sequential(model[0], model[1], model[2])\n",
    "        out_part = part_model(x_fake.unsqueeze(1))\n",
    "        fig = plt.figure(figsize=(12,3))\n",
    "\n",
    "        plt.plot(var_to_np(x_fake), var_to_np(out_part[:,0] + out_part[:,2]).squeeze())\n",
    "\n",
    "        plt.plot(var_to_np(x_fake), var_to_np(out_part[:,1] + out_part[:,3]).squeeze())\n",
    "        plt.legend((\"Abs first filter\", # Since sum of filter after Concat ReLU\n",
    "                   \"Abs second filter\",))\n",
    "        display(fig)\n",
    "        plt.close(fig)"
   ]
  },
  {
   "cell_type": "markdown",
   "metadata": {},
   "source": [
    "### integrate valid data into real"
   ]
  },
  {
   "cell_type": "code",
   "execution_count": null,
   "metadata": {
    "collapsed": true
   },
   "outputs": [],
   "source": [
    "valid_x = np_to_var([-0.5, 0.5], dtype=np.float32, requires_grad=True)\n",
    "\n",
    "from braindecode.torch_ext.util import set_random_seeds\n",
    "set_random_seeds(0, False) # worked with 102398213\n",
    "model = nn.Sequential(nn.Linear(1,2), ConcatReLU(), \n",
    "                      Clip(), PointWiseMultLayer(), nn.Linear(4,1))\n",
    "model[0].bias.data[0] = -1\n",
    "model[0].bias.data[1] = 1\n",
    "model[0].weight.data[0] = 1\n",
    "model[0].weight.data[1] = 1\n",
    "model[4].weight.data[:] = 0.25\n",
    "model[4].bias.data[:] = 0\n"
   ]
  },
  {
   "cell_type": "code",
   "execution_count": null,
   "metadata": {},
   "outputs": [],
   "source": [
    "x_fake = np_to_var(np.linspace(-2,2, 400), dtype=np.float32, requires_grad=True)\n",
    "\n",
    "\n",
    "n_epochs = 2000\n",
    "for i_epoch in range(n_epochs):\n",
    "    real_out = model(th.cat((x, x_fake)).unsqueeze(1))\n",
    "    fake_out = model(x_fake.unsqueeze(1))\n",
    "\n",
    "    loss = -(th.mean(real_out) - th.mean(fake_out))\n",
    "    optimizer.zero_grad()\n",
    "    loss.backward()\n",
    "    optimizer.step()\n",
    "    #valid_out = model(valid_x.unsqueeze(1))\n",
    "    #loss = -th.mean(valid_out)\n",
    "    #optim_wnorm.zero_grad()\n",
    "    #loss.backward()\n",
    "    #optim_wnorm.step()\n",
    "    if i_epoch % (n_epochs // 20) == 0:\n",
    "\n",
    "        fig = plt.figure(figsize=(12,3))\n",
    "        plt.plot(var_to_np(x_fake), var_to_np(fake_out).squeeze())\n",
    "        plt.ylabel('Discriminator Score')\n",
    "        plt.xlabel('Input')\n",
    "        display(fig)\n",
    "        plt.close(fig)\n",
    "        print(\"loss {:.3f}\".format(loss.item()))\n",
    "        print(\"wnorms\", [model[3].weights])\n",
    "        print(model[0].weight)\n",
    "        print(model[0].bias)\n",
    "        part_model = nn.Sequential(model[0], model[1], model[2])\n",
    "        out_part = part_model(x_fake.unsqueeze(1))\n",
    "        fig = plt.figure(figsize=(12,3))\n",
    "\n",
    "        plt.plot(var_to_np(x_fake), var_to_np(out_part[:,0] + out_part[:,2]).squeeze())\n",
    "\n",
    "        plt.plot(var_to_np(x_fake), var_to_np(out_part[:,1] + out_part[:,3]).squeeze())\n",
    "        plt.legend((\"Abs first filter\", # Since sum of filter after Concat ReLU\n",
    "                   \"Abs second filter\",))\n",
    "        display(fig)\n",
    "        plt.close(fig)"
   ]
  },
  {
   "cell_type": "code",
   "execution_count": null,
   "metadata": {
    "collapsed": true
   },
   "outputs": [],
   "source": []
  }
 ],
 "metadata": {
  "kernelspec": {
   "display_name": "Python 3",
   "language": "python",
   "name": "python3"
  },
  "language_info": {
   "codemirror_mode": {
    "name": "ipython",
    "version": 3
   },
   "file_extension": ".py",
   "mimetype": "text/x-python",
   "name": "python",
   "nbconvert_exporter": "python",
   "pygments_lexer": "ipython3",
   "version": "3.6.8"
  }
 },
 "nbformat": 4,
 "nbformat_minor": 2
}
