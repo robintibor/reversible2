{
 "cells": [
  {
   "cell_type": "code",
   "execution_count": null,
   "metadata": {
    "collapsed": true
   },
   "outputs": [],
   "source": [
    "%%capture\n",
    "import os\n",
    "import site\n",
    "os.sys.path.insert(0, '/home/schirrmr/braindecode/code/braindecode/')\n",
    "os.sys.path.insert(0, '/home/schirrmr/code/reversible///')\n",
    "%cd /home/schirrmr/"
   ]
  },
  {
   "cell_type": "code",
   "execution_count": null,
   "metadata": {
    "collapsed": true
   },
   "outputs": [],
   "source": [
    "%load_ext autoreload\n",
    "%autoreload 2\n",
    "import numpy as np\n",
    "import logging\n",
    "log = logging.getLogger()\n",
    "log.setLevel('INFO')\n",
    "import sys\n",
    "logging.basicConfig(format='%(asctime)s %(levelname)s : %(message)s',\n",
    "                     level=logging.INFO, stream=sys.stdout)\n",
    "import matplotlib\n",
    "from matplotlib import pyplot as plt\n",
    "from matplotlib import cm\n",
    "%matplotlib inline\n",
    "%config InlineBackend.figure_format = 'png' \n",
    "matplotlib.rcParams['figure.figsize'] = (12.0, 1.0)\n",
    "matplotlib.rcParams['font.size'] = 14\n",
    "import seaborn\n",
    "seaborn.set_style('darkgrid')"
   ]
  },
  {
   "cell_type": "code",
   "execution_count": null,
   "metadata": {
    "collapsed": true
   },
   "outputs": [],
   "source": [
    "from numpy.random import RandomState\n",
    "from braindecode.torch_ext.util import np_to_var, var_to_np\n",
    "from IPython.display import display"
   ]
  },
  {
   "cell_type": "code",
   "execution_count": null,
   "metadata": {},
   "outputs": [],
   "source": [
    "x = np_to_var([-1.5,1.5], dtype=np.float32, requires_grad=True)\n",
    "valid_x = np_to_var([-0.5, 0.5], dtype=np.float32, requires_grad=True)\n",
    "x_fake = np_to_var(np.linspace(-2,2, 400), dtype=np.float32, requires_grad=True)\n",
    "plt.scatter(var_to_np(x),  var_to_np(x) * 0, )\n",
    "plt.scatter(var_to_np(valid_x),  var_to_np(valid_x) * 0, )\n",
    "plt.scatter(var_to_np(x_fake),  var_to_np(x_fake) * 0 - 0.1, alpha=0.2, marker='x')"
   ]
  },
  {
   "cell_type": "code",
   "execution_count": null,
   "metadata": {
    "collapsed": true
   },
   "outputs": [],
   "source": [
    "from torch.nn import ConstantPad2d\n",
    "import torch as th\n",
    "from torch import nn"
   ]
  },
  {
   "cell_type": "code",
   "execution_count": null,
   "metadata": {},
   "outputs": [],
   "source": [
    "valid_x.shape"
   ]
  },
  {
   "cell_type": "code",
   "execution_count": null,
   "metadata": {
    "collapsed": true
   },
   "outputs": [],
   "source": [
    "def zero_(tensor):\n",
    "    if tensor is not None:\n",
    "        tensor.zero_()\n",
    "    return tensor"
   ]
  },
  {
   "cell_type": "code",
   "execution_count": null,
   "metadata": {
    "collapsed": true
   },
   "outputs": [],
   "source": [
    "# 2 * E[X - Y] - E[X - X'] - E[Y - Y']"
   ]
  },
  {
   "cell_type": "code",
   "execution_count": null,
   "metadata": {},
   "outputs": [],
   "source": [
    "zero_(valid_x.grad)\n",
    "zero_(x_fake.grad)\n",
    "XY = th.mean(th.abs(valid_x.unsqueeze(1) - x_fake.unsqueeze(0)))\n",
    "XX = th.mean(th.abs(valid_x.unsqueeze(1) - valid_x.unsqueeze(0)))\n",
    "YY = th.mean(th.abs(x_fake.unsqueeze(1) - x_fake.unsqueeze(0)))\n",
    "ED = 2 * th.mean(XY) -th.mean(XX) - th.mean(YY)\n",
    "ED.backward()\n",
    "plt.figure(figsize=(8,3))\n",
    "plt.plot(var_to_np(x_fake), var_to_np(x_fake.grad) * 100)\n",
    "plt.plot(var_to_np(x_fake), -np.cumsum(var_to_np(x_fake.grad)))\n",
    "\n",
    "\n",
    "from reversible2.ot_exact import ot_euclidean_loss_for_samples\n",
    "zero_(valid_x.grad)\n",
    "zero_(x_fake.grad)\n",
    "ot_loss = ot_euclidean_loss_for_samples(valid_x.unsqueeze(1), x_fake.unsqueeze(1))\n",
    "ot_loss.backward()\n",
    "plt.figure(figsize=(8,3))\n",
    "plt.plot(var_to_np(x_fake), var_to_np(x_fake.grad) * 100)\n",
    "plt.plot(var_to_np(x_fake), -np.cumsum(var_to_np(x_fake.grad)))"
   ]
  },
  {
   "cell_type": "code",
   "execution_count": null,
   "metadata": {},
   "outputs": [],
   "source": [
    "x_fake = np_to_var(np.linspace(-4,4, 400), dtype=np.float32, requires_grad=True)\n",
    "\n",
    "zero_(valid_x.grad)\n",
    "zero_(x_fake.grad)\n",
    "XY = th.mean(th.abs(valid_x.unsqueeze(1) - x_fake.unsqueeze(0)))\n",
    "XX = th.mean(th.abs(valid_x.unsqueeze(1) - valid_x.unsqueeze(0)))\n",
    "YY = th.mean(th.abs(x_fake.unsqueeze(1) - x_fake.unsqueeze(0)))\n",
    "ED = 2 * th.mean(XY) -th.mean(XX) - th.mean(YY)\n",
    "ED.backward()\n",
    "plt.figure(figsize=(8,3))\n",
    "plt.plot(var_to_np(x_fake), var_to_np(x_fake.grad) * 100)\n",
    "plt.plot(var_to_np(x_fake), -np.cumsum(var_to_np(x_fake.grad)))\n",
    "\n",
    "\n",
    "from reversible2.ot_exact import ot_euclidean_loss_for_samples\n",
    "zero_(valid_x.grad)\n",
    "zero_(x_fake.grad)\n",
    "ot_loss = ot_euclidean_loss_for_samples(valid_x.unsqueeze(1), x_fake.unsqueeze(1))\n",
    "ot_loss.backward()\n",
    "plt.figure(figsize=(8,3))\n",
    "plt.plot(var_to_np(x_fake), var_to_np(x_fake.grad) * 100)\n",
    "plt.plot(var_to_np(x_fake), -np.cumsum(var_to_np(x_fake.grad)))"
   ]
  },
  {
   "cell_type": "code",
   "execution_count": null,
   "metadata": {},
   "outputs": [],
   "source": [
    "x_fake = np_to_var(np.linspace(-2,2, 400), dtype=np.float32, requires_grad=True)\n",
    "\n",
    "zero_(valid_x.grad)\n",
    "zero_(x_fake.grad)\n",
    "for i in range(2):\n",
    "    this_x = valid_x[i:i+1]\n",
    "    XY = th.mean(th.abs(this_x.unsqueeze(1) - x_fake.unsqueeze(0)))\n",
    "    XX = th.mean(th.abs(this_x.unsqueeze(1) - this_x.unsqueeze(0)))\n",
    "    YY = th.mean(th.abs(x_fake.unsqueeze(1) - x_fake.unsqueeze(0)))\n",
    "    ED = 2 * th.mean(XY) -th.mean(XX) - th.mean(YY)\n",
    "    ED.backward()\n",
    "plt.figure(figsize=(8,3))\n",
    "plt.plot(var_to_np(x_fake), var_to_np(x_fake.grad /2) * 100)\n",
    "plt.plot(var_to_np(x_fake), -np.cumsum(var_to_np(x_fake.grad / 2)))\n",
    "\n",
    "zero_(valid_x.grad)\n",
    "zero_(x_fake.grad)\n",
    "XY = th.mean(th.abs(valid_x.unsqueeze(1) - x_fake.unsqueeze(0)))\n",
    "XX = th.mean(th.abs(valid_x.unsqueeze(1) - valid_x.unsqueeze(0)))\n",
    "YY = th.mean(th.abs(x_fake.unsqueeze(1) - x_fake.unsqueeze(0)))\n",
    "ED = 2 * th.mean(XY) -th.mean(XX) - th.mean(YY)\n",
    "ED.backward()\n",
    "plt.plot(var_to_np(x_fake), var_to_np(x_fake.grad) * 100)\n",
    "plt.plot(var_to_np(x_fake), -np.cumsum(var_to_np(x_fake.grad)))"
   ]
  },
  {
   "cell_type": "code",
   "execution_count": null,
   "metadata": {},
   "outputs": [],
   "source": [
    "ot_loss"
   ]
  },
  {
   "cell_type": "code",
   "execution_count": null,
   "metadata": {},
   "outputs": [],
   "source": [
    "%load_ext autoreload\n",
    "%autoreload 2"
   ]
  },
  {
   "cell_type": "code",
   "execution_count": null,
   "metadata": {},
   "outputs": [],
   "source": [
    "ot_loss"
   ]
  },
  {
   "cell_type": "markdown",
   "metadata": {},
   "source": [
    "## Optimal transport"
   ]
  },
  {
   "cell_type": "code",
   "execution_count": null,
   "metadata": {},
   "outputs": [],
   "source": [
    "from reversible2.ot_exact import ot_euclidean_loss_for_samples\n",
    "\n",
    "x_fake = np_to_var(np.linspace(-2,2, 400), dtype=np.float32, requires_grad=True)\n",
    "\n",
    "zero_(valid_x.grad)\n",
    "zero_(x_fake.grad)\n",
    "for i in range(2):\n",
    "    this_x = valid_x[i:i+1]\n",
    "    ot_loss = ot_euclidean_loss_for_samples(this_x.unsqueeze(1), x_fake.unsqueeze(1))\n",
    "    ot_loss.backward()\n",
    "plt.figure(figsize=(8,3))\n",
    "plt.plot(var_to_np(x_fake), var_to_np(x_fake.grad /2) * 100)\n",
    "plt.plot(var_to_np(x_fake), -np.cumsum(var_to_np(x_fake.grad / 2)))\n",
    "\n",
    "zero_(valid_x.grad)\n",
    "zero_(x_fake.grad)\n",
    "ot_loss = ot_euclidean_loss_for_samples(valid_x.unsqueeze(1), x_fake.unsqueeze(1))\n",
    "ot_loss.backward()\n",
    "plt.plot(var_to_np(x_fake), var_to_np(x_fake.grad) * 100)\n",
    "plt.plot(var_to_np(x_fake), -np.cumsum(var_to_np(x_fake.grad)))\n",
    "plt.legend((\"Gradient Batched\", \"Integral Batched\", \"Gradient Full\", \"Integral Full\"),\n",
    "          bbox_to_anchor=(1,1,0,0))"
   ]
  },
  {
   "cell_type": "code",
   "execution_count": null,
   "metadata": {},
   "outputs": [],
   "source": [
    "from reversible2.ot_exact import ot_euclidean_loss_for_samples\n",
    "\n",
    "x_fake = np_to_var(np.linspace(-2,2, 400), dtype=np.float32, requires_grad=True)\n",
    "x_real = th.cat((x, valid_x)).detach().requires_grad_(True)\n",
    "zero_(x_real.grad)\n",
    "zero_(x_fake.grad)\n",
    "for i in range(4):\n",
    "    this_x = x_real[i:i+1]\n",
    "    ot_loss = ot_euclidean_loss_for_samples(this_x.unsqueeze(1), x_fake.unsqueeze(1))\n",
    "    ot_loss.backward()\n",
    "plt.figure(figsize=(8,3))\n",
    "plt.plot(var_to_np(x_fake), -var_to_np(x_fake.grad /4) * 100)\n",
    "plt.plot(var_to_np(x_fake), -np.cumsum(var_to_np(x_fake.grad / 4)))\n",
    "\n",
    "zero_(x_real.grad)\n",
    "zero_(x_fake.grad)\n",
    "ot_loss = ot_euclidean_loss_for_samples(x_real.unsqueeze(1), x_fake.unsqueeze(1))\n",
    "ot_loss.backward()\n",
    "plt.plot(var_to_np(x_fake), -var_to_np(x_fake.grad) * 100)\n",
    "plt.plot(var_to_np(x_fake), -np.cumsum(var_to_np(x_fake.grad)))\n",
    "\n",
    "plt.legend((\"Gradient Batched\", \"Integral Batched\", \"Gradient Full\", \"Integral Full\"),\n",
    "          bbox_to_anchor=(1,1,0,0))"
   ]
  },
  {
   "cell_type": "code",
   "execution_count": null,
   "metadata": {},
   "outputs": [],
   "source": [
    "from reversible2.ot_exact import ot_euclidean_loss_for_samples\n",
    "\n",
    "x_fake = np_to_var(np.linspace(-2,2, 400), dtype=np.float32, requires_grad=True)\n",
    "x_real = th.cat((x, valid_x)).detach().requires_grad_(True)\n",
    "zero_(x_real.grad)\n",
    "zero_(x_fake.grad)\n",
    "\n",
    "all_pairs = list(itertools.product(list(range(4)), list(range(4))))\n",
    "for inds in all_pairs:\n",
    "    this_x = x_real[np.array(inds).astype(np.int64)]\n",
    "    ot_loss = ot_euclidean_loss_for_samples(this_x.unsqueeze(1), x_fake.unsqueeze(1))\n",
    "    ot_loss.backward()\n",
    "plt.figure(figsize=(8,3))\n",
    "plt.plot(var_to_np(x_fake), -var_to_np(x_fake.grad /len(all_pairs)) * 100)\n",
    "plt.plot(var_to_np(x_fake), -np.cumsum(var_to_np(x_fake.grad / len(all_pairs))))\n",
    "\n",
    "zero_(x_real.grad)\n",
    "zero_(x_fake.grad)\n",
    "ot_loss = ot_euclidean_loss_for_samples(x_real.unsqueeze(1), x_fake.unsqueeze(1))\n",
    "ot_loss.backward()\n",
    "plt.plot(var_to_np(x_fake), -var_to_np(x_fake.grad) * 100)\n",
    "plt.plot(var_to_np(x_fake), -np.cumsum(var_to_np(x_fake.grad)))\n",
    "\n",
    "plt.legend((\"Gradient Batched\", \"Integral Batched\", \"Gradient Full\", \"Integral Full\"),\n",
    "          bbox_to_anchor=(1,1,0,0))"
   ]
  },
  {
   "cell_type": "code",
   "execution_count": null,
   "metadata": {},
   "outputs": [],
   "source": [
    "from reversible2.ot_exact import ot_euclidean_loss_for_samples\n",
    "\n",
    "x_fake = np_to_var(np.linspace(-2,2, 400), dtype=np.float32, requires_grad=True)\n",
    "x_real = th.linspace(-1.5,1.5,6).detach().requires_grad_(True)\n",
    "\n",
    "grads = []\n",
    "zero_(x_real.grad)\n",
    "zero_(x_fake.grad)\n",
    "for i in range(len(x_real)):\n",
    "    this_x = x_real[i:i+1]\n",
    "    ot_loss = ot_euclidean_loss_for_samples(this_x.unsqueeze(1), x_fake.unsqueeze(1))\n",
    "    ot_loss.backward()\n",
    "plt.figure(figsize=(8,3))\n",
    "#plt.plot(var_to_np(x_fake), -var_to_np(x_fake.grad /len(x_real)) * 100)\n",
    "plt.plot(var_to_np(x_fake), -np.cumsum(var_to_np(x_fake.grad / len(x_real))), label='Integral 1')\n",
    "grads.append(-np.cumsum(var_to_np(x_fake.grad / len(x_real))))\n",
    "zero_(x_real.grad)\n",
    "zero_(x_fake.grad)\n",
    "\n",
    "all_pairs = list(itertools.product(list(range(len(x_real))), list(range(len(x_real)))))\n",
    "for inds in all_pairs:\n",
    "    this_x = x_real[np.array(inds).astype(np.int64)]\n",
    "    ot_loss = ot_euclidean_loss_for_samples(this_x.unsqueeze(1), x_fake.unsqueeze(1))\n",
    "    ot_loss.backward()\n",
    "#plt.plot(var_to_np(x_fake), -var_to_np(x_fake.grad /len(all_pairs)) * 100)\n",
    "plt.plot(var_to_np(x_fake), -np.cumsum(var_to_np(x_fake.grad / len(all_pairs))), label='Integral Batched')\n",
    "grads.append(-np.cumsum(var_to_np(x_fake.grad / len(all_pairs))))\n",
    "\n",
    "zero_(x_real.grad)\n",
    "zero_(x_fake.grad)\n",
    "ot_loss = ot_euclidean_loss_for_samples(x_real.unsqueeze(1), x_fake.unsqueeze(1))\n",
    "ot_loss.backward()\n",
    "#plt.plot(var_to_np(x_fake), -var_to_np(x_fake.grad) * 100)\n",
    "plt.plot(var_to_np(x_fake), -np.cumsum(var_to_np(x_fake.grad)), label='Integral Full')\n",
    "grads.append(-np.cumsum(var_to_np(x_fake.grad)))\n",
    "\n",
    "plt.plot(var_to_np(x_fake), np.mean(grads, axis=0), label='Integral mean')\n",
    "plt.scatter(var_to_np(x_real), var_to_np(x_real) * 0)\n",
    "plt.legend(bbox_to_anchor=(1,1,0,0))"
   ]
  },
  {
   "cell_type": "code",
   "execution_count": null,
   "metadata": {},
   "outputs": [],
   "source": [
    "from reversible2.ot_exact import ot_euclidean_loss_for_samples\n",
    "\n",
    "x_fake = np_to_var(np.linspace(-2,2, 400), dtype=np.float32, requires_grad=True)\n",
    "x_real = th.cat((x, valid_x)).detach().requires_grad_(True)\n",
    "\n",
    "\n",
    "zero_(x_real.grad)\n",
    "zero_(x_fake.grad)\n",
    "for i in range(len(x_real)):\n",
    "    this_x = x_real[i:i+1]\n",
    "    XY = th.mean(th.abs(this_x.unsqueeze(1) - x_fake.unsqueeze(0)))\n",
    "    XX = th.mean(th.abs(this_x.unsqueeze(1) - this_x.unsqueeze(0)))\n",
    "    YY = th.mean(th.abs(x_fake.unsqueeze(1) - x_fake.unsqueeze(0)))\n",
    "    ED = 2 * th.mean(XY) -th.mean(XX) - th.mean(YY)\n",
    "    ED.backward()\n",
    "plt.figure(figsize=(8,3))\n",
    "#plt.plot(var_to_np(x_fake), -var_to_np(x_fake.grad /4) * 100)\n",
    "plt.plot(var_to_np(x_fake), -np.cumsum(var_to_np(x_fake.grad / len(x_real))),\n",
    "        label='Integral 1')\n",
    "\n",
    "zero_(x_real.grad)\n",
    "zero_(x_fake.grad)\n",
    "all_pairs = list(itertools.product(list(range(4)), list(range(4))))\n",
    "for inds in all_pairs:\n",
    "    this_x = x_real[np.array(inds).astype(np.int64)]\n",
    "    XY = th.mean(th.abs(this_x.unsqueeze(1) - x_fake.unsqueeze(0)))\n",
    "    XX = th.mean(th.abs(this_x.unsqueeze(1) - this_x.unsqueeze(0)))\n",
    "    YY = th.mean(th.abs(x_fake.unsqueeze(1) - x_fake.unsqueeze(0)))\n",
    "    ED = 2 * th.mean(XY) -th.mean(XX) - th.mean(YY)\n",
    "    ED.backward()\n",
    "#plt.plot(var_to_np(x_fake), -var_to_np(x_fake.grad /len(all_pairs)) * 100)\n",
    "plt.plot(var_to_np(x_fake), -np.cumsum(var_to_np(x_fake.grad / len(all_pairs))),\n",
    "        label='Integral Batched')\n",
    "zero_(x_real.grad)\n",
    "zero_(x_fake.grad)\n",
    "this_x = x_real\n",
    "XY = th.mean(th.abs(this_x.unsqueeze(1) - x_fake.unsqueeze(0)))\n",
    "XX = th.mean(th.abs(this_x.unsqueeze(1) - this_x.unsqueeze(0)))\n",
    "YY = th.mean(th.abs(x_fake.unsqueeze(1) - x_fake.unsqueeze(0)))\n",
    "ED = 2 * th.mean(XY) -th.mean(XX) - th.mean(YY)\n",
    "ED.backward()\n",
    "#plt.plot(var_to_np(x_fake), -var_to_np(x_fake.grad) * 100)\n",
    "plt.plot(var_to_np(x_fake), -np.cumsum(var_to_np(x_fake.grad)),\n",
    "        label='Integral Full')\n",
    "plt.scatter(var_to_np(x_real), var_to_np(x_real) * 0)\n",
    "plt.legend(bbox_to_anchor=(1,1,0,0))"
   ]
  }
 ],
 "metadata": {
  "kernelspec": {
   "display_name": "Python 3",
   "language": "python",
   "name": "python3"
  },
  "language_info": {
   "codemirror_mode": {
    "name": "ipython",
    "version": 3
   },
   "file_extension": ".py",
   "mimetype": "text/x-python",
   "name": "python",
   "nbconvert_exporter": "python",
   "pygments_lexer": "ipython3",
   "version": "3.6.8"
  }
 },
 "nbformat": 4,
 "nbformat_minor": 2
}
