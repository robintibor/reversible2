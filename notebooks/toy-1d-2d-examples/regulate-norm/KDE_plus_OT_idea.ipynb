{
 "cells": [
  {
   "cell_type": "code",
   "execution_count": null,
   "metadata": {
    "collapsed": true
   },
   "outputs": [],
   "source": [
    "%%capture\n",
    "import os\n",
    "import site\n",
    "os.sys.path.insert(0, '/home/schirrmr/braindecode/code/braindecode/')\n",
    "os.sys.path.insert(0, '/home/schirrmr/code/reversible///')\n",
    "%cd /home/schirrmr/\n"
   ]
  },
  {
   "cell_type": "code",
   "execution_count": null,
   "metadata": {
    "collapsed": true
   },
   "outputs": [],
   "source": [
    "%load_ext autoreload\n",
    "%autoreload 2\n",
    "import numpy as np\n",
    "import logging\n",
    "log = logging.getLogger()\n",
    "log.setLevel('INFO')\n",
    "import sys\n",
    "logging.basicConfig(format='%(asctime)s %(levelname)s : %(message)s',\n",
    "                     level=logging.INFO, stream=sys.stdout)\n",
    "import matplotlib\n",
    "from matplotlib import pyplot as plt\n",
    "from matplotlib import cm\n",
    "%matplotlib inline\n",
    "%config InlineBackend.figure_format = 'png' \n",
    "matplotlib.rcParams['figure.figsize'] = (12.0, 1.0)\n",
    "matplotlib.rcParams['font.size'] = 14\n",
    "import seaborn\n",
    "seaborn.set_style('darkgrid')"
   ]
  },
  {
   "cell_type": "code",
   "execution_count": null,
   "metadata": {
    "collapsed": true
   },
   "outputs": [],
   "source": [
    "from numpy.random import RandomState\n",
    "from braindecode.torch_ext.util import np_to_var, var_to_np\n",
    "from IPython.display import display"
   ]
  },
  {
   "cell_type": "code",
   "execution_count": null,
   "metadata": {},
   "outputs": [],
   "source": [
    "x = np_to_var([-1.5,1.5], dtype=np.float32, requires_grad=True)\n",
    "valid_x = np_to_var([-0.5, 0.5], dtype=np.float32, requires_grad=True)\n",
    "x_fake = np_to_var(np.linspace(-2,2, 400), dtype=np.float32, requires_grad=True)\n",
    "plt.scatter(var_to_np(x),  var_to_np(x) * 0, )\n",
    "plt.scatter(var_to_np(valid_x),  var_to_np(valid_x) * 0, )\n",
    "plt.scatter(var_to_np(x_fake),  var_to_np(x_fake) * 0 - 0.1, alpha=0.2, marker='x')"
   ]
  },
  {
   "cell_type": "code",
   "execution_count": null,
   "metadata": {
    "collapsed": true
   },
   "outputs": [],
   "source": [
    "from torch.nn import ConstantPad2d\n",
    "import torch as th\n",
    "from torch import nn"
   ]
  },
  {
   "cell_type": "code",
   "execution_count": null,
   "metadata": {},
   "outputs": [],
   "source": []
  },
  {
   "cell_type": "code",
   "execution_count": null,
   "metadata": {
    "collapsed": true
   },
   "outputs": [],
   "source": [
    "from reversible2.plot import display_close\n",
    "def get_prob(x, dists):\n",
    "    return th.mean(th.stack([th.exp(dist.log_prob(x)) for dist in dists]), dim=0)"
   ]
  },
  {
   "cell_type": "code",
   "execution_count": null,
   "metadata": {
    "collapsed": true
   },
   "outputs": [],
   "source": [
    "from reversible2.sliced import sliced_from_samples"
   ]
  },
  {
   "cell_type": "code",
   "execution_count": null,
   "metadata": {},
   "outputs": [],
   "source": [
    "sliced_from_samples(samples.unsqueeze(1), x_fake.unsqueeze(1), 1, adv_dirs=None)"
   ]
  },
  {
   "cell_type": "code",
   "execution_count": null,
   "metadata": {},
   "outputs": [],
   "source": [
    "%%time"
   ]
  },
  {
   "cell_type": "code",
   "execution_count": null,
   "metadata": {},
   "outputs": [],
   "source": [
    "%%time\n",
    "ot_euclidean_loss_for_samples(samples.unsqueeze(1), x_fake.unsqueeze(1))"
   ]
  },
  {
   "cell_type": "code",
   "execution_count": null,
   "metadata": {
    "collapsed": true
   },
   "outputs": [],
   "source": [
    "from reversible2.ot_exact import ot_euclidean_loss_for_samples\n",
    "all_x = th.cat((x, valid_x))\n",
    "x_fake = np_to_var(np.linspace(-2,2, 400), dtype=np.float32, requires_grad=True)\n",
    "\n",
    "\n",
    "log_stds = th.zeros(4, requires_grad=True)\n",
    "\n",
    "dists = [th.distributions.Normal(m, s * s)\n",
    "    for m, s in zip(th.cat((x, valid_x), dim=0),\n",
    "                    th.exp(log_stds))]\n",
    "\n",
    "optimizer = th.optim.Adam([log_stds], lr=1e-2)\n",
    "optim_fake_x = th.optim.Adam([x_fake], lr=1e-3)"
   ]
  },
  {
   "cell_type": "code",
   "execution_count": null,
   "metadata": {},
   "outputs": [],
   "source": [
    "n_epochs = 2000\n",
    "for i_epoch in range(n_epochs):\n",
    "    dists = [th.distributions.Normal(m, s * s)\n",
    "        for m, s in zip(th.cat((x, valid_x), dim=0),\n",
    "                        th.exp(log_stds))]\n",
    "\n",
    "\n",
    "    likelihoods = [get_prob(all_x[i_x], [dists[i_dist] for i_dist in np.setdiff1d(np.arange(4), [i_x])])\n",
    "                            for i_x in range(4)]\n",
    "    loss = -th.mean(th.stack(likelihoods))\n",
    "    optimizer.zero_grad()\n",
    "    loss.backward()\n",
    "    optimizer.step()\n",
    "    \n",
    "    samples = th.cat([d.sample([100]) for d in dists])\n",
    "    #ot_loss = ot_euclidean_loss_for_samples(samples.unsqueeze(1), x_fake.unsqueeze(1))\n",
    "    # same as ot loss, much faster\n",
    "    ot_loss = sliced_from_samples(samples.unsqueeze(1), x_fake.unsqueeze(1), 1, adv_dirs=None,\n",
    "                   dist=lambda diffs:th.mean(th.abs(diffs)))\n",
    "    optim_fake_x.zero_grad()\n",
    "    ot_loss.backward()\n",
    "    optim_fake_x.step()\n",
    "    \n",
    "    \n",
    "    if i_epoch % (n_epochs // 20) == 0:\n",
    "        test_grid_x = th.linspace(-6,6,1000)\n",
    "\n",
    "        probs = get_prob(test_grid_x, dists)\n",
    "        fig = plt.figure(figsize=(8,3))\n",
    "        plt.plot(var_to_np(test_grid_x), var_to_np(probs))\n",
    "\n",
    "        for i_dist in range(4):\n",
    "            probs = get_prob(test_grid_x, dists[i_dist:i_dist+1])\n",
    "            plt.plot(var_to_np(test_grid_x), var_to_np(probs), color=seaborn.color_palette()[1],\n",
    "                    lw=0.5)\n",
    "        ax = plt.gca()\n",
    "        plt.scatter(var_to_np(x_fake),  var_to_np(x_fake) * 0 - 0.1, alpha=0.2, marker='x')\n",
    "        seaborn.distplot(var_to_np(x_fake), color=seaborn.color_palette()[2], rug=True)\n",
    "        display_close(fig)"
   ]
  },
  {
   "cell_type": "code",
   "execution_count": null,
   "metadata": {
    "collapsed": true
   },
   "outputs": [],
   "source": []
  }
 ],
 "metadata": {
  "kernelspec": {
   "display_name": "Python 3",
   "language": "python",
   "name": "python3"
  },
  "language_info": {
   "codemirror_mode": {
    "name": "ipython",
    "version": 3
   },
   "file_extension": ".py",
   "mimetype": "text/x-python",
   "name": "python",
   "nbconvert_exporter": "python",
   "pygments_lexer": "ipython3",
   "version": "3.6.8"
  }
 },
 "nbformat": 4,
 "nbformat_minor": 2
}
